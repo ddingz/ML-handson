{
  "nbformat": 4,
  "nbformat_minor": 0,
  "metadata": {
    "colab": {
      "name": "chapter15.ipynb",
      "provenance": [],
      "collapsed_sections": [
        "DMtJ-B12aWSb",
        "xFXT8g_hdMcA",
        "DU2loYIz3yFQ",
        "GQj5Si7m5ZWW",
        "8t_6kgxF-nhb",
        "5fL5Ir1zlatt",
        "NeiqBit5TMK-",
        "dkfwNon8zGIS"
      ],
      "authorship_tag": "ABX9TyMdicV0/EAhh/KUsF3Mi4Ip"
    },
    "kernelspec": {
      "name": "python3",
      "display_name": "Python 3"
    },
    "accelerator": "GPU"
  },
  "cells": [
    {
      "cell_type": "markdown",
      "metadata": {
        "id": "jMuqCqU9NLZ4"
      },
      "source": [
        "# RNN과 CNN"
      ]
    },
    {
      "cell_type": "code",
      "metadata": {
        "id": "nvbCexnvSlKo"
      },
      "source": [
        "#Python≥3.5 is required\r\n",
        "import sys\r\n",
        "assert sys.version_info>=(3,5)\r\n",
        "\r\n",
        "#Scikit-Learn≥0.20 is required\r\n",
        "import sklearn\r\n",
        "assert sklearn.__version__>=\"0.20\"\r\n",
        "\r\n",
        "try:\r\n",
        "  #%tensorflow_version only exists in Colab.\r\n",
        "  %tensorflow_version 2.x\r\n",
        "  IS_COLAB=True\r\n",
        "except Exception:\r\n",
        "  IS_COLAB=False\r\n",
        "\r\n",
        "#TensorFlow≥2.0 is required\r\n",
        "import tensorflow as tf\r\n",
        "from tensorflow import keras\r\n",
        "assert tf.__version__>=\"2.0\"\r\n",
        "\r\n",
        "if not tf.config.list_physical_devices('GPU'):\r\n",
        "  print(\"No GPU was detected. LSTMs and CNNs can be very slow without a GPU.\")\r\n",
        "  if IS_COLAB:\r\n",
        "    print(\"Go to Runtime > Change runtime and select a GPU hardware accelerator.\")\r\n",
        "\r\n",
        "#Common imports\r\n",
        "import numpy as np\r\n",
        "import os\r\n",
        "from pathlib import Path\r\n",
        "\r\n",
        "#to make this notebook's output stable across runs\r\n",
        "np.random.seed(42)\r\n",
        "tf.random.set_seed(42)\r\n",
        "\r\n",
        "#To plot pretty figures\r\n",
        "%matplotlib inline\r\n",
        "import matplotlib as mpl\r\n",
        "import matplotlib.pyplot as plt\r\n",
        "mpl.rc('axes',labelsize=14)\r\n",
        "mpl.rc('xtick',labelsize=12)\r\n",
        "mpl.rc('ytick',labelsize=12)"
      ],
      "execution_count": null,
      "outputs": []
    },
    {
      "cell_type": "markdown",
      "metadata": {
        "id": "DMtJ-B12aWSb"
      },
      "source": [
        "## 시계열 예측하기"
      ]
    },
    {
      "cell_type": "markdown",
      "metadata": {
        "id": "NZiX6KvrcHHg"
      },
      "source": [
        "Generate the Dataset"
      ]
    },
    {
      "cell_type": "code",
      "metadata": {
        "id": "EAOlvlOvaRBE"
      },
      "source": [
        "def generate_time_series(batch_size,n_steps):\r\n",
        "  freq1,freq2,offsets1,offsets2=np.random.rand(4,batch_size,1)\r\n",
        "  time=np.linspace(0,1,n_steps)\r\n",
        "  series=0.5*np.sin((time-offsets1)*(freq1*10+10))  #wave1\r\n",
        "  series+=0.2*np.sin((time-offsets2)*(freq2*20+20)) #+wave2\r\n",
        "  series+=0.1*(np.random.rand(batch_size,n_steps)-0.5)  #+noise\r\n",
        "  return series[...,np.newaxis].astype(np.float32)"
      ],
      "execution_count": null,
      "outputs": []
    },
    {
      "cell_type": "code",
      "metadata": {
        "id": "FfIFf_rZbN7Z"
      },
      "source": [
        "np.random.seed(42)\r\n",
        "\r\n",
        "n_steps=50\r\n",
        "series=generate_time_series(10000,n_steps+1)\r\n",
        "X_train,y_train=series[:7000,:n_steps],series[:7000,-1]\r\n",
        "X_valid,y_valid=series[7000:9000,:n_steps],series[7000:9000,-1]\r\n",
        "X_test,y_test=series[9000:,:n_steps],series[9000:,-1]"
      ],
      "execution_count": null,
      "outputs": []
    },
    {
      "cell_type": "code",
      "metadata": {
        "colab": {
          "base_uri": "https://localhost:8080/"
        },
        "id": "2lzXqNs2b0aN",
        "outputId": "7a240f76-0061-4cee-bb6c-38472a121ede"
      },
      "source": [
        "X_train.shape,y_train.shape"
      ],
      "execution_count": null,
      "outputs": [
        {
          "output_type": "execute_result",
          "data": {
            "text/plain": [
              "((7000, 50, 1), (7000, 1))"
            ]
          },
          "metadata": {
            "tags": []
          },
          "execution_count": 4
        }
      ]
    },
    {
      "cell_type": "code",
      "metadata": {
        "colab": {
          "base_uri": "https://localhost:8080/",
          "height": 256
        },
        "id": "SHef7aRMb-fx",
        "outputId": "e3d0aa7e-9d0c-498a-e8ff-b29b6c16a1a7"
      },
      "source": [
        "def plot_series(series,y=None,y_pred=None,x_label=\"$t$\",y_label=\"$x(t)$\"):\r\n",
        "  plt.plot(series,\".-\")\r\n",
        "  if y is not None:\r\n",
        "    plt.plot(n_steps,y,\"bx\",markersize=10)\r\n",
        "  if y_pred is not None:\r\n",
        "    plt.plot(n_steps,y_pred,\"ro\")\r\n",
        "  plt.grid(True)\r\n",
        "  if x_label:\r\n",
        "    plt.xlabel(x_label,fontsize=16)\r\n",
        "  if y_label:\r\n",
        "    plt.ylabel(y_label,fontsize=16,rotation=0)\r\n",
        "  plt.hlines(0,0,100,linewidth=1)\r\n",
        "  plt.axis([0,n_steps+1,-1,1])\r\n",
        "\r\n",
        "fig,axes=plt.subplots(nrows=1,ncols=3,sharey=True,figsize=(12,4))\r\n",
        "for col in range(3):\r\n",
        "  plt.sca(axes[col])\r\n",
        "  plot_series(X_valid[col,:,0],y_valid[col,0],\r\n",
        "              y_label=(\"$x(t)$\"if col==0 else None))\r\n",
        "plt.show()"
      ],
      "execution_count": null,
      "outputs": [
        {
          "output_type": "display_data",
          "data": {
            "image/png": "[encoded data removed]",
            "text/plain": [
              "<Figure size 864x288 with 3 Axes>"
            ]
          },
          "metadata": {
            "tags": [],
            "needs_background": "light"
          }
        }
      ]
    },
    {
      "cell_type": "markdown",
      "metadata": {
        "id": "xFXT8g_hdMcA"
      },
      "source": [
        "### 기준 성능"
      ]
    },
    {
      "cell_type": "markdown",
      "metadata": {
        "id": "4ITzGvKydck2"
      },
      "source": [
        "Naive predictions (just predict the last observed value) :"
      ]
    },
    {
      "cell_type": "code",
      "metadata": {
        "colab": {
          "base_uri": "https://localhost:8080/"
        },
        "id": "N1VqRqZ5dC9O",
        "outputId": "c5b54444-5f51-4d84-e2de-60a7cbe733ba"
      },
      "source": [
        "y_pred=X_valid[:,-1]\r\n",
        "np.mean(keras.losses.mean_squared_error(y_valid,y_pred))"
      ],
      "execution_count": null,
      "outputs": [
        {
          "output_type": "execute_result",
          "data": {
            "text/plain": [
              "0.020211367"
            ]
          },
          "metadata": {
            "tags": []
          },
          "execution_count": 6
        }
      ]
    },
    {
      "cell_type": "code",
      "metadata": {
        "colab": {
          "base_uri": "https://localhost:8080/"
        },
        "id": "WmP_Vbs3yy_b",
        "outputId": "645a2435-1923-46a1-e8e6-51e149f0e73b"
      },
      "source": [
        "plot_series(X_valid[0,:,0],y_valid[0,0],y_pred[0,0])\r\n",
        "plt.show()"
      ],
      "execution_count": null,
      "outputs": [
        {
          "output_type": "display_data",
          "data": {
            "image/png": "[encoded data removed]",
            "text/plain": [
              "<Figure size 432x288 with 1 Axes>"
            ]
          },
          "metadata": {
            "tags": [],
            "needs_background": "light"
          }
        }
      ]
    },
    {
      "cell_type": "markdown",
      "metadata": {
        "id": "-oSnwlHMzG5v"
      },
      "source": [
        "Linear predictions :"
      ]
    },
    {
      "cell_type": "code",
      "metadata": {
        "colab": {
          "base_uri": "https://localhost:8080/"
        },
        "id": "kspU5YOGzCfO",
        "outputId": "cb923b3c-6798-4008-fb1c-aa458e57235a"
      },
      "source": [
        "np.random.seed(42)\r\n",
        "tf.random.set_seed(42)\r\n",
        "\r\n",
        "model=keras.models.Sequential([\r\n",
        "                               keras.layers.Flatten(input_shape=[50,1]),\r\n",
        "                               keras.layers.Dense(1)\r\n",
        "])\r\n",
        "\r\n",
        "model.compile(loss=\"mse\",optimizer=\"adam\")\r\n",
        "history=model.fit(X_train,y_train,epochs=20,\r\n",
        "                  validation_data=(X_valid,y_valid))"
      ],
      "execution_count": null,
      "outputs": [
        {
          "output_type": "stream",
          "text": [
            "Epoch 1/20\n",
            "219/219 [==============================] - 3s 4ms/step - loss: 0.1398 - val_loss: 0.0545\n",
            "Epoch 2/20\n",
            "219/219 [==============================] - 0s 2ms/step - loss: 0.0443 - val_loss: 0.0266\n",
            "Epoch 3/20\n",
            "219/219 [==============================] - 0s 2ms/step - loss: 0.0237 - val_loss: 0.0157\n",
            "Epoch 4/20\n",
            "219/219 [==============================] - 0s 2ms/step - loss: 0.0142 - val_loss: 0.0116\n",
            "Epoch 5/20\n",
            "219/219 [==============================] - 0s 2ms/step - loss: 0.0110 - val_loss: 0.0098\n",
            "Epoch 6/20\n",
            "219/219 [==============================] - 0s 2ms/step - loss: 0.0093 - val_loss: 0.0087\n",
            "Epoch 7/20\n",
            "219/219 [==============================] - 0s 2ms/step - loss: 0.0083 - val_loss: 0.0079\n",
            "Epoch 8/20\n",
            "219/219 [==============================] - 0s 2ms/step - loss: 0.0074 - val_loss: 0.0071\n",
            "Epoch 9/20\n",
            "219/219 [==============================] - 0s 2ms/step - loss: 0.0064 - val_loss: 0.0066\n",
            "Epoch 10/20\n",
            "219/219 [==============================] - 0s 2ms/step - loss: 0.0063 - val_loss: 0.0062\n",
            "Epoch 11/20\n",
            "219/219 [==============================] - 0s 2ms/step - loss: 0.0059 - val_loss: 0.0057\n",
            "Epoch 12/20\n",
            "219/219 [==============================] - 0s 2ms/step - loss: 0.0054 - val_loss: 0.0055\n",
            "Epoch 13/20\n",
            "219/219 [==============================] - 0s 2ms/step - loss: 0.0052 - val_loss: 0.0052\n",
            "Epoch 14/20\n",
            "219/219 [==============================] - 0s 2ms/step - loss: 0.0050 - val_loss: 0.0049\n",
            "Epoch 15/20\n",
            "219/219 [==============================] - 0s 2ms/step - loss: 0.0048 - val_loss: 0.0048\n",
            "Epoch 16/20\n",
            "219/219 [==============================] - 0s 2ms/step - loss: 0.0046 - val_loss: 0.0048\n",
            "Epoch 17/20\n",
            "219/219 [==============================] - 0s 2ms/step - loss: 0.0046 - val_loss: 0.0045\n",
            "Epoch 18/20\n",
            "219/219 [==============================] - 0s 2ms/step - loss: 0.0043 - val_loss: 0.0044\n",
            "Epoch 19/20\n",
            "219/219 [==============================] - 0s 2ms/step - loss: 0.0042 - val_loss: 0.0043\n",
            "Epoch 20/20\n",
            "219/219 [==============================] - 0s 2ms/step - loss: 0.0043 - val_loss: 0.0042\n"
          ],
          "name": "stdout"
        }
      ]
    },
    {
      "cell_type": "code",
      "metadata": {
        "colab": {
          "base_uri": "https://localhost:8080/"
        },
        "id": "cY2mSVwTzea9",
        "outputId": "1bb44646-bfb8-4dfb-e117-322538d3bc51"
      },
      "source": [
        "model.evaluate(X_valid,y_valid)"
      ],
      "execution_count": null,
      "outputs": [
        {
          "output_type": "stream",
          "text": [
            "63/63 [==============================] - 0s 1ms/step - loss: 0.0042\n"
          ],
          "name": "stdout"
        },
        {
          "output_type": "execute_result",
          "data": {
            "text/plain": [
              "0.004168085753917694"
            ]
          },
          "metadata": {
            "tags": []
          },
          "execution_count": 9
        }
      ]
    },
    {
      "cell_type": "code",
      "metadata": {
        "colab": {
          "base_uri": "https://localhost:8080/"
        },
        "id": "_IsfTLzrznr8",
        "outputId": "6a08dac0-fe50-4933-dd2b-ac2c57ba5dd4"
      },
      "source": [
        "def plot_learning_curves(loss,val_loss):\r\n",
        "  plt.plot(np.arange(len(loss))+0.5,loss,\"b.-\",label=\"Training loss\")\r\n",
        "  plt.plot(np.arange(len(val_loss))+1,val_loss,\"r.-\",label=\"Validation loss\")\r\n",
        "  plt.gca().xaxis.set_major_locator(mpl.ticker.MaxNLocator(integer=True))\r\n",
        "  plt.axis([1,20,0,0.05])\r\n",
        "  plt.legend(fontsize=14)\r\n",
        "  plt.xlabel(\"Epochs\")\r\n",
        "  plt.ylabel(\"Loss\")\r\n",
        "  plt.grid(True)\r\n",
        "\r\n",
        "plot_learning_curves(history.history[\"loss\"],history.history[\"val_loss\"])\r\n",
        "plt.show()"
      ],
      "execution_count": null,
      "outputs": [
        {
          "output_type": "display_data",
          "data": {
            "image/png": "[encoded data removed]",
            "text/plain": [
              "<Figure size 432x288 with 1 Axes>"
            ]
          },
          "metadata": {
            "tags": [],
            "needs_background": "light"
          }
        }
      ]
    },
    {
      "cell_type": "code",
      "metadata": {
        "colab": {
          "base_uri": "https://localhost:8080/"
        },
        "id": "P_HBvWJU3eTs",
        "outputId": "ac6f64b4-fbd7-456c-d002-b3271a4bbce9"
      },
      "source": [
        "y_pred=model.predict(X_valid)\r\n",
        "plot_series(X_valid[0,:,0],y_valid[0,0],y_pred[0,0])\r\n",
        "plt.show()"
      ],
      "execution_count": null,
      "outputs": [
        {
          "output_type": "display_data",
          "data": {
            "image/png": "[encoded data removed]",
            "text/plain": [
              "<Figure size 432x288 with 1 Axes>"
            ]
          },
          "metadata": {
            "tags": [],
            "needs_background": "light"
          }
        }
      ]
    },
    {
      "cell_type": "markdown",
      "metadata": {
        "id": "DU2loYIz3yFQ"
      },
      "source": [
        "### 간단한 RNN 구현하기"
      ]
    },
    {
      "cell_type": "code",
      "metadata": {
        "colab": {
          "base_uri": "https://localhost:8080/"
        },
        "id": "xJTfLeyH3wil",
        "outputId": "2300ebd1-ba3d-4ff3-900e-e48a6a9855e2"
      },
      "source": [
        "np.random.seed(42)\r\n",
        "tf.random.set_seed(42)\r\n",
        "\r\n",
        "model=keras.models.Sequential([\r\n",
        "                               keras.layers.SimpleRNN(1,input_shape=[None,1])\r\n",
        "])\r\n",
        "\r\n",
        "optimizer=keras.optimizers.Adam(lr=0.005)\r\n",
        "model.compile(loss=\"mse\",optimizer=optimizer)\r\n",
        "history=model.fit(X_train,y_train,epochs=20,\r\n",
        "                  validation_data=(X_valid,y_valid))"
      ],
      "execution_count": null,
      "outputs": [
        {
          "output_type": "stream",
          "text": [
            "Epoch 1/20\n",
            "219/219 [==============================] - 9s 38ms/step - loss: 0.1554 - val_loss: 0.0489\n",
            "Epoch 2/20\n",
            "219/219 [==============================] - 8s 37ms/step - loss: 0.0409 - val_loss: 0.0296\n",
            "Epoch 3/20\n",
            "219/219 [==============================] - 8s 38ms/step - loss: 0.0277 - val_loss: 0.0218\n",
            "Epoch 4/20\n",
            "219/219 [==============================] - 8s 36ms/step - loss: 0.0208 - val_loss: 0.0177\n",
            "Epoch 5/20\n",
            "219/219 [==============================] - 8s 37ms/step - loss: 0.0174 - val_loss: 0.0151\n",
            "Epoch 6/20\n",
            "219/219 [==============================] - 8s 38ms/step - loss: 0.0146 - val_loss: 0.0134\n",
            "Epoch 7/20\n",
            "219/219 [==============================] - 8s 37ms/step - loss: 0.0138 - val_loss: 0.0123\n",
            "Epoch 8/20\n",
            "219/219 [==============================] - 8s 37ms/step - loss: 0.0128 - val_loss: 0.0116\n",
            "Epoch 9/20\n",
            "219/219 [==============================] - 9s 39ms/step - loss: 0.0118 - val_loss: 0.0112\n",
            "Epoch 10/20\n",
            "219/219 [==============================] - 9s 40ms/step - loss: 0.0117 - val_loss: 0.0110\n",
            "Epoch 11/20\n",
            "219/219 [==============================] - 9s 40ms/step - loss: 0.0112 - val_loss: 0.0109\n",
            "Epoch 12/20\n",
            "219/219 [==============================] - 8s 37ms/step - loss: 0.0115 - val_loss: 0.0109\n",
            "Epoch 13/20\n",
            "219/219 [==============================] - 9s 39ms/step - loss: 0.0114 - val_loss: 0.0109\n",
            "Epoch 14/20\n",
            "219/219 [==============================] - 8s 37ms/step - loss: 0.0114 - val_loss: 0.0109\n",
            "Epoch 15/20\n",
            "219/219 [==============================] - 8s 37ms/step - loss: 0.0113 - val_loss: 0.0109\n",
            "Epoch 16/20\n",
            "219/219 [==============================] - 9s 40ms/step - loss: 0.0114 - val_loss: 0.0109\n",
            "Epoch 17/20\n",
            "219/219 [==============================] - 9s 40ms/step - loss: 0.0114 - val_loss: 0.0109\n",
            "Epoch 18/20\n",
            "219/219 [==============================] - 9s 40ms/step - loss: 0.0115 - val_loss: 0.0109\n",
            "Epoch 19/20\n",
            "219/219 [==============================] - 8s 37ms/step - loss: 0.0115 - val_loss: 0.0109\n",
            "Epoch 20/20\n",
            "219/219 [==============================] - 8s 37ms/step - loss: 0.0116 - val_loss: 0.0109\n"
          ],
          "name": "stdout"
        }
      ]
    },
    {
      "cell_type": "code",
      "metadata": {
        "colab": {
          "base_uri": "https://localhost:8080/"
        },
        "id": "0vgZZ1Ym4UkK",
        "outputId": "64f22fc0-91b0-42d7-eae9-7bacd33ef6f7"
      },
      "source": [
        "model.evaluate(X_valid,y_valid)"
      ],
      "execution_count": null,
      "outputs": [
        {
          "output_type": "stream",
          "text": [
            "63/63 [==============================] - 0s 4ms/step - loss: 0.0109\n"
          ],
          "name": "stdout"
        },
        {
          "output_type": "execute_result",
          "data": {
            "text/plain": [
              "0.010881561785936356"
            ]
          },
          "metadata": {
            "tags": []
          },
          "execution_count": 13
        }
      ]
    },
    {
      "cell_type": "code",
      "metadata": {
        "colab": {
          "base_uri": "https://localhost:8080/"
        },
        "id": "G3tgitGS5Gvt",
        "outputId": "0409f6b6-224d-4419-886e-38bc38ae2e8d"
      },
      "source": [
        "plot_learning_curves(history.history[\"loss\"],history.history[\"val_loss\"])\r\n",
        "plt.show()"
      ],
      "execution_count": null,
      "outputs": [
        {
          "output_type": "display_data",
          "data": {
            "image/png": "[encoded data removed]",
            "text/plain": [
              "<Figure size 432x288 with 1 Axes>"
            ]
          },
          "metadata": {
            "tags": [],
            "needs_background": "light"
          }
        }
      ]
    },
    {
      "cell_type": "code",
      "metadata": {
        "colab": {
          "base_uri": "https://localhost:8080/"
        },
        "id": "PLESFNYq5Nt5",
        "outputId": "1160ace8-8a04-42c0-f17c-ddb5a0a97ad9"
      },
      "source": [
        "y_pred=model.predict(X_valid)\r\n",
        "plot_series(X_valid[0,:,0],y_valid[0,0],y_pred[0,0])\r\n",
        "plt.show()"
      ],
      "execution_count": null,
      "outputs": [
        {
          "output_type": "display_data",
          "data": {
            "image/png": "[encoded data removed]",
            "text/plain": [
              "<Figure size 432x288 with 1 Axes>"
            ]
          },
          "metadata": {
            "tags": [],
            "needs_background": "light"
          }
        }
      ]
    },
    {
      "cell_type": "markdown",
      "metadata": {
        "id": "GQj5Si7m5ZWW"
      },
      "source": [
        "### 심층 RNN"
      ]
    },
    {
      "cell_type": "code",
      "metadata": {
        "colab": {
          "base_uri": "https://localhost:8080/"
        },
        "id": "7odhC79h5XSa",
        "outputId": "31f99254-efdd-4a63-9f52-a3687619844f"
      },
      "source": [
        "np.random.seed(42)\r\n",
        "tf.random.set_seed(42)\r\n",
        "\r\n",
        "model=keras.models.Sequential([\r\n",
        "                               keras.layers.SimpleRNN(20,return_sequences=True,input_shape=[None,1]),\r\n",
        "                               keras.layers.SimpleRNN(20,return_sequences=True),\r\n",
        "                               keras.layers.SimpleRNN(1)\r\n",
        "])\r\n",
        "\r\n",
        "model.compile(loss=\"mse\",optimizer=\"adam\")\r\n",
        "history=model.fit(X_train,y_train,epochs=20,\r\n",
        "                  validation_data=(X_valid,y_valid))"
      ],
      "execution_count": null,
      "outputs": [
        {
          "output_type": "stream",
          "text": [
            "Epoch 1/20\n",
            "219/219 [==============================] - 24s 105ms/step - loss: 0.1324 - val_loss: 0.0090\n",
            "Epoch 2/20\n",
            "219/219 [==============================] - 22s 98ms/step - loss: 0.0078 - val_loss: 0.0065\n",
            "Epoch 3/20\n",
            "219/219 [==============================] - 22s 101ms/step - loss: 0.0057 - val_loss: 0.0045\n",
            "Epoch 4/20\n",
            "219/219 [==============================] - 22s 100ms/step - loss: 0.0045 - val_loss: 0.0040\n",
            "Epoch 5/20\n",
            "219/219 [==============================] - 22s 99ms/step - loss: 0.0044 - val_loss: 0.0040\n",
            "Epoch 6/20\n",
            "219/219 [==============================] - 22s 101ms/step - loss: 0.0038 - val_loss: 0.0036\n",
            "Epoch 7/20\n",
            "219/219 [==============================] - 22s 101ms/step - loss: 0.0036 - val_loss: 0.0040\n",
            "Epoch 8/20\n",
            "219/219 [==============================] - 22s 102ms/step - loss: 0.0038 - val_loss: 0.0033\n",
            "Epoch 9/20\n",
            "219/219 [==============================] - 22s 100ms/step - loss: 0.0037 - val_loss: 0.0032\n",
            "Epoch 10/20\n",
            "219/219 [==============================] - 21s 97ms/step - loss: 0.0035 - val_loss: 0.0031\n",
            "Epoch 11/20\n",
            "219/219 [==============================] - 23s 103ms/step - loss: 0.0034 - val_loss: 0.0030\n",
            "Epoch 12/20\n",
            "219/219 [==============================] - 22s 99ms/step - loss: 0.0033 - val_loss: 0.0031\n",
            "Epoch 13/20\n",
            "219/219 [==============================] - 22s 101ms/step - loss: 0.0034 - val_loss: 0.0031\n",
            "Epoch 14/20\n",
            "219/219 [==============================] - 22s 100ms/step - loss: 0.0034 - val_loss: 0.0032\n",
            "Epoch 15/20\n",
            "219/219 [==============================] - 22s 101ms/step - loss: 0.0034 - val_loss: 0.0033\n",
            "Epoch 16/20\n",
            "219/219 [==============================] - 22s 101ms/step - loss: 0.0037 - val_loss: 0.0030\n",
            "Epoch 17/20\n",
            "219/219 [==============================] - 22s 99ms/step - loss: 0.0034 - val_loss: 0.0029\n",
            "Epoch 18/20\n",
            "219/219 [==============================] - 22s 102ms/step - loss: 0.0031 - val_loss: 0.0030\n",
            "Epoch 19/20\n",
            "219/219 [==============================] - 22s 100ms/step - loss: 0.0032 - val_loss: 0.0029\n",
            "Epoch 20/20\n",
            "219/219 [==============================] - 22s 100ms/step - loss: 0.0033 - val_loss: 0.0029\n"
          ],
          "name": "stdout"
        }
      ]
    },
    {
      "cell_type": "code",
      "metadata": {
        "colab": {
          "base_uri": "https://localhost:8080/"
        },
        "id": "rVVy8XrF8Kye",
        "outputId": "d206becb-8123-449d-ef35-d2bb0badb03f"
      },
      "source": [
        "model.evaluate(X_valid,y_valid)"
      ],
      "execution_count": null,
      "outputs": [
        {
          "output_type": "stream",
          "text": [
            "63/63 [==============================] - 1s 11ms/step - loss: 0.0029\n"
          ],
          "name": "stdout"
        },
        {
          "output_type": "execute_result",
          "data": {
            "text/plain": [
              "0.002910558832809329"
            ]
          },
          "metadata": {
            "tags": []
          },
          "execution_count": 17
        }
      ]
    },
    {
      "cell_type": "code",
      "metadata": {
        "colab": {
          "base_uri": "https://localhost:8080/"
        },
        "id": "zBBCtKDL9b8e",
        "outputId": "c904365e-a3a6-40e6-9ea8-b38bc3d29784"
      },
      "source": [
        "plot_learning_curves(history.history[\"loss\"],history.history[\"val_loss\"])\r\n",
        "plt.show()"
      ],
      "execution_count": null,
      "outputs": [
        {
          "output_type": "display_data",
          "data": {
            "image/png": "[encoded data removed]",
            "text/plain": [
              "<Figure size 432x288 with 1 Axes>"
            ]
          },
          "metadata": {
            "tags": [],
            "needs_background": "light"
          }
        }
      ]
    },
    {
      "cell_type": "code",
      "metadata": {
        "colab": {
          "base_uri": "https://localhost:8080/"
        },
        "id": "mCiDyTpk9iW6",
        "outputId": "fa2ceb9e-6b3c-4a07-a9fe-98a170c73f99"
      },
      "source": [
        "y_pred=model.predict(X_valid)\r\n",
        "plot_series(X_valid[0,:,0],y_valid[0,0],y_pred[0,0])\r\n",
        "plt.show()"
      ],
      "execution_count": null,
      "outputs": [
        {
          "output_type": "display_data",
          "data": {
            "image/png": "[encoded data removed]",
            "text/plain": [
              "<Figure size 432x288 with 1 Axes>"
            ]
          },
          "metadata": {
            "tags": [],
            "needs_background": "light"
          }
        }
      ]
    },
    {
      "cell_type": "markdown",
      "metadata": {
        "id": "meHmGzUT9v1F"
      },
      "source": [
        "Make the second SimpleRNN layer return only the last output :"
      ]
    },
    {
      "cell_type": "code",
      "metadata": {
        "colab": {
          "base_uri": "https://localhost:8080/"
        },
        "id": "2Eqc27th9rMS",
        "outputId": "17c1e4b4-de4a-4402-f68f-71de3aace006"
      },
      "source": [
        "np.random.seed(42)\r\n",
        "tf.random.set_seed(42)\r\n",
        "\r\n",
        "model=keras.models.Sequential([\r\n",
        "                               keras.layers.SimpleRNN(20,return_sequences=True,input_shape=[None,1]),\r\n",
        "                               keras.layers.SimpleRNN(20),\r\n",
        "                               keras.layers.Dense(1)\r\n",
        "])\r\n",
        "\r\n",
        "model.compile(loss=\"mse\",optimizer=\"adam\")\r\n",
        "history=model.fit(X_train,y_train,epochs=20,\r\n",
        "                  validation_data=(X_valid,y_valid))"
      ],
      "execution_count": null,
      "outputs": [
        {
          "output_type": "stream",
          "text": [
            "Epoch 1/20\n",
            "219/219 [==============================] - 17s 73ms/step - loss: 0.0566 - val_loss: 0.0052\n",
            "Epoch 2/20\n",
            "219/219 [==============================] - 15s 68ms/step - loss: 0.0048 - val_loss: 0.0036\n",
            "Epoch 3/20\n",
            "219/219 [==============================] - 15s 67ms/step - loss: 0.0036 - val_loss: 0.0031\n",
            "Epoch 4/20\n",
            "219/219 [==============================] - 16s 73ms/step - loss: 0.0033 - val_loss: 0.0033\n",
            "Epoch 5/20\n",
            "219/219 [==============================] - 16s 72ms/step - loss: 0.0033 - val_loss: 0.0034\n",
            "Epoch 6/20\n",
            "219/219 [==============================] - 15s 68ms/step - loss: 0.0031 - val_loss: 0.0029\n",
            "Epoch 7/20\n",
            "219/219 [==============================] - 15s 67ms/step - loss: 0.0030 - val_loss: 0.0034\n",
            "Epoch 8/20\n",
            "219/219 [==============================] - 15s 67ms/step - loss: 0.0033 - val_loss: 0.0028\n",
            "Epoch 9/20\n",
            "219/219 [==============================] - 15s 66ms/step - loss: 0.0031 - val_loss: 0.0028\n",
            "Epoch 10/20\n",
            "219/219 [==============================] - 15s 68ms/step - loss: 0.0029 - val_loss: 0.0029\n",
            "Epoch 11/20\n",
            "219/219 [==============================] - 15s 67ms/step - loss: 0.0029 - val_loss: 0.0027\n",
            "Epoch 12/20\n",
            "219/219 [==============================] - 16s 71ms/step - loss: 0.0029 - val_loss: 0.0031\n",
            "Epoch 13/20\n",
            "219/219 [==============================] - 14s 66ms/step - loss: 0.0029 - val_loss: 0.0031\n",
            "Epoch 14/20\n",
            "219/219 [==============================] - 16s 71ms/step - loss: 0.0031 - val_loss: 0.0030\n",
            "Epoch 15/20\n",
            "219/219 [==============================] - 15s 69ms/step - loss: 0.0030 - val_loss: 0.0030\n",
            "Epoch 16/20\n",
            "219/219 [==============================] - 16s 71ms/step - loss: 0.0030 - val_loss: 0.0027\n",
            "Epoch 17/20\n",
            "219/219 [==============================] - 15s 67ms/step - loss: 0.0030 - val_loss: 0.0028\n",
            "Epoch 18/20\n",
            "219/219 [==============================] - 15s 69ms/step - loss: 0.0029 - val_loss: 0.0027\n",
            "Epoch 19/20\n",
            "219/219 [==============================] - 15s 70ms/step - loss: 0.0029 - val_loss: 0.0028\n",
            "Epoch 20/20\n",
            "219/219 [==============================] - 15s 68ms/step - loss: 0.0030 - val_loss: 0.0026\n"
          ],
          "name": "stdout"
        }
      ]
    },
    {
      "cell_type": "code",
      "metadata": {
        "colab": {
          "base_uri": "https://localhost:8080/"
        },
        "id": "UMlPyf4v-NLf",
        "outputId": "1784b48e-9cc4-4e03-e720-cd920d496645"
      },
      "source": [
        "model.evaluate(X_valid,y_valid)"
      ],
      "execution_count": null,
      "outputs": [
        {
          "output_type": "stream",
          "text": [
            "63/63 [==============================] - 0s 7ms/step - loss: 0.0026\n"
          ],
          "name": "stdout"
        },
        {
          "output_type": "execute_result",
          "data": {
            "text/plain": [
              "0.002623625099658966"
            ]
          },
          "metadata": {
            "tags": []
          },
          "execution_count": 21
        }
      ]
    },
    {
      "cell_type": "code",
      "metadata": {
        "colab": {
          "base_uri": "https://localhost:8080/"
        },
        "id": "4GbsiZCl-QAn",
        "outputId": "8d10c70f-466d-4dce-bf34-928f802a6c09"
      },
      "source": [
        "plot_learning_curves(history.history[\"loss\"],history.history[\"val_loss\"])\r\n",
        "plt.show()"
      ],
      "execution_count": null,
      "outputs": [
        {
          "output_type": "display_data",
          "data": {
            "image/png": "[encoded data removed]",
            "text/plain": [
              "<Figure size 432x288 with 1 Axes>"
            ]
          },
          "metadata": {
            "tags": [],
            "needs_background": "light"
          }
        }
      ]
    },
    {
      "cell_type": "code",
      "metadata": {
        "colab": {
          "base_uri": "https://localhost:8080/"
        },
        "id": "_mR1yneV-Xj_",
        "outputId": "6ea23e53-0c04-4083-9955-da75fa7b8969"
      },
      "source": [
        "y_pred=model.predict(X_valid)\r\n",
        "plot_series(X_valid[0,:,0],y_valid[0,0],y_pred[0,0])\r\n",
        "plt.show()"
      ],
      "execution_count": null,
      "outputs": [
        {
          "output_type": "display_data",
          "data": {
            "image/png": "[encoded data removed]",
            "text/plain": [
              "<Figure size 432x288 with 1 Axes>"
            ]
          },
          "metadata": {
            "tags": [],
            "needs_background": "light"
          }
        }
      ]
    },
    {
      "cell_type": "markdown",
      "metadata": {
        "id": "8t_6kgxF-nhb"
      },
      "source": [
        "### 여러 타임 스텝 앞을 예측하기"
      ]
    },
    {
      "cell_type": "code",
      "metadata": {
        "id": "6YOgVkMb-uUQ"
      },
      "source": [
        "np.random.seed(43) #not 42, as it would give the first series in the train set\r\n",
        "\r\n",
        "series=generate_time_series(1,n_steps+10)\r\n",
        "X_new,Y_new=series[:,:n_steps],series[:,n_steps:]\r\n",
        "X=X_new\r\n",
        "for step_ahead in range(10):\r\n",
        "  y_pred_one=model.predict(X[:,step_ahead:])[:,np.newaxis,:]\r\n",
        "  X=np.concatenate([X,y_pred_one],axis=1)\r\n",
        "\r\n",
        "Y_pred=X[:,n_steps:]"
      ],
      "execution_count": null,
      "outputs": []
    },
    {
      "cell_type": "code",
      "metadata": {
        "colab": {
          "base_uri": "https://localhost:8080/"
        },
        "id": "CW0hl8fI-iWe",
        "outputId": "9eea857a-bc08-40f8-fed8-f4f4a72a0133"
      },
      "source": [
        "Y_pred.shape"
      ],
      "execution_count": null,
      "outputs": [
        {
          "output_type": "execute_result",
          "data": {
            "text/plain": [
              "(1, 10, 1)"
            ]
          },
          "metadata": {
            "tags": []
          },
          "execution_count": 25
        }
      ]
    },
    {
      "cell_type": "code",
      "metadata": {
        "colab": {
          "base_uri": "https://localhost:8080/"
        },
        "id": "gTvApc7-_n3C",
        "outputId": "59572b6e-607e-4cf5-8ecb-5b6d21931f7d"
      },
      "source": [
        "def plot_multiple_forecasts(X,Y,Y_pred):\r\n",
        "  n_steps=X.shape[1]\r\n",
        "  ahead=Y.shape[1]\r\n",
        "  plot_series(X[0,:,0])\r\n",
        "  plt.plot(np.arange(n_steps,n_steps+ahead),Y[0,:,0],\"ro-\",label=\"Actual\")\r\n",
        "  plt.plot(np.arange(n_steps,n_steps+ahead),Y_pred[0,:,0],\"bx-\",label=\"Forecast\",markersize=10)\r\n",
        "  plt.axis([0,n_steps+ahead,-1,1])\r\n",
        "  plt.legend(fontsize=14)\r\n",
        "\r\n",
        "plot_multiple_forecasts(X_new,Y_new,Y_pred)\r\n",
        "plt.show()"
      ],
      "execution_count": null,
      "outputs": [
        {
          "output_type": "display_data",
          "data": {
            "image/png": "[encoded data removed]",
            "text/plain": [
              "<Figure size 432x288 with 1 Axes>"
            ]
          },
          "metadata": {
            "tags": [],
            "needs_background": "light"
          }
        }
      ]
    },
    {
      "cell_type": "markdown",
      "metadata": {
        "id": "oAIuU9aKut5L"
      },
      "source": [
        "Now let's use this model to predict the next 10 values.  \r\n",
        "We first need to regenerate the sequences with 9 more time steps."
      ]
    },
    {
      "cell_type": "code",
      "metadata": {
        "id": "2PnNcsAvBjuq"
      },
      "source": [
        "np.random.seed(42)\r\n",
        "\r\n",
        "n_steps=50\r\n",
        "series=generate_time_series(10000,n_steps+10)\r\n",
        "X_train,Y_train=series[:7000,:n_steps],series[:7000,-10:,0]\r\n",
        "X_valid,Y_valid=series[7000:9000,:n_steps],series[7000:9000,-10:,0]\r\n",
        "X_test,Y_test=series[9000:,:n_steps],series[9000:,-10:,0]"
      ],
      "execution_count": null,
      "outputs": []
    },
    {
      "cell_type": "markdown",
      "metadata": {
        "id": "as_wfYhnvuCq"
      },
      "source": [
        "Now let's predict the next 10 values one by one :"
      ]
    },
    {
      "cell_type": "code",
      "metadata": {
        "id": "JaDRy3_dvqLn"
      },
      "source": [
        "X=X_valid\r\n",
        "for step_ahead in range(10):\r\n",
        "  y_pred_one=model.predict(X)[:,np.newaxis,:]\r\n",
        "  X=np.concatenate([X,y_pred_one],axis=1)\r\n",
        "\r\n",
        "Y_pred=X[:,n_steps:,0]"
      ],
      "execution_count": null,
      "outputs": []
    },
    {
      "cell_type": "code",
      "metadata": {
        "colab": {
          "base_uri": "https://localhost:8080/"
        },
        "id": "u6qsoRGov9v7",
        "outputId": "78cb260f-14f8-490d-c796-df2a8bc24400"
      },
      "source": [
        "Y_pred.shape"
      ],
      "execution_count": null,
      "outputs": [
        {
          "output_type": "execute_result",
          "data": {
            "text/plain": [
              "(2000, 10)"
            ]
          },
          "metadata": {
            "tags": []
          },
          "execution_count": 29
        }
      ]
    },
    {
      "cell_type": "code",
      "metadata": {
        "colab": {
          "base_uri": "https://localhost:8080/"
        },
        "id": "sYfZNl2xv-wD",
        "outputId": "f76f6e0e-15d3-42a3-e4a8-661d03c7daaa"
      },
      "source": [
        "np.mean(keras.metrics.mean_squared_error(Y_valid,Y_pred))"
      ],
      "execution_count": null,
      "outputs": [
        {
          "output_type": "execute_result",
          "data": {
            "text/plain": [
              "0.027510807"
            ]
          },
          "metadata": {
            "tags": []
          },
          "execution_count": 30
        }
      ]
    },
    {
      "cell_type": "markdown",
      "metadata": {
        "id": "Ote1rcZFyJN8"
      },
      "source": [
        "Let's compare this performance with some baselines :  \r\n",
        "naive predictions and a simple linear model :"
      ]
    },
    {
      "cell_type": "code",
      "metadata": {
        "colab": {
          "base_uri": "https://localhost:8080/"
        },
        "id": "PeW0p1wUwFHw",
        "outputId": "ea4ccc53-5b1f-4616-e0f2-8e998e97203f"
      },
      "source": [
        "Y_naive_pred=Y_valid[:,-1:]\r\n",
        "np.mean(keras.metrics.mean_squared_error(Y_valid,Y_naive_pred))"
      ],
      "execution_count": null,
      "outputs": [
        {
          "output_type": "execute_result",
          "data": {
            "text/plain": [
              "0.22278848"
            ]
          },
          "metadata": {
            "tags": []
          },
          "execution_count": 31
        }
      ]
    },
    {
      "cell_type": "code",
      "metadata": {
        "colab": {
          "base_uri": "https://localhost:8080/"
        },
        "id": "97DEKcXbyc5u",
        "outputId": "8cb4b45c-20c7-4785-a397-ade317c689ea"
      },
      "source": [
        "np.random.seed(42)\r\n",
        "tf.random.set_seed(42)\r\n",
        "\r\n",
        "model=keras.models.Sequential([\r\n",
        "                               keras.layers.Flatten(input_shape=[50,1]),\r\n",
        "                               keras.layers.Dense(10)\r\n",
        "])\r\n",
        "\r\n",
        "model.compile(loss=\"mse\",optimizer=\"adam\")\r\n",
        "history=model.fit(X_train,Y_train,epochs=20,\r\n",
        "                  validation_data=(X_valid,Y_valid))"
      ],
      "execution_count": null,
      "outputs": [
        {
          "output_type": "stream",
          "text": [
            "Epoch 1/20\n",
            "219/219 [==============================] - 1s 2ms/step - loss: 0.2186 - val_loss: 0.0606\n",
            "Epoch 2/20\n",
            "219/219 [==============================] - 0s 2ms/step - loss: 0.0535 - val_loss: 0.0425\n",
            "Epoch 3/20\n",
            "219/219 [==============================] - 0s 2ms/step - loss: 0.0406 - val_loss: 0.0353\n",
            "Epoch 4/20\n",
            "219/219 [==============================] - 0s 2ms/step - loss: 0.0343 - val_loss: 0.0311\n",
            "Epoch 5/20\n",
            "219/219 [==============================] - 0s 2ms/step - loss: 0.0300 - val_loss: 0.0283\n",
            "Epoch 6/20\n",
            "219/219 [==============================] - 0s 2ms/step - loss: 0.0278 - val_loss: 0.0264\n",
            "Epoch 7/20\n",
            "219/219 [==============================] - 0s 2ms/step - loss: 0.0262 - val_loss: 0.0249\n",
            "Epoch 8/20\n",
            "219/219 [==============================] - 0s 2ms/step - loss: 0.0246 - val_loss: 0.0237\n",
            "Epoch 9/20\n",
            "219/219 [==============================] - 0s 2ms/step - loss: 0.0236 - val_loss: 0.0229\n",
            "Epoch 10/20\n",
            "219/219 [==============================] - 0s 2ms/step - loss: 0.0228 - val_loss: 0.0222\n",
            "Epoch 11/20\n",
            "219/219 [==============================] - 0s 2ms/step - loss: 0.0220 - val_loss: 0.0216\n",
            "Epoch 12/20\n",
            "219/219 [==============================] - 0s 2ms/step - loss: 0.0214 - val_loss: 0.0212\n",
            "Epoch 13/20\n",
            "219/219 [==============================] - 0s 2ms/step - loss: 0.0212 - val_loss: 0.0208\n",
            "Epoch 14/20\n",
            "219/219 [==============================] - 0s 2ms/step - loss: 0.0207 - val_loss: 0.0207\n",
            "Epoch 15/20\n",
            "219/219 [==============================] - 0s 2ms/step - loss: 0.0207 - val_loss: 0.0202\n",
            "Epoch 16/20\n",
            "219/219 [==============================] - 0s 2ms/step - loss: 0.0199 - val_loss: 0.0199\n",
            "Epoch 17/20\n",
            "219/219 [==============================] - 0s 2ms/step - loss: 0.0197 - val_loss: 0.0195\n",
            "Epoch 18/20\n",
            "219/219 [==============================] - 0s 2ms/step - loss: 0.0190 - val_loss: 0.0192\n",
            "Epoch 19/20\n",
            "219/219 [==============================] - 0s 2ms/step - loss: 0.0189 - val_loss: 0.0189\n",
            "Epoch 20/20\n",
            "219/219 [==============================] - 0s 2ms/step - loss: 0.0188 - val_loss: 0.0187\n"
          ],
          "name": "stdout"
        }
      ]
    },
    {
      "cell_type": "markdown",
      "metadata": {
        "id": "mR6q06VkzI-J"
      },
      "source": [
        "Now let's create an RNN that predicts all 10 next values at once :"
      ]
    },
    {
      "cell_type": "code",
      "metadata": {
        "colab": {
          "base_uri": "https://localhost:8080/"
        },
        "id": "6doUH1IQzCyR",
        "outputId": "b3fad85d-2c2d-4561-8ae7-3a7374657a3f"
      },
      "source": [
        "np.random.seed(42)\r\n",
        "tf.random.set_seed(42)\r\n",
        "\r\n",
        "model=keras.models.Sequential([\r\n",
        "                               keras.layers.SimpleRNN(20,return_sequences=True,input_shape=[None,1]),\r\n",
        "                               keras.layers.SimpleRNN(20),\r\n",
        "                               keras.layers.Dense(10)\r\n",
        "])\r\n",
        "\r\n",
        "model.compile(loss=\"mse\",optimizer=\"adam\")\r\n",
        "history=model.fit(X_train,Y_train,epochs=20,\r\n",
        "                  validation_data=(X_valid,Y_valid))"
      ],
      "execution_count": null,
      "outputs": [
        {
          "output_type": "stream",
          "text": [
            "Epoch 1/20\n",
            "219/219 [==============================] - 17s 72ms/step - loss: 0.1216 - val_loss: 0.0317\n",
            "Epoch 2/20\n",
            "219/219 [==============================] - 16s 72ms/step - loss: 0.0294 - val_loss: 0.0200\n",
            "Epoch 3/20\n",
            "219/219 [==============================] - 16s 73ms/step - loss: 0.0198 - val_loss: 0.0160\n",
            "Epoch 4/20\n",
            "219/219 [==============================] - 16s 71ms/step - loss: 0.0162 - val_loss: 0.0144\n",
            "Epoch 5/20\n",
            "219/219 [==============================] - 16s 74ms/step - loss: 0.0144 - val_loss: 0.0118\n",
            "Epoch 6/20\n",
            "219/219 [==============================] - 16s 72ms/step - loss: 0.0127 - val_loss: 0.0112\n",
            "Epoch 7/20\n",
            "219/219 [==============================] - 16s 74ms/step - loss: 0.0119 - val_loss: 0.0110\n",
            "Epoch 8/20\n",
            "219/219 [==============================] - 17s 77ms/step - loss: 0.0114 - val_loss: 0.0103\n",
            "Epoch 9/20\n",
            "219/219 [==============================] - 16s 74ms/step - loss: 0.0110 - val_loss: 0.0112\n",
            "Epoch 10/20\n",
            "219/219 [==============================] - 16s 72ms/step - loss: 0.0118 - val_loss: 0.0100\n",
            "Epoch 11/20\n",
            "219/219 [==============================] - 16s 71ms/step - loss: 0.0109 - val_loss: 0.0103\n",
            "Epoch 12/20\n",
            "219/219 [==============================] - 17s 76ms/step - loss: 0.0104 - val_loss: 0.0096\n",
            "Epoch 13/20\n",
            "219/219 [==============================] - 16s 73ms/step - loss: 0.0103 - val_loss: 0.0100\n",
            "Epoch 14/20\n",
            "219/219 [==============================] - 16s 74ms/step - loss: 0.0101 - val_loss: 0.0103\n",
            "Epoch 15/20\n",
            "219/219 [==============================] - 16s 72ms/step - loss: 0.0095 - val_loss: 0.0107\n",
            "Epoch 16/20\n",
            "219/219 [==============================] - 15s 68ms/step - loss: 0.0095 - val_loss: 0.0089\n",
            "Epoch 17/20\n",
            "219/219 [==============================] - 15s 69ms/step - loss: 0.0092 - val_loss: 0.0111\n",
            "Epoch 18/20\n",
            "219/219 [==============================] - 17s 77ms/step - loss: 0.0098 - val_loss: 0.0094\n",
            "Epoch 19/20\n",
            "219/219 [==============================] - 17s 76ms/step - loss: 0.0090 - val_loss: 0.0083\n",
            "Epoch 20/20\n",
            "219/219 [==============================] - 17s 76ms/step - loss: 0.0092 - val_loss: 0.0085\n"
          ],
          "name": "stdout"
        }
      ]
    },
    {
      "cell_type": "code",
      "metadata": {
        "id": "1IJ4PR_dzk8f"
      },
      "source": [
        "np.random.seed(43)\r\n",
        "\r\n",
        "series=generate_time_series(1,50+10)\r\n",
        "X_new,Y_new=series[:,:50,:],series[:,-10:,:]\r\n",
        "Y_pred=model.predict(X_new)[...,np.newaxis]"
      ],
      "execution_count": null,
      "outputs": []
    },
    {
      "cell_type": "code",
      "metadata": {
        "colab": {
          "base_uri": "https://localhost:8080/"
        },
        "id": "i3Z5rkB9z4g4",
        "outputId": "894ca626-853b-43e3-f515-acaba7295772"
      },
      "source": [
        "plot_multiple_forecasts(X_new,Y_new,Y_pred)\r\n",
        "plt.show()"
      ],
      "execution_count": null,
      "outputs": [
        {
          "output_type": "display_data",
          "data": {
            "image/png": "[encoded data removed]",
            "text/plain": [
              "<Figure size 432x288 with 1 Axes>"
            ]
          },
          "metadata": {
            "tags": [],
            "needs_background": "light"
          }
        }
      ]
    },
    {
      "cell_type": "markdown",
      "metadata": {
        "id": "jFFfDSeKLAp3"
      },
      "source": [
        "Now let's create an RNN that predicts the next 10 steps at each time step.  \r\n",
        "That is, instead of just forecasting time steps 50 to 59 based on time steps 0 to 49, it will forecast time steps 1 to 10 at time step 0, then time steps 2 to 11 at time step 1, and so on, and finally it will forecast time steps 50 to 59 at the last time step.  \r\n",
        "Notice that the model is causal : when it makes predictions at any time step, it can only see past time steps."
      ]
    },
    {
      "cell_type": "code",
      "metadata": {
        "id": "FHbQIH_vz9aQ"
      },
      "source": [
        "np.random.seed(42)\r\n",
        "\r\n",
        "n_steps=50\r\n",
        "series=generate_time_series(10000,n_steps+10)\r\n",
        "X_train=series[:7000,:n_steps]\r\n",
        "X_valid=series[7000:9000,:n_steps]\r\n",
        "X_test=series[9000:,:n_steps]\r\n",
        "Y=np.empty((10000,n_steps,10))\r\n",
        "for step_ahead in range(1,10+1):\r\n",
        "  Y[...,step_ahead-1]=series[...,step_ahead:step_ahead+n_steps,0]\r\n",
        "Y_train=Y[:7000]\r\n",
        "Y_valid=Y[7000:9000]\r\n",
        "Y_test=Y[9000:]"
      ],
      "execution_count": null,
      "outputs": []
    },
    {
      "cell_type": "code",
      "metadata": {
        "colab": {
          "base_uri": "https://localhost:8080/"
        },
        "id": "UZU4rHUcMLlI",
        "outputId": "00bf7fb4-f6f0-4fa0-bc5c-0da39380258b"
      },
      "source": [
        "X_train.shape,Y_train.shape"
      ],
      "execution_count": null,
      "outputs": [
        {
          "output_type": "execute_result",
          "data": {
            "text/plain": [
              "((7000, 50, 1), (7000, 50, 10))"
            ]
          },
          "metadata": {
            "tags": []
          },
          "execution_count": 37
        }
      ]
    },
    {
      "cell_type": "code",
      "metadata": {
        "colab": {
          "base_uri": "https://localhost:8080/"
        },
        "id": "fipwTGc0MNV-",
        "outputId": "8b5376fd-e39c-4010-a39c-2f41919c3ee1"
      },
      "source": [
        "np.random.seed(42)\r\n",
        "tf.random.set_seed(42)\r\n",
        "\r\n",
        "model=keras.models.Sequential([\r\n",
        "                               keras.layers.SimpleRNN(20,return_sequences=True,input_shape=[None,1]),\r\n",
        "                               keras.layers.SimpleRNN(20,return_sequences=True),\r\n",
        "                               keras.layers.TimeDistributed(keras.layers.Dense(10))\r\n",
        "])\r\n",
        "\r\n",
        "def last_time_step_mse(Y_true,Y_pred):\r\n",
        "  return keras.metrics.mean_squared_error(Y_true[:,-1],Y_pred[:,-1])\r\n",
        "\r\n",
        "model.compile(loss=\"mse\",optimizer=keras.optimizers.Adam(lr=0.01),metrics=[last_time_step_mse])\r\n",
        "history=model.fit(X_train,Y_train,epochs=20,\r\n",
        "                  validation_data=(X_valid,Y_valid))"
      ],
      "execution_count": null,
      "outputs": [
        {
          "output_type": "stream",
          "text": [
            "Epoch 1/20\n",
            "219/219 [==============================] - 16s 67ms/step - loss: 0.0705 - last_time_step_mse: 0.0621 - val_loss: 0.0429 - val_last_time_step_mse: 0.0324\n",
            "Epoch 2/20\n",
            "219/219 [==============================] - 14s 66ms/step - loss: 0.0413 - last_time_step_mse: 0.0301 - val_loss: 0.0352 - val_last_time_step_mse: 0.0244\n",
            "Epoch 3/20\n",
            "219/219 [==============================] - 15s 67ms/step - loss: 0.0335 - last_time_step_mse: 0.0222 - val_loss: 0.0361 - val_last_time_step_mse: 0.0271\n",
            "Epoch 4/20\n",
            "219/219 [==============================] - 14s 65ms/step - loss: 0.0309 - last_time_step_mse: 0.0205 - val_loss: 0.0279 - val_last_time_step_mse: 0.0159\n",
            "Epoch 5/20\n",
            "219/219 [==============================] - 15s 68ms/step - loss: 0.0279 - last_time_step_mse: 0.0164 - val_loss: 0.0257 - val_last_time_step_mse: 0.0135\n",
            "Epoch 6/20\n",
            "219/219 [==============================] - 15s 67ms/step - loss: 0.0259 - last_time_step_mse: 0.0135 - val_loss: 0.0223 - val_last_time_step_mse: 0.0089\n",
            "Epoch 7/20\n",
            "219/219 [==============================] - 15s 68ms/step - loss: 0.0233 - last_time_step_mse: 0.0104 - val_loss: 0.0218 - val_last_time_step_mse: 0.0083\n",
            "Epoch 8/20\n",
            "219/219 [==============================] - 16s 74ms/step - loss: 0.0216 - last_time_step_mse: 0.0086 - val_loss: 0.0229 - val_last_time_step_mse: 0.0106\n",
            "Epoch 9/20\n",
            "219/219 [==============================] - 14s 65ms/step - loss: 0.0213 - last_time_step_mse: 0.0090 - val_loss: 0.0198 - val_last_time_step_mse: 0.0073\n",
            "Epoch 10/20\n",
            "219/219 [==============================] - 15s 67ms/step - loss: 0.0208 - last_time_step_mse: 0.0081 - val_loss: 0.0221 - val_last_time_step_mse: 0.0097\n",
            "Epoch 11/20\n",
            "219/219 [==============================] - 15s 67ms/step - loss: 0.0205 - last_time_step_mse: 0.0081 - val_loss: 0.0206 - val_last_time_step_mse: 0.0086\n",
            "Epoch 12/20\n",
            "219/219 [==============================] - 15s 67ms/step - loss: 0.0204 - last_time_step_mse: 0.0081 - val_loss: 0.0188 - val_last_time_step_mse: 0.0065\n",
            "Epoch 13/20\n",
            "219/219 [==============================] - 14s 66ms/step - loss: 0.0196 - last_time_step_mse: 0.0072 - val_loss: 0.0206 - val_last_time_step_mse: 0.0077\n",
            "Epoch 14/20\n",
            "219/219 [==============================] - 15s 67ms/step - loss: 0.0199 - last_time_step_mse: 0.0075 - val_loss: 0.0189 - val_last_time_step_mse: 0.0065\n",
            "Epoch 15/20\n",
            "219/219 [==============================] - 15s 70ms/step - loss: 0.0198 - last_time_step_mse: 0.0079 - val_loss: 0.0185 - val_last_time_step_mse: 0.0068\n",
            "Epoch 16/20\n",
            "219/219 [==============================] - 15s 68ms/step - loss: 0.0189 - last_time_step_mse: 0.0067 - val_loss: 0.0198 - val_last_time_step_mse: 0.0092\n",
            "Epoch 17/20\n",
            "219/219 [==============================] - 15s 70ms/step - loss: 0.0187 - last_time_step_mse: 0.0066 - val_loss: 0.0182 - val_last_time_step_mse: 0.0066\n",
            "Epoch 18/20\n",
            "219/219 [==============================] - 14s 62ms/step - loss: 0.0187 - last_time_step_mse: 0.0068 - val_loss: 0.0192 - val_last_time_step_mse: 0.0075\n",
            "Epoch 19/20\n",
            "219/219 [==============================] - 14s 62ms/step - loss: 0.0185 - last_time_step_mse: 0.0067 - val_loss: 0.0177 - val_last_time_step_mse: 0.0063\n",
            "Epoch 20/20\n",
            "219/219 [==============================] - 15s 69ms/step - loss: 0.0183 - last_time_step_mse: 0.0068 - val_loss: 0.0195 - val_last_time_step_mse: 0.0083\n"
          ],
          "name": "stdout"
        }
      ]
    },
    {
      "cell_type": "code",
      "metadata": {
        "id": "n5JOiYFlNEYf"
      },
      "source": [
        "np.random.seed(43)\r\n",
        "\r\n",
        "series=generate_time_series(1,50+10)\r\n",
        "X_new,Y_new=series[:,:50,:],series[:,50:,:]\r\n",
        "Y_pred=model.predict(X_new)[:,-1][...,np.newaxis]"
      ],
      "execution_count": null,
      "outputs": []
    },
    {
      "cell_type": "code",
      "metadata": {
        "colab": {
          "base_uri": "https://localhost:8080/"
        },
        "id": "Z-Lu1mkwTK8q",
        "outputId": "dddfb7d1-765c-4ff5-ee00-9f7078eaad56"
      },
      "source": [
        "plot_multiple_forecasts(X_new,Y_new,Y_pred)\r\n",
        "plt.show()"
      ],
      "execution_count": null,
      "outputs": [
        {
          "output_type": "display_data",
          "data": {
            "image/png": "[encoded data removed]",
            "text/plain": [
              "<Figure size 432x288 with 1 Axes>"
            ]
          },
          "metadata": {
            "tags": [],
            "needs_background": "light"
          }
        }
      ]
    },
    {
      "cell_type": "markdown",
      "metadata": {
        "id": "5fL5Ir1zlatt"
      },
      "source": [
        "## 긴 시퀀스 다루기"
      ]
    },
    {
      "cell_type": "markdown",
      "metadata": {
        "id": "NeiqBit5TMK-"
      },
      "source": [
        "### 불안정한 그레이디언트 문제와 싸우기"
      ]
    },
    {
      "cell_type": "markdown",
      "metadata": {
        "id": "cbXqkESCTOsG"
      },
      "source": [
        "Deep RNN with Batch Norm"
      ]
    },
    {
      "cell_type": "code",
      "metadata": {
        "colab": {
          "base_uri": "https://localhost:8080/"
        },
        "id": "WjSdZefVMeDJ",
        "outputId": "d5d33100-5692-4914-f587-400186306217"
      },
      "source": [
        "np.random.seed(42)\r\n",
        "tf.random.set_seed(42)\r\n",
        "\r\n",
        "model=keras.models.Sequential([\r\n",
        "                               keras.layers.SimpleRNN(20,return_sequences=True,input_shape=[None,1]),\r\n",
        "                               keras.layers.BatchNormalization(),\r\n",
        "                               keras.layers.SimpleRNN(20,return_sequences=True),\r\n",
        "                               keras.layers.BatchNormalization(),\r\n",
        "                               keras.layers.TimeDistributed(keras.layers.Dense(10))\r\n",
        "])\r\n",
        "\r\n",
        "model.compile(loss=\"mse\",optimizer=\"adam\",metrics=[last_time_step_mse])\r\n",
        "history=model.fit(X_train,Y_train,epochs=20,\r\n",
        "                  validation_data=(X_valid,Y_valid))"
      ],
      "execution_count": null,
      "outputs": [
        {
          "output_type": "stream",
          "text": [
            "Epoch 1/20\n",
            "219/219 [==============================] - 17s 70ms/step - loss: 0.4750 - last_time_step_mse: 0.5027 - val_loss: 0.0877 - val_last_time_step_mse: 0.0832\n",
            "Epoch 2/20\n",
            "219/219 [==============================] - 15s 70ms/step - loss: 0.0561 - last_time_step_mse: 0.0468 - val_loss: 0.0549 - val_last_time_step_mse: 0.0462\n",
            "Epoch 3/20\n",
            "219/219 [==============================] - 15s 67ms/step - loss: 0.0486 - last_time_step_mse: 0.0394 - val_loss: 0.0451 - val_last_time_step_mse: 0.0358\n",
            "Epoch 4/20\n",
            "219/219 [==============================] - 15s 67ms/step - loss: 0.0443 - last_time_step_mse: 0.0344 - val_loss: 0.0418 - val_last_time_step_mse: 0.0314\n",
            "Epoch 5/20\n",
            "219/219 [==============================] - 14s 64ms/step - loss: 0.0414 - last_time_step_mse: 0.0315 - val_loss: 0.0391 - val_last_time_step_mse: 0.0287\n",
            "Epoch 6/20\n",
            "219/219 [==============================] - 15s 67ms/step - loss: 0.0391 - last_time_step_mse: 0.0281 - val_loss: 0.0379 - val_last_time_step_mse: 0.0273\n",
            "Epoch 7/20\n",
            "219/219 [==============================] - 14s 65ms/step - loss: 0.0370 - last_time_step_mse: 0.0257 - val_loss: 0.0367 - val_last_time_step_mse: 0.0248\n",
            "Epoch 8/20\n",
            "219/219 [==============================] - 16s 71ms/step - loss: 0.0352 - last_time_step_mse: 0.0236 - val_loss: 0.0363 - val_last_time_step_mse: 0.0249\n",
            "Epoch 9/20\n",
            "219/219 [==============================] - 15s 69ms/step - loss: 0.0340 - last_time_step_mse: 0.0224 - val_loss: 0.0332 - val_last_time_step_mse: 0.0208\n",
            "Epoch 10/20\n",
            "219/219 [==============================] - 15s 69ms/step - loss: 0.0332 - last_time_step_mse: 0.0213 - val_loss: 0.0335 - val_last_time_step_mse: 0.0214\n",
            "Epoch 11/20\n",
            "219/219 [==============================] - 15s 69ms/step - loss: 0.0325 - last_time_step_mse: 0.0214 - val_loss: 0.0323 - val_last_time_step_mse: 0.0203\n",
            "Epoch 12/20\n",
            "219/219 [==============================] - 15s 67ms/step - loss: 0.0316 - last_time_step_mse: 0.0196 - val_loss: 0.0333 - val_last_time_step_mse: 0.0210\n",
            "Epoch 13/20\n",
            "219/219 [==============================] - 16s 72ms/step - loss: 0.0312 - last_time_step_mse: 0.0192 - val_loss: 0.0310 - val_last_time_step_mse: 0.0187\n",
            "Epoch 14/20\n",
            "219/219 [==============================] - 15s 69ms/step - loss: 0.0308 - last_time_step_mse: 0.0187 - val_loss: 0.0310 - val_last_time_step_mse: 0.0189\n",
            "Epoch 15/20\n",
            "219/219 [==============================] - 16s 74ms/step - loss: 0.0302 - last_time_step_mse: 0.0183 - val_loss: 0.0298 - val_last_time_step_mse: 0.0178\n",
            "Epoch 16/20\n",
            "219/219 [==============================] - 15s 69ms/step - loss: 0.0298 - last_time_step_mse: 0.0177 - val_loss: 0.0293 - val_last_time_step_mse: 0.0174\n",
            "Epoch 17/20\n",
            "219/219 [==============================] - 16s 72ms/step - loss: 0.0294 - last_time_step_mse: 0.0173 - val_loss: 0.0315 - val_last_time_step_mse: 0.0200\n",
            "Epoch 18/20\n",
            "219/219 [==============================] - 15s 71ms/step - loss: 0.0289 - last_time_step_mse: 0.0167 - val_loss: 0.0295 - val_last_time_step_mse: 0.0174\n",
            "Epoch 19/20\n",
            "219/219 [==============================] - 14s 65ms/step - loss: 0.0287 - last_time_step_mse: 0.0168 - val_loss: 0.0290 - val_last_time_step_mse: 0.0163\n",
            "Epoch 20/20\n",
            "219/219 [==============================] - 15s 71ms/step - loss: 0.0281 - last_time_step_mse: 0.0161 - val_loss: 0.0288 - val_last_time_step_mse: 0.0164\n"
          ],
          "name": "stdout"
        }
      ]
    },
    {
      "cell_type": "markdown",
      "metadata": {
        "id": "AkUc2-dsUhWA"
      },
      "source": [
        "Deep RNNs with Layer Norm"
      ]
    },
    {
      "cell_type": "code",
      "metadata": {
        "id": "2XwhociaT53G"
      },
      "source": [
        "from tensorflow.keras.layers import LayerNormalization"
      ],
      "execution_count": null,
      "outputs": []
    },
    {
      "cell_type": "code",
      "metadata": {
        "id": "q9dqut-vWSrH"
      },
      "source": [
        "class LNSimpleRNNCell(keras.layers.Layer):\r\n",
        "  def __init__(self,units,activation=\"tanh\",**kwargs):\r\n",
        "    super().__init__(**kwargs)\r\n",
        "    self.state_size=units\r\n",
        "    self.output_size=units\r\n",
        "    self.simple_rnn_cell=keras.layers.SimpleRNNCell(units,activation=None)\r\n",
        "    self.layer_norm=LayerNormalization()\r\n",
        "    self.activation=keras.activations.get(activation)\r\n",
        "  def get_initial_state(self,inputs=None,batch_size=None,dtype=None):\r\n",
        "    if inputs is not None:\r\n",
        "      batch_size=tf.shape(inputs)[0]\r\n",
        "      dtype=inputs.dtype\r\n",
        "    return [tf.zeros([batch_size,self.state_size],dtype=dtype)]\r\n",
        "  def call(self,inputs,states):\r\n",
        "    outputs,new_states=self.simple_rnn_cell(inputs,states)\r\n",
        "    norm_outputs=self.activation(self.layer_norm(outputs))\r\n",
        "    return norm_outputs,[norm_outputs]"
      ],
      "execution_count": null,
      "outputs": []
    },
    {
      "cell_type": "code",
      "metadata": {
        "colab": {
          "base_uri": "https://localhost:8080/"
        },
        "id": "gTZMAtlMXRN-",
        "outputId": "9b87c639-2751-4a1c-9bfb-3384255845dc"
      },
      "source": [
        "np.random.seed(42)\r\n",
        "tf.random.set_seed(42)\r\n",
        "\r\n",
        "model=keras.models.Sequential([\r\n",
        "                               keras.layers.RNN(LNSimpleRNNCell(20),return_sequences=True,\r\n",
        "                                                input_shape=[None,1]),\r\n",
        "                               keras.layers.RNN(LNSimpleRNNCell(20),return_sequences=True),\r\n",
        "                               keras.layers.TimeDistributed(keras.layers.Dense(10))\r\n",
        "])\r\n",
        "\r\n",
        "model.compile(loss=\"mse\",optimizer=\"adam\",metrics=[last_time_step_mse])\r\n",
        "history=model.fit(X_train,Y_train,epochs=20,\r\n",
        "                  validation_data=(X_valid,Y_valid))"
      ],
      "execution_count": null,
      "outputs": [
        {
          "output_type": "stream",
          "text": [
            "Epoch 1/20\n",
            "219/219 [==============================] - 42s 162ms/step - loss: 0.2935 - last_time_step_mse: 0.2943 - val_loss: 0.0745 - val_last_time_step_mse: 0.0699\n",
            "Epoch 2/20\n",
            "219/219 [==============================] - 35s 160ms/step - loss: 0.0684 - last_time_step_mse: 0.0610 - val_loss: 0.0567 - val_last_time_step_mse: 0.0500\n",
            "Epoch 3/20\n",
            "219/219 [==============================] - 34s 154ms/step - loss: 0.0556 - last_time_step_mse: 0.0483 - val_loss: 0.0487 - val_last_time_step_mse: 0.0399\n",
            "Epoch 4/20\n",
            "219/219 [==============================] - 34s 155ms/step - loss: 0.0477 - last_time_step_mse: 0.0380 - val_loss: 0.0442 - val_last_time_step_mse: 0.0350\n",
            "Epoch 5/20\n",
            "219/219 [==============================] - 35s 158ms/step - loss: 0.0425 - last_time_step_mse: 0.0322 - val_loss: 0.0392 - val_last_time_step_mse: 0.0285\n",
            "Epoch 6/20\n",
            "219/219 [==============================] - 33s 152ms/step - loss: 0.0391 - last_time_step_mse: 0.0278 - val_loss: 0.0370 - val_last_time_step_mse: 0.0253\n",
            "Epoch 7/20\n",
            "219/219 [==============================] - 36s 164ms/step - loss: 0.0368 - last_time_step_mse: 0.0250 - val_loss: 0.0350 - val_last_time_step_mse: 0.0236\n",
            "Epoch 8/20\n",
            "219/219 [==============================] - 35s 158ms/step - loss: 0.0351 - last_time_step_mse: 0.0230 - val_loss: 0.0339 - val_last_time_step_mse: 0.0224\n",
            "Epoch 9/20\n",
            "219/219 [==============================] - 34s 156ms/step - loss: 0.0336 - last_time_step_mse: 0.0220 - val_loss: 0.0340 - val_last_time_step_mse: 0.0232\n",
            "Epoch 10/20\n",
            "219/219 [==============================] - 34s 155ms/step - loss: 0.0334 - last_time_step_mse: 0.0213 - val_loss: 0.0316 - val_last_time_step_mse: 0.0197\n",
            "Epoch 11/20\n",
            "219/219 [==============================] - 34s 157ms/step - loss: 0.0318 - last_time_step_mse: 0.0204 - val_loss: 0.0307 - val_last_time_step_mse: 0.0188\n",
            "Epoch 12/20\n",
            "219/219 [==============================] - 37s 169ms/step - loss: 0.0314 - last_time_step_mse: 0.0192 - val_loss: 0.0308 - val_last_time_step_mse: 0.0190\n",
            "Epoch 13/20\n",
            "219/219 [==============================] - 35s 159ms/step - loss: 0.0306 - last_time_step_mse: 0.0185 - val_loss: 0.0290 - val_last_time_step_mse: 0.0169\n",
            "Epoch 14/20\n",
            "219/219 [==============================] - 36s 167ms/step - loss: 0.0298 - last_time_step_mse: 0.0178 - val_loss: 0.0289 - val_last_time_step_mse: 0.0170\n",
            "Epoch 15/20\n",
            "219/219 [==============================] - 36s 167ms/step - loss: 0.0295 - last_time_step_mse: 0.0180 - val_loss: 0.0289 - val_last_time_step_mse: 0.0168\n",
            "Epoch 16/20\n",
            "219/219 [==============================] - 34s 155ms/step - loss: 0.0292 - last_time_step_mse: 0.0171 - val_loss: 0.0279 - val_last_time_step_mse: 0.0159\n",
            "Epoch 17/20\n",
            "219/219 [==============================] - 37s 168ms/step - loss: 0.0286 - last_time_step_mse: 0.0167 - val_loss: 0.0284 - val_last_time_step_mse: 0.0166\n",
            "Epoch 18/20\n",
            "219/219 [==============================] - 35s 158ms/step - loss: 0.0279 - last_time_step_mse: 0.0159 - val_loss: 0.0275 - val_last_time_step_mse: 0.0157\n",
            "Epoch 19/20\n",
            "219/219 [==============================] - 35s 158ms/step - loss: 0.0278 - last_time_step_mse: 0.0157 - val_loss: 0.0275 - val_last_time_step_mse: 0.0152\n",
            "Epoch 20/20\n",
            "219/219 [==============================] - 34s 157ms/step - loss: 0.0275 - last_time_step_mse: 0.0157 - val_loss: 0.0269 - val_last_time_step_mse: 0.0150\n"
          ],
          "name": "stdout"
        }
      ]
    },
    {
      "cell_type": "markdown",
      "metadata": {
        "id": "qgpzNAKop_4V"
      },
      "source": [
        "Creating a Custom RNN Class"
      ]
    },
    {
      "cell_type": "code",
      "metadata": {
        "id": "MWiWYYylX90a"
      },
      "source": [
        "class MyRNN(keras.layers.Layer):\r\n",
        "  def __init__(self,cell,return_sequences=False,**kwargs):\r\n",
        "    super().__init__(**kwargs)\r\n",
        "    self.cell=cell\r\n",
        "    self.return_sequences=return_sequences\r\n",
        "    self.get_initial_state=getattr(\r\n",
        "        self.cell,\"get_initial_state\",self.fallback_initial_state\r\n",
        "    )\r\n",
        "  def fallback_initial_state(self,inputs):\r\n",
        "    return [tf.zeros([self.cell.state_size],dtype=inputs.dtype)]\r\n",
        "  @tf.function\r\n",
        "  def call(self,inputs):\r\n",
        "    states=self.get_initial_state(inputs)\r\n",
        "    n_steps=tf.shape(inputs)[1]\r\n",
        "    if self.return_sequences:\r\n",
        "      sequences=tf.TensorArray(inputs.dtype,size=n_steps)\r\n",
        "    outputs=tf.zeros(shape=[n_steps,self.cell.output_size],dtype=inputs.dtype)\r\n",
        "    for step in tf.range(n_steps):\r\n",
        "      outputs,states=self.cell(inputs[:,step],states)\r\n",
        "      if self.return_sequences:\r\n",
        "        sequences=sequences.write(step,outputs)\r\n",
        "    if self.return_sequences:\r\n",
        "      return sequences.stack()\r\n",
        "    else:\r\n",
        "      return outputs"
      ],
      "execution_count": null,
      "outputs": []
    },
    {
      "cell_type": "code",
      "metadata": {
        "colab": {
          "base_uri": "https://localhost:8080/"
        },
        "id": "doG-TwrWrJr9",
        "outputId": "7172435e-53ab-4e8a-b765-ee698907f8ab"
      },
      "source": [
        "np.random.seed(42)\r\n",
        "tf.random.set_seed(42)\r\n",
        "\r\n",
        "model=keras.models.Sequential([\r\n",
        "                               MyRNN(LNSimpleRNNCell(20),return_sequences=True,\r\n",
        "                                     input_shape=[None,1]),\r\n",
        "                               MyRNN(LNSimpleRNNCell(20),return_sequences=True),\r\n",
        "                               keras.layers.TimeDistributed(keras.layers.Dense(10))\r\n",
        "])\r\n",
        "\r\n",
        "model.compile(loss=\"mse\",optimizer=\"adam\",metrics=[last_time_step_mse])\r\n",
        "history=model.fit(X_train,Y_train,epochs=20,\r\n",
        "                  validation_data=(X_valid,Y_valid))"
      ],
      "execution_count": null,
      "outputs": [
        {
          "output_type": "stream",
          "text": [
            "Epoch 1/20\n",
            "219/219 [==============================] - 35s 152ms/step - loss: 0.3618 - last_time_step_mse: 0.3636 - val_loss: 0.0775 - val_last_time_step_mse: 0.0728\n",
            "Epoch 2/20\n",
            "219/219 [==============================] - 32s 144ms/step - loss: 0.0729 - last_time_step_mse: 0.0658 - val_loss: 0.0636 - val_last_time_step_mse: 0.0576\n",
            "Epoch 3/20\n",
            "219/219 [==============================] - 31s 140ms/step - loss: 0.0626 - last_time_step_mse: 0.0566 - val_loss: 0.0575 - val_last_time_step_mse: 0.0506\n",
            "Epoch 4/20\n",
            "219/219 [==============================] - 33s 149ms/step - loss: 0.0561 - last_time_step_mse: 0.0481 - val_loss: 0.0495 - val_last_time_step_mse: 0.0390\n",
            "Epoch 5/20\n",
            "219/219 [==============================] - 33s 149ms/step - loss: 0.0480 - last_time_step_mse: 0.0370 - val_loss: 0.0450 - val_last_time_step_mse: 0.0342\n",
            "Epoch 6/20\n",
            "219/219 [==============================] - 31s 141ms/step - loss: 0.0439 - last_time_step_mse: 0.0322 - val_loss: 0.0411 - val_last_time_step_mse: 0.0292\n",
            "Epoch 7/20\n",
            "219/219 [==============================] - 32s 147ms/step - loss: 0.0402 - last_time_step_mse: 0.0283 - val_loss: 0.0373 - val_last_time_step_mse: 0.0248\n",
            "Epoch 8/20\n",
            "219/219 [==============================] - 34s 155ms/step - loss: 0.0372 - last_time_step_mse: 0.0243 - val_loss: 0.0353 - val_last_time_step_mse: 0.0226\n",
            "Epoch 9/20\n",
            "219/219 [==============================] - 32s 148ms/step - loss: 0.0348 - last_time_step_mse: 0.0216 - val_loss: 0.0346 - val_last_time_step_mse: 0.0215\n",
            "Epoch 10/20\n",
            "219/219 [==============================] - 32s 147ms/step - loss: 0.0330 - last_time_step_mse: 0.0194 - val_loss: 0.0312 - val_last_time_step_mse: 0.0178\n",
            "Epoch 11/20\n",
            "219/219 [==============================] - 33s 150ms/step - loss: 0.0311 - last_time_step_mse: 0.0185 - val_loss: 0.0301 - val_last_time_step_mse: 0.0165\n",
            "Epoch 12/20\n",
            "219/219 [==============================] - 34s 157ms/step - loss: 0.0302 - last_time_step_mse: 0.0169 - val_loss: 0.0308 - val_last_time_step_mse: 0.0190\n",
            "Epoch 13/20\n",
            "219/219 [==============================] - 32s 145ms/step - loss: 0.0298 - last_time_step_mse: 0.0167 - val_loss: 0.0287 - val_last_time_step_mse: 0.0159\n",
            "Epoch 14/20\n",
            "219/219 [==============================] - 33s 151ms/step - loss: 0.0289 - last_time_step_mse: 0.0159 - val_loss: 0.0283 - val_last_time_step_mse: 0.0158\n",
            "Epoch 15/20\n",
            "219/219 [==============================] - 31s 142ms/step - loss: 0.0283 - last_time_step_mse: 0.0159 - val_loss: 0.0276 - val_last_time_step_mse: 0.0145\n",
            "Epoch 16/20\n",
            "219/219 [==============================] - 31s 141ms/step - loss: 0.0279 - last_time_step_mse: 0.0149 - val_loss: 0.0272 - val_last_time_step_mse: 0.0146\n",
            "Epoch 17/20\n",
            "219/219 [==============================] - 31s 141ms/step - loss: 0.0272 - last_time_step_mse: 0.0143 - val_loss: 0.0268 - val_last_time_step_mse: 0.0139\n",
            "Epoch 18/20\n",
            "219/219 [==============================] - 31s 143ms/step - loss: 0.0267 - last_time_step_mse: 0.0139 - val_loss: 0.0262 - val_last_time_step_mse: 0.0137\n",
            "Epoch 19/20\n",
            "219/219 [==============================] - 31s 142ms/step - loss: 0.0264 - last_time_step_mse: 0.0139 - val_loss: 0.0263 - val_last_time_step_mse: 0.0140\n",
            "Epoch 20/20\n",
            "219/219 [==============================] - 31s 143ms/step - loss: 0.0258 - last_time_step_mse: 0.0136 - val_loss: 0.0257 - val_last_time_step_mse: 0.0135\n"
          ],
          "name": "stdout"
        }
      ]
    },
    {
      "cell_type": "markdown",
      "metadata": {
        "id": "dkfwNon8zGIS"
      },
      "source": [
        "### 단기 기억 문제 해결하기"
      ]
    },
    {
      "cell_type": "markdown",
      "metadata": {
        "id": "G43wFTpzzXyt"
      },
      "source": [
        "LSTMs"
      ]
    },
    {
      "cell_type": "code",
      "metadata": {
        "colab": {
          "base_uri": "https://localhost:8080/"
        },
        "id": "NosBgYlEruen",
        "outputId": "880b5280-a4ab-4d0f-d419-05c6325b9ee5"
      },
      "source": [
        "np.random.seed(42)\r\n",
        "tf.random.set_seed(42)\r\n",
        "\r\n",
        "model=keras.models.Sequential([\r\n",
        "                               keras.layers.LSTM(20,return_sequences=True,input_shape=[None,1]),\r\n",
        "                               keras.layers.LSTM(20,return_sequences=True),\r\n",
        "                               keras.layers.TimeDistributed(keras.layers.Dense(10))\r\n",
        "])\r\n",
        "\r\n",
        "model.compile(loss=\"mse\",optimizer=\"adam\",metrics=[last_time_step_mse])\r\n",
        "history=model.fit(X_train,Y_train,epochs=20,\r\n",
        "                  validation_data=(X_valid,Y_valid))"
      ],
      "execution_count": null,
      "outputs": [
        {
          "output_type": "stream",
          "text": [
            "Epoch 1/20\n",
            "219/219 [==============================] - 5s 11ms/step - loss: 0.0979 - last_time_step_mse: 0.0877 - val_loss: 0.0554 - val_last_time_step_mse: 0.0364\n",
            "Epoch 2/20\n",
            "219/219 [==============================] - 2s 9ms/step - loss: 0.0515 - last_time_step_mse: 0.0326 - val_loss: 0.0427 - val_last_time_step_mse: 0.0222\n",
            "Epoch 3/20\n",
            "219/219 [==============================] - 2s 9ms/step - loss: 0.0407 - last_time_step_mse: 0.0196 - val_loss: 0.0367 - val_last_time_step_mse: 0.0157\n",
            "Epoch 4/20\n",
            "219/219 [==============================] - 2s 9ms/step - loss: 0.0356 - last_time_step_mse: 0.0156 - val_loss: 0.0334 - val_last_time_step_mse: 0.0132\n",
            "Epoch 5/20\n",
            "219/219 [==============================] - 2s 8ms/step - loss: 0.0330 - last_time_step_mse: 0.0138 - val_loss: 0.0314 - val_last_time_step_mse: 0.0121\n",
            "Epoch 6/20\n",
            "219/219 [==============================] - 2s 8ms/step - loss: 0.0313 - last_time_step_mse: 0.0124 - val_loss: 0.0298 - val_last_time_step_mse: 0.0112\n",
            "Epoch 7/20\n",
            "219/219 [==============================] - 2s 8ms/step - loss: 0.0297 - last_time_step_mse: 0.0118 - val_loss: 0.0291 - val_last_time_step_mse: 0.0120\n",
            "Epoch 8/20\n",
            "219/219 [==============================] - 2s 8ms/step - loss: 0.0289 - last_time_step_mse: 0.0109 - val_loss: 0.0278 - val_last_time_step_mse: 0.0099\n",
            "Epoch 9/20\n",
            "219/219 [==============================] - 2s 8ms/step - loss: 0.0282 - last_time_step_mse: 0.0110 - val_loss: 0.0278 - val_last_time_step_mse: 0.0113\n",
            "Epoch 10/20\n",
            "219/219 [==============================] - 2s 8ms/step - loss: 0.0276 - last_time_step_mse: 0.0107 - val_loss: 0.0268 - val_last_time_step_mse: 0.0101\n",
            "Epoch 11/20\n",
            "219/219 [==============================] - 2s 8ms/step - loss: 0.0270 - last_time_step_mse: 0.0104 - val_loss: 0.0263 - val_last_time_step_mse: 0.0096\n",
            "Epoch 12/20\n",
            "219/219 [==============================] - 2s 8ms/step - loss: 0.0265 - last_time_step_mse: 0.0100 - val_loss: 0.0263 - val_last_time_step_mse: 0.0105\n",
            "Epoch 13/20\n",
            "219/219 [==============================] - 2s 9ms/step - loss: 0.0260 - last_time_step_mse: 0.0098 - val_loss: 0.0257 - val_last_time_step_mse: 0.0100\n",
            "Epoch 14/20\n",
            "219/219 [==============================] - 2s 8ms/step - loss: 0.0258 - last_time_step_mse: 0.0097 - val_loss: 0.0252 - val_last_time_step_mse: 0.0091\n",
            "Epoch 15/20\n",
            "219/219 [==============================] - 2s 8ms/step - loss: 0.0255 - last_time_step_mse: 0.0100 - val_loss: 0.0251 - val_last_time_step_mse: 0.0092\n",
            "Epoch 16/20\n",
            "219/219 [==============================] - 2s 9ms/step - loss: 0.0252 - last_time_step_mse: 0.0094 - val_loss: 0.0248 - val_last_time_step_mse: 0.0089\n",
            "Epoch 17/20\n",
            "219/219 [==============================] - 2s 8ms/step - loss: 0.0248 - last_time_step_mse: 0.0093 - val_loss: 0.0248 - val_last_time_step_mse: 0.0098\n",
            "Epoch 18/20\n",
            "219/219 [==============================] - 2s 8ms/step - loss: 0.0247 - last_time_step_mse: 0.0092 - val_loss: 0.0246 - val_last_time_step_mse: 0.0091\n",
            "Epoch 19/20\n",
            "219/219 [==============================] - 2s 8ms/step - loss: 0.0243 - last_time_step_mse: 0.0092 - val_loss: 0.0238 - val_last_time_step_mse: 0.0085\n",
            "Epoch 20/20\n",
            "219/219 [==============================] - 2s 9ms/step - loss: 0.0239 - last_time_step_mse: 0.0088 - val_loss: 0.0238 - val_last_time_step_mse: 0.0086\n"
          ],
          "name": "stdout"
        }
      ]
    },
    {
      "cell_type": "code",
      "metadata": {
        "colab": {
          "base_uri": "https://localhost:8080/"
        },
        "id": "7dusVWy_2RCz",
        "outputId": "7ecbd49a-f4cd-4b0c-de03-41c574a50b37"
      },
      "source": [
        "model.evaluate(X_valid,Y_valid)"
      ],
      "execution_count": null,
      "outputs": [
        {
          "output_type": "stream",
          "text": [
            "63/63 [==============================] - 0s 3ms/step - loss: 0.0238 - last_time_step_mse: 0.0086\n"
          ],
          "name": "stdout"
        },
        {
          "output_type": "execute_result",
          "data": {
            "text/plain": [
              "[0.023788686841726303, 0.008560807444155216]"
            ]
          },
          "metadata": {
            "tags": []
          },
          "execution_count": 48
        }
      ]
    },
    {
      "cell_type": "code",
      "metadata": {
        "colab": {
          "base_uri": "https://localhost:8080/",
          "height": 291
        },
        "id": "FVHushr028Tt",
        "outputId": "e8f9be46-016a-4df3-e04e-fe7979da7c3b"
      },
      "source": [
        "plot_learning_curves(history.history[\"loss\"],history.history[\"val_loss\"])\r\n",
        "plt.show()"
      ],
      "execution_count": null,
      "outputs": [
        {
          "output_type": "display_data",
          "data": {
            "image/png": "[encoded data removed]",
            "text/plain": [
              "<Figure size 432x288 with 1 Axes>"
            ]
          },
          "metadata": {
            "tags": [],
            "needs_background": "light"
          }
        }
      ]
    },
    {
      "cell_type": "code",
      "metadata": {
        "id": "rK8QIiQV3F1d"
      },
      "source": [
        "np.random.seed(43)\r\n",
        "\r\n",
        "series=generate_time_series(1,50+10)\r\n",
        "X_new,Y_new=series[:,:50,:],series[:,50:,:]\r\n",
        "Y_pred=model.predict(X_new)[:,-1][...,np.newaxis]"
      ],
      "execution_count": null,
      "outputs": []
    },
    {
      "cell_type": "code",
      "metadata": {
        "colab": {
          "base_uri": "https://localhost:8080/",
          "height": 293
        },
        "id": "36emYTPs3UOO",
        "outputId": "b64fb2b8-e289-44bc-b34c-a9908a2d4500"
      },
      "source": [
        "plot_multiple_forecasts(X_new,Y_new,Y_pred)\r\n",
        "plt.show()"
      ],
      "execution_count": null,
      "outputs": [
        {
          "output_type": "display_data",
          "data": {
            "image/png": "[encoded data removed]",
            "text/plain": [
              "<Figure size 432x288 with 1 Axes>"
            ]
          },
          "metadata": {
            "tags": [],
            "needs_background": "light"
          }
        }
      ]
    },
    {
      "cell_type": "markdown",
      "metadata": {
        "id": "eSuxykDi4h9N"
      },
      "source": [
        "GRUs"
      ]
    },
    {
      "cell_type": "code",
      "metadata": {
        "colab": {
          "base_uri": "https://localhost:8080/"
        },
        "id": "oB4aMOy-3atA",
        "outputId": "0729c382-b645-4030-b663-44d3b0146d9f"
      },
      "source": [
        "np.random.seed(42)\r\n",
        "tf.random.set_seed(42)\r\n",
        "\r\n",
        "model=keras.models.Sequential([\r\n",
        "                               keras.layers.GRU(20,return_sequences=True,input_shape=[None,1]),\r\n",
        "                               keras.layers.GRU(20,return_sequences=True),\r\n",
        "                               keras.layers.TimeDistributed(keras.layers.Dense(10))\r\n",
        "])\r\n",
        "\r\n",
        "model.compile(loss=\"mse\",optimizer=\"adam\",metrics=[last_time_step_mse])\r\n",
        "history=model.fit(X_train,Y_train,epochs=20,\r\n",
        "                  validation_data=(X_valid,Y_valid))"
      ],
      "execution_count": null,
      "outputs": [
        {
          "output_type": "stream",
          "text": [
            "Epoch 1/20\n",
            "219/219 [==============================] - 4s 10ms/step - loss: 0.0995 - last_time_step_mse: 0.0940 - val_loss: 0.0538 - val_last_time_step_mse: 0.0450\n",
            "Epoch 2/20\n",
            "219/219 [==============================] - 2s 8ms/step - loss: 0.0495 - last_time_step_mse: 0.0383 - val_loss: 0.0441 - val_last_time_step_mse: 0.0326\n",
            "Epoch 3/20\n",
            "219/219 [==============================] - 2s 8ms/step - loss: 0.0432 - last_time_step_mse: 0.0321 - val_loss: 0.0390 - val_last_time_step_mse: 0.0275\n",
            "Epoch 4/20\n",
            "219/219 [==============================] - 2s 8ms/step - loss: 0.0379 - last_time_step_mse: 0.0261 - val_loss: 0.0339 - val_last_time_step_mse: 0.0202\n",
            "Epoch 5/20\n",
            "219/219 [==============================] - 2s 8ms/step - loss: 0.0333 - last_time_step_mse: 0.0192 - val_loss: 0.0312 - val_last_time_step_mse: 0.0164\n",
            "Epoch 6/20\n",
            "219/219 [==============================] - 2s 8ms/step - loss: 0.0310 - last_time_step_mse: 0.0158 - val_loss: 0.0294 - val_last_time_step_mse: 0.0143\n",
            "Epoch 7/20\n",
            "219/219 [==============================] - 2s 8ms/step - loss: 0.0295 - last_time_step_mse: 0.0146 - val_loss: 0.0300 - val_last_time_step_mse: 0.0162\n",
            "Epoch 8/20\n",
            "219/219 [==============================] - 2s 8ms/step - loss: 0.0287 - last_time_step_mse: 0.0136 - val_loss: 0.0278 - val_last_time_step_mse: 0.0130\n",
            "Epoch 9/20\n",
            "219/219 [==============================] - 2s 8ms/step - loss: 0.0277 - last_time_step_mse: 0.0133 - val_loss: 0.0273 - val_last_time_step_mse: 0.0127\n",
            "Epoch 10/20\n",
            "219/219 [==============================] - 2s 8ms/step - loss: 0.0273 - last_time_step_mse: 0.0128 - val_loss: 0.0264 - val_last_time_step_mse: 0.0121\n",
            "Epoch 11/20\n",
            "219/219 [==============================] - 2s 8ms/step - loss: 0.0265 - last_time_step_mse: 0.0122 - val_loss: 0.0268 - val_last_time_step_mse: 0.0135\n",
            "Epoch 12/20\n",
            "219/219 [==============================] - 2s 8ms/step - loss: 0.0264 - last_time_step_mse: 0.0122 - val_loss: 0.0261 - val_last_time_step_mse: 0.0123\n",
            "Epoch 13/20\n",
            "219/219 [==============================] - 2s 8ms/step - loss: 0.0259 - last_time_step_mse: 0.0117 - val_loss: 0.0254 - val_last_time_step_mse: 0.0116\n",
            "Epoch 14/20\n",
            "219/219 [==============================] - 2s 8ms/step - loss: 0.0257 - last_time_step_mse: 0.0116 - val_loss: 0.0254 - val_last_time_step_mse: 0.0116\n",
            "Epoch 15/20\n",
            "219/219 [==============================] - 2s 8ms/step - loss: 0.0254 - last_time_step_mse: 0.0118 - val_loss: 0.0250 - val_last_time_step_mse: 0.0112\n",
            "Epoch 16/20\n",
            "219/219 [==============================] - 2s 8ms/step - loss: 0.0252 - last_time_step_mse: 0.0114 - val_loss: 0.0250 - val_last_time_step_mse: 0.0114\n",
            "Epoch 17/20\n",
            "219/219 [==============================] - 2s 8ms/step - loss: 0.0248 - last_time_step_mse: 0.0113 - val_loss: 0.0249 - val_last_time_step_mse: 0.0118\n",
            "Epoch 18/20\n",
            "219/219 [==============================] - 2s 8ms/step - loss: 0.0246 - last_time_step_mse: 0.0109 - val_loss: 0.0244 - val_last_time_step_mse: 0.0108\n",
            "Epoch 19/20\n",
            "219/219 [==============================] - 2s 8ms/step - loss: 0.0243 - last_time_step_mse: 0.0107 - val_loss: 0.0240 - val_last_time_step_mse: 0.0105\n",
            "Epoch 20/20\n",
            "219/219 [==============================] - 2s 9ms/step - loss: 0.0239 - last_time_step_mse: 0.0105 - val_loss: 0.0238 - val_last_time_step_mse: 0.0103\n"
          ],
          "name": "stdout"
        }
      ]
    },
    {
      "cell_type": "code",
      "metadata": {
        "colab": {
          "base_uri": "https://localhost:8080/"
        },
        "id": "2wYQiNac-7hU",
        "outputId": "43e6fa6b-3cf5-43a1-a519-3ef3f3c1ccb3"
      },
      "source": [
        "model.evaluate(X_valid,Y_valid)"
      ],
      "execution_count": null,
      "outputs": [
        {
          "output_type": "stream",
          "text": [
            "63/63 [==============================] - 0s 4ms/step - loss: 0.0238 - last_time_step_mse: 0.0103\n"
          ],
          "name": "stdout"
        },
        {
          "output_type": "execute_result",
          "data": {
            "text/plain": [
              "[0.02378549799323082, 0.0102628068998456]"
            ]
          },
          "metadata": {
            "tags": []
          },
          "execution_count": 53
        }
      ]
    },
    {
      "cell_type": "code",
      "metadata": {
        "colab": {
          "base_uri": "https://localhost:8080/",
          "height": 291
        },
        "id": "26Z2b0xL_nx2",
        "outputId": "e6749560-091d-41d2-e09f-b4a6204ac1a6"
      },
      "source": [
        "plot_learning_curves(history.history[\"loss\"],history.history[\"val_loss\"])\r\n",
        "plt.show()"
      ],
      "execution_count": null,
      "outputs": [
        {
          "output_type": "display_data",
          "data": {
            "image/png": "[encoded data removed]",
            "text/plain": [
              "<Figure size 432x288 with 1 Axes>"
            ]
          },
          "metadata": {
            "tags": [],
            "needs_background": "light"
          }
        }
      ]
    },
    {
      "cell_type": "code",
      "metadata": {
        "colab": {
          "base_uri": "https://localhost:8080/"
        },
        "id": "U4R16miO_v8j",
        "outputId": "cc5944b8-0162-46a6-9454-75a4b47b9973"
      },
      "source": [
        "np.random.seed(43)\r\n",
        "\r\n",
        "series=generate_time_series(1,50+10)\r\n",
        "X_new,Y_new=series[:,:50,:],series[:,50:,:]\r\n",
        "Y_pred=model.predict(X_new)[:,-1][...,np.newaxis]"
      ],
      "execution_count": null,
      "outputs": [
        {
          "output_type": "stream",
          "text": [
            "WARNING:tensorflow:5 out of the last 508 calls to <function Model.make_predict_function.<locals>.predict_function at 0x7fce09c7a488> triggered tf.function retracing. Tracing is expensive and the excessive number of tracings could be due to (1) creating @tf.function repeatedly in a loop, (2) passing tensors with different shapes, (3) passing Python objects instead of tensors. For (1), please define your @tf.function outside of the loop. For (2), @tf.function has experimental_relax_shapes=True option that relaxes argument shapes that can avoid unnecessary retracing. For (3), please refer to https://www.tensorflow.org/guide/function#controlling_retracing and https://www.tensorflow.org/api_docs/python/tf/function for  more details.\n"
          ],
          "name": "stdout"
        }
      ]
    },
    {
      "cell_type": "code",
      "metadata": {
        "colab": {
          "base_uri": "https://localhost:8080/",
          "height": 293
        },
        "id": "R70UBAqc_-mU",
        "outputId": "3febc4c1-b20d-4813-8419-68e9169833a0"
      },
      "source": [
        "plot_multiple_forecasts(X_new,Y_new,Y_pred)\r\n",
        "plt.show()"
      ],
      "execution_count": null,
      "outputs": [
        {
          "output_type": "display_data",
          "data": {
            "image/png": "[encoded data removed]",
            "text/plain": [
              "<Figure size 432x288 with 1 Axes>"
            ]
          },
          "metadata": {
            "tags": [],
            "needs_background": "light"
          }
        }
      ]
    },
    {
      "cell_type": "markdown",
      "metadata": {
        "id": "Pxrk9NJLAQYZ"
      },
      "source": [
        "Using One-Dimensional Convolutional Layers to Process Sequences\r\n",
        "\r\n",
        "```\r\n",
        "1D conv layer with kernel size 4, stride 2, VALID padding:\r\n",
        "\r\n",
        "              |-----2-----|     |-----5---...------|     |-----23----|\r\n",
        "        |-----1-----|     |-----4-----|   ...      |-----22----|\r\n",
        "  |-----0----|      |-----3-----|     |---...|-----21----|\r\n",
        "X: 0  1  2  3  4  5  6  7  8  9  10 11 12 ... 42 43 44 45 46 47 48 49\r\n",
        "Y: 1  2  3  4  5  6  7  8  9  10 11 12 13 ... 43 44 45 46 47 48 49 50\r\n",
        "  /10 11 12 13 14 15 16 17 18 19 20 21 22 ... 52 53 54 55 56 57 58 59\r\n",
        "\r\n",
        "Output:\r\n",
        "\r\n",
        "X:     0/3   2/5   4/7   6/9   8/11 10/13 .../43 42/45 44/47 46/49\r\n",
        "Y:     4/13  6/15  8/17 10/19 12/21 14/23 .../53 46/55 48/57 50/59\r\n",
        "```"
      ]
    },
    {
      "cell_type": "code",
      "metadata": {
        "colab": {
          "base_uri": "https://localhost:8080/"
        },
        "id": "CsmmhASxAM7A",
        "outputId": "c5ad29ee-f4f8-46ae-b84a-4dcc24adcd9c"
      },
      "source": [
        "np.random.seed(42)\r\n",
        "tf.random.set_seed(42)\r\n",
        "\r\n",
        "model=keras.models.Sequential([\r\n",
        "                               keras.layers.Conv1D(filters=20,kernel_size=4,strides=2,padding=\"valid\",\r\n",
        "                                                   input_shape=[None,1]),\r\n",
        "                               keras.layers.GRU(20,return_sequences=True),\r\n",
        "                               keras.layers.GRU(20,return_sequences=True),\r\n",
        "                               keras.layers.TimeDistributed(keras.layers.Dense(10))\r\n",
        "])\r\n",
        "\r\n",
        "model.compile(loss=\"mse\",optimizer=\"adam\",metrics=[last_time_step_mse])\r\n",
        "history=model.fit(X_train,Y_train[:,3::2],epochs=20,\r\n",
        "                  validation_data=(X_valid,Y_valid[:,3::2]))"
      ],
      "execution_count": null,
      "outputs": [
        {
          "output_type": "stream",
          "text": [
            "Epoch 1/20\n",
            "219/219 [==============================] - 4s 9ms/step - loss: 0.0908 - last_time_step_mse: 0.0845 - val_loss: 0.0477 - val_last_time_step_mse: 0.0396\n",
            "Epoch 2/20\n",
            "219/219 [==============================] - 2s 7ms/step - loss: 0.0437 - last_time_step_mse: 0.0357 - val_loss: 0.0367 - val_last_time_step_mse: 0.0285\n",
            "Epoch 3/20\n",
            "219/219 [==============================] - 1s 6ms/step - loss: 0.0356 - last_time_step_mse: 0.0282 - val_loss: 0.0307 - val_last_time_step_mse: 0.0218\n",
            "Epoch 4/20\n",
            "219/219 [==============================] - 2s 7ms/step - loss: 0.0293 - last_time_step_mse: 0.0201 - val_loss: 0.0259 - val_last_time_step_mse: 0.0152\n",
            "Epoch 5/20\n",
            "219/219 [==============================] - 1s 7ms/step - loss: 0.0256 - last_time_step_mse: 0.0152 - val_loss: 0.0246 - val_last_time_step_mse: 0.0141\n",
            "Epoch 6/20\n",
            "219/219 [==============================] - 1s 7ms/step - loss: 0.0239 - last_time_step_mse: 0.0129 - val_loss: 0.0227 - val_last_time_step_mse: 0.0115\n",
            "Epoch 7/20\n",
            "219/219 [==============================] - 1s 7ms/step - loss: 0.0228 - last_time_step_mse: 0.0116 - val_loss: 0.0225 - val_last_time_step_mse: 0.0116\n",
            "Epoch 8/20\n",
            "219/219 [==============================] - 1s 7ms/step - loss: 0.0222 - last_time_step_mse: 0.0111 - val_loss: 0.0216 - val_last_time_step_mse: 0.0105\n",
            "Epoch 9/20\n",
            "219/219 [==============================] - 1s 7ms/step - loss: 0.0215 - last_time_step_mse: 0.0109 - val_loss: 0.0217 - val_last_time_step_mse: 0.0109\n",
            "Epoch 10/20\n",
            "219/219 [==============================] - 1s 7ms/step - loss: 0.0216 - last_time_step_mse: 0.0107 - val_loss: 0.0210 - val_last_time_step_mse: 0.0102\n",
            "Epoch 11/20\n",
            "219/219 [==============================] - 1s 6ms/step - loss: 0.0210 - last_time_step_mse: 0.0103 - val_loss: 0.0208 - val_last_time_step_mse: 0.0100\n",
            "Epoch 12/20\n",
            "219/219 [==============================] - 1s 6ms/step - loss: 0.0209 - last_time_step_mse: 0.0102 - val_loss: 0.0208 - val_last_time_step_mse: 0.0102\n",
            "Epoch 13/20\n",
            "219/219 [==============================] - 1s 7ms/step - loss: 0.0206 - last_time_step_mse: 0.0098 - val_loss: 0.0206 - val_last_time_step_mse: 0.0101\n",
            "Epoch 14/20\n",
            "219/219 [==============================] - 2s 8ms/step - loss: 0.0205 - last_time_step_mse: 0.0100 - val_loss: 0.0204 - val_last_time_step_mse: 0.0099\n",
            "Epoch 15/20\n",
            "219/219 [==============================] - 1s 6ms/step - loss: 0.0202 - last_time_step_mse: 0.0099 - val_loss: 0.0199 - val_last_time_step_mse: 0.0093\n",
            "Epoch 16/20\n",
            "219/219 [==============================] - 1s 7ms/step - loss: 0.0202 - last_time_step_mse: 0.0097 - val_loss: 0.0201 - val_last_time_step_mse: 0.0095\n",
            "Epoch 17/20\n",
            "219/219 [==============================] - 1s 7ms/step - loss: 0.0197 - last_time_step_mse: 0.0094 - val_loss: 0.0197 - val_last_time_step_mse: 0.0091\n",
            "Epoch 18/20\n",
            "219/219 [==============================] - 1s 6ms/step - loss: 0.0195 - last_time_step_mse: 0.0090 - val_loss: 0.0192 - val_last_time_step_mse: 0.0086\n",
            "Epoch 19/20\n",
            "219/219 [==============================] - 1s 6ms/step - loss: 0.0190 - last_time_step_mse: 0.0088 - val_loss: 0.0188 - val_last_time_step_mse: 0.0084\n",
            "Epoch 20/20\n",
            "219/219 [==============================] - 1s 6ms/step - loss: 0.0186 - last_time_step_mse: 0.0084 - val_loss: 0.0184 - val_last_time_step_mse: 0.0080\n"
          ],
          "name": "stdout"
        }
      ]
    },
    {
      "cell_type": "markdown",
      "metadata": {
        "id": "FqBzqUeAUJEh"
      },
      "source": [
        "WaveNet\r\n",
        "\r\n",
        "```\r\n",
        "C2  /\\ /\\ /\\ /\\ /\\ /\\ /\\ /\\ /\\ /\\ /\\ /\\ /\\.../\\ /\\ /\\ /\\ /\\ /\\\r\n",
        "   \\  /  \\  /  \\  /  \\  /  \\  /  \\  /  \\       /  \\  /  \\  /  \\\r\n",
        "     /    \\      /    \\      /    \\                 /    \\\r\n",
        "C1  /\\ /\\ /\\ /\\ /\\ /\\ /\\ /\\ /\\ /\\ /\\  /\\ /.../\\ /\\ /\\ /\\ /\\ /\\ /\\\r\n",
        "X: 0  1  2  3  4  5  6  7  8  9  10 11 12 ... 43 44 45 46 47 48 49\r\n",
        "Y: 1  2  3  4  5  6  7  8  9  10 11 12 13 ... 44 45 46 47 48 49 50\r\n",
        "  /10 11 12 13 14 15 16 17 18 19 20 21 22 ... 53 54 55 56 57 58 59\r\n",
        "```"
      ]
    },
    {
      "cell_type": "code",
      "metadata": {
        "colab": {
          "base_uri": "https://localhost:8080/"
        },
        "id": "28EPiijrUP7L",
        "outputId": "f443d0c5-f7d3-4584-dc29-8004c74af071"
      },
      "source": [
        "np.random.seed(42)\r\n",
        "tf.random.set_seed(42)\r\n",
        "\r\n",
        "model=keras.models.Sequential()\r\n",
        "model.add(keras.layers.InputLayer(input_shape=[None,1]))\r\n",
        "for rate in (1,2,4,8)*2:\r\n",
        "  model.add(keras.layers.Conv1D(filters=20,kernel_size=2,padding=\"causal\",\r\n",
        "                                activation=\"relu\",dilation_rate=rate))\r\n",
        "model.add(keras.layers.Conv1D(filters=10,kernel_size=1))\r\n",
        "model.compile(loss=\"mse\",optimizer=\"adam\",metrics=[last_time_step_mse])\r\n",
        "history=model.fit(X_train,Y_train,epochs=20,\r\n",
        "                  validation_data=(X_valid,Y_valid))"
      ],
      "execution_count": null,
      "outputs": [
        {
          "output_type": "stream",
          "text": [
            "Epoch 1/20\n",
            "219/219 [==============================] - 2s 6ms/step - loss: 0.0981 - last_time_step_mse: 0.0890 - val_loss: 0.0365 - val_last_time_step_mse: 0.0230\n",
            "Epoch 2/20\n",
            "219/219 [==============================] - 1s 6ms/step - loss: 0.0339 - last_time_step_mse: 0.0211 - val_loss: 0.0294 - val_last_time_step_mse: 0.0166\n",
            "Epoch 3/20\n",
            "219/219 [==============================] - 1s 6ms/step - loss: 0.0291 - last_time_step_mse: 0.0164 - val_loss: 0.0269 - val_last_time_step_mse: 0.0144\n",
            "Epoch 4/20\n",
            "219/219 [==============================] - 1s 5ms/step - loss: 0.0265 - last_time_step_mse: 0.0142 - val_loss: 0.0255 - val_last_time_step_mse: 0.0131\n",
            "Epoch 5/20\n",
            "219/219 [==============================] - 1s 6ms/step - loss: 0.0251 - last_time_step_mse: 0.0129 - val_loss: 0.0245 - val_last_time_step_mse: 0.0122\n",
            "Epoch 6/20\n",
            "219/219 [==============================] - 1s 5ms/step - loss: 0.0242 - last_time_step_mse: 0.0121 - val_loss: 0.0233 - val_last_time_step_mse: 0.0108\n",
            "Epoch 7/20\n",
            "219/219 [==============================] - 1s 5ms/step - loss: 0.0234 - last_time_step_mse: 0.0112 - val_loss: 0.0229 - val_last_time_step_mse: 0.0107\n",
            "Epoch 8/20\n",
            "219/219 [==============================] - 1s 6ms/step - loss: 0.0227 - last_time_step_mse: 0.0104 - val_loss: 0.0232 - val_last_time_step_mse: 0.0110\n",
            "Epoch 9/20\n",
            "219/219 [==============================] - 1s 6ms/step - loss: 0.0221 - last_time_step_mse: 0.0103 - val_loss: 0.0219 - val_last_time_step_mse: 0.0099\n",
            "Epoch 10/20\n",
            "219/219 [==============================] - 1s 5ms/step - loss: 0.0220 - last_time_step_mse: 0.0099 - val_loss: 0.0212 - val_last_time_step_mse: 0.0090\n",
            "Epoch 11/20\n",
            "219/219 [==============================] - 1s 6ms/step - loss: 0.0213 - last_time_step_mse: 0.0092 - val_loss: 0.0209 - val_last_time_step_mse: 0.0088\n",
            "Epoch 12/20\n",
            "219/219 [==============================] - 1s 5ms/step - loss: 0.0210 - last_time_step_mse: 0.0090 - val_loss: 0.0211 - val_last_time_step_mse: 0.0095\n",
            "Epoch 13/20\n",
            "219/219 [==============================] - 1s 5ms/step - loss: 0.0208 - last_time_step_mse: 0.0087 - val_loss: 0.0202 - val_last_time_step_mse: 0.0082\n",
            "Epoch 14/20\n",
            "219/219 [==============================] - 1s 5ms/step - loss: 0.0205 - last_time_step_mse: 0.0085 - val_loss: 0.0201 - val_last_time_step_mse: 0.0082\n",
            "Epoch 15/20\n",
            "219/219 [==============================] - 1s 5ms/step - loss: 0.0200 - last_time_step_mse: 0.0082 - val_loss: 0.0196 - val_last_time_step_mse: 0.0078\n",
            "Epoch 16/20\n",
            "219/219 [==============================] - 1s 5ms/step - loss: 0.0203 - last_time_step_mse: 0.0083 - val_loss: 0.0196 - val_last_time_step_mse: 0.0080\n",
            "Epoch 17/20\n",
            "219/219 [==============================] - 1s 5ms/step - loss: 0.0195 - last_time_step_mse: 0.0075 - val_loss: 0.0192 - val_last_time_step_mse: 0.0074\n",
            "Epoch 18/20\n",
            "219/219 [==============================] - 1s 6ms/step - loss: 0.0193 - last_time_step_mse: 0.0072 - val_loss: 0.0192 - val_last_time_step_mse: 0.0074\n",
            "Epoch 19/20\n",
            "219/219 [==============================] - 1s 5ms/step - loss: 0.0191 - last_time_step_mse: 0.0073 - val_loss: 0.0187 - val_last_time_step_mse: 0.0069\n",
            "Epoch 20/20\n",
            "219/219 [==============================] - 1s 5ms/step - loss: 0.0188 - last_time_step_mse: 0.0070 - val_loss: 0.0186 - val_last_time_step_mse: 0.0068\n"
          ],
          "name": "stdout"
        }
      ]
    },
    {
      "cell_type": "markdown",
      "metadata": {
        "id": "BahSBBQ3g4_D"
      },
      "source": [
        "Here is the original WaveNet defined in the paper :  \r\n",
        "it uses Gated Activation Units instead of ReLU and parametrized skip connections, plus it pads with zeros on the left to avoid getting shorter and shorter sequences :"
      ]
    },
    {
      "cell_type": "code",
      "metadata": {
        "id": "jMJ1lodHfsf1"
      },
      "source": [
        "class GatedActivationUnit(keras.layers.Layer):\r\n",
        "  def __init__(self,activation=\"tanh\",**kwargs):\r\n",
        "    super().__init__(**kwargs)\r\n",
        "    self.activation=keras.activations.get(activation)\r\n",
        "  def call(self,inputs):\r\n",
        "    n_filters=inputs.shape[-1]//2\r\n",
        "    linear_output=self.activation(inputs[...,:n_filters])\r\n",
        "    gate=keras.activations.sigmoid(inputs[...,n_filters:])\r\n",
        "    return self.activation(linear_output)*gate"
      ],
      "execution_count": null,
      "outputs": []
    },
    {
      "cell_type": "code",
      "metadata": {
        "id": "uEe7EW820dFV"
      },
      "source": [
        "def wavenet_residual_block(inputs,n_filters,dilation_rate):\r\n",
        "  z=keras.layers.Conv1D(2*n_filters,kernel_size=2,padding=\"causal\",\r\n",
        "                        dilation_rate=dilation_rate)(inputs)\r\n",
        "  z=GatedActivationUnit()(z)\r\n",
        "  z=keras.layers.Conv1D(n_filters,kernel_size=1)(z)\r\n",
        "  return keras.layers.Add()([z,inputs]),z"
      ],
      "execution_count": null,
      "outputs": []
    },
    {
      "cell_type": "code",
      "metadata": {
        "id": "Y-Aioo1n06WM"
      },
      "source": [
        "keras.backend.clear_session()\r\n",
        "np.random.seed(42)\r\n",
        "tf.random.set_seed(42)\r\n",
        "\r\n",
        "n_layers_per_block=3  #10 in the paper\r\n",
        "n_blocks=1  #3 in the paper\r\n",
        "n_filters=32  #128 in the paper\r\n",
        "n_outputs=10  #256 in the paper\r\n",
        "\r\n",
        "inputs=keras.layers.Input(shape=[None,1])\r\n",
        "z=keras.layers.Conv1D(n_filters,kernel_size=2,padding=\"causal\")(inputs)\r\n",
        "skip_to_last=[]\r\n",
        "for dilation_rate in [2**i for i in range(n_layers_per_block)]*n_blocks:\r\n",
        "  z,skip=wavenet_residual_block(z,n_filters,dilation_rate)\r\n",
        "  skip_to_last.append(skip)\r\n",
        "z=keras.activations.relu(keras.layers.Add()(skip_to_last))\r\n",
        "z=keras.layers.Conv1D(n_filters,kernel_size=1,activation=\"relu\")(z)\r\n",
        "Y_proba=keras.layers.Conv1D(n_outputs,kernel_size=1,activation=\"softmax\")(z)\r\n",
        "\r\n",
        "model=keras.models.Model(inputs=[inputs],outputs=[Y_proba])"
      ],
      "execution_count": null,
      "outputs": []
    },
    {
      "cell_type": "code",
      "metadata": {
        "colab": {
          "base_uri": "https://localhost:8080/"
        },
        "id": "hXdWeVTS2CGy",
        "outputId": "364444ae-66a1-4549-e2a2-015a161c6079"
      },
      "source": [
        "model.compile(loss=\"mse\",optimizer=\"adam\",metrics=[last_time_step_mse])\r\n",
        "history=model.fit(X_train,Y_train,epochs=2,\r\n",
        "                  validation_data=(X_valid,Y_valid))"
      ],
      "execution_count": null,
      "outputs": [
        {
          "output_type": "stream",
          "text": [
            "Epoch 1/2\n",
            "219/219 [==============================] - 3s 8ms/step - loss: 0.1387 - last_time_step_mse: 0.1347 - val_loss: 0.1229 - val_last_time_step_mse: 0.1199\n",
            "Epoch 2/2\n",
            "219/219 [==============================] - 1s 6ms/step - loss: 0.1222 - last_time_step_mse: 0.1161 - val_loss: 0.1217 - val_last_time_step_mse: 0.1189\n"
          ],
          "name": "stdout"
        }
      ]
    }
  ]
}