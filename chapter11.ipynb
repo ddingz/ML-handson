{
  "nbformat": 4,
  "nbformat_minor": 0,
  "metadata": {
    "colab": {
      "name": "chapter11.ipynb",
      "provenance": [],
      "collapsed_sections": [
        "tHLa2aSncwE9",
        "5tQhZHRDgwCq",
        "WkWdfYMyiGNd",
        "5O6aBDskzNQp",
        "rFoTtQ6arizH",
        "TfgJP-sXr_gV",
        "mcRVIRcu-KY3",
        "vWfZF6SqW9Rc",
        "5dj5rtDgXF8Y",
        "Mf81RmvZZRQ3",
        "4ZHxwooydJoM",
        "ncjv7azJeGVS",
        "aaMO8ox9hdR8",
        "2C21aY5OUPex",
        "8itAfl7x1snh",
        "kKYrED6J7bGu",
        "V498yuZjBbCw",
        "I2XsSfN2KOM5"
      ],
      "authorship_tag": "ABX9TyPVHQWxaOI9E8eAeImZy8av"
    },
    "kernelspec": {
      "name": "python3",
      "display_name": "Python 3"
    }
  },
  "cells": [
    {
      "cell_type": "markdown",
      "metadata": {
        "id": "Kt4Lfzh1Ou_D"
      },
      "source": [
        "# 대규모 신경망"
      ]
    },
    {
      "cell_type": "code",
      "metadata": {
        "id": "AEZiwWbgY9T2"
      },
      "source": [
        "#텐서플로≥2.0 필수\n",
        "import tensorflow as tf\n",
        "from tensorflow import keras\n",
        "assert tf.__version__>=\"2.0\"\n",
        "\n",
        "%load_ext tensorboard\n",
        "\n",
        "#공통 모듈 임포트\n",
        "import numpy as np\n",
        "import os\n",
        "\n",
        "#노트북 실행 결과를 동일하게 유지하기 위해\n",
        "np.random.seed(42)\n",
        "\n",
        "#깔끔한 그래프 출력을 위해\n",
        "%matplotlib inline\n",
        "import matplotlib as mpl\n",
        "import matplotlib.pyplot as plt\n",
        "mpl.rc('axes',labelsize=14)\n",
        "mpl.rc('xtick',labelsize=12)\n",
        "mpl.rc('ytick',labelsize=12)"
      ],
      "execution_count": null,
      "outputs": []
    },
    {
      "cell_type": "markdown",
      "metadata": {
        "id": "tHLa2aSncwE9"
      },
      "source": [
        "## 그레이디언트 소실과 폭주 문제"
      ]
    },
    {
      "cell_type": "code",
      "metadata": {
        "id": "blg7lRBjZUEm"
      },
      "source": [
        "def logit(z):\n",
        "  return 1/(1+np.exp(-z))"
      ],
      "execution_count": null,
      "outputs": []
    },
    {
      "cell_type": "code",
      "metadata": {
        "id": "UUPME_lzfdcW",
        "colab": {
          "base_uri": "https://localhost:8080/"
        },
        "outputId": "2886121d-7534-4b0b-c413-9c2c03322aea"
      },
      "source": [
        "z=np.linspace(-5,5,200)\n",
        "\n",
        "plt.plot([-5,5],[0,0],'k-')\n",
        "plt.plot([-5,5],[1,1],'k--')\n",
        "plt.plot([0,0],[-0.2,1.2],'k-')\n",
        "plt.plot([-5,5],[-3/4,7/4],'g--')\n",
        "plt.plot(z,logit(z),\"b-\",linewidth=2)\n",
        "props=dict(facecolor='black',shrink=0.1)\n",
        "plt.annotate('Saturating',xytext=(3.5,0.7),xy=(5,1),arrowprops=props,fontsize=14,ha=\"center\")\n",
        "plt.annotate('Saturating',xytext=(-3.5,0.3),xy=(-5,0),arrowprops=props,fontsize=14,ha=\"center\")\n",
        "plt.annotate('Linear',xytext=(2,0.2),xy=(0,0.5),arrowprops=props,fontsize=14,ha=\"center\")\n",
        "plt.grid(True)\n",
        "plt.title(\"Sigmoid activation function\",fontsize=14)\n",
        "plt.axis([-5,5,-0.2,1.2])\n",
        "\n",
        "plt.show()"
      ],
      "execution_count": null,
      "outputs": [
        {
          "output_type": "display_data",
          "data": {
            "image/png": "[encoded data removed]",
            "text/plain": [
              "<Figure size 432x288 with 1 Axes>"
            ]
          },
          "metadata": {
            "tags": [],
            "needs_background": "light"
          }
        }
      ]
    },
    {
      "cell_type": "markdown",
      "metadata": {
        "id": "5tQhZHRDgwCq"
      },
      "source": [
        "### 글로럿과 He 초기화"
      ]
    },
    {
      "cell_type": "code",
      "metadata": {
        "id": "fZMgMtB6gnnU",
        "colab": {
          "base_uri": "https://localhost:8080/"
        },
        "outputId": "03ca8250-063f-44fc-f3f9-dc065a6e556f"
      },
      "source": [
        "[name for name in dir(keras.initializers)if not name.startswith(\"_\")]"
      ],
      "execution_count": null,
      "outputs": [
        {
          "output_type": "execute_result",
          "data": {
            "text/plain": [
              "['Constant',\n",
              " 'GlorotNormal',\n",
              " 'GlorotUniform',\n",
              " 'HeNormal',\n",
              " 'HeUniform',\n",
              " 'Identity',\n",
              " 'Initializer',\n",
              " 'LecunNormal',\n",
              " 'LecunUniform',\n",
              " 'Ones',\n",
              " 'Orthogonal',\n",
              " 'RandomNormal',\n",
              " 'RandomUniform',\n",
              " 'TruncatedNormal',\n",
              " 'VarianceScaling',\n",
              " 'Zeros',\n",
              " 'constant',\n",
              " 'deserialize',\n",
              " 'get',\n",
              " 'glorot_normal',\n",
              " 'glorot_uniform',\n",
              " 'he_normal',\n",
              " 'he_uniform',\n",
              " 'identity',\n",
              " 'lecun_normal',\n",
              " 'lecun_uniform',\n",
              " 'ones',\n",
              " 'orthogonal',\n",
              " 'random_normal',\n",
              " 'random_uniform',\n",
              " 'serialize',\n",
              " 'truncated_normal',\n",
              " 'variance_scaling',\n",
              " 'zeros']"
            ]
          },
          "metadata": {
            "tags": []
          },
          "execution_count": 4
        }
      ]
    },
    {
      "cell_type": "code",
      "metadata": {
        "id": "w6ClipAIhA78",
        "colab": {
          "base_uri": "https://localhost:8080/"
        },
        "outputId": "bd84e2ac-30fb-40ee-c53d-8287f755f7d1"
      },
      "source": [
        "keras.layers.Dense(10,activation=\"relu\",kernel_initializer=\"he_normal\")"
      ],
      "execution_count": null,
      "outputs": [
        {
          "output_type": "execute_result",
          "data": {
            "text/plain": [
              "<tensorflow.python.keras.layers.core.Dense at 0x7fcf8f622278>"
            ]
          },
          "metadata": {
            "tags": []
          },
          "execution_count": 5
        }
      ]
    },
    {
      "cell_type": "code",
      "metadata": {
        "id": "x_xG6GRVhUjq",
        "colab": {
          "base_uri": "https://localhost:8080/"
        },
        "outputId": "84961a1d-a3dd-42f5-8b2b-776c32fc4100"
      },
      "source": [
        "init=keras.initializers.VarianceScaling(scale=2.,mode='fan_avg',\n",
        "                                        distribution='uniform')\n",
        "keras.layers.Dense(10,activation=\"relu\",kernel_initializer=init)"
      ],
      "execution_count": null,
      "outputs": [
        {
          "output_type": "execute_result",
          "data": {
            "text/plain": [
              "<tensorflow.python.keras.layers.core.Dense at 0x7fcf8f6233c8>"
            ]
          },
          "metadata": {
            "tags": []
          },
          "execution_count": 6
        }
      ]
    },
    {
      "cell_type": "markdown",
      "metadata": {
        "id": "WkWdfYMyiGNd"
      },
      "source": [
        "### 수렴하지 않는 활성화 함수"
      ]
    },
    {
      "cell_type": "markdown",
      "metadata": {
        "id": "lQR1_Ccii_gm"
      },
      "source": [
        "LeakyReLU"
      ]
    },
    {
      "cell_type": "code",
      "metadata": {
        "id": "63ZqafBshkyw"
      },
      "source": [
        "def leaky_relu(z,alpha=0.01):\n",
        "  return np.maximum(alpha*z,z)"
      ],
      "execution_count": null,
      "outputs": []
    },
    {
      "cell_type": "code",
      "metadata": {
        "id": "ncjQJb2mkzrL",
        "colab": {
          "base_uri": "https://localhost:8080/"
        },
        "outputId": "c4860637-93d7-4307-cc38-8e9c8a3c8768"
      },
      "source": [
        "plt.plot(z,leaky_relu(z,0.05),\"b-\",linewidth=2)\n",
        "plt.plot([-5,5],[0,0],'k-')\n",
        "plt.plot([0,0],[-0.5,4.2],'k-')\n",
        "plt.grid(True)\n",
        "props=dict(facecolor='black',shrink=0.1)\n",
        "plt.annotate('Leak',xytext=(-3.5,0.5),xy=(-5,-0.2),arrowprops=props,fontsize=14,ha=\"center\")\n",
        "plt.title(\"Leaky ReLU activation function\",fontsize=14)\n",
        "plt.axis([-5,5,-0.5,4.2])\n",
        "\n",
        "plt.show()"
      ],
      "execution_count": null,
      "outputs": [
        {
          "output_type": "display_data",
          "data": {
            "image/png": "[encoded data removed]",
            "text/plain": [
              "<Figure size 432x288 with 1 Axes>"
            ]
          },
          "metadata": {
            "tags": [],
            "needs_background": "light"
          }
        }
      ]
    },
    {
      "cell_type": "code",
      "metadata": {
        "id": "SZqWGnGilhgv",
        "colab": {
          "base_uri": "https://localhost:8080/"
        },
        "outputId": "ce7d2b45-3700-4d90-f76a-7475a12009b4"
      },
      "source": [
        "[m for m in dir(keras.activations)if not m.startswith(\"_\")]"
      ],
      "execution_count": null,
      "outputs": [
        {
          "output_type": "execute_result",
          "data": {
            "text/plain": [
              "['deserialize',\n",
              " 'elu',\n",
              " 'exponential',\n",
              " 'get',\n",
              " 'hard_sigmoid',\n",
              " 'linear',\n",
              " 'relu',\n",
              " 'selu',\n",
              " 'serialize',\n",
              " 'sigmoid',\n",
              " 'softmax',\n",
              " 'softplus',\n",
              " 'softsign',\n",
              " 'swish',\n",
              " 'tanh']"
            ]
          },
          "metadata": {
            "tags": []
          },
          "execution_count": 9
        }
      ]
    },
    {
      "cell_type": "code",
      "metadata": {
        "id": "E3gwIfuTl7pr",
        "colab": {
          "base_uri": "https://localhost:8080/"
        },
        "outputId": "ad6304c2-d501-4ce6-9240-41c4a971d317"
      },
      "source": [
        "[m for m in dir(keras.layers)if \"relu\" in m.lower()]"
      ],
      "execution_count": null,
      "outputs": [
        {
          "output_type": "execute_result",
          "data": {
            "text/plain": [
              "['LeakyReLU', 'PReLU', 'ReLU', 'ThresholdedReLU']"
            ]
          },
          "metadata": {
            "tags": []
          },
          "execution_count": 10
        }
      ]
    },
    {
      "cell_type": "markdown",
      "metadata": {
        "id": "--3RxxtJmH1T"
      },
      "source": [
        "LeakyReLU를 사용해 패션 MNIST에서 신경망을 훈련 :"
      ]
    },
    {
      "cell_type": "code",
      "metadata": {
        "id": "OO8uI7FxmGBa",
        "colab": {
          "base_uri": "https://localhost:8080/"
        },
        "outputId": "861ce37d-09f2-41e2-cd30-7856a5b1d74a"
      },
      "source": [
        "(X_train_full,y_train_full),(X_test,y_test)=keras.datasets.fashion_mnist.load_data()\n",
        "X_train_full=X_train_full/255.0\n",
        "X_test=X_test/255.0\n",
        "X_valid,X_train=X_train_full[:5000],X_train_full[5000:]\n",
        "y_valid,y_train=y_train_full[:5000],y_train_full[5000:]"
      ],
      "execution_count": null,
      "outputs": [
        {
          "output_type": "stream",
          "text": [
            "Downloading data from https://storage.googleapis.com/tensorflow/tf-keras-datasets/train-labels-idx1-ubyte.gz\n",
            "32768/29515 [=================================] - 0s 0us/step\n",
            "Downloading data from https://storage.googleapis.com/tensorflow/tf-keras-datasets/train-images-idx3-ubyte.gz\n",
            "26427392/26421880 [==============================] - 0s 0us/step\n",
            "Downloading data from https://storage.googleapis.com/tensorflow/tf-keras-datasets/t10k-labels-idx1-ubyte.gz\n",
            "8192/5148 [===============================================] - 0s 0us/step\n",
            "Downloading data from https://storage.googleapis.com/tensorflow/tf-keras-datasets/t10k-images-idx3-ubyte.gz\n",
            "4423680/4422102 [==============================] - 0s 0us/step\n"
          ],
          "name": "stdout"
        }
      ]
    },
    {
      "cell_type": "code",
      "metadata": {
        "id": "KuKzX0lnmjwV"
      },
      "source": [
        "tf.random.set_seed(42)\n",
        "np.random.seed(42)\n",
        "\n",
        "model=keras.models.Sequential([\n",
        "                               keras.layers.Flatten(input_shape=[28,28]),\n",
        "                               keras.layers.Dense(300,kernel_initializer=\"he_normal\"),\n",
        "                               keras.layers.LeakyReLU(),\n",
        "                               keras.layers.Dense(100,kernel_initializer=\"he_normal\"),\n",
        "                               keras.layers.LeakyReLU(),\n",
        "                               keras.layers.Dense(10,activation=\"softmax\")\n",
        "])"
      ],
      "execution_count": null,
      "outputs": []
    },
    {
      "cell_type": "code",
      "metadata": {
        "id": "FcL0iDz2nPyG"
      },
      "source": [
        "model.compile(loss=\"sparse_categorical_crossentropy\",\n",
        "              optimizer=keras.optimizers.SGD(lr=1e-3),\n",
        "              metrics=[\"accuracy\"])"
      ],
      "execution_count": null,
      "outputs": []
    },
    {
      "cell_type": "code",
      "metadata": {
        "id": "0D_FeL7ina7C",
        "colab": {
          "base_uri": "https://localhost:8080/"
        },
        "outputId": "7895ba23-ff08-4976-bca9-c7d023cd063d"
      },
      "source": [
        "history=model.fit(X_train,y_train,epochs=10,\n",
        "                  validation_data=(X_valid,y_valid))"
      ],
      "execution_count": null,
      "outputs": [
        {
          "output_type": "stream",
          "text": [
            "Epoch 1/10\n",
            "1719/1719 [==============================] - 5s 3ms/step - loss: 1.2819 - accuracy: 0.6229 - val_loss: 0.8886 - val_accuracy: 0.7160\n",
            "Epoch 2/10\n",
            "1719/1719 [==============================] - 5s 3ms/step - loss: 0.7955 - accuracy: 0.7362 - val_loss: 0.7130 - val_accuracy: 0.7656\n",
            "Epoch 3/10\n",
            "1719/1719 [==============================] - 5s 3ms/step - loss: 0.6816 - accuracy: 0.7721 - val_loss: 0.6427 - val_accuracy: 0.7898\n",
            "Epoch 4/10\n",
            "1719/1719 [==============================] - 5s 3ms/step - loss: 0.6217 - accuracy: 0.7944 - val_loss: 0.5900 - val_accuracy: 0.8066\n",
            "Epoch 5/10\n",
            "1719/1719 [==============================] - 5s 3ms/step - loss: 0.5832 - accuracy: 0.8075 - val_loss: 0.5582 - val_accuracy: 0.8200\n",
            "Epoch 6/10\n",
            "1719/1719 [==============================] - 5s 3ms/step - loss: 0.5553 - accuracy: 0.8157 - val_loss: 0.5350 - val_accuracy: 0.8236\n",
            "Epoch 7/10\n",
            "1719/1719 [==============================] - 5s 3ms/step - loss: 0.5338 - accuracy: 0.8224 - val_loss: 0.5157 - val_accuracy: 0.8304\n",
            "Epoch 8/10\n",
            "1719/1719 [==============================] - 5s 3ms/step - loss: 0.5172 - accuracy: 0.8273 - val_loss: 0.5079 - val_accuracy: 0.8286\n",
            "Epoch 9/10\n",
            "1719/1719 [==============================] - 5s 3ms/step - loss: 0.5040 - accuracy: 0.8288 - val_loss: 0.4895 - val_accuracy: 0.8390\n",
            "Epoch 10/10\n",
            "1719/1719 [==============================] - 5s 3ms/step - loss: 0.4924 - accuracy: 0.8321 - val_loss: 0.4816 - val_accuracy: 0.8394\n"
          ],
          "name": "stdout"
        }
      ]
    },
    {
      "cell_type": "markdown",
      "metadata": {
        "id": "FCrU2kTtnj_p"
      },
      "source": [
        "PReLU를 테스트 :"
      ]
    },
    {
      "cell_type": "code",
      "metadata": {
        "id": "zjJhI3dNnh9y"
      },
      "source": [
        "tf.random.set_seed(42)\n",
        "np.random.seed(42)\n",
        "\n",
        "model=keras.models.Sequential([\n",
        "                               keras.layers.Flatten(input_shape=[28,28]),\n",
        "                               keras.layers.Dense(300,kernel_initializer=\"he_normal\"),\n",
        "                               keras.layers.PReLU(),\n",
        "                               keras.layers.Dense(100,kernel_initializer=\"he_normal\"),\n",
        "                               keras.layers.PReLU(),\n",
        "                               keras.layers.Dense(10,activation=\"softmax\")\n",
        "])"
      ],
      "execution_count": null,
      "outputs": []
    },
    {
      "cell_type": "code",
      "metadata": {
        "id": "XUz4PqwHoRPl"
      },
      "source": [
        "model.compile(loss=\"sparse_categorical_crossentropy\",\n",
        "              optimizer=keras.optimizers.SGD(lr=1e-3),\n",
        "              metrics=[\"accuracy\"])"
      ],
      "execution_count": null,
      "outputs": []
    },
    {
      "cell_type": "code",
      "metadata": {
        "id": "xZlVHD7fof5O",
        "colab": {
          "base_uri": "https://localhost:8080/"
        },
        "outputId": "6a9781f7-a01f-42a5-987b-88d70833a518"
      },
      "source": [
        "history=model.fit(X_train,y_train,epochs=10,\n",
        "                  validation_data=(X_valid,y_valid))"
      ],
      "execution_count": null,
      "outputs": [
        {
          "output_type": "stream",
          "text": [
            "Epoch 1/10\n",
            "1719/1719 [==============================] - 6s 3ms/step - loss: 1.3461 - accuracy: 0.6209 - val_loss: 0.9255 - val_accuracy: 0.7186\n",
            "Epoch 2/10\n",
            "1719/1719 [==============================] - 5s 3ms/step - loss: 0.8197 - accuracy: 0.7355 - val_loss: 0.7305 - val_accuracy: 0.7630\n",
            "Epoch 3/10\n",
            "1719/1719 [==============================] - 5s 3ms/step - loss: 0.6966 - accuracy: 0.7693 - val_loss: 0.6565 - val_accuracy: 0.7878\n",
            "Epoch 4/10\n",
            "1719/1719 [==============================] - 6s 3ms/step - loss: 0.6331 - accuracy: 0.7909 - val_loss: 0.6003 - val_accuracy: 0.8046\n",
            "Epoch 5/10\n",
            "1719/1719 [==============================] - 6s 3ms/step - loss: 0.5917 - accuracy: 0.8057 - val_loss: 0.5656 - val_accuracy: 0.8182\n",
            "Epoch 6/10\n",
            "1719/1719 [==============================] - 7s 4ms/step - loss: 0.5618 - accuracy: 0.8136 - val_loss: 0.5406 - val_accuracy: 0.8238\n",
            "Epoch 7/10\n",
            "1719/1719 [==============================] - 6s 3ms/step - loss: 0.5391 - accuracy: 0.8206 - val_loss: 0.5196 - val_accuracy: 0.8314\n",
            "Epoch 8/10\n",
            "1719/1719 [==============================] - 5s 3ms/step - loss: 0.5213 - accuracy: 0.8257 - val_loss: 0.5114 - val_accuracy: 0.8316\n",
            "Epoch 9/10\n",
            "1719/1719 [==============================] - 6s 3ms/step - loss: 0.5071 - accuracy: 0.8288 - val_loss: 0.4916 - val_accuracy: 0.8376\n",
            "Epoch 10/10\n",
            "1719/1719 [==============================] - 7s 4ms/step - loss: 0.4945 - accuracy: 0.8316 - val_loss: 0.4827 - val_accuracy: 0.8398\n"
          ],
          "name": "stdout"
        }
      ]
    },
    {
      "cell_type": "markdown",
      "metadata": {
        "id": "qbV6Iau9oovY"
      },
      "source": [
        "ELU"
      ]
    },
    {
      "cell_type": "code",
      "metadata": {
        "id": "ATeA5GxuonV2"
      },
      "source": [
        "def elu(z,alpha=1):\n",
        "  return np.where(z<0,alpha*(np.exp(z)-1),z)"
      ],
      "execution_count": null,
      "outputs": []
    },
    {
      "cell_type": "code",
      "metadata": {
        "id": "JQV-h7M9owxV",
        "colab": {
          "base_uri": "https://localhost:8080/"
        },
        "outputId": "ad6ba33b-4429-498f-bff9-fed7f3a391b0"
      },
      "source": [
        "plt.plot(z,elu(z),\"b-\",linewidth=2)\n",
        "plt.plot([-5,5],[0,0],'k-')\n",
        "plt.plot([-5,5],[-1,-1],'k--')\n",
        "plt.plot([0,0],[-2.2,3.2],'k-')\n",
        "plt.grid(True)\n",
        "plt.title(r\"ELU activation function ($\\alpha=1$)\",fontsize=14)\n",
        "plt.axis([-5,5,-2.2,3.2])\n",
        "\n",
        "plt.show()"
      ],
      "execution_count": null,
      "outputs": [
        {
          "output_type": "display_data",
          "data": {
            "image/png": "[encoded data removed]",
            "text/plain": [
              "<Figure size 432x288 with 1 Axes>"
            ]
          },
          "metadata": {
            "tags": [],
            "needs_background": "light"
          }
        }
      ]
    },
    {
      "cell_type": "code",
      "metadata": {
        "id": "1YoEoZhxpWsV",
        "colab": {
          "base_uri": "https://localhost:8080/"
        },
        "outputId": "8d8e38d0-4843-444b-eece-d3b6f1e8d1db"
      },
      "source": [
        "keras.layers.Dense(10,activation=\"elu\")"
      ],
      "execution_count": null,
      "outputs": [
        {
          "output_type": "execute_result",
          "data": {
            "text/plain": [
              "<tensorflow.python.keras.layers.core.Dense at 0x7fcf545d2d68>"
            ]
          },
          "metadata": {
            "tags": []
          },
          "execution_count": 20
        }
      ]
    },
    {
      "cell_type": "markdown",
      "metadata": {
        "id": "UawsIa_Nplux"
      },
      "source": [
        "**SELU**  \n",
        "훈련하는 동안 완전 연결 층만 쌓아서 신경망을 만들고 SELU 활성화 함수와 LeCun 초기화를 사용한다면 자기 정규화가 된다.  \n",
        "각 층의 출력이 평균과 표준편차를 보존하는 경향이 있다.  \n",
        "이는 그레이디언트 소실과 폭주 문제를 막아준다.  \n",
        "ℓ1나 ℓ2 정규화, 드롭아웃, 맥스 노름, 스킵 연결이나 시퀀셜하지 않은 다른 토폴로지를 사용할 수 없다. (i.e. 순환 신경망)  \n",
        "하지만 실전에서 시퀀셜 CNN과 잘 작동  \n",
        "자기 정규화가 깨지면 SELU가 다른 활성화 함수보다 더 나은 성능을 내지 못한다."
      ]
    },
    {
      "cell_type": "code",
      "metadata": {
        "id": "GJIAZO2OpkGF"
      },
      "source": [
        "from scipy.special import erfc\n",
        "\n",
        "#alpha와 scale은 평균 0과 표준 편차 1로 자기 정규화\n",
        "alpha_0_1=-np.sqrt(2/np.pi)/(erfc(1/np.sqrt(2))*np.exp(1/2)-1)\n",
        "scale_0_1=(1-erfc(1/np.sqrt(2))*np.sqrt(np.e))*np.sqrt(2*np.pi)*(2*erfc(np.sqrt(2))*np.e**2+np.pi*erfc(1/np.sqrt(2))**2*np.e-2*(2+np.pi)*erfc(1/np.sqrt(2))*np.sqrt(np.e)+np.pi+2)**(-1/2)"
      ],
      "execution_count": null,
      "outputs": []
    },
    {
      "cell_type": "code",
      "metadata": {
        "id": "70D60bxarWOW"
      },
      "source": [
        "def selu(z,scale=scale_0_1,alpha=alpha_0_1):\n",
        "  return scale*elu(z,alpha)"
      ],
      "execution_count": null,
      "outputs": []
    },
    {
      "cell_type": "code",
      "metadata": {
        "id": "TnsctPHzt8Pa",
        "colab": {
          "base_uri": "https://localhost:8080/"
        },
        "outputId": "cef282c6-11b7-4fe8-f2a1-f10a6b412e88"
      },
      "source": [
        "plt.plot(z,selu(z),\"b-\",linewidth=2)\n",
        "plt.plot([-5,5],[0,0],'k-')\n",
        "plt.plot([-5,5],[-1.758,-1.758],'k--')\n",
        "plt.plot([0,0],[-2.2,3.2],'k-')\n",
        "plt.grid(True)\n",
        "plt.title(\"SELU activation function\",fontsize=14)\n",
        "plt.axis([-5,5,-2.2,3.2])\n",
        "\n",
        "plt.show()"
      ],
      "execution_count": null,
      "outputs": [
        {
          "output_type": "display_data",
          "data": {
            "image/png": "[encoded data removed]",
            "text/plain": [
              "<Figure size 432x288 with 1 Axes>"
            ]
          },
          "metadata": {
            "tags": [],
            "needs_background": "light"
          }
        }
      ]
    },
    {
      "cell_type": "markdown",
      "metadata": {
        "id": "G9AB9vKXuhkp"
      },
      "source": [
        "기본적으로 SELU 하이퍼파라미터(scale과 alpha)는 각 뉴런의 평균 출력이 0에 가깝고 표준 편차는 1에 가깝도록 조정 (입력은 평균이 0이고 표준 편차 1로 표준화되었다고 가정)  \n",
        "이 활성화 함수를 사용하면 1,000개의 층이 있는 심층 신경망도 모든 층에 걸쳐 거의 평균이 0이고 표준 편차를 1로 유지  \n",
        "이를 통해 그레이디언트 폭주와 소실 문제를 피할 수 있다 :"
      ]
    },
    {
      "cell_type": "code",
      "metadata": {
        "id": "SyU5Cz0tuWWt",
        "colab": {
          "base_uri": "https://localhost:8080/"
        },
        "outputId": "4cd5ad35-3b15-4d3d-fc39-02365665b6cf"
      },
      "source": [
        "np.random.seed(42)\n",
        "Z=np.random.normal(size=(500,100))  #표준화된 입력\n",
        "for layer in range(1000):\n",
        "  W=np.random.normal(size=(100,100),scale=np.sqrt(1/100)) #LeCun 초기화\n",
        "  Z=selu(np.dot(Z,W))\n",
        "  means=np.mean(Z,axis=0).mean()\n",
        "  stds=np.std(Z,axis=0).mean()\n",
        "  if layer%100==0:\n",
        "    print(\"Layer {}: mean {:.2f}, std deviation {:.2f}\".format(layer,means,stds))"
      ],
      "execution_count": null,
      "outputs": [
        {
          "output_type": "stream",
          "text": [
            "Layer 0: mean -0.00, std deviation 1.00\n",
            "Layer 100: mean 0.02, std deviation 0.96\n",
            "Layer 200: mean 0.01, std deviation 0.90\n",
            "Layer 300: mean -0.02, std deviation 0.92\n",
            "Layer 400: mean 0.05, std deviation 0.89\n",
            "Layer 500: mean 0.01, std deviation 0.93\n",
            "Layer 600: mean 0.02, std deviation 0.92\n",
            "Layer 700: mean -0.02, std deviation 0.90\n",
            "Layer 800: mean 0.05, std deviation 0.83\n",
            "Layer 900: mean 0.02, std deviation 1.00\n"
          ],
          "name": "stdout"
        }
      ]
    },
    {
      "cell_type": "code",
      "metadata": {
        "id": "UGBGXQtwvq8l",
        "colab": {
          "base_uri": "https://localhost:8080/"
        },
        "outputId": "c649c32a-adbc-41bc-f9e4-cacef4aa1e79"
      },
      "source": [
        "keras.layers.Dense(10,activation=\"selu\",\n",
        "                   kernel_initializer=\"lecun_normal\")"
      ],
      "execution_count": null,
      "outputs": [
        {
          "output_type": "execute_result",
          "data": {
            "text/plain": [
              "<tensorflow.python.keras.layers.core.Dense at 0x7fcf50ae5b00>"
            ]
          },
          "metadata": {
            "tags": []
          },
          "execution_count": 25
        }
      ]
    },
    {
      "cell_type": "markdown",
      "metadata": {
        "id": "aMwxQvy0wACW"
      },
      "source": [
        "100개의 은닉층과 SELU 활성화 함수를 사용한 패션 MNIST를 위한 신경망 :"
      ]
    },
    {
      "cell_type": "code",
      "metadata": {
        "id": "Fxv0_cBKv7_K"
      },
      "source": [
        "np.random.seed(42)\n",
        "tf.random.set_seed(42)"
      ],
      "execution_count": null,
      "outputs": []
    },
    {
      "cell_type": "code",
      "metadata": {
        "id": "rYrzG4zdwRSm"
      },
      "source": [
        "model=keras.models.Sequential()\n",
        "model.add(keras.layers.Flatten(input_shape=[28,28]))\n",
        "model.add(keras.layers.Dense(300,activation=\"selu\",\n",
        "                             kernel_initializer=\"lecun_normal\"))\n",
        "for layer in range(99):\n",
        "  model.add(keras.layers.Dense(100,activation=\"selu\",\n",
        "                               kernel_initializer=\"lecun_normal\"))\n",
        "model.add(keras.layers.Dense(10,activation=\"softmax\"))"
      ],
      "execution_count": null,
      "outputs": []
    },
    {
      "cell_type": "code",
      "metadata": {
        "id": "bSHJBMhlwzg7"
      },
      "source": [
        "model.compile(loss=\"sparse_categorical_crossentropy\",\n",
        "              optimizer=keras.optimizers.SGD(lr=1e-3),\n",
        "              metrics=[\"accuracy\"])"
      ],
      "execution_count": null,
      "outputs": []
    },
    {
      "cell_type": "markdown",
      "metadata": {
        "id": "0ciAusdBxHDO"
      },
      "source": [
        "입력을 평균 0과 표준 편차 1로 :"
      ]
    },
    {
      "cell_type": "code",
      "metadata": {
        "id": "FEu-wa-Jw-uw"
      },
      "source": [
        "pixel_means=X_train.mean(axis=0,keepdims=True)\n",
        "pixel_stds=X_train.std(axis=0,keepdims=True)\n",
        "X_train_scaled=(X_train-pixel_means)/pixel_stds\n",
        "X_valid_scaled=(X_valid-pixel_means)/pixel_stds\n",
        "X_test_scaled=(X_test-pixel_means)/pixel_stds"
      ],
      "execution_count": null,
      "outputs": []
    },
    {
      "cell_type": "code",
      "metadata": {
        "id": "ChH7T9WJxqpP",
        "colab": {
          "base_uri": "https://localhost:8080/"
        },
        "outputId": "1279f682-3ab4-4cc6-906f-9a6a4eed21b2"
      },
      "source": [
        "history=model.fit(X_train_scaled,y_train,epochs=5,\n",
        "                  validation_data=(X_valid_scaled,y_valid))"
      ],
      "execution_count": null,
      "outputs": [
        {
          "output_type": "stream",
          "text": [
            "Epoch 1/5\n",
            "1719/1719 [==============================] - 28s 16ms/step - loss: 1.1443 - accuracy: 0.5659 - val_loss: 0.7506 - val_accuracy: 0.7396\n",
            "Epoch 2/5\n",
            "1719/1719 [==============================] - 27s 16ms/step - loss: 0.7053 - accuracy: 0.7490 - val_loss: 0.6196 - val_accuracy: 0.7786\n",
            "Epoch 3/5\n",
            "1719/1719 [==============================] - 27s 16ms/step - loss: 0.6105 - accuracy: 0.7781 - val_loss: 0.5958 - val_accuracy: 0.7906\n",
            "Epoch 4/5\n",
            "1719/1719 [==============================] - 27s 16ms/step - loss: 0.5915 - accuracy: 0.7897 - val_loss: 0.6093 - val_accuracy: 0.7866\n",
            "Epoch 5/5\n",
            "1719/1719 [==============================] - 27s 16ms/step - loss: 0.5307 - accuracy: 0.8133 - val_loss: 0.4888 - val_accuracy: 0.8248\n"
          ],
          "name": "stdout"
        }
      ]
    },
    {
      "cell_type": "markdown",
      "metadata": {
        "id": "yPgfSO8zyAWC"
      },
      "source": [
        "대신 ReLU 활성화 함수를 사용한다면 :"
      ]
    },
    {
      "cell_type": "code",
      "metadata": {
        "id": "BSSGo0ZHxynj"
      },
      "source": [
        "np.random.seed(42)\n",
        "tf.random.set_seed(42)"
      ],
      "execution_count": null,
      "outputs": []
    },
    {
      "cell_type": "code",
      "metadata": {
        "id": "vli3Nj2iyDnF"
      },
      "source": [
        "model=keras.models.Sequential()\n",
        "model.add(keras.layers.Flatten(input_shape=[28,28]))\n",
        "model.add(keras.layers.Dense(300,activation=\"relu\",kernel_initializer=\"he_normal\"))\n",
        "for layer in range(99):\n",
        "  model.add(keras.layers.Dense(100,activation=\"relu\",kernel_initializer=\"he_normal\"))\n",
        "model.add(keras.layers.Dense(10,activation=\"softmax\"))"
      ],
      "execution_count": null,
      "outputs": []
    },
    {
      "cell_type": "code",
      "metadata": {
        "id": "jVaVbzBnyyTV"
      },
      "source": [
        "model.compile(loss=\"sparse_categorical_crossentropy\",\n",
        "              optimizer=keras.optimizers.SGD(lr=1e-3),\n",
        "              metrics=[\"accuracy\"])"
      ],
      "execution_count": null,
      "outputs": []
    },
    {
      "cell_type": "code",
      "metadata": {
        "id": "R9mxeZSyy8sF",
        "colab": {
          "base_uri": "https://localhost:8080/"
        },
        "outputId": "722179f9-7702-4df6-b1a6-3c9995774e9c"
      },
      "source": [
        "history=model.fit(X_train_scaled,y_train,epochs=5,\n",
        "                  validation_data=(X_valid_scaled,y_valid))"
      ],
      "execution_count": null,
      "outputs": [
        {
          "output_type": "stream",
          "text": [
            "Epoch 1/5\n",
            "1719/1719 [==============================] - 26s 15ms/step - loss: 1.7959 - accuracy: 0.2655 - val_loss: 1.7172 - val_accuracy: 0.3566\n",
            "Epoch 2/5\n",
            "1719/1719 [==============================] - 25s 15ms/step - loss: 1.1503 - accuracy: 0.5168 - val_loss: 0.9678 - val_accuracy: 0.5622\n",
            "Epoch 3/5\n",
            "1719/1719 [==============================] - 25s 15ms/step - loss: 1.0513 - accuracy: 0.5748 - val_loss: 0.9552 - val_accuracy: 0.6096\n",
            "Epoch 4/5\n",
            "1719/1719 [==============================] - 25s 15ms/step - loss: 0.8669 - accuracy: 0.6635 - val_loss: 0.7766 - val_accuracy: 0.7068\n",
            "Epoch 5/5\n",
            "1719/1719 [==============================] - 25s 15ms/step - loss: 0.7422 - accuracy: 0.7208 - val_loss: 0.6867 - val_accuracy: 0.7444\n"
          ],
          "name": "stdout"
        }
      ]
    },
    {
      "cell_type": "markdown",
      "metadata": {
        "id": "xFE6mKY_zJjy"
      },
      "source": [
        "그레이디언트 폭주나 소실 문제가 발생한 것"
      ]
    },
    {
      "cell_type": "markdown",
      "metadata": {
        "id": "5O6aBDskzNQp"
      },
      "source": [
        "### 배치 정규화"
      ]
    },
    {
      "cell_type": "code",
      "metadata": {
        "id": "KnIOLASq2gc1"
      },
      "source": [
        "model=keras.models.Sequential([\n",
        "                               keras.layers.Flatten(input_shape=[28,28]),\n",
        "                               keras.layers.BatchNormalization(),\n",
        "                               keras.layers.Dense(300,activation=\"relu\"),\n",
        "                               keras.layers.BatchNormalization(),\n",
        "                               keras.layers.Dense(100,activation=\"relu\"),\n",
        "                               keras.layers.BatchNormalization(),\n",
        "                               keras.layers.Dense(10,activation=\"softmax\")\n",
        "])"
      ],
      "execution_count": null,
      "outputs": []
    },
    {
      "cell_type": "code",
      "metadata": {
        "id": "grma1Svd29Fq",
        "colab": {
          "base_uri": "https://localhost:8080/"
        },
        "outputId": "33f29d4b-e34a-4bbf-df62-e68c549a1d78"
      },
      "source": [
        "model.summary()"
      ],
      "execution_count": null,
      "outputs": [
        {
          "output_type": "stream",
          "text": [
            "Model: \"sequential_4\"\n",
            "_________________________________________________________________\n",
            "Layer (type)                 Output Shape              Param #   \n",
            "=================================================================\n",
            "flatten_4 (Flatten)          (None, 784)               0         \n",
            "_________________________________________________________________\n",
            "batch_normalization (BatchNo (None, 784)               3136      \n",
            "_________________________________________________________________\n",
            "dense_212 (Dense)            (None, 300)               235500    \n",
            "_________________________________________________________________\n",
            "batch_normalization_1 (Batch (None, 300)               1200      \n",
            "_________________________________________________________________\n",
            "dense_213 (Dense)            (None, 100)               30100     \n",
            "_________________________________________________________________\n",
            "batch_normalization_2 (Batch (None, 100)               400       \n",
            "_________________________________________________________________\n",
            "dense_214 (Dense)            (None, 10)                1010      \n",
            "=================================================================\n",
            "Total params: 271,346\n",
            "Trainable params: 268,978\n",
            "Non-trainable params: 2,368\n",
            "_________________________________________________________________\n"
          ],
          "name": "stdout"
        }
      ]
    },
    {
      "cell_type": "code",
      "metadata": {
        "id": "_Ql3N7Fx2-P9",
        "colab": {
          "base_uri": "https://localhost:8080/"
        },
        "outputId": "7e90e095-a2b6-41d7-af64-dca24b023432"
      },
      "source": [
        "bn1=model.layers[1]\n",
        "[(var.name,var.trainable)for var in bn1.variables]"
      ],
      "execution_count": null,
      "outputs": [
        {
          "output_type": "execute_result",
          "data": {
            "text/plain": [
              "[('batch_normalization/gamma:0', True),\n",
              " ('batch_normalization/beta:0', True),\n",
              " ('batch_normalization/moving_mean:0', False),\n",
              " ('batch_normalization/moving_variance:0', False)]"
            ]
          },
          "metadata": {
            "tags": []
          },
          "execution_count": 37
        }
      ]
    },
    {
      "cell_type": "code",
      "metadata": {
        "id": "4RM18qAG3IhW",
        "colab": {
          "base_uri": "https://localhost:8080/"
        },
        "outputId": "6f6c4b27-5aec-4e9f-d8d1-4db47f1ff009"
      },
      "source": [
        "bn1.updates"
      ],
      "execution_count": null,
      "outputs": [
        {
          "output_type": "stream",
          "text": [
            "WARNING:tensorflow:From <ipython-input-38-3f3161b80a85>:1: Layer.updates (from tensorflow.python.keras.engine.base_layer) is deprecated and will be removed in a future version.\n",
            "Instructions for updating:\n",
            "This property should not be used in TensorFlow 2.0, as updates are applied automatically.\n"
          ],
          "name": "stdout"
        },
        {
          "output_type": "execute_result",
          "data": {
            "text/plain": [
              "[]"
            ]
          },
          "metadata": {
            "tags": []
          },
          "execution_count": 38
        }
      ]
    },
    {
      "cell_type": "code",
      "metadata": {
        "id": "4_nujSCE3NOf"
      },
      "source": [
        "model.compile(loss=\"sparse_categorical_crossentropy\",\n",
        "              optimizer=keras.optimizers.SGD(lr=1e-3),\n",
        "              metrics=[\"accuracy\"])"
      ],
      "execution_count": null,
      "outputs": []
    },
    {
      "cell_type": "code",
      "metadata": {
        "id": "fbJdCFfn3a-Q",
        "colab": {
          "base_uri": "https://localhost:8080/"
        },
        "outputId": "704ee243-218a-4b53-cac2-c8933ae7d8b5"
      },
      "source": [
        "history=model.fit(X_train,y_train,epochs=10,\n",
        "                  validation_data=(X_valid,y_valid))"
      ],
      "execution_count": null,
      "outputs": [
        {
          "output_type": "stream",
          "text": [
            "Epoch 1/10\n",
            "1719/1719 [==============================] - 9s 6ms/step - loss: 0.8750 - accuracy: 0.7124 - val_loss: 0.5525 - val_accuracy: 0.8230\n",
            "Epoch 2/10\n",
            "1719/1719 [==============================] - 9s 5ms/step - loss: 0.5754 - accuracy: 0.8030 - val_loss: 0.4725 - val_accuracy: 0.8472\n",
            "Epoch 3/10\n",
            "1719/1719 [==============================] - 8s 5ms/step - loss: 0.5190 - accuracy: 0.8204 - val_loss: 0.4375 - val_accuracy: 0.8546\n",
            "Epoch 4/10\n",
            "1719/1719 [==============================] - 10s 6ms/step - loss: 0.4827 - accuracy: 0.8325 - val_loss: 0.4153 - val_accuracy: 0.8600\n",
            "Epoch 5/10\n",
            "1719/1719 [==============================] - 9s 5ms/step - loss: 0.4565 - accuracy: 0.8408 - val_loss: 0.3998 - val_accuracy: 0.8646\n",
            "Epoch 6/10\n",
            "1719/1719 [==============================] - 9s 5ms/step - loss: 0.4398 - accuracy: 0.8473 - val_loss: 0.3868 - val_accuracy: 0.8698\n",
            "Epoch 7/10\n",
            "1719/1719 [==============================] - 9s 5ms/step - loss: 0.4242 - accuracy: 0.8515 - val_loss: 0.3765 - val_accuracy: 0.8702\n",
            "Epoch 8/10\n",
            "1719/1719 [==============================] - 9s 5ms/step - loss: 0.4143 - accuracy: 0.8537 - val_loss: 0.3714 - val_accuracy: 0.8744\n",
            "Epoch 9/10\n",
            "1719/1719 [==============================] - 14s 8ms/step - loss: 0.4024 - accuracy: 0.8582 - val_loss: 0.3633 - val_accuracy: 0.8752\n",
            "Epoch 10/10\n",
            "1719/1719 [==============================] - 9s 5ms/step - loss: 0.3914 - accuracy: 0.8624 - val_loss: 0.3575 - val_accuracy: 0.8754\n"
          ],
          "name": "stdout"
        }
      ]
    },
    {
      "cell_type": "markdown",
      "metadata": {
        "id": "HZJm2GOS4fB8"
      },
      "source": [
        "활성화 함수 이후보다 활성화 함수 이전에 배치 정규화 층을 추가하는 것이 좋다고 조언하지만 작업에 따라 선호되는 방식이 달라서 논란의 여지가 있다.  \n",
        "BatchNormalization 층 이전의 층은 편향을 위한 항이 필요 없다.  \n",
        "BatchNormalization 층이 이를 무효화하기 때문  \n",
        "따라서 필요 없는 파라미터이므로 use_bias=False를 지정하여 층을 만들 수 있다 :"
      ]
    },
    {
      "cell_type": "code",
      "metadata": {
        "id": "8hpZCTYVqSOM"
      },
      "source": [
        "model=keras.models.Sequential([\n",
        "                               keras.layers.Flatten(input_shape=[28,28]),\n",
        "                               keras.layers.BatchNormalization(),\n",
        "                               keras.layers.Dense(300,use_bias=False),\n",
        "                               keras.layers.BatchNormalization(),\n",
        "                               keras.layers.Activation(\"relu\"),\n",
        "                               keras.layers.Dense(100,use_bias=False),\n",
        "                               keras.layers.BatchNormalization(),\n",
        "                               keras.layers.Activation(\"relu\"),\n",
        "                               keras.layers.Dense(10,activation=\"softmax\")\n",
        "])"
      ],
      "execution_count": null,
      "outputs": []
    },
    {
      "cell_type": "code",
      "metadata": {
        "colab": {
          "base_uri": "https://localhost:8080/"
        },
        "id": "TCBKfjNEICiu",
        "outputId": "b85a73ba-58e4-485d-a2d4-4f19c9258c36"
      },
      "source": [
        "model.summary()"
      ],
      "execution_count": null,
      "outputs": [
        {
          "output_type": "stream",
          "text": [
            "Model: \"sequential_5\"\n",
            "_________________________________________________________________\n",
            "Layer (type)                 Output Shape              Param #   \n",
            "=================================================================\n",
            "flatten_5 (Flatten)          (None, 784)               0         \n",
            "_________________________________________________________________\n",
            "batch_normalization_3 (Batch (None, 784)               3136      \n",
            "_________________________________________________________________\n",
            "dense_215 (Dense)            (None, 300)               235200    \n",
            "_________________________________________________________________\n",
            "batch_normalization_4 (Batch (None, 300)               1200      \n",
            "_________________________________________________________________\n",
            "activation (Activation)      (None, 300)               0         \n",
            "_________________________________________________________________\n",
            "dense_216 (Dense)            (None, 100)               30000     \n",
            "_________________________________________________________________\n",
            "batch_normalization_5 (Batch (None, 100)               400       \n",
            "_________________________________________________________________\n",
            "activation_1 (Activation)    (None, 100)               0         \n",
            "_________________________________________________________________\n",
            "dense_217 (Dense)            (None, 10)                1010      \n",
            "=================================================================\n",
            "Total params: 270,946\n",
            "Trainable params: 268,578\n",
            "Non-trainable params: 2,368\n",
            "_________________________________________________________________\n"
          ],
          "name": "stdout"
        }
      ]
    },
    {
      "cell_type": "code",
      "metadata": {
        "id": "ufW__UVfq4rg"
      },
      "source": [
        "model.compile(loss=\"sparse_categorical_crossentropy\",\n",
        "              optimizer=keras.optimizers.SGD(lr=1e-3),\n",
        "              metrics=[\"accuracy\"])"
      ],
      "execution_count": null,
      "outputs": []
    },
    {
      "cell_type": "code",
      "metadata": {
        "id": "x7CrH64_rFnF",
        "colab": {
          "base_uri": "https://localhost:8080/"
        },
        "outputId": "53250b56-e67c-484c-f554-937e128772d7"
      },
      "source": [
        "history=model.fit(X_train,y_train,epochs=10,\n",
        "                  validation_data=(X_valid,y_valid))"
      ],
      "execution_count": null,
      "outputs": [
        {
          "output_type": "stream",
          "text": [
            "Epoch 1/10\n",
            "1719/1719 [==============================] - 9s 5ms/step - loss: 1.0317 - accuracy: 0.6757 - val_loss: 0.6767 - val_accuracy: 0.7812\n",
            "Epoch 2/10\n",
            "1719/1719 [==============================] - 8s 5ms/step - loss: 0.6790 - accuracy: 0.7793 - val_loss: 0.5566 - val_accuracy: 0.8180\n",
            "Epoch 3/10\n",
            "1719/1719 [==============================] - 8s 5ms/step - loss: 0.5960 - accuracy: 0.8037 - val_loss: 0.5007 - val_accuracy: 0.8362\n",
            "Epoch 4/10\n",
            "1719/1719 [==============================] - 9s 5ms/step - loss: 0.5447 - accuracy: 0.8192 - val_loss: 0.4666 - val_accuracy: 0.8448\n",
            "Epoch 5/10\n",
            "1719/1719 [==============================] - 9s 5ms/step - loss: 0.5109 - accuracy: 0.8279 - val_loss: 0.4434 - val_accuracy: 0.8532\n",
            "Epoch 6/10\n",
            "1719/1719 [==============================] - 9s 5ms/step - loss: 0.4898 - accuracy: 0.8337 - val_loss: 0.4263 - val_accuracy: 0.8546\n",
            "Epoch 7/10\n",
            "1719/1719 [==============================] - 8s 5ms/step - loss: 0.4712 - accuracy: 0.8397 - val_loss: 0.4130 - val_accuracy: 0.8566\n",
            "Epoch 8/10\n",
            "1719/1719 [==============================] - 8s 5ms/step - loss: 0.4560 - accuracy: 0.8439 - val_loss: 0.4034 - val_accuracy: 0.8608\n",
            "Epoch 9/10\n",
            "1719/1719 [==============================] - 8s 5ms/step - loss: 0.4441 - accuracy: 0.8475 - val_loss: 0.3943 - val_accuracy: 0.8638\n",
            "Epoch 10/10\n",
            "1719/1719 [==============================] - 8s 5ms/step - loss: 0.4333 - accuracy: 0.8504 - val_loss: 0.3875 - val_accuracy: 0.8660\n"
          ],
          "name": "stdout"
        }
      ]
    },
    {
      "cell_type": "markdown",
      "metadata": {
        "id": "rFoTtQ6arizH"
      },
      "source": [
        "### 그레이디언트 클리핑"
      ]
    },
    {
      "cell_type": "markdown",
      "metadata": {
        "id": "KvLLtxx4spBc"
      },
      "source": [
        "모든 케라스 옵티마이저는 clipnorm이나 clipvalue 매개변수를 지원 :"
      ]
    },
    {
      "cell_type": "code",
      "metadata": {
        "id": "0mlOG6rormTk"
      },
      "source": [
        "optimizer=keras.optimizers.SGD(clipvalue=1.0)"
      ],
      "execution_count": null,
      "outputs": []
    },
    {
      "cell_type": "code",
      "metadata": {
        "id": "SqUiFMlPrsjf"
      },
      "source": [
        "optimizer=keras.optimizers.SGD(clipnorm=1.0)"
      ],
      "execution_count": null,
      "outputs": []
    },
    {
      "cell_type": "markdown",
      "metadata": {
        "id": "TfgJP-sXr_gV"
      },
      "source": [
        "## 사전훈련된 층 재사용하기"
      ]
    },
    {
      "cell_type": "markdown",
      "metadata": {
        "id": "mcRVIRcu-KY3"
      },
      "source": [
        "### 케라스를 사용한 전이 학습"
      ]
    },
    {
      "cell_type": "markdown",
      "metadata": {
        "id": "ivrMeLC8_qZt"
      },
      "source": [
        "패션 MNIST 훈련 세트를 두 개로 :\n",
        "\n",
        "- X_train_A : 샌달과 셔츠(클래스 5와 6)을 제외한 모든 이미지\n",
        "- X_train_B : 샌달과 셔츠 이미지 중 처음 200개만 가진 작은 훈련 세트\n",
        "\n",
        "검증 세트와 테스트 세트도 이렇게 나누지만 이미지 개수를 제한하지 않는다.\n",
        "\n",
        "A 세트(8개의 클래스를 가진 분류 문제)에서 모델을 훈련하고 이를 재사용하여 B 세트(이진 분류)를 해결  \n",
        "A 작업에서 B 작업으로 약간의 지식이 전달되기를 기대  \n",
        "왜냐하면 A 세트의 클래스(스니커즈, 앵클 부츠, 코트, 티셔츠 등)가 B 세트에 있는 클래스(샌달과 셔츠)와 조금 비슷하기 때문  \n",
        "하지만 Dense 층을 사용하기 때문에 동일한 위치에 나타난 패턴만 재사용  \n",
        "(반대로 합성곱 층은 훨씬 많은 정보를 전송한다. 학습한 패턴을 이미지의 어느 위치에서나 감지할 수 있기 때문)"
      ]
    },
    {
      "cell_type": "code",
      "metadata": {
        "id": "CbvaIjporyhX"
      },
      "source": [
        "def split_dataset(X,y):\n",
        "  y_5_or_6=(y==5)|(y==6)  #sandals or shirts\n",
        "  y_A=y[~y_5_or_6]\n",
        "  y_A[y_A>6]-=2 #class indicies 7,8,9 should be moved to 5,6,7\n",
        "  y_B=(y[y_5_or_6]==6).astype(np.float32) #binary classification task : is it a shirt (class 6)?\n",
        "  return ((X[~y_5_or_6],y_A),\n",
        "          (X[y_5_or_6],y_B))\n",
        "\n",
        "(X_train_A,y_train_A),(X_train_B,y_train_B)=split_dataset(X_train,y_train)\n",
        "(X_valid_A,y_valid_A),(X_valid_B,y_valid_B)=split_dataset(X_valid,y_valid)\n",
        "(X_test_A,y_test_A),(X_test_B,y_test_B)=split_dataset(X_test,y_test)\n",
        "X_train_B=X_train_B[:200]\n",
        "y_train_B=y_train_B[:200]"
      ],
      "execution_count": null,
      "outputs": []
    },
    {
      "cell_type": "code",
      "metadata": {
        "colab": {
          "base_uri": "https://localhost:8080/"
        },
        "id": "fKQn9LhwDYvy",
        "outputId": "d89405c3-ed5a-4d28-c44b-97a82619f8de"
      },
      "source": [
        "X_train_A.shape"
      ],
      "execution_count": null,
      "outputs": [
        {
          "output_type": "execute_result",
          "data": {
            "text/plain": [
              "(43986, 28, 28)"
            ]
          },
          "metadata": {
            "tags": []
          },
          "execution_count": 48
        }
      ]
    },
    {
      "cell_type": "code",
      "metadata": {
        "colab": {
          "base_uri": "https://localhost:8080/"
        },
        "id": "2rgU8-0HDbDk",
        "outputId": "5ae1a892-a82f-4831-e1f3-50b8ea568b84"
      },
      "source": [
        "X_train_B.shape"
      ],
      "execution_count": null,
      "outputs": [
        {
          "output_type": "execute_result",
          "data": {
            "text/plain": [
              "(200, 28, 28)"
            ]
          },
          "metadata": {
            "tags": []
          },
          "execution_count": 49
        }
      ]
    },
    {
      "cell_type": "code",
      "metadata": {
        "colab": {
          "base_uri": "https://localhost:8080/"
        },
        "id": "vpzNB51iDddc",
        "outputId": "0aa8c1e9-61d0-469c-c8cc-b71ba5968373"
      },
      "source": [
        "y_train_A[:30]"
      ],
      "execution_count": null,
      "outputs": [
        {
          "output_type": "execute_result",
          "data": {
            "text/plain": [
              "array([4, 0, 5, 7, 7, 7, 4, 4, 3, 4, 0, 1, 6, 3, 4, 3, 2, 6, 5, 3, 4, 5,\n",
              "       1, 3, 4, 2, 0, 6, 7, 1], dtype=uint8)"
            ]
          },
          "metadata": {
            "tags": []
          },
          "execution_count": 50
        }
      ]
    },
    {
      "cell_type": "code",
      "metadata": {
        "colab": {
          "base_uri": "https://localhost:8080/"
        },
        "id": "4ZSOlCyYDgPe",
        "outputId": "a468c0cb-bdbc-4201-8515-0b3a269fcdf1"
      },
      "source": [
        "y_train_B[:30]"
      ],
      "execution_count": null,
      "outputs": [
        {
          "output_type": "execute_result",
          "data": {
            "text/plain": [
              "array([1., 1., 0., 0., 0., 0., 1., 1., 1., 0., 0., 1., 1., 0., 0., 0., 0.,\n",
              "       0., 0., 1., 1., 0., 0., 1., 1., 0., 1., 1., 1., 1.], dtype=float32)"
            ]
          },
          "metadata": {
            "tags": []
          },
          "execution_count": 51
        }
      ]
    },
    {
      "cell_type": "code",
      "metadata": {
        "id": "B8Mahw1KDimM"
      },
      "source": [
        "tf.random.set_seed(42)\n",
        "np.random.seed(42)"
      ],
      "execution_count": null,
      "outputs": []
    },
    {
      "cell_type": "code",
      "metadata": {
        "id": "ymHBIbYyDnOU"
      },
      "source": [
        "model_A=keras.models.Sequential()\n",
        "model_A.add(keras.layers.Flatten(input_shape=[28,28]))\n",
        "for n_hidden in (300,100,50,50,50):\n",
        "  model_A.add(keras.layers.Dense(n_hidden,activation=\"selu\"))\n",
        "model_A.add(keras.layers.Dense(8,activation=\"softmax\"))"
      ],
      "execution_count": null,
      "outputs": []
    },
    {
      "cell_type": "code",
      "metadata": {
        "id": "Yg9SnsngD9DX"
      },
      "source": [
        "model_A.compile(loss=\"sparse_categorical_crossentropy\",\n",
        "                optimizer=keras.optimizers.SGD(lr=1e-3),\n",
        "                metrics=[\"accuracy\"])"
      ],
      "execution_count": null,
      "outputs": []
    },
    {
      "cell_type": "code",
      "metadata": {
        "colab": {
          "base_uri": "https://localhost:8080/"
        },
        "id": "ZcoPtMOcHGue",
        "outputId": "6b22ce21-57d7-4998-d912-941f59d23211"
      },
      "source": [
        "history=model_A.fit(X_train_A,y_train_A,epochs=20,\n",
        "                    validation_data=(X_valid_A,y_valid_A))"
      ],
      "execution_count": null,
      "outputs": [
        {
          "output_type": "stream",
          "text": [
            "Epoch 1/20\n",
            "1375/1375 [==============================] - 4s 3ms/step - loss: 0.5926 - accuracy: 0.8103 - val_loss: 0.3890 - val_accuracy: 0.8677\n",
            "Epoch 2/20\n",
            "1375/1375 [==============================] - 4s 3ms/step - loss: 0.3523 - accuracy: 0.8786 - val_loss: 0.3289 - val_accuracy: 0.8824\n",
            "Epoch 3/20\n",
            "1375/1375 [==============================] - 4s 3ms/step - loss: 0.3170 - accuracy: 0.8895 - val_loss: 0.3013 - val_accuracy: 0.8991\n",
            "Epoch 4/20\n",
            "1375/1375 [==============================] - 4s 3ms/step - loss: 0.2972 - accuracy: 0.8974 - val_loss: 0.2892 - val_accuracy: 0.9013\n",
            "Epoch 5/20\n",
            "1375/1375 [==============================] - 4s 3ms/step - loss: 0.2834 - accuracy: 0.9022 - val_loss: 0.2774 - val_accuracy: 0.9066\n",
            "Epoch 6/20\n",
            "1375/1375 [==============================] - 4s 3ms/step - loss: 0.2729 - accuracy: 0.9063 - val_loss: 0.2733 - val_accuracy: 0.9071\n",
            "Epoch 7/20\n",
            "1375/1375 [==============================] - 4s 3ms/step - loss: 0.2641 - accuracy: 0.9092 - val_loss: 0.2720 - val_accuracy: 0.9091\n",
            "Epoch 8/20\n",
            "1375/1375 [==============================] - 4s 3ms/step - loss: 0.2572 - accuracy: 0.9125 - val_loss: 0.2589 - val_accuracy: 0.9141\n",
            "Epoch 9/20\n",
            "1375/1375 [==============================] - 4s 3ms/step - loss: 0.2518 - accuracy: 0.9135 - val_loss: 0.2562 - val_accuracy: 0.9143\n",
            "Epoch 10/20\n",
            "1375/1375 [==============================] - 4s 3ms/step - loss: 0.2468 - accuracy: 0.9154 - val_loss: 0.2540 - val_accuracy: 0.9165\n",
            "Epoch 11/20\n",
            "1375/1375 [==============================] - 4s 3ms/step - loss: 0.2422 - accuracy: 0.9178 - val_loss: 0.2494 - val_accuracy: 0.9155\n",
            "Epoch 12/20\n",
            "1375/1375 [==============================] - 4s 3ms/step - loss: 0.2382 - accuracy: 0.9188 - val_loss: 0.2511 - val_accuracy: 0.9128\n",
            "Epoch 13/20\n",
            "1375/1375 [==============================] - 4s 3ms/step - loss: 0.2350 - accuracy: 0.9197 - val_loss: 0.2446 - val_accuracy: 0.9163\n",
            "Epoch 14/20\n",
            "1375/1375 [==============================] - 4s 3ms/step - loss: 0.2315 - accuracy: 0.9213 - val_loss: 0.2413 - val_accuracy: 0.9178\n",
            "Epoch 15/20\n",
            "1375/1375 [==============================] - 5s 3ms/step - loss: 0.2287 - accuracy: 0.9214 - val_loss: 0.2446 - val_accuracy: 0.9193\n",
            "Epoch 16/20\n",
            "1375/1375 [==============================] - 4s 3ms/step - loss: 0.2254 - accuracy: 0.9224 - val_loss: 0.2386 - val_accuracy: 0.9195\n",
            "Epoch 17/20\n",
            "1375/1375 [==============================] - 4s 3ms/step - loss: 0.2230 - accuracy: 0.9232 - val_loss: 0.2405 - val_accuracy: 0.9175\n",
            "Epoch 18/20\n",
            "1375/1375 [==============================] - 4s 3ms/step - loss: 0.2201 - accuracy: 0.9243 - val_loss: 0.2429 - val_accuracy: 0.9158\n",
            "Epoch 19/20\n",
            "1375/1375 [==============================] - 4s 3ms/step - loss: 0.2178 - accuracy: 0.9251 - val_loss: 0.2328 - val_accuracy: 0.9205\n",
            "Epoch 20/20\n",
            "1375/1375 [==============================] - 5s 3ms/step - loss: 0.2156 - accuracy: 0.9262 - val_loss: 0.2332 - val_accuracy: 0.9208\n"
          ],
          "name": "stdout"
        }
      ]
    },
    {
      "cell_type": "code",
      "metadata": {
        "id": "jEGrkW7EHPQp"
      },
      "source": [
        "model_A.save(\"my_model_A.h5\")"
      ],
      "execution_count": null,
      "outputs": []
    },
    {
      "cell_type": "code",
      "metadata": {
        "id": "RCdoiWJDHU21"
      },
      "source": [
        "model_B=keras.models.Sequential()\n",
        "model_B.add(keras.layers.Flatten(input_shape=[28,28]))\n",
        "for n_hidden in (300,100,50,50,50):\n",
        "  model_B.add(keras.layers.Dense(n_hidden,activation=\"selu\"))\n",
        "model_B.add(keras.layers.Dense(1,activation=\"sigmoid\"))"
      ],
      "execution_count": null,
      "outputs": []
    },
    {
      "cell_type": "code",
      "metadata": {
        "id": "Oz5INXBnHtW4"
      },
      "source": [
        "model_B.compile(loss=\"binary_crossentropy\",\n",
        "                optimizer=keras.optimizers.SGD(lr=1e-3),\n",
        "                metrics=[\"accuracy\"])"
      ],
      "execution_count": null,
      "outputs": []
    },
    {
      "cell_type": "code",
      "metadata": {
        "colab": {
          "base_uri": "https://localhost:8080/"
        },
        "id": "KDOzBuUtH6lP",
        "outputId": "0629c5e8-31db-44ef-8b25-753747c3a842"
      },
      "source": [
        "history=model_B.fit(X_train_B,y_train_B,epochs=20,\n",
        "                    validation_data=(X_valid_B,y_valid_B))"
      ],
      "execution_count": null,
      "outputs": [
        {
          "output_type": "stream",
          "text": [
            "Epoch 1/20\n",
            "7/7 [==============================] - 0s 29ms/step - loss: 0.9573 - accuracy: 0.4650 - val_loss: 0.6314 - val_accuracy: 0.6004\n",
            "Epoch 2/20\n",
            "7/7 [==============================] - 0s 11ms/step - loss: 0.5692 - accuracy: 0.7450 - val_loss: 0.4784 - val_accuracy: 0.8529\n",
            "Epoch 3/20\n",
            "7/7 [==============================] - 0s 11ms/step - loss: 0.4503 - accuracy: 0.8650 - val_loss: 0.4102 - val_accuracy: 0.8945\n",
            "Epoch 4/20\n",
            "7/7 [==============================] - 0s 11ms/step - loss: 0.3879 - accuracy: 0.8950 - val_loss: 0.3647 - val_accuracy: 0.9178\n",
            "Epoch 5/20\n",
            "7/7 [==============================] - 0s 11ms/step - loss: 0.3435 - accuracy: 0.9250 - val_loss: 0.3300 - val_accuracy: 0.9320\n",
            "Epoch 6/20\n",
            "7/7 [==============================] - 0s 11ms/step - loss: 0.3081 - accuracy: 0.9300 - val_loss: 0.3019 - val_accuracy: 0.9402\n",
            "Epoch 7/20\n",
            "7/7 [==============================] - 0s 11ms/step - loss: 0.2800 - accuracy: 0.9350 - val_loss: 0.2804 - val_accuracy: 0.9422\n",
            "Epoch 8/20\n",
            "7/7 [==============================] - 0s 12ms/step - loss: 0.2564 - accuracy: 0.9450 - val_loss: 0.2606 - val_accuracy: 0.9473\n",
            "Epoch 9/20\n",
            "7/7 [==============================] - 0s 12ms/step - loss: 0.2362 - accuracy: 0.9550 - val_loss: 0.2428 - val_accuracy: 0.9523\n",
            "Epoch 10/20\n",
            "7/7 [==============================] - 0s 11ms/step - loss: 0.2188 - accuracy: 0.9600 - val_loss: 0.2281 - val_accuracy: 0.9544\n",
            "Epoch 11/20\n",
            "7/7 [==============================] - 0s 11ms/step - loss: 0.2036 - accuracy: 0.9700 - val_loss: 0.2150 - val_accuracy: 0.9584\n",
            "Epoch 12/20\n",
            "7/7 [==============================] - 0s 13ms/step - loss: 0.1898 - accuracy: 0.9700 - val_loss: 0.2036 - val_accuracy: 0.9584\n",
            "Epoch 13/20\n",
            "7/7 [==============================] - 0s 13ms/step - loss: 0.1773 - accuracy: 0.9750 - val_loss: 0.1931 - val_accuracy: 0.9615\n",
            "Epoch 14/20\n",
            "7/7 [==============================] - 0s 12ms/step - loss: 0.1668 - accuracy: 0.9800 - val_loss: 0.1838 - val_accuracy: 0.9635\n",
            "Epoch 15/20\n",
            "7/7 [==============================] - 0s 11ms/step - loss: 0.1570 - accuracy: 0.9900 - val_loss: 0.1746 - val_accuracy: 0.9686\n",
            "Epoch 16/20\n",
            "7/7 [==============================] - 0s 11ms/step - loss: 0.1481 - accuracy: 0.9900 - val_loss: 0.1674 - val_accuracy: 0.9686\n",
            "Epoch 17/20\n",
            "7/7 [==============================] - 0s 11ms/step - loss: 0.1406 - accuracy: 0.9900 - val_loss: 0.1604 - val_accuracy: 0.9706\n",
            "Epoch 18/20\n",
            "7/7 [==============================] - 0s 12ms/step - loss: 0.1334 - accuracy: 0.9900 - val_loss: 0.1539 - val_accuracy: 0.9706\n",
            "Epoch 19/20\n",
            "7/7 [==============================] - 0s 11ms/step - loss: 0.1268 - accuracy: 0.9900 - val_loss: 0.1482 - val_accuracy: 0.9716\n",
            "Epoch 20/20\n",
            "7/7 [==============================] - 0s 11ms/step - loss: 0.1208 - accuracy: 0.9900 - val_loss: 0.1431 - val_accuracy: 0.9716\n"
          ],
          "name": "stdout"
        }
      ]
    },
    {
      "cell_type": "code",
      "metadata": {
        "id": "KTUa9LOcIFNB"
      },
      "source": [
        "model_A=keras.models.load_model(\"my_model_A.h5\")\n",
        "model_B_on_A=keras.models.Sequential(model_A.layers[:-1])\n",
        "model_B_on_A.add(keras.layers.Dense(1,activation=\"sigmoid\"))"
      ],
      "execution_count": null,
      "outputs": []
    },
    {
      "cell_type": "code",
      "metadata": {
        "id": "l8E5a00tIpfy"
      },
      "source": [
        "model_A_clone=keras.models.clone_model(model_A)\n",
        "model_A_clone.set_weights(model_A.get_weights())"
      ],
      "execution_count": null,
      "outputs": []
    },
    {
      "cell_type": "code",
      "metadata": {
        "id": "NXLu1AeJJEqf"
      },
      "source": [
        "for layer in model_B_on_A.layers[:-1]:\n",
        "  layer.trainable=False\n",
        "\n",
        "model_B_on_A.compile(loss=\"binary_crossentropy\",\n",
        "                     optimizer=keras.optimizers.SGD(lr=1e-3),\n",
        "                     metrics=[\"accuracy\"])"
      ],
      "execution_count": null,
      "outputs": []
    },
    {
      "cell_type": "code",
      "metadata": {
        "colab": {
          "base_uri": "https://localhost:8080/"
        },
        "id": "sRciPjbKKfvs",
        "outputId": "8f73dc0d-75a4-40db-a34e-62769cb90ad1"
      },
      "source": [
        "history=model_B_on_A.fit(X_train_B,y_train_B,epochs=4,\n",
        "                         validation_data=(X_valid_B,y_valid_B))\n",
        "\n",
        "for layer in model_B_on_A.layers[:-1]:\n",
        "  layer.trainable=True\n",
        "\n",
        "model_B_on_A.compile(loss=\"binary_crossentropy\",\n",
        "                     optimizer=keras.optimizers.SGD(lr=1e-3),\n",
        "                     metrics=[\"accuracy\"])\n",
        "history=model_B_on_A.fit(X_train_B,y_train_B,epochs=16,\n",
        "                         validation_data=(X_valid_B,y_valid_B))"
      ],
      "execution_count": null,
      "outputs": [
        {
          "output_type": "stream",
          "text": [
            "Epoch 1/4\n",
            "7/7 [==============================] - 0s 30ms/step - loss: 0.5759 - accuracy: 0.6550 - val_loss: 0.5812 - val_accuracy: 0.6379\n",
            "Epoch 2/4\n",
            "7/7 [==============================] - 0s 10ms/step - loss: 0.5396 - accuracy: 0.6750 - val_loss: 0.5439 - val_accuracy: 0.6826\n",
            "Epoch 3/4\n",
            "7/7 [==============================] - 0s 10ms/step - loss: 0.5029 - accuracy: 0.7250 - val_loss: 0.5121 - val_accuracy: 0.7150\n",
            "Epoch 4/4\n",
            "7/7 [==============================] - 0s 12ms/step - loss: 0.4716 - accuracy: 0.7550 - val_loss: 0.4835 - val_accuracy: 0.7333\n",
            "Epoch 1/16\n",
            "7/7 [==============================] - 0s 28ms/step - loss: 0.3938 - accuracy: 0.8150 - val_loss: 0.3452 - val_accuracy: 0.8641\n",
            "Epoch 2/16\n",
            "7/7 [==============================] - 0s 12ms/step - loss: 0.2787 - accuracy: 0.9350 - val_loss: 0.2600 - val_accuracy: 0.9270\n",
            "Epoch 3/16\n",
            "7/7 [==============================] - 0s 11ms/step - loss: 0.2079 - accuracy: 0.9650 - val_loss: 0.2111 - val_accuracy: 0.9554\n",
            "Epoch 4/16\n",
            "7/7 [==============================] - 0s 12ms/step - loss: 0.1670 - accuracy: 0.9800 - val_loss: 0.1793 - val_accuracy: 0.9696\n",
            "Epoch 5/16\n",
            "7/7 [==============================] - 0s 10ms/step - loss: 0.1398 - accuracy: 0.9800 - val_loss: 0.1564 - val_accuracy: 0.9757\n",
            "Epoch 6/16\n",
            "7/7 [==============================] - 0s 11ms/step - loss: 0.1198 - accuracy: 0.9950 - val_loss: 0.1396 - val_accuracy: 0.9797\n",
            "Epoch 7/16\n",
            "7/7 [==============================] - 0s 13ms/step - loss: 0.1051 - accuracy: 0.9950 - val_loss: 0.1268 - val_accuracy: 0.9838\n",
            "Epoch 8/16\n",
            "7/7 [==============================] - 0s 11ms/step - loss: 0.0938 - accuracy: 0.9950 - val_loss: 0.1166 - val_accuracy: 0.9858\n",
            "Epoch 9/16\n",
            "7/7 [==============================] - 0s 11ms/step - loss: 0.0848 - accuracy: 1.0000 - val_loss: 0.1068 - val_accuracy: 0.9888\n",
            "Epoch 10/16\n",
            "7/7 [==============================] - 0s 11ms/step - loss: 0.0763 - accuracy: 1.0000 - val_loss: 0.1002 - val_accuracy: 0.9899\n",
            "Epoch 11/16\n",
            "7/7 [==============================] - 0s 12ms/step - loss: 0.0704 - accuracy: 1.0000 - val_loss: 0.0941 - val_accuracy: 0.9899\n",
            "Epoch 12/16\n",
            "7/7 [==============================] - 0s 12ms/step - loss: 0.0649 - accuracy: 1.0000 - val_loss: 0.0890 - val_accuracy: 0.9899\n",
            "Epoch 13/16\n",
            "7/7 [==============================] - 0s 12ms/step - loss: 0.0602 - accuracy: 1.0000 - val_loss: 0.0841 - val_accuracy: 0.9899\n",
            "Epoch 14/16\n",
            "7/7 [==============================] - 0s 11ms/step - loss: 0.0559 - accuracy: 1.0000 - val_loss: 0.0804 - val_accuracy: 0.9899\n",
            "Epoch 15/16\n",
            "7/7 [==============================] - 0s 11ms/step - loss: 0.0525 - accuracy: 1.0000 - val_loss: 0.0770 - val_accuracy: 0.9899\n",
            "Epoch 16/16\n",
            "7/7 [==============================] - 0s 11ms/step - loss: 0.0496 - accuracy: 1.0000 - val_loss: 0.0740 - val_accuracy: 0.9899\n"
          ],
          "name": "stdout"
        }
      ]
    },
    {
      "cell_type": "markdown",
      "metadata": {
        "id": "ohiOG66GLUlL"
      },
      "source": [
        "마지막 점수는?"
      ]
    },
    {
      "cell_type": "code",
      "metadata": {
        "colab": {
          "base_uri": "https://localhost:8080/"
        },
        "id": "ZD5wYcZPKofx",
        "outputId": "28d00ae9-86b4-403a-d44e-b20120d85f0d"
      },
      "source": [
        "model_B.evaluate(X_test_B,y_test_B)"
      ],
      "execution_count": null,
      "outputs": [
        {
          "output_type": "stream",
          "text": [
            "63/63 [==============================] - 0s 2ms/step - loss: 0.1408 - accuracy: 0.9705\n"
          ],
          "name": "stdout"
        },
        {
          "output_type": "execute_result",
          "data": {
            "text/plain": [
              "[0.14084088802337646, 0.9704999923706055]"
            ]
          },
          "metadata": {
            "tags": []
          },
          "execution_count": 64
        }
      ]
    },
    {
      "cell_type": "code",
      "metadata": {
        "colab": {
          "base_uri": "https://localhost:8080/"
        },
        "id": "tLyriYPFLWPy",
        "outputId": "cec8579b-cecf-4e8a-8899-5159dceda8a6"
      },
      "source": [
        "model_B_on_A.evaluate(X_test_B,y_test_B)"
      ],
      "execution_count": null,
      "outputs": [
        {
          "output_type": "stream",
          "text": [
            "63/63 [==============================] - 0s 2ms/step - loss: 0.0682 - accuracy: 0.9930\n"
          ],
          "name": "stdout"
        },
        {
          "output_type": "execute_result",
          "data": {
            "text/plain": [
              "[0.06821806728839874, 0.9929999709129333]"
            ]
          },
          "metadata": {
            "tags": []
          },
          "execution_count": 65
        }
      ]
    },
    {
      "cell_type": "markdown",
      "metadata": {
        "id": "fF8THTXxLg-A"
      },
      "source": [
        "오차율이 4배나 줄었다!"
      ]
    },
    {
      "cell_type": "code",
      "metadata": {
        "colab": {
          "base_uri": "https://localhost:8080/"
        },
        "id": "HjWBS8DkLeg4",
        "outputId": "43fec726-0be5-4f08-c653-676feb1316e0"
      },
      "source": [
        "(100-97.04)/(100-99.29)"
      ],
      "execution_count": null,
      "outputs": [
        {
          "output_type": "execute_result",
          "data": {
            "text/plain": [
              "4.1690140845070705"
            ]
          },
          "metadata": {
            "tags": []
          },
          "execution_count": 66
        }
      ]
    },
    {
      "cell_type": "markdown",
      "metadata": {
        "id": "ing0Rc9bLzbO"
      },
      "source": [
        "## 고속 옵티마이저"
      ]
    },
    {
      "cell_type": "markdown",
      "metadata": {
        "id": "vWfZF6SqW9Rc"
      },
      "source": [
        "### 모멘텀 최적화"
      ]
    },
    {
      "cell_type": "code",
      "metadata": {
        "id": "YF-vMbbhW_zN"
      },
      "source": [
        "optimizer=keras.optimizers.SGD(lr=0.001,momentum=0.9)"
      ],
      "execution_count": null,
      "outputs": []
    },
    {
      "cell_type": "markdown",
      "metadata": {
        "id": "5dj5rtDgXF8Y"
      },
      "source": [
        "### 네스테로프 가속 경사"
      ]
    },
    {
      "cell_type": "code",
      "metadata": {
        "id": "hO-U6_ayXFKB"
      },
      "source": [
        "optimizer=keras.optimizers.SGD(lr=0.001,momentum=0.9,nesterov=True)"
      ],
      "execution_count": null,
      "outputs": []
    },
    {
      "cell_type": "markdown",
      "metadata": {
        "id": "Mf81RmvZZRQ3"
      },
      "source": [
        "### AdaGrad"
      ]
    },
    {
      "cell_type": "code",
      "metadata": {
        "id": "ijT-GtFFZQmG"
      },
      "source": [
        "optimizer=keras.optimizers.Adagrad(lr=0.001)"
      ],
      "execution_count": null,
      "outputs": []
    },
    {
      "cell_type": "markdown",
      "metadata": {
        "id": "4ZHxwooydJoM"
      },
      "source": [
        "### RMSProp"
      ]
    },
    {
      "cell_type": "code",
      "metadata": {
        "id": "JYf9xxJ7dFCY"
      },
      "source": [
        "optimizer=keras.optimizers.RMSprop(lr=0.001,rho=0.9)"
      ],
      "execution_count": null,
      "outputs": []
    },
    {
      "cell_type": "markdown",
      "metadata": {
        "id": "ncjv7azJeGVS"
      },
      "source": [
        "### Adam과 Nadam 최적화"
      ]
    },
    {
      "cell_type": "markdown",
      "metadata": {
        "id": "75MxTzwMg-8u"
      },
      "source": [
        "Adam 옵티마이저"
      ]
    },
    {
      "cell_type": "code",
      "metadata": {
        "id": "lu1gA5F5eDpl"
      },
      "source": [
        "optimizer=keras.optimizers.Adam(lr=0.001,beta_1=0.9,beta_2=0.999)"
      ],
      "execution_count": null,
      "outputs": []
    },
    {
      "cell_type": "markdown",
      "metadata": {
        "id": "f4kfIxRshIya"
      },
      "source": [
        "Adamax 옵티마이저"
      ]
    },
    {
      "cell_type": "code",
      "metadata": {
        "id": "UUKpOYhGhIBU"
      },
      "source": [
        "optimizer=keras.optimizers.Adamax(lr=0.001,beta_1=0.9,beta_2=0.999)"
      ],
      "execution_count": null,
      "outputs": []
    },
    {
      "cell_type": "markdown",
      "metadata": {
        "id": "L4p8848shUt-"
      },
      "source": [
        "Nadam 옵티마이저"
      ]
    },
    {
      "cell_type": "code",
      "metadata": {
        "id": "AgHEoELnhGzO"
      },
      "source": [
        "optimizer=keras.optimizers.Nadam(lr=0.001,beta_1=0.9,beta_2=0.999)"
      ],
      "execution_count": null,
      "outputs": []
    },
    {
      "cell_type": "markdown",
      "metadata": {
        "id": "aaMO8ox9hdR8"
      },
      "source": [
        "### 학습률 스케줄링"
      ]
    },
    {
      "cell_type": "markdown",
      "metadata": {
        "id": "-cMCRFOsnXj1"
      },
      "source": [
        "거듭제곱 스케줄링  \n",
        "lr = lr0 / (1 + steps / s)**c\n",
        "- 케라스는 c=1과 s = 1 / decay을 사용"
      ]
    },
    {
      "cell_type": "code",
      "metadata": {
        "id": "ga9kyW2KhciH"
      },
      "source": [
        "optimizer=keras.optimizers.SGD(lr=0.01,decay=1e-4)"
      ],
      "execution_count": null,
      "outputs": []
    },
    {
      "cell_type": "code",
      "metadata": {
        "id": "YU4xb_4b2AxW"
      },
      "source": [
        "model=keras.models.Sequential([\n",
        "                               keras.layers.Flatten(input_shape=[28,28]),\n",
        "                               keras.layers.Dense(300,activation=\"selu\",kernel_initializer=\"lecun_normal\"),\n",
        "                               keras.layers.Dense(100,activation=\"selu\",kernel_initializer=\"lecun_normal\"),\n",
        "                               keras.layers.Dense(10,activation=\"softmax\")\n",
        "])\n",
        "model.compile(loss=\"sparse_categorical_crossentropy\",optimizer=optimizer,metrics=[\"accuracy\"])"
      ],
      "execution_count": null,
      "outputs": []
    },
    {
      "cell_type": "code",
      "metadata": {
        "colab": {
          "base_uri": "https://localhost:8080/"
        },
        "id": "JaB-Y8hj7tYW",
        "outputId": "394ec3ec-9059-4cfc-de20-af1eb551400c"
      },
      "source": [
        "n_epochs=25\n",
        "history=model.fit(X_train_scaled,y_train,epochs=n_epochs,\n",
        "                  validation_data=(X_valid_scaled,y_valid))"
      ],
      "execution_count": null,
      "outputs": [
        {
          "output_type": "stream",
          "text": [
            "Epoch 1/25\n",
            "1719/1719 [==============================] - 5s 3ms/step - loss: 0.4855 - accuracy: 0.8305 - val_loss: 0.4029 - val_accuracy: 0.8596\n",
            "Epoch 2/25\n",
            "1719/1719 [==============================] - 5s 3ms/step - loss: 0.3781 - accuracy: 0.8660 - val_loss: 0.3716 - val_accuracy: 0.8728\n",
            "Epoch 3/25\n",
            "1719/1719 [==============================] - 5s 3ms/step - loss: 0.3458 - accuracy: 0.8769 - val_loss: 0.3752 - val_accuracy: 0.8752\n",
            "Epoch 4/25\n",
            "1719/1719 [==============================] - 5s 3ms/step - loss: 0.3251 - accuracy: 0.8829 - val_loss: 0.3502 - val_accuracy: 0.8800\n",
            "Epoch 5/25\n",
            "1719/1719 [==============================] - 5s 3ms/step - loss: 0.3103 - accuracy: 0.8889 - val_loss: 0.3449 - val_accuracy: 0.8780\n",
            "Epoch 6/25\n",
            "1719/1719 [==============================] - 5s 3ms/step - loss: 0.2966 - accuracy: 0.8934 - val_loss: 0.3414 - val_accuracy: 0.8824\n",
            "Epoch 7/25\n",
            "1719/1719 [==============================] - 5s 3ms/step - loss: 0.2868 - accuracy: 0.8972 - val_loss: 0.3358 - val_accuracy: 0.8870\n",
            "Epoch 8/25\n",
            "1719/1719 [==============================] - 6s 3ms/step - loss: 0.2778 - accuracy: 0.9012 - val_loss: 0.3410 - val_accuracy: 0.8838\n",
            "Epoch 9/25\n",
            "1719/1719 [==============================] - 5s 3ms/step - loss: 0.2698 - accuracy: 0.9023 - val_loss: 0.3295 - val_accuracy: 0.8876\n",
            "Epoch 10/25\n",
            "1719/1719 [==============================] - 5s 3ms/step - loss: 0.2629 - accuracy: 0.9052 - val_loss: 0.3264 - val_accuracy: 0.8884\n",
            "Epoch 11/25\n",
            "1719/1719 [==============================] - 5s 3ms/step - loss: 0.2571 - accuracy: 0.9079 - val_loss: 0.3270 - val_accuracy: 0.8876\n",
            "Epoch 12/25\n",
            "1719/1719 [==============================] - 5s 3ms/step - loss: 0.2512 - accuracy: 0.9101 - val_loss: 0.3335 - val_accuracy: 0.8834\n",
            "Epoch 13/25\n",
            "1719/1719 [==============================] - 6s 3ms/step - loss: 0.2461 - accuracy: 0.9129 - val_loss: 0.3259 - val_accuracy: 0.8894\n",
            "Epoch 14/25\n",
            "1719/1719 [==============================] - 6s 3ms/step - loss: 0.2422 - accuracy: 0.9136 - val_loss: 0.3289 - val_accuracy: 0.8892\n",
            "Epoch 15/25\n",
            "1719/1719 [==============================] - 6s 3ms/step - loss: 0.2374 - accuracy: 0.9151 - val_loss: 0.3247 - val_accuracy: 0.8874\n",
            "Epoch 16/25\n",
            "1719/1719 [==============================] - 6s 3ms/step - loss: 0.2335 - accuracy: 0.9170 - val_loss: 0.3208 - val_accuracy: 0.8900\n",
            "Epoch 17/25\n",
            "1719/1719 [==============================] - 5s 3ms/step - loss: 0.2300 - accuracy: 0.9181 - val_loss: 0.3239 - val_accuracy: 0.8896\n",
            "Epoch 18/25\n",
            "1719/1719 [==============================] - 5s 3ms/step - loss: 0.2263 - accuracy: 0.9199 - val_loss: 0.3190 - val_accuracy: 0.8934\n",
            "Epoch 19/25\n",
            "1719/1719 [==============================] - 5s 3ms/step - loss: 0.2232 - accuracy: 0.9211 - val_loss: 0.3231 - val_accuracy: 0.8902\n",
            "Epoch 20/25\n",
            "1719/1719 [==============================] - 5s 3ms/step - loss: 0.2200 - accuracy: 0.9223 - val_loss: 0.3212 - val_accuracy: 0.8920\n",
            "Epoch 21/25\n",
            "1719/1719 [==============================] - 5s 3ms/step - loss: 0.2168 - accuracy: 0.9236 - val_loss: 0.3210 - val_accuracy: 0.8920\n",
            "Epoch 22/25\n",
            "1719/1719 [==============================] - 5s 3ms/step - loss: 0.2142 - accuracy: 0.9241 - val_loss: 0.3184 - val_accuracy: 0.8942\n",
            "Epoch 23/25\n",
            "1719/1719 [==============================] - 5s 3ms/step - loss: 0.2116 - accuracy: 0.9254 - val_loss: 0.3197 - val_accuracy: 0.8906\n",
            "Epoch 24/25\n",
            "1719/1719 [==============================] - 5s 3ms/step - loss: 0.2088 - accuracy: 0.9263 - val_loss: 0.3217 - val_accuracy: 0.8908\n",
            "Epoch 25/25\n",
            "1719/1719 [==============================] - 5s 3ms/step - loss: 0.2068 - accuracy: 0.9264 - val_loss: 0.3215 - val_accuracy: 0.8928\n"
          ],
          "name": "stdout"
        }
      ]
    },
    {
      "cell_type": "code",
      "metadata": {
        "colab": {
          "base_uri": "https://localhost:8080/",
          "height": 303
        },
        "id": "-LjmHARk73ad",
        "outputId": "2de5d6d8-0b74-43b5-c370-989ae6829db7"
      },
      "source": [
        "learning_rate=0.01\n",
        "decay=1e-4\n",
        "batch_size=32\n",
        "n_steps_per_epoch=len(X_train)//batch_size\n",
        "epochs=np.arange(n_epochs)\n",
        "lrs=learning_rate/(1+decay*epochs*n_steps_per_epoch)\n",
        "\n",
        "plt.plot(epochs,lrs,\"o-\")\n",
        "plt.axis([0,n_epochs-1,0,0.01])\n",
        "plt.xlabel(\"Epoch\")\n",
        "plt.ylabel(\"Learning Rate\")\n",
        "plt.title(\"Power Scheduling\",fontsize=14)\n",
        "plt.grid(True)\n",
        "plt.show()"
      ],
      "execution_count": null,
      "outputs": [
        {
          "output_type": "display_data",
          "data": {
            "image/png": "[encoded data removed]",
            "text/plain": [
              "<Figure size 432x288 with 1 Axes>"
            ]
          },
          "metadata": {
            "tags": [],
            "needs_background": "light"
          }
        }
      ]
    },
    {
      "cell_type": "markdown",
      "metadata": {
        "id": "_QYlzNFl9z-o"
      },
      "source": [
        "지수 기반 스케줄링  \n",
        "lr = lr0\\*0.1\\**(epoch / s)"
      ]
    },
    {
      "cell_type": "code",
      "metadata": {
        "id": "SGQB4Ew-8laF"
      },
      "source": [
        "def exponential_decay_fn(epoch):\n",
        "  return 0.01*0.1**(epoch/20)"
      ],
      "execution_count": null,
      "outputs": []
    },
    {
      "cell_type": "code",
      "metadata": {
        "id": "Hs9QqKIE-pz0"
      },
      "source": [
        "def exponential_decay(lr0,s):\n",
        "  def exponential_decay_fn(epoch):\n",
        "    return lr0*0.1**(epoch/s)\n",
        "  return exponential_decay_fn\n",
        "\n",
        "exponential_decay_fn=exponential_decay(lr0=0.01,s=20)"
      ],
      "execution_count": null,
      "outputs": []
    },
    {
      "cell_type": "code",
      "metadata": {
        "id": "WjrDBiIf_C2G"
      },
      "source": [
        "model=keras.models.Sequential([\n",
        "                               keras.layers.Flatten(input_shape=[28,28]),\n",
        "                               keras.layers.Dense(300,activation=\"selu\",kernel_initializer=\"lecun_normal\"),\n",
        "                               keras.layers.Dense(100,activation=\"selu\",kernel_initializer=\"lecun_normal\"),\n",
        "                               keras.layers.Dense(10,activation=\"softmax\")\n",
        "])\n",
        "model.compile(loss=\"sparse_categorical_crossentropy\",optimizer=\"nadam\",metrics=[\"accuracy\"])\n",
        "n_epochs=25"
      ],
      "execution_count": null,
      "outputs": []
    },
    {
      "cell_type": "code",
      "metadata": {
        "colab": {
          "base_uri": "https://localhost:8080/"
        },
        "id": "T7uRN_Y5_q4u",
        "outputId": "7076b8f5-20f9-49e3-ecbf-3881026fd4bd"
      },
      "source": [
        "lr_scheduler=keras.callbacks.LearningRateScheduler(exponential_decay_fn)\n",
        "history=model.fit(X_train_scaled,y_train,epochs=n_epochs,\n",
        "                  validation_data=(X_valid_scaled,y_valid),\n",
        "                  callbacks=[lr_scheduler])"
      ],
      "execution_count": null,
      "outputs": [
        {
          "output_type": "stream",
          "text": [
            "Epoch 1/25\n",
            "1719/1719 [==============================] - 10s 6ms/step - loss: 0.9094 - accuracy: 0.7370 - val_loss: 1.0208 - val_accuracy: 0.7344\n",
            "Epoch 2/25\n",
            "1719/1719 [==============================] - 10s 6ms/step - loss: 0.6804 - accuracy: 0.7919 - val_loss: 0.5537 - val_accuracy: 0.8258\n",
            "Epoch 3/25\n",
            "1719/1719 [==============================] - 10s 6ms/step - loss: 0.6126 - accuracy: 0.8146 - val_loss: 0.7158 - val_accuracy: 0.8138\n",
            "Epoch 4/25\n",
            "1719/1719 [==============================] - 10s 6ms/step - loss: 0.5616 - accuracy: 0.8316 - val_loss: 0.6111 - val_accuracy: 0.8304\n",
            "Epoch 5/25\n",
            "1719/1719 [==============================] - 10s 6ms/step - loss: 0.4928 - accuracy: 0.8458 - val_loss: 0.5208 - val_accuracy: 0.8460\n",
            "Epoch 6/25\n",
            "1719/1719 [==============================] - 10s 6ms/step - loss: 0.4425 - accuracy: 0.8595 - val_loss: 0.4892 - val_accuracy: 0.8552\n",
            "Epoch 7/25\n",
            "1719/1719 [==============================] - 10s 6ms/step - loss: 0.4200 - accuracy: 0.8660 - val_loss: 0.5197 - val_accuracy: 0.8552\n",
            "Epoch 8/25\n",
            "1719/1719 [==============================] - 10s 6ms/step - loss: 0.3838 - accuracy: 0.8750 - val_loss: 0.5218 - val_accuracy: 0.8500\n",
            "Epoch 9/25\n",
            "1719/1719 [==============================] - 11s 6ms/step - loss: 0.3558 - accuracy: 0.8828 - val_loss: 0.4876 - val_accuracy: 0.8468\n",
            "Epoch 10/25\n",
            "1719/1719 [==============================] - 10s 6ms/step - loss: 0.3283 - accuracy: 0.8896 - val_loss: 0.5185 - val_accuracy: 0.8722\n",
            "Epoch 11/25\n",
            "1719/1719 [==============================] - 10s 6ms/step - loss: 0.3007 - accuracy: 0.8971 - val_loss: 0.4257 - val_accuracy: 0.8794\n",
            "Epoch 12/25\n",
            "1719/1719 [==============================] - 10s 6ms/step - loss: 0.2792 - accuracy: 0.9031 - val_loss: 0.4488 - val_accuracy: 0.8800\n",
            "Epoch 13/25\n",
            "1719/1719 [==============================] - 10s 6ms/step - loss: 0.2645 - accuracy: 0.9087 - val_loss: 0.4535 - val_accuracy: 0.8780\n",
            "Epoch 14/25\n",
            "1719/1719 [==============================] - 10s 6ms/step - loss: 0.2416 - accuracy: 0.9158 - val_loss: 0.4497 - val_accuracy: 0.8790\n",
            "Epoch 15/25\n",
            "1719/1719 [==============================] - 10s 6ms/step - loss: 0.2328 - accuracy: 0.9202 - val_loss: 0.4403 - val_accuracy: 0.8812\n",
            "Epoch 16/25\n",
            "1719/1719 [==============================] - 10s 6ms/step - loss: 0.2143 - accuracy: 0.9258 - val_loss: 0.4498 - val_accuracy: 0.8866\n",
            "Epoch 17/25\n",
            "1719/1719 [==============================] - 10s 6ms/step - loss: 0.1971 - accuracy: 0.9318 - val_loss: 0.4808 - val_accuracy: 0.8866\n",
            "Epoch 18/25\n",
            "1719/1719 [==============================] - 10s 6ms/step - loss: 0.1814 - accuracy: 0.9366 - val_loss: 0.4766 - val_accuracy: 0.8902\n",
            "Epoch 19/25\n",
            "1719/1719 [==============================] - 10s 6ms/step - loss: 0.1692 - accuracy: 0.9408 - val_loss: 0.4698 - val_accuracy: 0.8916\n",
            "Epoch 20/25\n",
            "1719/1719 [==============================] - 10s 6ms/step - loss: 0.1555 - accuracy: 0.9463 - val_loss: 0.4744 - val_accuracy: 0.8918\n",
            "Epoch 21/25\n",
            "1719/1719 [==============================] - 11s 7ms/step - loss: 0.1455 - accuracy: 0.9505 - val_loss: 0.4998 - val_accuracy: 0.8908\n",
            "Epoch 22/25\n",
            "1719/1719 [==============================] - 10s 6ms/step - loss: 0.1347 - accuracy: 0.9548 - val_loss: 0.5114 - val_accuracy: 0.8940\n",
            "Epoch 23/25\n",
            "1719/1719 [==============================] - 10s 6ms/step - loss: 0.1249 - accuracy: 0.9582 - val_loss: 0.5658 - val_accuracy: 0.8942\n",
            "Epoch 24/25\n",
            "1719/1719 [==============================] - 10s 6ms/step - loss: 0.1155 - accuracy: 0.9618 - val_loss: 0.5834 - val_accuracy: 0.8890\n",
            "Epoch 25/25\n",
            "1719/1719 [==============================] - 11s 7ms/step - loss: 0.1085 - accuracy: 0.9643 - val_loss: 0.6018 - val_accuracy: 0.8864\n"
          ],
          "name": "stdout"
        }
      ]
    },
    {
      "cell_type": "code",
      "metadata": {
        "colab": {
          "base_uri": "https://localhost:8080/",
          "height": 303
        },
        "id": "3OvH3lQc__F8",
        "outputId": "b1bd4db8-192e-499e-9e0e-153dd86c8f54"
      },
      "source": [
        "plt.plot(history.epoch,history.history[\"lr\"],\"o-\")\n",
        "plt.axis([0,n_epochs-1,0,0.011])\n",
        "plt.xlabel(\"Epoch\")\n",
        "plt.ylabel(\"Learning Rate\")\n",
        "plt.title(\"Exponential Scheduling\",fontsize=14)\n",
        "plt.grid(True)\n",
        "plt.show()"
      ],
      "execution_count": null,
      "outputs": [
        {
          "output_type": "display_data",
          "data": {
            "image/png": "[encoded data removed]",
            "text/plain": [
              "<Figure size 432x288 with 1 Axes>"
            ]
          },
          "metadata": {
            "tags": [],
            "needs_background": "light"
          }
        }
      ]
    },
    {
      "cell_type": "markdown",
      "metadata": {
        "id": "RNWKiwi7FK9y"
      },
      "source": [
        "이 스케줄 함수는 두 번째 매개변수로 현재 학습률을 받을 수 있다 :"
      ]
    },
    {
      "cell_type": "code",
      "metadata": {
        "id": "nrgWDdPGDgDu"
      },
      "source": [
        "def exponential_decay_fn(epoch,lr):\n",
        "  return lr*0.1**(1/20)"
      ],
      "execution_count": null,
      "outputs": []
    },
    {
      "cell_type": "markdown",
      "metadata": {
        "id": "4B1dzHADFVo3"
      },
      "source": [
        "에포크가 아니라 반복마다 학습률을 업데이트하려면 사용자 정의 콜백 클래스를 작성해야 한다 :"
      ]
    },
    {
      "cell_type": "code",
      "metadata": {
        "id": "5oJLr8s3FU-n",
        "colab": {
          "base_uri": "https://localhost:8080/"
        },
        "outputId": "34aa99a3-ed4c-47e4-e6af-131d94020fc9"
      },
      "source": [
        "k=keras.backend\n",
        "\n",
        "class ExponentialDecay(keras.callbacks.Callback):\n",
        "  def __init__(self,s=40000):\n",
        "    super().__init__()\n",
        "    self.s=s\n",
        "  \n",
        "  def on_batch_begin(self,batch,logs=None):\n",
        "    #에포크마다 `batch` 매개변수가 재설정\n",
        "    lr=k.get_value(self.model.optimizer.lr)\n",
        "    k.set_value(self.model.optimizer.lr,lr*0.1**(1/s))\n",
        "  \n",
        "  def on_epoch_end(self,epoch,logs=None):\n",
        "    logs=logs or {}\n",
        "    logs['lr']=k.get_value(self.model.optimizer.lr)\n",
        "\n",
        "model=keras.models.Sequential([\n",
        "                               keras.layers.Flatten(input_shape=[28,28]),\n",
        "                               keras.layers.Dense(300,activation=\"selu\",kernel_initializer=\"lecun_normal\"),\n",
        "                               keras.layers.Dense(100,activation=\"selu\",kernel_initializer=\"lecun_normal\"),\n",
        "                               keras.layers.Dense(10,activation=\"softmax\")\n",
        "])\n",
        "lr0=0.01\n",
        "optimizer=keras.optimizers.Nadam(lr=lr0)\n",
        "model.compile(loss=\"sparse_categorical_crossentropy\",optimizer=optimizer,metrics=[\"accuracy\"])\n",
        "n_epochs=25\n",
        "\n",
        "s=20*len(X_train)//32 #20에포크 동안 스텝 횟수 (배치크기=32)\n",
        "exp_decay=ExponentialDecay(s)\n",
        "history=model.fit(X_train_scaled,y_train,epochs=n_epochs,\n",
        "                  validation_data=(X_valid_scaled,y_valid),\n",
        "                  callbacks=[exp_decay])"
      ],
      "execution_count": null,
      "outputs": [
        {
          "output_type": "stream",
          "text": [
            "Epoch 1/25\n",
            "1719/1719 [==============================] - 13s 8ms/step - loss: 0.8274 - accuracy: 0.7604 - val_loss: 0.8279 - val_accuracy: 0.7552\n",
            "Epoch 2/25\n",
            "1719/1719 [==============================] - 12s 7ms/step - loss: 0.6382 - accuracy: 0.8036 - val_loss: 0.5874 - val_accuracy: 0.8024\n",
            "Epoch 3/25\n",
            "1719/1719 [==============================] - 12s 7ms/step - loss: 0.5758 - accuracy: 0.8211 - val_loss: 0.7977 - val_accuracy: 0.7764\n",
            "Epoch 4/25\n",
            "1719/1719 [==============================] - 12s 7ms/step - loss: 0.5196 - accuracy: 0.8369 - val_loss: 0.5043 - val_accuracy: 0.8566\n",
            "Epoch 5/25\n",
            "1719/1719 [==============================] - 12s 7ms/step - loss: 0.4682 - accuracy: 0.8526 - val_loss: 0.5289 - val_accuracy: 0.8594\n",
            "Epoch 6/25\n",
            "1719/1719 [==============================] - 12s 7ms/step - loss: 0.4489 - accuracy: 0.8622 - val_loss: 0.4646 - val_accuracy: 0.8660\n",
            "Epoch 7/25\n",
            "1719/1719 [==============================] - 12s 7ms/step - loss: 0.3985 - accuracy: 0.8721 - val_loss: 0.4495 - val_accuracy: 0.8644\n",
            "Epoch 8/25\n",
            "1719/1719 [==============================] - 12s 7ms/step - loss: 0.3718 - accuracy: 0.8818 - val_loss: 0.5383 - val_accuracy: 0.8238\n",
            "Epoch 9/25\n",
            "1719/1719 [==============================] - 12s 7ms/step - loss: 0.3376 - accuracy: 0.8900 - val_loss: 0.4308 - val_accuracy: 0.8812\n",
            "Epoch 10/25\n",
            "1719/1719 [==============================] - 12s 7ms/step - loss: 0.3084 - accuracy: 0.8964 - val_loss: 0.4549 - val_accuracy: 0.8836\n",
            "Epoch 11/25\n",
            "1719/1719 [==============================] - 11s 7ms/step - loss: 0.3039 - accuracy: 0.9005 - val_loss: 0.4383 - val_accuracy: 0.8826\n",
            "Epoch 12/25\n",
            "1719/1719 [==============================] - 12s 7ms/step - loss: 0.2692 - accuracy: 0.9081 - val_loss: 0.4601 - val_accuracy: 0.8736\n",
            "Epoch 13/25\n",
            "1719/1719 [==============================] - 12s 7ms/step - loss: 0.2529 - accuracy: 0.9126 - val_loss: 0.4405 - val_accuracy: 0.8862\n",
            "Epoch 14/25\n",
            "1719/1719 [==============================] - 11s 7ms/step - loss: 0.2345 - accuracy: 0.9212 - val_loss: 0.4141 - val_accuracy: 0.8844\n",
            "Epoch 15/25\n",
            "1719/1719 [==============================] - 11s 7ms/step - loss: 0.2145 - accuracy: 0.9267 - val_loss: 0.4265 - val_accuracy: 0.8864\n",
            "Epoch 16/25\n",
            "1719/1719 [==============================] - 12s 7ms/step - loss: 0.2017 - accuracy: 0.9315 - val_loss: 0.4170 - val_accuracy: 0.8908\n",
            "Epoch 17/25\n",
            "1719/1719 [==============================] - 12s 7ms/step - loss: 0.1859 - accuracy: 0.9365 - val_loss: 0.4520 - val_accuracy: 0.8926\n",
            "Epoch 18/25\n",
            "1719/1719 [==============================] - 11s 7ms/step - loss: 0.1729 - accuracy: 0.9403 - val_loss: 0.4586 - val_accuracy: 0.8908\n",
            "Epoch 19/25\n",
            "1719/1719 [==============================] - 11s 7ms/step - loss: 0.1616 - accuracy: 0.9459 - val_loss: 0.4662 - val_accuracy: 0.8936\n",
            "Epoch 20/25\n",
            "1719/1719 [==============================] - 11s 7ms/step - loss: 0.1493 - accuracy: 0.9495 - val_loss: 0.4781 - val_accuracy: 0.8894\n",
            "Epoch 21/25\n",
            "1719/1719 [==============================] - 11s 7ms/step - loss: 0.1389 - accuracy: 0.9532 - val_loss: 0.5078 - val_accuracy: 0.8916\n",
            "Epoch 22/25\n",
            "1719/1719 [==============================] - 12s 7ms/step - loss: 0.1296 - accuracy: 0.9569 - val_loss: 0.5434 - val_accuracy: 0.8932\n",
            "Epoch 23/25\n",
            "1719/1719 [==============================] - 12s 7ms/step - loss: 0.1221 - accuracy: 0.9601 - val_loss: 0.5410 - val_accuracy: 0.8924\n",
            "Epoch 24/25\n",
            "1719/1719 [==============================] - 11s 7ms/step - loss: 0.1137 - accuracy: 0.9641 - val_loss: 0.5819 - val_accuracy: 0.8920\n",
            "Epoch 25/25\n",
            "1719/1719 [==============================] - 11s 7ms/step - loss: 0.1068 - accuracy: 0.9651 - val_loss: 0.6123 - val_accuracy: 0.8916\n"
          ],
          "name": "stdout"
        }
      ]
    },
    {
      "cell_type": "code",
      "metadata": {
        "id": "JrsxBF6MnO8r"
      },
      "source": [
        "n_steps=n_epochs*len(X_train)//32\n",
        "steps=np.arange(n_steps)\n",
        "lrs=lr0*0.1**(steps/s)"
      ],
      "execution_count": null,
      "outputs": []
    },
    {
      "cell_type": "code",
      "metadata": {
        "colab": {
          "base_uri": "https://localhost:8080/",
          "height": 303
        },
        "id": "MsKIUPBdnfi1",
        "outputId": "9d39bdf6-be1d-47cc-9931-e183bda91d3b"
      },
      "source": [
        "plt.plot(steps,lrs,\"-\",linewidth=2)\n",
        "plt.axis([0,n_steps-1,0,lr0*1.1])\n",
        "plt.xlabel(\"Batch\")\n",
        "plt.ylabel(\"Learning Rate\")\n",
        "plt.title(\"Exponential Scheduling (per batch)\",fontsize=14)\n",
        "plt.grid(True)\n",
        "plt.show()"
      ],
      "execution_count": null,
      "outputs": [
        {
          "output_type": "display_data",
          "data": {
            "image/png": "[encoded data removed]",
            "text/plain": [
              "<Figure size 432x288 with 1 Axes>"
            ]
          },
          "metadata": {
            "tags": [],
            "needs_background": "light"
          }
        }
      ]
    },
    {
      "cell_type": "markdown",
      "metadata": {
        "id": "RsjCUKwk3trm"
      },
      "source": [
        "기간별 고정 스케줄링"
      ]
    },
    {
      "cell_type": "code",
      "metadata": {
        "id": "OspFYY454vIU"
      },
      "source": [
        "def piecewise_constant_fn(epoch):\n",
        "  if epoch<5:\n",
        "    return 0.01\n",
        "  elif epoch<15:\n",
        "    return 0.005\n",
        "  else:\n",
        "    return 0.001"
      ],
      "execution_count": null,
      "outputs": []
    },
    {
      "cell_type": "code",
      "metadata": {
        "id": "Ud275iMl9WbQ"
      },
      "source": [
        "def piecewise_constant(boundaries,values):\n",
        "  boundaries=np.array([0]+boundaries)\n",
        "  values=np.array(values)\n",
        "  def piecewise_constant_fn(epoch):\n",
        "    return values[np.argmax(boundaries>epoch)-1]\n",
        "  return piecewise_constant_fn\n",
        "\n",
        "piecewise_constant_fn=piecewise_constant([5,15],[0.01,0.005,0.001])"
      ],
      "execution_count": null,
      "outputs": []
    },
    {
      "cell_type": "code",
      "metadata": {
        "colab": {
          "base_uri": "https://localhost:8080/"
        },
        "id": "g6ddTYUF9vVr",
        "outputId": "6785b0f9-8e5a-44c3-f860-e3e89a746005"
      },
      "source": [
        "lr_scheduler=keras.callbacks.LearningRateScheduler(piecewise_constant_fn)\n",
        "\n",
        "model=keras.models.Sequential([\n",
        "                               keras.layers.Flatten(input_shape=[28,28]),\n",
        "                               keras.layers.Dense(300,activation=\"selu\",kernel_initializer=\"lecun_normal\"),\n",
        "                               keras.layers.Dense(100,activation=\"selu\",kernel_initializer=\"lecun_normal\"),\n",
        "                               keras.layers.Dense(10,activation=\"softmax\")\n",
        "])\n",
        "model.compile(loss=\"sparse_categorical_crossentropy\",optimizer=\"nadam\",metrics=[\"accuracy\"])\n",
        "n_epochs=25\n",
        "history=model.fit(X_train_scaled,y_train,epochs=n_epochs,\n",
        "                  validation_data=(X_valid_scaled,y_valid),\n",
        "                  callbacks=[lr_scheduler])"
      ],
      "execution_count": null,
      "outputs": [
        {
          "output_type": "stream",
          "text": [
            "Epoch 1/25\n",
            "1719/1719 [==============================] - 11s 6ms/step - loss: 0.8524 - accuracy: 0.7559 - val_loss: 0.9752 - val_accuracy: 0.7090\n",
            "Epoch 2/25\n",
            "1719/1719 [==============================] - 11s 6ms/step - loss: 0.8640 - accuracy: 0.7428 - val_loss: 0.6138 - val_accuracy: 0.8072\n",
            "Epoch 3/25\n",
            "1719/1719 [==============================] - 13s 7ms/step - loss: 0.8610 - accuracy: 0.7478 - val_loss: 1.4423 - val_accuracy: 0.6284\n",
            "Epoch 4/25\n",
            "1719/1719 [==============================] - 11s 6ms/step - loss: 0.9943 - accuracy: 0.6765 - val_loss: 0.9379 - val_accuracy: 0.6768\n",
            "Epoch 5/25\n",
            "1719/1719 [==============================] - 11s 6ms/step - loss: 0.8587 - accuracy: 0.7002 - val_loss: 0.8857 - val_accuracy: 0.7486\n",
            "Epoch 6/25\n",
            "1719/1719 [==============================] - 11s 6ms/step - loss: 0.6166 - accuracy: 0.7880 - val_loss: 0.7018 - val_accuracy: 0.8118\n",
            "Epoch 7/25\n",
            "1719/1719 [==============================] - 11s 6ms/step - loss: 0.5694 - accuracy: 0.8085 - val_loss: 0.6289 - val_accuracy: 0.8006\n",
            "Epoch 8/25\n",
            "1719/1719 [==============================] - 11s 6ms/step - loss: 0.5505 - accuracy: 0.8128 - val_loss: 0.7164 - val_accuracy: 0.7766\n",
            "Epoch 9/25\n",
            "1719/1719 [==============================] - 11s 6ms/step - loss: 0.5452 - accuracy: 0.8160 - val_loss: 0.6168 - val_accuracy: 0.7748\n",
            "Epoch 10/25\n",
            "1719/1719 [==============================] - 11s 6ms/step - loss: 0.5299 - accuracy: 0.8233 - val_loss: 0.6665 - val_accuracy: 0.8124\n",
            "Epoch 11/25\n",
            "1719/1719 [==============================] - 11s 6ms/step - loss: 0.5217 - accuracy: 0.8298 - val_loss: 0.6863 - val_accuracy: 0.8342\n",
            "Epoch 12/25\n",
            "1719/1719 [==============================] - 11s 6ms/step - loss: 0.5128 - accuracy: 0.8303 - val_loss: 0.6661 - val_accuracy: 0.7912\n",
            "Epoch 13/25\n",
            "1719/1719 [==============================] - 11s 6ms/step - loss: 0.5047 - accuracy: 0.8344 - val_loss: 0.6884 - val_accuracy: 0.7988\n",
            "Epoch 14/25\n",
            "1719/1719 [==============================] - 11s 6ms/step - loss: 0.4956 - accuracy: 0.8385 - val_loss: 0.5857 - val_accuracy: 0.8268\n",
            "Epoch 15/25\n",
            "1719/1719 [==============================] - 11s 6ms/step - loss: 0.4770 - accuracy: 0.8418 - val_loss: 0.6479 - val_accuracy: 0.8326\n",
            "Epoch 16/25\n",
            "1719/1719 [==============================] - 11s 6ms/step - loss: 0.3698 - accuracy: 0.8770 - val_loss: 0.5511 - val_accuracy: 0.8496\n",
            "Epoch 17/25\n",
            "1719/1719 [==============================] - 11s 6ms/step - loss: 0.3300 - accuracy: 0.8856 - val_loss: 0.5342 - val_accuracy: 0.8502\n",
            "Epoch 18/25\n",
            "1719/1719 [==============================] - 11s 7ms/step - loss: 0.3016 - accuracy: 0.8904 - val_loss: 0.5254 - val_accuracy: 0.8646\n",
            "Epoch 19/25\n",
            "1719/1719 [==============================] - 11s 6ms/step - loss: 0.2896 - accuracy: 0.8946 - val_loss: 0.5374 - val_accuracy: 0.8656\n",
            "Epoch 20/25\n",
            "1719/1719 [==============================] - 11s 6ms/step - loss: 0.2784 - accuracy: 0.8993 - val_loss: 0.5505 - val_accuracy: 0.8678\n",
            "Epoch 21/25\n",
            "1719/1719 [==============================] - 11s 6ms/step - loss: 0.2612 - accuracy: 0.9049 - val_loss: 0.5900 - val_accuracy: 0.8682\n",
            "Epoch 22/25\n",
            "1719/1719 [==============================] - 11s 6ms/step - loss: 0.2438 - accuracy: 0.9108 - val_loss: 0.5854 - val_accuracy: 0.8736\n",
            "Epoch 23/25\n",
            "1719/1719 [==============================] - 11s 6ms/step - loss: 0.2337 - accuracy: 0.9147 - val_loss: 0.5536 - val_accuracy: 0.8730\n",
            "Epoch 24/25\n",
            "1719/1719 [==============================] - 11s 6ms/step - loss: 0.2195 - accuracy: 0.9207 - val_loss: 0.5544 - val_accuracy: 0.8760\n",
            "Epoch 25/25\n",
            "1719/1719 [==============================] - 12s 7ms/step - loss: 0.2110 - accuracy: 0.9223 - val_loss: 0.5635 - val_accuracy: 0.8824\n"
          ],
          "name": "stdout"
        }
      ]
    },
    {
      "cell_type": "code",
      "metadata": {
        "colab": {
          "base_uri": "https://localhost:8080/",
          "height": 303
        },
        "id": "GW7DFv-V-hC2",
        "outputId": "e261fcb9-d0c6-4b36-cbb9-2dd0be045978"
      },
      "source": [
        "plt.plot(history.epoch,[piecewise_constant_fn(epoch)for epoch in history.epoch],\"o-\")\n",
        "plt.axis([0,n_epochs-1,0,0.011])\n",
        "plt.xlabel(\"Epoch\")\n",
        "plt.ylabel(\"Learning Rate\")\n",
        "plt.title(\"Piecewise Constant Scheduling\",fontsize=14)\n",
        "plt.grid(True)\n",
        "plt.show()"
      ],
      "execution_count": null,
      "outputs": [
        {
          "output_type": "display_data",
          "data": {
            "image/png": "[encoded data removed]",
            "text/plain": [
              "<Figure size 432x288 with 1 Axes>"
            ]
          },
          "metadata": {
            "tags": [],
            "needs_background": "light"
          }
        }
      ]
    },
    {
      "cell_type": "markdown",
      "metadata": {
        "id": "9vGmmg9A_NeG"
      },
      "source": [
        "성능 기반 스케줄링"
      ]
    },
    {
      "cell_type": "code",
      "metadata": {
        "id": "D_lDz_2OE-59"
      },
      "source": [
        "tf.random.set_seed(42)\n",
        "np.random.seed(42)"
      ],
      "execution_count": null,
      "outputs": []
    },
    {
      "cell_type": "code",
      "metadata": {
        "colab": {
          "base_uri": "https://localhost:8080/"
        },
        "id": "2b1DksthFG0B",
        "outputId": "a9009293-c9fc-494e-8dc5-f0d7dc46ab31"
      },
      "source": [
        "lr_scheduler=keras.callbacks.ReduceLROnPlateau(factor=0.5,patience=5)\n",
        "\n",
        "model=keras.models.Sequential([\n",
        "                               keras.layers.Flatten(input_shape=[28,28]),\n",
        "                               keras.layers.Dense(300,activation=\"selu\",kernel_initializer=\"lecun_normal\"),\n",
        "                               keras.layers.Dense(100,activation=\"selu\",kernel_initializer=\"lecun_normal\"),\n",
        "                               keras.layers.Dense(10,activation=\"softmax\")\n",
        "])\n",
        "optimizer=keras.optimizers.SGD(lr=0.02,momentum=0.9)\n",
        "model.compile(loss=\"sparse_categorical_crossentropy\",optimizer=optimizer,metrics=[\"accuracy\"])\n",
        "n_epochs=25\n",
        "history=model.fit(X_train_scaled,y_train,epochs=n_epochs,\n",
        "                  validation_data=(X_valid_scaled,y_valid),\n",
        "                  callbacks=[lr_scheduler])"
      ],
      "execution_count": null,
      "outputs": [
        {
          "output_type": "stream",
          "text": [
            "Epoch 1/25\n",
            "1719/1719 [==============================] - 6s 3ms/step - loss: 0.5921 - accuracy: 0.8060 - val_loss: 0.4477 - val_accuracy: 0.8558\n",
            "Epoch 2/25\n",
            "1719/1719 [==============================] - 6s 3ms/step - loss: 0.4974 - accuracy: 0.8396 - val_loss: 0.6120 - val_accuracy: 0.8360\n",
            "Epoch 3/25\n",
            "1719/1719 [==============================] - 6s 3ms/step - loss: 0.5222 - accuracy: 0.8407 - val_loss: 0.5312 - val_accuracy: 0.8520\n",
            "Epoch 4/25\n",
            "1719/1719 [==============================] - 5s 3ms/step - loss: 0.4898 - accuracy: 0.8504 - val_loss: 0.4545 - val_accuracy: 0.8526\n",
            "Epoch 5/25\n",
            "1719/1719 [==============================] - 5s 3ms/step - loss: 0.5264 - accuracy: 0.8473 - val_loss: 0.4999 - val_accuracy: 0.8416\n",
            "Epoch 6/25\n",
            "1719/1719 [==============================] - 6s 3ms/step - loss: 0.4961 - accuracy: 0.8561 - val_loss: 0.5358 - val_accuracy: 0.8566\n",
            "Epoch 7/25\n",
            "1719/1719 [==============================] - 5s 3ms/step - loss: 0.3058 - accuracy: 0.8935 - val_loss: 0.3868 - val_accuracy: 0.8780\n",
            "Epoch 8/25\n",
            "1719/1719 [==============================] - 6s 3ms/step - loss: 0.2564 - accuracy: 0.9061 - val_loss: 0.4176 - val_accuracy: 0.8742\n",
            "Epoch 9/25\n",
            "1719/1719 [==============================] - 5s 3ms/step - loss: 0.2331 - accuracy: 0.9141 - val_loss: 0.4345 - val_accuracy: 0.8788\n",
            "Epoch 10/25\n",
            "1719/1719 [==============================] - 5s 3ms/step - loss: 0.2230 - accuracy: 0.9189 - val_loss: 0.4486 - val_accuracy: 0.8794\n",
            "Epoch 11/25\n",
            "1719/1719 [==============================] - 6s 4ms/step - loss: 0.2096 - accuracy: 0.9227 - val_loss: 0.4158 - val_accuracy: 0.8850\n",
            "Epoch 12/25\n",
            "1719/1719 [==============================] - 6s 4ms/step - loss: 0.1987 - accuracy: 0.9259 - val_loss: 0.4835 - val_accuracy: 0.8740\n",
            "Epoch 13/25\n",
            "1719/1719 [==============================] - 6s 3ms/step - loss: 0.1399 - accuracy: 0.9452 - val_loss: 0.3912 - val_accuracy: 0.8908\n",
            "Epoch 14/25\n",
            "1719/1719 [==============================] - 6s 3ms/step - loss: 0.1213 - accuracy: 0.9534 - val_loss: 0.4123 - val_accuracy: 0.8900\n",
            "Epoch 15/25\n",
            "1719/1719 [==============================] - 6s 3ms/step - loss: 0.1140 - accuracy: 0.9563 - val_loss: 0.4267 - val_accuracy: 0.8892\n",
            "Epoch 16/25\n",
            "1719/1719 [==============================] - 5s 3ms/step - loss: 0.1054 - accuracy: 0.9598 - val_loss: 0.4507 - val_accuracy: 0.8886\n",
            "Epoch 17/25\n",
            "1719/1719 [==============================] - 5s 3ms/step - loss: 0.1003 - accuracy: 0.9612 - val_loss: 0.4682 - val_accuracy: 0.8872\n",
            "Epoch 18/25\n",
            "1719/1719 [==============================] - 6s 3ms/step - loss: 0.0761 - accuracy: 0.9716 - val_loss: 0.4768 - val_accuracy: 0.8918\n",
            "Epoch 19/25\n",
            "1719/1719 [==============================] - 6s 3ms/step - loss: 0.0693 - accuracy: 0.9745 - val_loss: 0.4880 - val_accuracy: 0.8912\n",
            "Epoch 20/25\n",
            "1719/1719 [==============================] - 5s 3ms/step - loss: 0.0644 - accuracy: 0.9765 - val_loss: 0.4969 - val_accuracy: 0.8926\n",
            "Epoch 21/25\n",
            "1719/1719 [==============================] - 6s 3ms/step - loss: 0.0606 - accuracy: 0.9782 - val_loss: 0.5138 - val_accuracy: 0.8910\n",
            "Epoch 22/25\n",
            "1719/1719 [==============================] - 6s 3ms/step - loss: 0.0571 - accuracy: 0.9797 - val_loss: 0.5211 - val_accuracy: 0.8926\n",
            "Epoch 23/25\n",
            "1719/1719 [==============================] - 6s 3ms/step - loss: 0.0484 - accuracy: 0.9839 - val_loss: 0.5257 - val_accuracy: 0.8950\n",
            "Epoch 24/25\n",
            "1719/1719 [==============================] - 5s 3ms/step - loss: 0.0456 - accuracy: 0.9851 - val_loss: 0.5337 - val_accuracy: 0.8938\n",
            "Epoch 25/25\n",
            "1719/1719 [==============================] - 5s 3ms/step - loss: 0.0440 - accuracy: 0.9858 - val_loss: 0.5416 - val_accuracy: 0.8940\n"
          ],
          "name": "stdout"
        }
      ]
    },
    {
      "cell_type": "code",
      "metadata": {
        "colab": {
          "base_uri": "https://localhost:8080/",
          "height": 303
        },
        "id": "Z12oKI8WGkeR",
        "outputId": "ba3b6009-bfe1-44f4-8003-55ea516fa751"
      },
      "source": [
        "plt.plot(history.epoch,history.history[\"lr\"],\"bo-\")\n",
        "plt.xlabel(\"Epoch\")\n",
        "plt.ylabel(\"Learning Rate\",color='b')\n",
        "plt.tick_params('y',colors='b')\n",
        "plt.gca().set_xlim(0,n_epochs-1)\n",
        "plt.grid(True)\n",
        "\n",
        "ax2=plt.gca().twinx()\n",
        "ax2.plot(history.epoch,history.history[\"val_loss\"],\"r^-\")\n",
        "ax2.set_ylabel('Validation Loss',color='r')\n",
        "ax2.tick_params('y',colors='r')\n",
        "\n",
        "plt.title(\"Reduce LR on Plateau\",fontsize=14)\n",
        "plt.show()"
      ],
      "execution_count": null,
      "outputs": [
        {
          "output_type": "display_data",
          "data": {
            "image/png": "[encoded data removed]",
            "text/plain": [
              "<Figure size 432x288 with 2 Axes>"
            ]
          },
          "metadata": {
            "tags": [],
            "needs_background": "light"
          }
        }
      ]
    },
    {
      "cell_type": "markdown",
      "metadata": {
        "id": "UT1nunf8Hcd7"
      },
      "source": [
        "tf.keras 스케줄러"
      ]
    },
    {
      "cell_type": "code",
      "metadata": {
        "colab": {
          "base_uri": "https://localhost:8080/"
        },
        "id": "yBv0wM46HRsM",
        "outputId": "14a6022d-b7f8-425b-8a65-a6a9578ff31b"
      },
      "source": [
        "model=keras.models.Sequential([\n",
        "                               keras.layers.Flatten(input_shape=[28,28]),\n",
        "                               keras.layers.Dense(300,activation=\"selu\",kernel_initializer=\"lecun_normal\"),\n",
        "                               keras.layers.Dense(100,activation=\"selu\",kernel_initializer=\"lecun_normal\"),\n",
        "                               keras.layers.Dense(10,activation=\"softmax\")\n",
        "])\n",
        "s=20*len(X_train)//32 #number of steps in 20 epochs (batch size=32)\n",
        "learning_rate=keras.optimizers.schedules.ExponentialDecay(0.01,s,0.1)\n",
        "optimizer=keras.optimizers.SGD(learning_rate)\n",
        "model.compile(loss=\"sparse_categorical_crossentropy\",optimizer=optimizer,metrics=[\"accuracy\"])\n",
        "n_epochs=25\n",
        "history=model.fit(X_train_scaled,y_train,epochs=n_epochs,\n",
        "                  validation_data=(X_valid_scaled,y_valid))"
      ],
      "execution_count": null,
      "outputs": [
        {
          "output_type": "stream",
          "text": [
            "Epoch 1/25\n",
            "1719/1719 [==============================] - 5s 3ms/step - loss: 0.4894 - accuracy: 0.8275 - val_loss: 0.4094 - val_accuracy: 0.8600\n",
            "Epoch 2/25\n",
            "1719/1719 [==============================] - 5s 3ms/step - loss: 0.3820 - accuracy: 0.8652 - val_loss: 0.3739 - val_accuracy: 0.8694\n",
            "Epoch 3/25\n",
            "1719/1719 [==============================] - 5s 3ms/step - loss: 0.3487 - accuracy: 0.8766 - val_loss: 0.3731 - val_accuracy: 0.8688\n",
            "Epoch 4/25\n",
            "1719/1719 [==============================] - 5s 3ms/step - loss: 0.3264 - accuracy: 0.8836 - val_loss: 0.3492 - val_accuracy: 0.8800\n",
            "Epoch 5/25\n",
            "1719/1719 [==============================] - 5s 3ms/step - loss: 0.3105 - accuracy: 0.8898 - val_loss: 0.3430 - val_accuracy: 0.8792\n",
            "Epoch 6/25\n",
            "1719/1719 [==============================] - 5s 3ms/step - loss: 0.2959 - accuracy: 0.8951 - val_loss: 0.3414 - val_accuracy: 0.8818\n",
            "Epoch 7/25\n",
            "1719/1719 [==============================] - 5s 3ms/step - loss: 0.2855 - accuracy: 0.8989 - val_loss: 0.3355 - val_accuracy: 0.8808\n",
            "Epoch 8/25\n",
            "1719/1719 [==============================] - 5s 3ms/step - loss: 0.2761 - accuracy: 0.9014 - val_loss: 0.3365 - val_accuracy: 0.8810\n",
            "Epoch 9/25\n",
            "1719/1719 [==============================] - 5s 3ms/step - loss: 0.2678 - accuracy: 0.9053 - val_loss: 0.3262 - val_accuracy: 0.8858\n",
            "Epoch 10/25\n",
            "1719/1719 [==============================] - 5s 3ms/step - loss: 0.2609 - accuracy: 0.9068 - val_loss: 0.3240 - val_accuracy: 0.8850\n",
            "Epoch 11/25\n",
            "1719/1719 [==============================] - 5s 3ms/step - loss: 0.2552 - accuracy: 0.9084 - val_loss: 0.3251 - val_accuracy: 0.8864\n",
            "Epoch 12/25\n",
            "1719/1719 [==============================] - 5s 3ms/step - loss: 0.2497 - accuracy: 0.9128 - val_loss: 0.3301 - val_accuracy: 0.8818\n",
            "Epoch 13/25\n",
            "1719/1719 [==============================] - 5s 3ms/step - loss: 0.2450 - accuracy: 0.9135 - val_loss: 0.3216 - val_accuracy: 0.8864\n",
            "Epoch 14/25\n",
            "1719/1719 [==============================] - 5s 3ms/step - loss: 0.2416 - accuracy: 0.9144 - val_loss: 0.3220 - val_accuracy: 0.8862\n",
            "Epoch 15/25\n",
            "1719/1719 [==============================] - 5s 3ms/step - loss: 0.2376 - accuracy: 0.9167 - val_loss: 0.3207 - val_accuracy: 0.8880\n",
            "Epoch 16/25\n",
            "1719/1719 [==============================] - 5s 3ms/step - loss: 0.2344 - accuracy: 0.9179 - val_loss: 0.3183 - val_accuracy: 0.8894\n",
            "Epoch 17/25\n",
            "1719/1719 [==============================] - 5s 3ms/step - loss: 0.2317 - accuracy: 0.9188 - val_loss: 0.3195 - val_accuracy: 0.8900\n",
            "Epoch 18/25\n",
            "1719/1719 [==============================] - 5s 3ms/step - loss: 0.2291 - accuracy: 0.9197 - val_loss: 0.3166 - val_accuracy: 0.8902\n",
            "Epoch 19/25\n",
            "1719/1719 [==============================] - 5s 3ms/step - loss: 0.2270 - accuracy: 0.9207 - val_loss: 0.3195 - val_accuracy: 0.8890\n",
            "Epoch 20/25\n",
            "1719/1719 [==============================] - 5s 3ms/step - loss: 0.2251 - accuracy: 0.9218 - val_loss: 0.3166 - val_accuracy: 0.8900\n",
            "Epoch 21/25\n",
            "1719/1719 [==============================] - 5s 3ms/step - loss: 0.2229 - accuracy: 0.9223 - val_loss: 0.3177 - val_accuracy: 0.8906\n",
            "Epoch 22/25\n",
            "1719/1719 [==============================] - 5s 3ms/step - loss: 0.2216 - accuracy: 0.9223 - val_loss: 0.3161 - val_accuracy: 0.8912\n",
            "Epoch 23/25\n",
            "1719/1719 [==============================] - 5s 3ms/step - loss: 0.2201 - accuracy: 0.9231 - val_loss: 0.3169 - val_accuracy: 0.8896\n",
            "Epoch 24/25\n",
            "1719/1719 [==============================] - 5s 3ms/step - loss: 0.2188 - accuracy: 0.9239 - val_loss: 0.3164 - val_accuracy: 0.8898\n",
            "Epoch 25/25\n",
            "1719/1719 [==============================] - 6s 3ms/step - loss: 0.2180 - accuracy: 0.9241 - val_loss: 0.3163 - val_accuracy: 0.8906\n"
          ],
          "name": "stdout"
        }
      ]
    },
    {
      "cell_type": "markdown",
      "metadata": {
        "id": "kiGAli0kKZfP"
      },
      "source": [
        "구간별 고정 스케줄링은 다음을 사용 :"
      ]
    },
    {
      "cell_type": "code",
      "metadata": {
        "id": "5l4r2nhSKZDf"
      },
      "source": [
        "learning_rate=keras.optimizers.schedules.PiecewiseConstantDecay(\n",
        "    boundaries=[5.*n_steps_per_epoch,15.*n_steps_per_epoch],\n",
        "    values=[0.01,0.005,0.001]\n",
        ")"
      ],
      "execution_count": null,
      "outputs": []
    },
    {
      "cell_type": "markdown",
      "metadata": {
        "id": "57K3j8_WKeut"
      },
      "source": [
        "1사이클 스케줄링"
      ]
    },
    {
      "cell_type": "code",
      "metadata": {
        "id": "tDHYZRBKKWpp"
      },
      "source": [
        "K=keras.backend\n",
        "\n",
        "class ExponentialLearningRate(keras.callbacks.Callback):\n",
        "  def __init__(self,factor):\n",
        "    self.factor=factor\n",
        "    self.rates=[]\n",
        "    self.losses=[]\n",
        "  def on_batch_end(self,batch,logs):\n",
        "    self.rates.append(K.get_value(self.model.optimizer.lr))\n",
        "    self.losses.append(logs[\"loss\"])\n",
        "    K.set_value(self.model.optimizer.lr,self.model.optimizer.lr*self.factor)\n",
        "\n",
        "def find_learning_rate(model,X,y,epochs=1,batch_size=32,min_rate=10**-5,max_rate=10):\n",
        "  init_weights=model.get_weights()\n",
        "  iterations=len(X)//batch_size*epochs\n",
        "  factor=np.exp(np.log(max_rate/min_rate)/iterations)\n",
        "  init_lr=K.get_value(model.optimizer.lr)\n",
        "  K.set_value(model.optimizer.lr,min_rate)\n",
        "  exp_lr=ExponentialLearningRate(factor)\n",
        "  history=model.fit(X,y,epochs=epochs,batch_size=batch_size,\n",
        "                    callbacks=[exp_lr])\n",
        "  K.set_value(model.optimizer.lr,init_lr)\n",
        "  model.set_weights(init_weights)\n",
        "  return exp_lr.rates,exp_lr.losses\n",
        "\n",
        "def plot_lr_vs_loss(rates,losses):\n",
        "  plt.plot(rates,losses)\n",
        "  plt.gca().set_xscale('log')\n",
        "  plt.hlines(min(losses),min(rates),max(rates))\n",
        "  plt.axis([min(rates),max(rates),min(losses),(losses[0]+min(losses))/2])\n",
        "  plt.xlabel(\"Learning rate\")\n",
        "  plt.ylabel(\"Loss\")"
      ],
      "execution_count": null,
      "outputs": []
    },
    {
      "cell_type": "code",
      "metadata": {
        "id": "DyIa6UXlPwIN"
      },
      "source": [
        "tf.random.set_seed(42)\n",
        "np.random.seed(42)\n",
        "\n",
        "model=keras.models.Sequential([\n",
        "                               keras.layers.Flatten(input_shape=[28,28]),\n",
        "                               keras.layers.Dense(300,activation=\"selu\",kernel_initializer=\"lecun_normal\"),\n",
        "                               keras.layers.Dense(100,activation=\"selu\",kernel_initializer=\"lecun_normal\"),\n",
        "                               keras.layers.Dense(10,activation=\"softmax\")\n",
        "])\n",
        "model.compile(loss=\"sparse_categorical_crossentropy\",\n",
        "              optimizer=keras.optimizers.SGD(lr=1e-3),\n",
        "              metrics=[\"accuracy\"])"
      ],
      "execution_count": null,
      "outputs": []
    },
    {
      "cell_type": "code",
      "metadata": {
        "colab": {
          "base_uri": "https://localhost:8080/",
          "height": 308
        },
        "id": "DyBqQe8fQVhr",
        "outputId": "bf38989c-ca59-4dd0-ae91-b0b1163df740"
      },
      "source": [
        "batch_size=128\n",
        "rates,losses=find_learning_rate(model,X_train_scaled,y_train,epochs=1,batch_size=batch_size)\n",
        "plot_lr_vs_loss(rates,losses)"
      ],
      "execution_count": null,
      "outputs": [
        {
          "output_type": "stream",
          "text": [
            "430/430 [==============================] - 3s 7ms/step - loss: nan - accuracy: 0.3862\n"
          ],
          "name": "stdout"
        },
        {
          "output_type": "display_data",
          "data": {
            "image/png": "[encoded data removed]",
            "text/plain": [
              "<Figure size 432x288 with 1 Axes>"
            ]
          },
          "metadata": {
            "tags": [],
            "needs_background": "light"
          }
        }
      ]
    },
    {
      "cell_type": "code",
      "metadata": {
        "id": "A8Vm8mQsQpVc"
      },
      "source": [
        "class OneCycleScheduler(keras.callbacks.Callback):\n",
        "  def __init__(self,iterations,max_rate,start_rate=None,\n",
        "               last_iterations=None,last_rate=None):\n",
        "    self.iterations=iterations\n",
        "    self.max_rate=max_rate\n",
        "    self.start_rate=start_rate or max_rate/10\n",
        "    self.last_iterations=last_iterations or iterations//10+1\n",
        "    self.half_iteration=(iterations-self.last_iterations)//2\n",
        "    self.last_rate=last_rate or self.start_rate/1000\n",
        "    self.iteration=0\n",
        "  def _interpolate(self,iter1,iter2,rate1,rate2):\n",
        "    return ((rate2-rate1)*(self.iteration-iter1)/(iter2-iter1)+rate1)\n",
        "  def on_batch_begin(self,batch,logs):\n",
        "    if self.iteration<self.half_iteration:\n",
        "      rate=self._interpolate(0,self.half_iteration,self.start_rate,self.max_rate)\n",
        "    elif self.iteration<2*self.half_iteration:\n",
        "      rate=self._interpolate(self.half_iteration,2*self.half_iteration,\n",
        "                             self.max_rate,self.start_rate)\n",
        "    else:\n",
        "      rate=self._interpolate(2*self.half_iteration,self.iterations,\n",
        "                             self.start_rate,self.last_rate)\n",
        "      rate=max(rate,self.last_rate)\n",
        "    self.iteration+=1\n",
        "    K.set_value(self.model.optimizer.lr,rate)"
      ],
      "execution_count": null,
      "outputs": []
    },
    {
      "cell_type": "code",
      "metadata": {
        "colab": {
          "base_uri": "https://localhost:8080/"
        },
        "id": "yD7b9vcrTXPa",
        "outputId": "6b4f75b0-bf81-4207-eff9-fbfad62b7afe"
      },
      "source": [
        "n_epochs=25\n",
        "onecycle=OneCycleScheduler(len(X_train)//batch_size*n_epochs,max_rate=0.05)\n",
        "history=model.fit(X_train_scaled,y_train,epochs=n_epochs,batch_size=batch_size,\n",
        "                  validation_data=(X_valid_scaled,y_valid),\n",
        "                  callbacks=[onecycle])"
      ],
      "execution_count": null,
      "outputs": [
        {
          "output_type": "stream",
          "text": [
            "Epoch 1/25\n",
            "430/430 [==============================] - 3s 7ms/step - loss: 0.6572 - accuracy: 0.7740 - val_loss: 0.4872 - val_accuracy: 0.8338\n",
            "Epoch 2/25\n",
            "430/430 [==============================] - 3s 7ms/step - loss: 0.4581 - accuracy: 0.8396 - val_loss: 0.4273 - val_accuracy: 0.8522\n",
            "Epoch 3/25\n",
            "430/430 [==============================] - 3s 7ms/step - loss: 0.4121 - accuracy: 0.8546 - val_loss: 0.4115 - val_accuracy: 0.8586\n",
            "Epoch 4/25\n",
            "430/430 [==============================] - 3s 7ms/step - loss: 0.3837 - accuracy: 0.8641 - val_loss: 0.3868 - val_accuracy: 0.8686\n",
            "Epoch 5/25\n",
            "430/430 [==============================] - 3s 7ms/step - loss: 0.3639 - accuracy: 0.8716 - val_loss: 0.3765 - val_accuracy: 0.8682\n",
            "Epoch 6/25\n",
            "430/430 [==============================] - 3s 6ms/step - loss: 0.3457 - accuracy: 0.8773 - val_loss: 0.3744 - val_accuracy: 0.8706\n",
            "Epoch 7/25\n",
            "430/430 [==============================] - 3s 7ms/step - loss: 0.3330 - accuracy: 0.8809 - val_loss: 0.3636 - val_accuracy: 0.8718\n",
            "Epoch 8/25\n",
            "430/430 [==============================] - 3s 7ms/step - loss: 0.3185 - accuracy: 0.8861 - val_loss: 0.3956 - val_accuracy: 0.8600\n",
            "Epoch 9/25\n",
            "430/430 [==============================] - 3s 8ms/step - loss: 0.3065 - accuracy: 0.8892 - val_loss: 0.3489 - val_accuracy: 0.8754\n",
            "Epoch 10/25\n",
            "430/430 [==============================] - 3s 8ms/step - loss: 0.2944 - accuracy: 0.8926 - val_loss: 0.3398 - val_accuracy: 0.8810\n",
            "Epoch 11/25\n",
            "430/430 [==============================] - 3s 7ms/step - loss: 0.2839 - accuracy: 0.8961 - val_loss: 0.3464 - val_accuracy: 0.8802\n",
            "Epoch 12/25\n",
            "430/430 [==============================] - 3s 6ms/step - loss: 0.2708 - accuracy: 0.9025 - val_loss: 0.3642 - val_accuracy: 0.8686\n",
            "Epoch 13/25\n",
            "430/430 [==============================] - 3s 7ms/step - loss: 0.2536 - accuracy: 0.9085 - val_loss: 0.3345 - val_accuracy: 0.8834\n",
            "Epoch 14/25\n",
            "430/430 [==============================] - 3s 6ms/step - loss: 0.2403 - accuracy: 0.9139 - val_loss: 0.3457 - val_accuracy: 0.8806\n",
            "Epoch 15/25\n",
            "430/430 [==============================] - 3s 6ms/step - loss: 0.2279 - accuracy: 0.9183 - val_loss: 0.3249 - val_accuracy: 0.8846\n",
            "Epoch 16/25\n",
            "430/430 [==============================] - 3s 7ms/step - loss: 0.2158 - accuracy: 0.9235 - val_loss: 0.3293 - val_accuracy: 0.8828\n",
            "Epoch 17/25\n",
            "430/430 [==============================] - 3s 6ms/step - loss: 0.2061 - accuracy: 0.9263 - val_loss: 0.3342 - val_accuracy: 0.8866\n",
            "Epoch 18/25\n",
            "430/430 [==============================] - 3s 7ms/step - loss: 0.1977 - accuracy: 0.9304 - val_loss: 0.3235 - val_accuracy: 0.8904\n",
            "Epoch 19/25\n",
            "430/430 [==============================] - 3s 6ms/step - loss: 0.1891 - accuracy: 0.9340 - val_loss: 0.3233 - val_accuracy: 0.8904\n",
            "Epoch 20/25\n",
            "430/430 [==============================] - 3s 6ms/step - loss: 0.1820 - accuracy: 0.9367 - val_loss: 0.3223 - val_accuracy: 0.8920\n",
            "Epoch 21/25\n",
            "430/430 [==============================] - 3s 6ms/step - loss: 0.1752 - accuracy: 0.9401 - val_loss: 0.3216 - val_accuracy: 0.8908\n",
            "Epoch 22/25\n",
            "430/430 [==============================] - 3s 7ms/step - loss: 0.1699 - accuracy: 0.9422 - val_loss: 0.3180 - val_accuracy: 0.8954\n",
            "Epoch 23/25\n",
            "430/430 [==============================] - 3s 7ms/step - loss: 0.1654 - accuracy: 0.9443 - val_loss: 0.3184 - val_accuracy: 0.8946\n",
            "Epoch 24/25\n",
            "430/430 [==============================] - 3s 7ms/step - loss: 0.1627 - accuracy: 0.9458 - val_loss: 0.3173 - val_accuracy: 0.8940\n",
            "Epoch 25/25\n",
            "430/430 [==============================] - 3s 7ms/step - loss: 0.1610 - accuracy: 0.9463 - val_loss: 0.3167 - val_accuracy: 0.8932\n"
          ],
          "name": "stdout"
        }
      ]
    },
    {
      "cell_type": "markdown",
      "metadata": {
        "id": "2C21aY5OUPex"
      },
      "source": [
        "## 규제를 사용해 과대적합 피하기"
      ]
    },
    {
      "cell_type": "markdown",
      "metadata": {
        "id": "8itAfl7x1snh"
      },
      "source": [
        "### $\\ell_1$과 $\\ell_2$ 규제"
      ]
    },
    {
      "cell_type": "code",
      "metadata": {
        "id": "M07iuT6xT7Dw"
      },
      "source": [
        "layer=keras.layers.Dense(100,activation=\"elu\",\n",
        "                         kernel_initializer=\"he_normal\",\n",
        "                         kernel_regularizer=keras.regularizers.l2(0.01))\n",
        "#or l1(0.1) for ℓ1 regularization with a factor or 0.1\n",
        "#or l1_l2(0.1, 0.01) for both ℓ1 and ℓ2 regularization, with factors 0.1 and 0.01 respectively"
      ],
      "execution_count": null,
      "outputs": []
    },
    {
      "cell_type": "code",
      "metadata": {
        "colab": {
          "base_uri": "https://localhost:8080/"
        },
        "id": "QrP9TXs33b9b",
        "outputId": "8d073560-b84d-4dff-e7fc-65bb8d86fc0c"
      },
      "source": [
        "model=keras.models.Sequential([\n",
        "                               keras.layers.Flatten(input_shape=[28,28]),\n",
        "                               keras.layers.Dense(300,activation=\"elu\",\n",
        "                                                  kernel_initializer=\"he_normal\",\n",
        "                                                  kernel_regularizer=keras.regularizers.l2(0.01)),\n",
        "                               keras.layers.Dense(100,activation=\"elu\",\n",
        "                                                  kernel_initializer=\"he_normal\",\n",
        "                                                  kernel_regularizer=keras.regularizers.l2(0.01)),\n",
        "                               keras.layers.Dense(10,activation=\"softmax\",\n",
        "                                                  kernel_regularizer=keras.regularizers.l2(0.01))\n",
        "])\n",
        "model.compile(loss=\"sparse_categorical_crossentropy\",optimizer=\"nadam\",metrics=[\"accuracy\"])\n",
        "n_epochs=2\n",
        "history=model.fit(X_train_scaled,y_train,epochs=n_epochs,\n",
        "                  validation_data=(X_valid_scaled,y_valid))"
      ],
      "execution_count": null,
      "outputs": [
        {
          "output_type": "stream",
          "text": [
            "Epoch 1/2\n",
            "1719/1719 [==============================] - 12s 7ms/step - loss: 1.5956 - accuracy: 0.8124 - val_loss: 0.7169 - val_accuracy: 0.8340\n",
            "Epoch 2/2\n",
            "1719/1719 [==============================] - 12s 7ms/step - loss: 0.7197 - accuracy: 0.8274 - val_loss: 0.6850 - val_accuracy: 0.8376\n"
          ],
          "name": "stdout"
        }
      ]
    },
    {
      "cell_type": "code",
      "metadata": {
        "colab": {
          "base_uri": "https://localhost:8080/"
        },
        "id": "CRyneI6L6UEA",
        "outputId": "4b0d796a-4220-4fdc-a706-e4325d6d96eb"
      },
      "source": [
        "from functools import partial\n",
        "\n",
        "RegularizedDense=partial(keras.layers.Dense,\n",
        "                         activation=\"elu\",\n",
        "                         kernel_initializer=\"he_normal\",\n",
        "                         kernel_regularizer=keras.regularizers.l2(0.01))\n",
        "\n",
        "model=keras.models.Sequential([\n",
        "                               keras.layers.Flatten(input_shape=[28,28]),\n",
        "                               RegularizedDense(300),\n",
        "                               RegularizedDense(100),\n",
        "                               RegularizedDense(10,activation=\"softmax\")\n",
        "])\n",
        "model.compile(loss=\"sparse_categorical_crossentropy\",optimizer=\"nadam\",metrics=[\"accuracy\"])\n",
        "n_epochs=2\n",
        "history=model.fit(X_train_scaled,y_train,epochs=n_epochs,\n",
        "                  validation_data=(X_valid_scaled,y_valid))"
      ],
      "execution_count": null,
      "outputs": [
        {
          "output_type": "stream",
          "text": [
            "Epoch 1/2\n",
            "1719/1719 [==============================] - 13s 7ms/step - loss: 1.6313 - accuracy: 0.8113 - val_loss: 0.7218 - val_accuracy: 0.8310\n",
            "Epoch 2/2\n",
            "1719/1719 [==============================] - 12s 7ms/step - loss: 0.7187 - accuracy: 0.8273 - val_loss: 0.6826 - val_accuracy: 0.8382\n"
          ],
          "name": "stdout"
        }
      ]
    },
    {
      "cell_type": "markdown",
      "metadata": {
        "id": "kKYrED6J7bGu"
      },
      "source": [
        "### 드롭아웃"
      ]
    },
    {
      "cell_type": "code",
      "metadata": {
        "colab": {
          "base_uri": "https://localhost:8080/"
        },
        "id": "CwGY0IvD7dsB",
        "outputId": "9e6f7029-81d1-4871-f999-bcc1b98f0091"
      },
      "source": [
        "model=keras.models.Sequential([\n",
        "                               keras.layers.Flatten(input_shape=[28,28]),\n",
        "                               keras.layers.Dropout(rate=0.2),\n",
        "                               keras.layers.Dense(300,activation=\"elu\",kernel_initializer=\"he_normal\"),\n",
        "                               keras.layers.Dropout(rate=0.2),\n",
        "                               keras.layers.Dense(100,activation=\"elu\",kernel_initializer=\"he_normal\"),\n",
        "                               keras.layers.Dropout(rate=0.2),\n",
        "                               keras.layers.Dense(10,activation=\"softmax\")\n",
        "])\n",
        "model.compile(loss=\"sparse_categorical_crossentropy\",optimizer=\"nadam\",metrics=[\"accuracy\"])\n",
        "n_epochs=2\n",
        "history=model.fit(X_train_scaled,y_train,epochs=n_epochs,\n",
        "                  validation_data=(X_valid_scaled,y_valid))"
      ],
      "execution_count": null,
      "outputs": [
        {
          "output_type": "stream",
          "text": [
            "Epoch 1/2\n",
            "1719/1719 [==============================] - 11s 7ms/step - loss: 0.5838 - accuracy: 0.7997 - val_loss: 0.3730 - val_accuracy: 0.8644\n",
            "Epoch 2/2\n",
            "1719/1719 [==============================] - 11s 6ms/step - loss: 0.4209 - accuracy: 0.8442 - val_loss: 0.3396 - val_accuracy: 0.8718\n"
          ],
          "name": "stdout"
        }
      ]
    },
    {
      "cell_type": "markdown",
      "metadata": {
        "id": "G2HTH0m_-DeX"
      },
      "source": [
        "알파 드롭아웃"
      ]
    },
    {
      "cell_type": "code",
      "metadata": {
        "id": "oHvTcYV3-O0X"
      },
      "source": [
        "tf.random.set_seed(42)\n",
        "np.random.seed(42)"
      ],
      "execution_count": null,
      "outputs": []
    },
    {
      "cell_type": "code",
      "metadata": {
        "colab": {
          "base_uri": "https://localhost:8080/"
        },
        "id": "1KLSXMKS-Pjr",
        "outputId": "8755473b-1776-4e05-deed-f7ef25f0fbbb"
      },
      "source": [
        "model=keras.models.Sequential([\n",
        "                        keras.layers.Flatten(input_shape=[28,28]),\n",
        "                        keras.layers.AlphaDropout(rate=0.2),\n",
        "                        keras.layers.Dense(300,activation=\"selu\",kernel_initializer=\"lecun_normal\"),\n",
        "                        keras.layers.AlphaDropout(rate=0.2),\n",
        "                        keras.layers.Dense(100,activation=\"selu\",kernel_initializer=\"lecun_normal\"),\n",
        "                        keras.layers.AlphaDropout(rate=0.2),\n",
        "                        keras.layers.Dense(10,activation=\"softmax\")\n",
        "])\n",
        "optimizer=keras.optimizers.SGD(lr=0.01,momentum=0.9,nesterov=True)\n",
        "model.compile(loss=\"sparse_categorical_crossentropy\",optimizer=optimizer,metrics=[\"accuracy\"])\n",
        "n_epochs=20\n",
        "history=model.fit(X_train_scaled,y_train,epochs=n_epochs,\n",
        "                  validation_data=(X_valid_scaled,y_valid))"
      ],
      "execution_count": null,
      "outputs": [
        {
          "output_type": "stream",
          "text": [
            "Epoch 1/20\n",
            "1719/1719 [==============================] - 7s 4ms/step - loss: 0.6654 - accuracy: 0.7594 - val_loss: 0.5934 - val_accuracy: 0.8412\n",
            "Epoch 2/20\n",
            "1719/1719 [==============================] - 7s 4ms/step - loss: 0.5605 - accuracy: 0.7939 - val_loss: 0.5519 - val_accuracy: 0.8396\n",
            "Epoch 3/20\n",
            "1719/1719 [==============================] - 7s 4ms/step - loss: 0.5283 - accuracy: 0.8051 - val_loss: 0.4866 - val_accuracy: 0.8590\n",
            "Epoch 4/20\n",
            "1719/1719 [==============================] - 7s 4ms/step - loss: 0.5072 - accuracy: 0.8117 - val_loss: 0.4633 - val_accuracy: 0.8592\n",
            "Epoch 5/20\n",
            "1719/1719 [==============================] - 7s 4ms/step - loss: 0.4922 - accuracy: 0.8187 - val_loss: 0.4641 - val_accuracy: 0.8586\n",
            "Epoch 6/20\n",
            "1719/1719 [==============================] - 7s 4ms/step - loss: 0.4865 - accuracy: 0.8195 - val_loss: 0.4724 - val_accuracy: 0.8596\n",
            "Epoch 7/20\n",
            "1719/1719 [==============================] - 7s 4ms/step - loss: 0.4727 - accuracy: 0.8240 - val_loss: 0.4590 - val_accuracy: 0.8690\n",
            "Epoch 8/20\n",
            "1719/1719 [==============================] - 7s 4ms/step - loss: 0.4636 - accuracy: 0.8274 - val_loss: 0.4690 - val_accuracy: 0.8646\n",
            "Epoch 9/20\n",
            "1719/1719 [==============================] - 7s 4ms/step - loss: 0.4583 - accuracy: 0.8299 - val_loss: 0.4093 - val_accuracy: 0.8728\n",
            "Epoch 10/20\n",
            "1719/1719 [==============================] - 7s 4ms/step - loss: 0.4523 - accuracy: 0.8327 - val_loss: 0.4627 - val_accuracy: 0.8662\n",
            "Epoch 11/20\n",
            "1719/1719 [==============================] - 7s 4ms/step - loss: 0.4487 - accuracy: 0.8321 - val_loss: 0.4168 - val_accuracy: 0.8706\n",
            "Epoch 12/20\n",
            "1719/1719 [==============================] - 7s 4ms/step - loss: 0.4467 - accuracy: 0.8345 - val_loss: 0.5469 - val_accuracy: 0.8504\n",
            "Epoch 13/20\n",
            "1719/1719 [==============================] - 7s 4ms/step - loss: 0.4422 - accuracy: 0.8362 - val_loss: 0.4507 - val_accuracy: 0.8698\n",
            "Epoch 14/20\n",
            "1719/1719 [==============================] - 7s 4ms/step - loss: 0.4316 - accuracy: 0.8395 - val_loss: 0.4614 - val_accuracy: 0.8692\n",
            "Epoch 15/20\n",
            "1719/1719 [==============================] - 7s 4ms/step - loss: 0.4334 - accuracy: 0.8359 - val_loss: 0.4363 - val_accuracy: 0.8658\n",
            "Epoch 16/20\n",
            "1719/1719 [==============================] - 7s 4ms/step - loss: 0.4305 - accuracy: 0.8414 - val_loss: 0.4152 - val_accuracy: 0.8772\n",
            "Epoch 17/20\n",
            "1719/1719 [==============================] - 7s 4ms/step - loss: 0.4259 - accuracy: 0.8416 - val_loss: 0.5510 - val_accuracy: 0.8586\n",
            "Epoch 18/20\n",
            "1719/1719 [==============================] - 7s 4ms/step - loss: 0.4247 - accuracy: 0.8418 - val_loss: 0.4940 - val_accuracy: 0.8754\n",
            "Epoch 19/20\n",
            "1719/1719 [==============================] - 7s 4ms/step - loss: 0.4219 - accuracy: 0.8448 - val_loss: 0.4910 - val_accuracy: 0.8718\n",
            "Epoch 20/20\n",
            "1719/1719 [==============================] - 7s 4ms/step - loss: 0.4246 - accuracy: 0.8432 - val_loss: 0.4068 - val_accuracy: 0.8770\n"
          ],
          "name": "stdout"
        }
      ]
    },
    {
      "cell_type": "code",
      "metadata": {
        "colab": {
          "base_uri": "https://localhost:8080/"
        },
        "id": "5rZlRhslAGp5",
        "outputId": "346ae39a-a967-4b6b-98f3-41a17473206c"
      },
      "source": [
        "model.evaluate(X_test_scaled,y_test)"
      ],
      "execution_count": null,
      "outputs": [
        {
          "output_type": "stream",
          "text": [
            "313/313 [==============================] - 0s 2ms/step - loss: 0.4467 - accuracy: 0.8648\n"
          ],
          "name": "stdout"
        },
        {
          "output_type": "execute_result",
          "data": {
            "text/plain": [
              "[0.44666430354118347, 0.864799976348877]"
            ]
          },
          "metadata": {
            "tags": []
          },
          "execution_count": 107
        }
      ]
    },
    {
      "cell_type": "code",
      "metadata": {
        "colab": {
          "base_uri": "https://localhost:8080/"
        },
        "id": "LcS9I6iRA0xL",
        "outputId": "9c6b0d83-968f-4f66-810f-71e17c11caf1"
      },
      "source": [
        "model.evaluate(X_train_scaled,y_train)"
      ],
      "execution_count": null,
      "outputs": [
        {
          "output_type": "stream",
          "text": [
            "1719/1719 [==============================] - 3s 2ms/step - loss: 0.3318 - accuracy: 0.8873\n"
          ],
          "name": "stdout"
        },
        {
          "output_type": "execute_result",
          "data": {
            "text/plain": [
              "[0.33179745078086853, 0.8873090744018555]"
            ]
          },
          "metadata": {
            "tags": []
          },
          "execution_count": 108
        }
      ]
    },
    {
      "cell_type": "code",
      "metadata": {
        "colab": {
          "base_uri": "https://localhost:8080/"
        },
        "id": "ZGngMQMdA33D",
        "outputId": "6670e8a7-88f1-430f-b4a7-aa29ea675b39"
      },
      "source": [
        "history=model.fit(X_train_scaled,y_train)"
      ],
      "execution_count": null,
      "outputs": [
        {
          "output_type": "stream",
          "text": [
            "1719/1719 [==============================] - 7s 4ms/step - loss: 0.4168 - accuracy: 0.8454\n"
          ],
          "name": "stdout"
        }
      ]
    },
    {
      "cell_type": "markdown",
      "metadata": {
        "id": "V498yuZjBbCw"
      },
      "source": [
        "### 몬테 카를로 드롭아웃"
      ]
    },
    {
      "cell_type": "code",
      "metadata": {
        "id": "N1IZD_hMBXTt"
      },
      "source": [
        "tf.random.set_seed(42)\n",
        "np.random.seed(42)"
      ],
      "execution_count": null,
      "outputs": []
    },
    {
      "cell_type": "code",
      "metadata": {
        "id": "C2sY1pcEC4pg"
      },
      "source": [
        "y_probas=np.stack([model(X_test_scaled,training=True)for sample in range(100)])\n",
        "y_proba=y_probas.mean(axis=0)\n",
        "y_std=y_probas.std(axis=0)"
      ],
      "execution_count": null,
      "outputs": []
    },
    {
      "cell_type": "code",
      "metadata": {
        "colab": {
          "base_uri": "https://localhost:8080/"
        },
        "id": "jLoL8HqmDQUH",
        "outputId": "6c127c0d-3f15-4115-fa68-007496e4c39a"
      },
      "source": [
        "np.round(model.predict(X_test_scaled[:1]),2)"
      ],
      "execution_count": null,
      "outputs": [
        {
          "output_type": "execute_result",
          "data": {
            "text/plain": [
              "array([[0., 0., 0., 0., 0., 0., 0., 0., 0., 1.]], dtype=float32)"
            ]
          },
          "metadata": {
            "tags": []
          },
          "execution_count": 112
        }
      ]
    },
    {
      "cell_type": "code",
      "metadata": {
        "colab": {
          "base_uri": "https://localhost:8080/"
        },
        "id": "flITKadmD3_G",
        "outputId": "21806118-0747-4318-f2c0-17d11c120719"
      },
      "source": [
        "np.round(y_probas[:,:1],2)"
      ],
      "execution_count": null,
      "outputs": [
        {
          "output_type": "execute_result",
          "data": {
            "text/plain": [
              "array([[[0.  , 0.  , 0.  , 0.  , 0.  , 0.18, 0.  , 0.21, 0.  , 0.62]],\n",
              "\n",
              "       [[0.  , 0.  , 0.  , 0.  , 0.  , 0.01, 0.  , 0.78, 0.  , 0.22]],\n",
              "\n",
              "       [[0.  , 0.  , 0.  , 0.  , 0.  , 0.29, 0.  , 0.  , 0.  , 0.71]],\n",
              "\n",
              "       [[0.  , 0.  , 0.  , 0.  , 0.  , 0.02, 0.  , 0.11, 0.  , 0.86]],\n",
              "\n",
              "       [[0.  , 0.  , 0.  , 0.  , 0.  , 0.18, 0.  , 0.12, 0.  , 0.7 ]],\n",
              "\n",
              "       [[0.  , 0.  , 0.  , 0.  , 0.  , 0.  , 0.  , 0.41, 0.  , 0.59]],\n",
              "\n",
              "       [[0.  , 0.  , 0.  , 0.  , 0.  , 0.2 , 0.  , 0.12, 0.  , 0.68]],\n",
              "\n",
              "       [[0.  , 0.  , 0.  , 0.  , 0.  , 0.  , 0.  , 0.24, 0.  , 0.75]],\n",
              "\n",
              "       [[0.  , 0.  , 0.  , 0.  , 0.  , 0.68, 0.  , 0.04, 0.  , 0.28]],\n",
              "\n",
              "       [[0.  , 0.  , 0.  , 0.  , 0.  , 0.07, 0.  , 0.06, 0.  , 0.88]],\n",
              "\n",
              "       [[0.  , 0.  , 0.  , 0.  , 0.  , 0.  , 0.  , 0.05, 0.  , 0.95]],\n",
              "\n",
              "       [[0.  , 0.  , 0.  , 0.  , 0.  , 0.42, 0.  , 0.  , 0.  , 0.58]],\n",
              "\n",
              "       [[0.  , 0.  , 0.  , 0.  , 0.  , 0.79, 0.  , 0.06, 0.  , 0.16]],\n",
              "\n",
              "       [[0.  , 0.  , 0.  , 0.  , 0.  , 0.15, 0.  , 0.08, 0.  , 0.77]],\n",
              "\n",
              "       [[0.  , 0.  , 0.  , 0.  , 0.  , 0.02, 0.  , 0.02, 0.  , 0.96]],\n",
              "\n",
              "       [[0.  , 0.  , 0.  , 0.  , 0.  , 0.21, 0.  , 0.04, 0.  , 0.75]],\n",
              "\n",
              "       [[0.  , 0.  , 0.  , 0.  , 0.  , 0.03, 0.  , 0.01, 0.  , 0.96]],\n",
              "\n",
              "       [[0.  , 0.  , 0.  , 0.  , 0.  , 0.01, 0.  , 0.04, 0.  , 0.96]],\n",
              "\n",
              "       [[0.  , 0.  , 0.  , 0.  , 0.  , 0.01, 0.  , 0.63, 0.  , 0.36]],\n",
              "\n",
              "       [[0.  , 0.  , 0.  , 0.  , 0.  , 0.33, 0.  , 0.06, 0.  , 0.61]],\n",
              "\n",
              "       [[0.  , 0.  , 0.  , 0.  , 0.  , 0.24, 0.  , 0.03, 0.  , 0.73]],\n",
              "\n",
              "       [[0.  , 0.  , 0.  , 0.  , 0.  , 0.89, 0.  , 0.01, 0.  , 0.09]],\n",
              "\n",
              "       [[0.  , 0.  , 0.  , 0.  , 0.  , 0.  , 0.  , 0.  , 0.  , 1.  ]],\n",
              "\n",
              "       [[0.  , 0.  , 0.  , 0.  , 0.  , 0.  , 0.  , 0.03, 0.  , 0.97]],\n",
              "\n",
              "       [[0.  , 0.  , 0.  , 0.  , 0.  , 0.01, 0.  , 0.  , 0.  , 0.99]],\n",
              "\n",
              "       [[0.  , 0.  , 0.  , 0.  , 0.  , 0.4 , 0.  , 0.36, 0.  , 0.24]],\n",
              "\n",
              "       [[0.  , 0.  , 0.  , 0.  , 0.  , 0.07, 0.  , 0.28, 0.  , 0.65]],\n",
              "\n",
              "       [[0.  , 0.  , 0.  , 0.  , 0.  , 0.43, 0.  , 0.06, 0.  , 0.51]],\n",
              "\n",
              "       [[0.  , 0.  , 0.  , 0.  , 0.  , 0.6 , 0.  , 0.01, 0.  , 0.39]],\n",
              "\n",
              "       [[0.  , 0.  , 0.  , 0.  , 0.  , 0.15, 0.  , 0.64, 0.  , 0.22]],\n",
              "\n",
              "       [[0.  , 0.  , 0.  , 0.  , 0.  , 0.19, 0.  , 0.01, 0.  , 0.8 ]],\n",
              "\n",
              "       [[0.  , 0.  , 0.  , 0.  , 0.  , 0.12, 0.  , 0.01, 0.  , 0.87]],\n",
              "\n",
              "       [[0.  , 0.  , 0.  , 0.  , 0.  , 0.11, 0.  , 0.03, 0.  , 0.86]],\n",
              "\n",
              "       [[0.  , 0.  , 0.  , 0.  , 0.  , 0.89, 0.  , 0.05, 0.  , 0.06]],\n",
              "\n",
              "       [[0.  , 0.  , 0.  , 0.  , 0.  , 0.04, 0.  , 0.02, 0.  , 0.94]],\n",
              "\n",
              "       [[0.  , 0.  , 0.  , 0.  , 0.  , 0.18, 0.  , 0.37, 0.  , 0.45]],\n",
              "\n",
              "       [[0.  , 0.  , 0.  , 0.  , 0.  , 0.  , 0.  , 0.  , 0.  , 1.  ]],\n",
              "\n",
              "       [[0.  , 0.  , 0.  , 0.  , 0.  , 0.31, 0.  , 0.08, 0.  , 0.61]],\n",
              "\n",
              "       [[0.  , 0.  , 0.  , 0.  , 0.  , 0.12, 0.  , 0.07, 0.  , 0.81]],\n",
              "\n",
              "       [[0.  , 0.  , 0.  , 0.  , 0.  , 0.61, 0.  , 0.01, 0.  , 0.39]],\n",
              "\n",
              "       [[0.  , 0.  , 0.  , 0.  , 0.  , 0.03, 0.  , 0.01, 0.  , 0.96]],\n",
              "\n",
              "       [[0.  , 0.  , 0.  , 0.  , 0.  , 0.  , 0.  , 0.  , 0.  , 1.  ]],\n",
              "\n",
              "       [[0.  , 0.  , 0.  , 0.  , 0.  , 0.33, 0.  , 0.06, 0.  , 0.62]],\n",
              "\n",
              "       [[0.  , 0.  , 0.  , 0.  , 0.  , 0.  , 0.  , 0.01, 0.  , 0.99]],\n",
              "\n",
              "       [[0.  , 0.  , 0.  , 0.  , 0.  , 0.  , 0.  , 0.03, 0.  , 0.97]],\n",
              "\n",
              "       [[0.  , 0.  , 0.  , 0.  , 0.  , 0.  , 0.  , 0.  , 0.  , 1.  ]],\n",
              "\n",
              "       [[0.  , 0.  , 0.  , 0.  , 0.  , 0.05, 0.  , 0.14, 0.  , 0.81]],\n",
              "\n",
              "       [[0.  , 0.  , 0.  , 0.  , 0.  , 0.01, 0.  , 0.25, 0.  , 0.74]],\n",
              "\n",
              "       [[0.  , 0.  , 0.  , 0.  , 0.  , 0.  , 0.  , 0.19, 0.  , 0.81]],\n",
              "\n",
              "       [[0.  , 0.  , 0.  , 0.  , 0.  , 0.01, 0.  , 0.13, 0.  , 0.86]],\n",
              "\n",
              "       [[0.  , 0.  , 0.  , 0.  , 0.  , 0.48, 0.  , 0.17, 0.  , 0.35]],\n",
              "\n",
              "       [[0.  , 0.  , 0.  , 0.  , 0.  , 0.39, 0.  , 0.09, 0.  , 0.51]],\n",
              "\n",
              "       [[0.  , 0.  , 0.  , 0.  , 0.  , 0.  , 0.  , 0.  , 0.  , 1.  ]],\n",
              "\n",
              "       [[0.  , 0.  , 0.  , 0.  , 0.  , 0.15, 0.  , 0.01, 0.  , 0.84]],\n",
              "\n",
              "       [[0.  , 0.  , 0.  , 0.  , 0.  , 0.23, 0.  , 0.01, 0.  , 0.76]],\n",
              "\n",
              "       [[0.  , 0.  , 0.  , 0.  , 0.  , 0.  , 0.  , 0.13, 0.  , 0.87]],\n",
              "\n",
              "       [[0.  , 0.  , 0.  , 0.  , 0.  , 0.01, 0.  , 0.26, 0.  , 0.73]],\n",
              "\n",
              "       [[0.  , 0.  , 0.  , 0.  , 0.  , 0.05, 0.  , 0.58, 0.  , 0.36]],\n",
              "\n",
              "       [[0.  , 0.  , 0.  , 0.  , 0.  , 0.01, 0.  , 0.42, 0.  , 0.57]],\n",
              "\n",
              "       [[0.  , 0.  , 0.  , 0.  , 0.  , 0.02, 0.  , 0.06, 0.  , 0.92]],\n",
              "\n",
              "       [[0.  , 0.  , 0.  , 0.  , 0.  , 0.34, 0.  , 0.06, 0.  , 0.6 ]],\n",
              "\n",
              "       [[0.  , 0.  , 0.  , 0.  , 0.  , 0.05, 0.  , 0.02, 0.  , 0.93]],\n",
              "\n",
              "       [[0.  , 0.  , 0.  , 0.  , 0.  , 0.32, 0.  , 0.04, 0.  , 0.64]],\n",
              "\n",
              "       [[0.  , 0.  , 0.  , 0.  , 0.  , 0.01, 0.  , 0.05, 0.  , 0.95]],\n",
              "\n",
              "       [[0.  , 0.  , 0.  , 0.  , 0.  , 0.5 , 0.  , 0.02, 0.  , 0.48]],\n",
              "\n",
              "       [[0.  , 0.  , 0.  , 0.  , 0.  , 0.25, 0.  , 0.16, 0.  , 0.59]],\n",
              "\n",
              "       [[0.  , 0.  , 0.  , 0.  , 0.  , 0.13, 0.  , 0.08, 0.  , 0.79]],\n",
              "\n",
              "       [[0.  , 0.  , 0.  , 0.  , 0.  , 0.  , 0.  , 0.01, 0.  , 0.98]],\n",
              "\n",
              "       [[0.  , 0.  , 0.  , 0.  , 0.  , 0.05, 0.  , 0.03, 0.  , 0.91]],\n",
              "\n",
              "       [[0.  , 0.  , 0.  , 0.  , 0.  , 0.04, 0.  , 0.08, 0.  , 0.88]],\n",
              "\n",
              "       [[0.  , 0.  , 0.  , 0.  , 0.  , 0.01, 0.  , 0.  , 0.  , 0.99]],\n",
              "\n",
              "       [[0.  , 0.  , 0.  , 0.  , 0.  , 0.01, 0.  , 0.03, 0.  , 0.96]],\n",
              "\n",
              "       [[0.  , 0.  , 0.  , 0.  , 0.  , 0.11, 0.  , 0.06, 0.  , 0.83]],\n",
              "\n",
              "       [[0.  , 0.  , 0.  , 0.  , 0.  , 0.  , 0.  , 0.01, 0.  , 0.98]],\n",
              "\n",
              "       [[0.  , 0.  , 0.  , 0.  , 0.  , 0.03, 0.  , 0.02, 0.  , 0.95]],\n",
              "\n",
              "       [[0.  , 0.  , 0.  , 0.  , 0.  , 0.  , 0.  , 0.02, 0.  , 0.98]],\n",
              "\n",
              "       [[0.  , 0.  , 0.  , 0.  , 0.  , 0.03, 0.  , 0.02, 0.  , 0.95]],\n",
              "\n",
              "       [[0.  , 0.  , 0.  , 0.  , 0.  , 0.33, 0.  , 0.15, 0.  , 0.52]],\n",
              "\n",
              "       [[0.  , 0.  , 0.  , 0.  , 0.  , 0.01, 0.  , 0.02, 0.  , 0.97]],\n",
              "\n",
              "       [[0.  , 0.  , 0.  , 0.  , 0.  , 0.  , 0.  , 0.02, 0.  , 0.97]],\n",
              "\n",
              "       [[0.  , 0.  , 0.  , 0.  , 0.  , 0.  , 0.  , 0.18, 0.  , 0.81]],\n",
              "\n",
              "       [[0.  , 0.  , 0.  , 0.  , 0.  , 0.21, 0.  , 0.01, 0.  , 0.78]],\n",
              "\n",
              "       [[0.  , 0.  , 0.  , 0.  , 0.  , 0.  , 0.  , 0.  , 0.  , 1.  ]],\n",
              "\n",
              "       [[0.  , 0.  , 0.  , 0.  , 0.  , 0.01, 0.  , 0.01, 0.  , 0.98]],\n",
              "\n",
              "       [[0.  , 0.  , 0.  , 0.  , 0.  , 0.02, 0.  , 0.06, 0.  , 0.91]],\n",
              "\n",
              "       [[0.  , 0.  , 0.  , 0.  , 0.  , 0.36, 0.  , 0.04, 0.  , 0.61]],\n",
              "\n",
              "       [[0.  , 0.  , 0.  , 0.  , 0.  , 0.96, 0.  , 0.  , 0.  , 0.04]],\n",
              "\n",
              "       [[0.  , 0.  , 0.  , 0.  , 0.  , 0.09, 0.  , 0.01, 0.  , 0.9 ]],\n",
              "\n",
              "       [[0.  , 0.  , 0.  , 0.  , 0.  , 0.02, 0.  , 0.02, 0.  , 0.96]],\n",
              "\n",
              "       [[0.  , 0.  , 0.  , 0.  , 0.  , 0.01, 0.  , 0.  , 0.  , 0.99]],\n",
              "\n",
              "       [[0.  , 0.  , 0.  , 0.  , 0.  , 0.01, 0.  , 0.  , 0.  , 0.98]],\n",
              "\n",
              "       [[0.  , 0.  , 0.  , 0.  , 0.  , 0.02, 0.  , 0.06, 0.  , 0.91]],\n",
              "\n",
              "       [[0.  , 0.  , 0.  , 0.  , 0.  , 0.91, 0.  , 0.05, 0.  , 0.03]],\n",
              "\n",
              "       [[0.  , 0.  , 0.  , 0.  , 0.  , 0.32, 0.  , 0.03, 0.  , 0.65]],\n",
              "\n",
              "       [[0.  , 0.  , 0.  , 0.  , 0.  , 0.28, 0.  , 0.04, 0.  , 0.68]],\n",
              "\n",
              "       [[0.  , 0.  , 0.  , 0.  , 0.  , 0.01, 0.  , 0.02, 0.  , 0.97]],\n",
              "\n",
              "       [[0.  , 0.  , 0.  , 0.  , 0.  , 0.02, 0.  , 0.02, 0.  , 0.95]],\n",
              "\n",
              "       [[0.  , 0.  , 0.  , 0.  , 0.  , 0.01, 0.  , 0.  , 0.  , 0.99]],\n",
              "\n",
              "       [[0.  , 0.  , 0.  , 0.  , 0.  , 0.74, 0.  , 0.01, 0.  , 0.25]],\n",
              "\n",
              "       [[0.  , 0.  , 0.  , 0.  , 0.  , 0.32, 0.  , 0.01, 0.  , 0.67]]],\n",
              "      dtype=float32)"
            ]
          },
          "metadata": {
            "tags": []
          },
          "execution_count": 113
        }
      ]
    },
    {
      "cell_type": "code",
      "metadata": {
        "colab": {
          "base_uri": "https://localhost:8080/"
        },
        "id": "WYTJc5LUD87m",
        "outputId": "fd929be2-babf-46ed-80a6-42bac6d85fe7"
      },
      "source": [
        "np.round(y_proba[:1],2)"
      ],
      "execution_count": null,
      "outputs": [
        {
          "output_type": "execute_result",
          "data": {
            "text/plain": [
              "array([[0.  , 0.  , 0.  , 0.  , 0.  , 0.17, 0.  , 0.09, 0.  , 0.74]],\n",
              "      dtype=float32)"
            ]
          },
          "metadata": {
            "tags": []
          },
          "execution_count": 114
        }
      ]
    },
    {
      "cell_type": "code",
      "metadata": {
        "colab": {
          "base_uri": "https://localhost:8080/"
        },
        "id": "aWUkxD6IE7qn",
        "outputId": "603192e7-a885-46a4-f177-a8bd606d11fc"
      },
      "source": [
        "y_std=y_probas.std(axis=0)\n",
        "np.round(y_std[:1],2)"
      ],
      "execution_count": null,
      "outputs": [
        {
          "output_type": "execute_result",
          "data": {
            "text/plain": [
              "array([[0.  , 0.  , 0.  , 0.  , 0.  , 0.24, 0.  , 0.15, 0.  , 0.26]],\n",
              "      dtype=float32)"
            ]
          },
          "metadata": {
            "tags": []
          },
          "execution_count": 115
        }
      ]
    },
    {
      "cell_type": "code",
      "metadata": {
        "id": "z08_M5bnFCUY"
      },
      "source": [
        "y_pred=np.argmax(y_proba,axis=1)"
      ],
      "execution_count": null,
      "outputs": []
    },
    {
      "cell_type": "code",
      "metadata": {
        "colab": {
          "base_uri": "https://localhost:8080/"
        },
        "id": "fzrVD6_cFKgh",
        "outputId": "02d3a67b-58a6-44c8-a3f5-4cdc4db5e3f2"
      },
      "source": [
        "accuracy=np.sum(y_pred==y_test)/len(y_test)\n",
        "accuracy"
      ],
      "execution_count": null,
      "outputs": [
        {
          "output_type": "execute_result",
          "data": {
            "text/plain": [
              "0.868"
            ]
          },
          "metadata": {
            "tags": []
          },
          "execution_count": 117
        }
      ]
    },
    {
      "cell_type": "code",
      "metadata": {
        "id": "Cs3by8guFPGj"
      },
      "source": [
        "class MCDropout(keras.layers.Dropout):\n",
        "  def call(self,inputs):\n",
        "    return super().call(inputs,training=True)\n",
        "\n",
        "class MCAlphaDropout(keras.layers.AlphaDropout):\n",
        "  def call(self,inputs):\n",
        "    return super().call(inputs,training=True)"
      ],
      "execution_count": null,
      "outputs": []
    },
    {
      "cell_type": "code",
      "metadata": {
        "id": "VNwx_9KZPthq"
      },
      "source": [
        "tf.random.set_seed(42)\n",
        "np.random.seed(42)"
      ],
      "execution_count": null,
      "outputs": []
    },
    {
      "cell_type": "code",
      "metadata": {
        "id": "CB-1jjmDHcO5"
      },
      "source": [
        "mc_model=keras.models.Sequential([\n",
        "                                  MCAlphaDropout(layer.rate)if isinstance(layer,keras.layers.AlphaDropout) else layer\n",
        "                                  for layer in model.layers\n",
        "])"
      ],
      "execution_count": null,
      "outputs": []
    },
    {
      "cell_type": "code",
      "metadata": {
        "colab": {
          "base_uri": "https://localhost:8080/"
        },
        "id": "jDJDhzniIeFK",
        "outputId": "6b375eb0-cbd7-4ac0-e060-bd3f5b62deb7"
      },
      "source": [
        "mc_model.summary()"
      ],
      "execution_count": null,
      "outputs": [
        {
          "output_type": "stream",
          "text": [
            "Model: \"sequential_20\"\n",
            "_________________________________________________________________\n",
            "Layer (type)                 Output Shape              Param #   \n",
            "=================================================================\n",
            "flatten_18 (Flatten)         (None, 784)               0         \n",
            "_________________________________________________________________\n",
            "mc_alpha_dropout (MCAlphaDro (None, 784)               0         \n",
            "_________________________________________________________________\n",
            "dense_262 (Dense)            (None, 300)               235500    \n",
            "_________________________________________________________________\n",
            "mc_alpha_dropout_1 (MCAlphaD (None, 300)               0         \n",
            "_________________________________________________________________\n",
            "dense_263 (Dense)            (None, 100)               30100     \n",
            "_________________________________________________________________\n",
            "mc_alpha_dropout_2 (MCAlphaD (None, 100)               0         \n",
            "_________________________________________________________________\n",
            "dense_264 (Dense)            (None, 10)                1010      \n",
            "=================================================================\n",
            "Total params: 266,610\n",
            "Trainable params: 266,610\n",
            "Non-trainable params: 0\n",
            "_________________________________________________________________\n"
          ],
          "name": "stdout"
        }
      ]
    },
    {
      "cell_type": "code",
      "metadata": {
        "id": "aBJ_WLd-IgSX"
      },
      "source": [
        "optimizer=keras.optimizers.SGD(lr=0.01,momentum=0.9,nesterov=True)\n",
        "mc_model.compile(loss=\"sparse_categorical_crossentropy\",optimizer=optimizer,metrics=[\"accuracy\"])"
      ],
      "execution_count": null,
      "outputs": []
    },
    {
      "cell_type": "code",
      "metadata": {
        "id": "kDx2Gz8qJJRw"
      },
      "source": [
        "mc_model.set_weights(model.get_weights())"
      ],
      "execution_count": null,
      "outputs": []
    },
    {
      "cell_type": "markdown",
      "metadata": {
        "id": "us2w0JIuJU_P"
      },
      "source": [
        "이제 MC 드롭아웃을 모델에 사용할 수 있다 :"
      ]
    },
    {
      "cell_type": "code",
      "metadata": {
        "colab": {
          "base_uri": "https://localhost:8080/"
        },
        "id": "VUy5dvEVJRxg",
        "outputId": "389c0ef8-a793-4adb-825b-51ec888b568c"
      },
      "source": [
        "np.round(np.mean([mc_model.predict(X_test_scaled[:1])for sample in range(100)],axis=0),2)"
      ],
      "execution_count": null,
      "outputs": [
        {
          "output_type": "execute_result",
          "data": {
            "text/plain": [
              "array([[0.  , 0.  , 0.  , 0.  , 0.  , 0.18, 0.  , 0.14, 0.  , 0.68]],\n",
              "      dtype=float32)"
            ]
          },
          "metadata": {
            "tags": []
          },
          "execution_count": 124
        }
      ]
    },
    {
      "cell_type": "markdown",
      "metadata": {
        "id": "I2XsSfN2KOM5"
      },
      "source": [
        "### 맥스-노름 규제"
      ]
    },
    {
      "cell_type": "code",
      "metadata": {
        "id": "QVb5_VnDJheS"
      },
      "source": [
        "layer=keras.layers.Dense(100,activation=\"selu\",kernel_initializer=\"lecun_normal\",\n",
        "                         kernel_constraint=keras.constraints.max_norm(1.))"
      ],
      "execution_count": null,
      "outputs": []
    },
    {
      "cell_type": "code",
      "metadata": {
        "colab": {
          "base_uri": "https://localhost:8080/"
        },
        "id": "X0TGVOq7MVuj",
        "outputId": "a23987bd-4473-47f0-e304-fed237b132b1"
      },
      "source": [
        "MaxNormDense=partial(keras.layers.Dense,\n",
        "                     activation=\"selu\",kernel_initializer=\"lecun_normal\",\n",
        "                     kernel_constraint=keras.constraints.max_norm(1.))\n",
        "\n",
        "model=keras.models.Sequential([\n",
        "                               keras.layers.Flatten(input_shape=[28,28]),\n",
        "                               MaxNormDense(300),\n",
        "                               MaxNormDense(100),\n",
        "                               keras.layers.Dense(10,activation=\"softmax\")\n",
        "])\n",
        "model.compile(loss=\"sparse_categorical_crossentropy\",optimizer=\"nadam\",metrics=[\"accuracy\"])\n",
        "n_epochs=2\n",
        "history=model.fit(X_train_scaled,y_train,epochs=n_epochs,\n",
        "                  validation_data=(X_valid_scaled,y_valid))"
      ],
      "execution_count": null,
      "outputs": [
        {
          "output_type": "stream",
          "text": [
            "Epoch 1/2\n",
            "1719/1719 [==============================] - 12s 7ms/step - loss: 0.4738 - accuracy: 0.8336 - val_loss: 0.3810 - val_accuracy: 0.8608\n",
            "Epoch 2/2\n",
            "1719/1719 [==============================] - 11s 7ms/step - loss: 0.3543 - accuracy: 0.8711 - val_loss: 0.3736 - val_accuracy: 0.8692\n"
          ],
          "name": "stdout"
        }
      ]
    }
  ]
}