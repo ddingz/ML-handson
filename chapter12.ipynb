{
  "nbformat": 4,
  "nbformat_minor": 0,
  "metadata": {
    "colab": {
      "name": "chapter12.ipynb",
      "provenance": [],
      "collapsed_sections": [
        "IchqaYCx1BrJ",
        "xj2ycJ9d1Fy5",
        "vNCoF1s33fap",
        "q6KxpWr232XY",
        "tGOJ3T_y43KI",
        "_oEw2HSn73tK",
        "0UApvf3Ca3t3",
        "Qbk7he1hnx7n",
        "hkj-Z4ybt-ku",
        "gMtJWlyD6MHi",
        "H0i1tjr0JFjp",
        "DXtZoitk6D40",
        "mLmjc0UpIn3R",
        "-pBEiYl3nkou",
        "3LzorFe6ytCZ",
        "5KbOZ9_j4mX1",
        "o1ATnxFQ8jLa",
        "pePNVjiBT9gA",
        "uFIULQcDgZT3",
        "9LkfSroPkrX1",
        "rn-U3-tjs4UW",
        "sZixRQmawdS_",
        "eK1mQaOtzd6D",
        "r8qaNjv527MU"
      ],
      "authorship_tag": "ABX9TyOH666MJYOpL7kt2X8VYqQm"
    },
    "kernelspec": {
      "name": "python3",
      "display_name": "Python 3"
    },
    "widgets": {
      "application/vnd.jupyter.widget-state+json": {
        "2acd6a72218c4aa8a6cb08da33dbfa4e": {
          "model_module": "@jupyter-widgets/controls",
          "model_name": "HBoxModel",
          "state": {
            "_view_name": "HBoxView",
            "_dom_classes": [],
            "_model_name": "HBoxModel",
            "_view_module": "@jupyter-widgets/controls",
            "_model_module_version": "1.5.0",
            "_view_count": null,
            "_view_module_version": "1.5.0",
            "box_style": "",
            "layout": "IPY_MODEL_12674fe86f1d4c06963f8e45043cf78c",
            "_model_module": "@jupyter-widgets/controls",
            "children": [
              "IPY_MODEL_698e65a5299b4fe0ba1924cca215f75a",
              "IPY_MODEL_0c6efac159c7497883a332e7a58e6915"
            ]
          }
        },
        "12674fe86f1d4c06963f8e45043cf78c": {
          "model_module": "@jupyter-widgets/base",
          "model_name": "LayoutModel",
          "state": {
            "_view_name": "LayoutView",
            "grid_template_rows": null,
            "right": null,
            "justify_content": null,
            "_view_module": "@jupyter-widgets/base",
            "overflow": null,
            "_model_module_version": "1.2.0",
            "_view_count": null,
            "flex_flow": null,
            "width": null,
            "min_width": null,
            "border": null,
            "align_items": null,
            "bottom": null,
            "_model_module": "@jupyter-widgets/base",
            "top": null,
            "grid_column": null,
            "overflow_y": null,
            "overflow_x": null,
            "grid_auto_flow": null,
            "grid_area": null,
            "grid_template_columns": null,
            "flex": null,
            "_model_name": "LayoutModel",
            "justify_items": null,
            "grid_row": null,
            "max_height": null,
            "align_content": null,
            "visibility": null,
            "align_self": null,
            "height": null,
            "min_height": null,
            "padding": null,
            "grid_auto_rows": null,
            "grid_gap": null,
            "max_width": null,
            "order": null,
            "_view_module_version": "1.2.0",
            "grid_template_areas": null,
            "object_position": null,
            "object_fit": null,
            "grid_auto_columns": null,
            "margin": null,
            "display": null,
            "left": null
          }
        },
        "698e65a5299b4fe0ba1924cca215f75a": {
          "model_module": "@jupyter-widgets/controls",
          "model_name": "FloatProgressModel",
          "state": {
            "_view_name": "ProgressView",
            "style": "IPY_MODEL_48468a20474c41039890374e6a422a1d",
            "_dom_classes": [],
            "description": "All epochs: 100%",
            "_model_name": "FloatProgressModel",
            "bar_style": "success",
            "max": 5,
            "_view_module": "@jupyter-widgets/controls",
            "_model_module_version": "1.5.0",
            "value": 5,
            "_view_count": null,
            "_view_module_version": "1.5.0",
            "orientation": "horizontal",
            "min": 0,
            "description_tooltip": null,
            "_model_module": "@jupyter-widgets/controls",
            "layout": "IPY_MODEL_31663a5d85e846f5b3d058edd81e387b"
          }
        },
        "0c6efac159c7497883a332e7a58e6915": {
          "model_module": "@jupyter-widgets/controls",
          "model_name": "HTMLModel",
          "state": {
            "_view_name": "HTMLView",
            "style": "IPY_MODEL_81bca6e225654998b014c188cea9afd8",
            "_dom_classes": [],
            "description": "",
            "_model_name": "HTMLModel",
            "placeholder": "​",
            "_view_module": "@jupyter-widgets/controls",
            "_model_module_version": "1.5.0",
            "value": " 5/5 [00:27&lt;00:00,  5.50s/it]",
            "_view_count": null,
            "_view_module_version": "1.5.0",
            "description_tooltip": null,
            "_model_module": "@jupyter-widgets/controls",
            "layout": "IPY_MODEL_ad09200a1758465bb1dd56561d3b1aa6"
          }
        },
        "48468a20474c41039890374e6a422a1d": {
          "model_module": "@jupyter-widgets/controls",
          "model_name": "ProgressStyleModel",
          "state": {
            "_view_name": "StyleView",
            "_model_name": "ProgressStyleModel",
            "description_width": "initial",
            "_view_module": "@jupyter-widgets/base",
            "_model_module_version": "1.5.0",
            "_view_count": null,
            "_view_module_version": "1.2.0",
            "bar_color": null,
            "_model_module": "@jupyter-widgets/controls"
          }
        },
        "31663a5d85e846f5b3d058edd81e387b": {
          "model_module": "@jupyter-widgets/base",
          "model_name": "LayoutModel",
          "state": {
            "_view_name": "LayoutView",
            "grid_template_rows": null,
            "right": null,
            "justify_content": null,
            "_view_module": "@jupyter-widgets/base",
            "overflow": null,
            "_model_module_version": "1.2.0",
            "_view_count": null,
            "flex_flow": null,
            "width": null,
            "min_width": null,
            "border": null,
            "align_items": null,
            "bottom": null,
            "_model_module": "@jupyter-widgets/base",
            "top": null,
            "grid_column": null,
            "overflow_y": null,
            "overflow_x": null,
            "grid_auto_flow": null,
            "grid_area": null,
            "grid_template_columns": null,
            "flex": null,
            "_model_name": "LayoutModel",
            "justify_items": null,
            "grid_row": null,
            "max_height": null,
            "align_content": null,
            "visibility": null,
            "align_self": null,
            "height": null,
            "min_height": null,
            "padding": null,
            "grid_auto_rows": null,
            "grid_gap": null,
            "max_width": null,
            "order": null,
            "_view_module_version": "1.2.0",
            "grid_template_areas": null,
            "object_position": null,
            "object_fit": null,
            "grid_auto_columns": null,
            "margin": null,
            "display": null,
            "left": null
          }
        },
        "81bca6e225654998b014c188cea9afd8": {
          "model_module": "@jupyter-widgets/controls",
          "model_name": "DescriptionStyleModel",
          "state": {
            "_view_name": "StyleView",
            "_model_name": "DescriptionStyleModel",
            "description_width": "",
            "_view_module": "@jupyter-widgets/base",
            "_model_module_version": "1.5.0",
            "_view_count": null,
            "_view_module_version": "1.2.0",
            "_model_module": "@jupyter-widgets/controls"
          }
        },
        "ad09200a1758465bb1dd56561d3b1aa6": {
          "model_module": "@jupyter-widgets/base",
          "model_name": "LayoutModel",
          "state": {
            "_view_name": "LayoutView",
            "grid_template_rows": null,
            "right": null,
            "justify_content": null,
            "_view_module": "@jupyter-widgets/base",
            "overflow": null,
            "_model_module_version": "1.2.0",
            "_view_count": null,
            "flex_flow": null,
            "width": null,
            "min_width": null,
            "border": null,
            "align_items": null,
            "bottom": null,
            "_model_module": "@jupyter-widgets/base",
            "top": null,
            "grid_column": null,
            "overflow_y": null,
            "overflow_x": null,
            "grid_auto_flow": null,
            "grid_area": null,
            "grid_template_columns": null,
            "flex": null,
            "_model_name": "LayoutModel",
            "justify_items": null,
            "grid_row": null,
            "max_height": null,
            "align_content": null,
            "visibility": null,
            "align_self": null,
            "height": null,
            "min_height": null,
            "padding": null,
            "grid_auto_rows": null,
            "grid_gap": null,
            "max_width": null,
            "order": null,
            "_view_module_version": "1.2.0",
            "grid_template_areas": null,
            "object_position": null,
            "object_fit": null,
            "grid_auto_columns": null,
            "margin": null,
            "display": null,
            "left": null
          }
        },
        "494f18628ad14046921a6f77d323082d": {
          "model_module": "@jupyter-widgets/controls",
          "model_name": "HBoxModel",
          "state": {
            "_view_name": "HBoxView",
            "_dom_classes": [],
            "_model_name": "HBoxModel",
            "_view_module": "@jupyter-widgets/controls",
            "_model_module_version": "1.5.0",
            "_view_count": null,
            "_view_module_version": "1.5.0",
            "box_style": "",
            "layout": "IPY_MODEL_19001ea8193d4740a12d43144908a7a4",
            "_model_module": "@jupyter-widgets/controls",
            "children": [
              "IPY_MODEL_aed739950ab446e8804dd109b3f87fd8",
              "IPY_MODEL_ace4b83fb21542b4bc9458c1f8d228ec"
            ]
          }
        },
        "19001ea8193d4740a12d43144908a7a4": {
          "model_module": "@jupyter-widgets/base",
          "model_name": "LayoutModel",
          "state": {
            "_view_name": "LayoutView",
            "grid_template_rows": null,
            "right": null,
            "justify_content": null,
            "_view_module": "@jupyter-widgets/base",
            "overflow": null,
            "_model_module_version": "1.2.0",
            "_view_count": null,
            "flex_flow": null,
            "width": null,
            "min_width": null,
            "border": null,
            "align_items": null,
            "bottom": null,
            "_model_module": "@jupyter-widgets/base",
            "top": null,
            "grid_column": null,
            "overflow_y": null,
            "overflow_x": null,
            "grid_auto_flow": null,
            "grid_area": null,
            "grid_template_columns": null,
            "flex": null,
            "_model_name": "LayoutModel",
            "justify_items": null,
            "grid_row": null,
            "max_height": null,
            "align_content": null,
            "visibility": null,
            "align_self": null,
            "height": null,
            "min_height": null,
            "padding": null,
            "grid_auto_rows": null,
            "grid_gap": null,
            "max_width": null,
            "order": null,
            "_view_module_version": "1.2.0",
            "grid_template_areas": null,
            "object_position": null,
            "object_fit": null,
            "grid_auto_columns": null,
            "margin": null,
            "display": null,
            "left": null
          }
        },
        "aed739950ab446e8804dd109b3f87fd8": {
          "model_module": "@jupyter-widgets/controls",
          "model_name": "FloatProgressModel",
          "state": {
            "_view_name": "ProgressView",
            "style": "IPY_MODEL_4a31dace0524498eac1d1cca3015742e",
            "_dom_classes": [],
            "description": "Epoch 1/5: 100%",
            "_model_name": "FloatProgressModel",
            "bar_style": "success",
            "max": 362,
            "_view_module": "@jupyter-widgets/controls",
            "_model_module_version": "1.5.0",
            "value": 362,
            "_view_count": null,
            "_view_module_version": "1.5.0",
            "orientation": "horizontal",
            "min": 0,
            "description_tooltip": null,
            "_model_module": "@jupyter-widgets/controls",
            "layout": "IPY_MODEL_221e1b6941af4a54ba205e10286eda20"
          }
        },
        "ace4b83fb21542b4bc9458c1f8d228ec": {
          "model_module": "@jupyter-widgets/controls",
          "model_name": "HTMLModel",
          "state": {
            "_view_name": "HTMLView",
            "style": "IPY_MODEL_64db81f4cfcd4a028e2bed654cb60534",
            "_dom_classes": [],
            "description": "",
            "_model_name": "HTMLModel",
            "placeholder": "​",
            "_view_module": "@jupyter-widgets/controls",
            "_model_module_version": "1.5.0",
            "value": " 362/362 [00:27&lt;00:00, 13.12it/s, loss=0.65, mean_absolute_error=0.522]",
            "_view_count": null,
            "_view_module_version": "1.5.0",
            "description_tooltip": null,
            "_model_module": "@jupyter-widgets/controls",
            "layout": "IPY_MODEL_f232b741ae7643f699344aa42091bd20"
          }
        },
        "4a31dace0524498eac1d1cca3015742e": {
          "model_module": "@jupyter-widgets/controls",
          "model_name": "ProgressStyleModel",
          "state": {
            "_view_name": "StyleView",
            "_model_name": "ProgressStyleModel",
            "description_width": "initial",
            "_view_module": "@jupyter-widgets/base",
            "_model_module_version": "1.5.0",
            "_view_count": null,
            "_view_module_version": "1.2.0",
            "bar_color": null,
            "_model_module": "@jupyter-widgets/controls"
          }
        },
        "221e1b6941af4a54ba205e10286eda20": {
          "model_module": "@jupyter-widgets/base",
          "model_name": "LayoutModel",
          "state": {
            "_view_name": "LayoutView",
            "grid_template_rows": null,
            "right": null,
            "justify_content": null,
            "_view_module": "@jupyter-widgets/base",
            "overflow": null,
            "_model_module_version": "1.2.0",
            "_view_count": null,
            "flex_flow": null,
            "width": null,
            "min_width": null,
            "border": null,
            "align_items": null,
            "bottom": null,
            "_model_module": "@jupyter-widgets/base",
            "top": null,
            "grid_column": null,
            "overflow_y": null,
            "overflow_x": null,
            "grid_auto_flow": null,
            "grid_area": null,
            "grid_template_columns": null,
            "flex": null,
            "_model_name": "LayoutModel",
            "justify_items": null,
            "grid_row": null,
            "max_height": null,
            "align_content": null,
            "visibility": null,
            "align_self": null,
            "height": null,
            "min_height": null,
            "padding": null,
            "grid_auto_rows": null,
            "grid_gap": null,
            "max_width": null,
            "order": null,
            "_view_module_version": "1.2.0",
            "grid_template_areas": null,
            "object_position": null,
            "object_fit": null,
            "grid_auto_columns": null,
            "margin": null,
            "display": null,
            "left": null
          }
        },
        "64db81f4cfcd4a028e2bed654cb60534": {
          "model_module": "@jupyter-widgets/controls",
          "model_name": "DescriptionStyleModel",
          "state": {
            "_view_name": "StyleView",
            "_model_name": "DescriptionStyleModel",
            "description_width": "",
            "_view_module": "@jupyter-widgets/base",
            "_model_module_version": "1.5.0",
            "_view_count": null,
            "_view_module_version": "1.2.0",
            "_model_module": "@jupyter-widgets/controls"
          }
        },
        "f232b741ae7643f699344aa42091bd20": {
          "model_module": "@jupyter-widgets/base",
          "model_name": "LayoutModel",
          "state": {
            "_view_name": "LayoutView",
            "grid_template_rows": null,
            "right": null,
            "justify_content": null,
            "_view_module": "@jupyter-widgets/base",
            "overflow": null,
            "_model_module_version": "1.2.0",
            "_view_count": null,
            "flex_flow": null,
            "width": null,
            "min_width": null,
            "border": null,
            "align_items": null,
            "bottom": null,
            "_model_module": "@jupyter-widgets/base",
            "top": null,
            "grid_column": null,
            "overflow_y": null,
            "overflow_x": null,
            "grid_auto_flow": null,
            "grid_area": null,
            "grid_template_columns": null,
            "flex": null,
            "_model_name": "LayoutModel",
            "justify_items": null,
            "grid_row": null,
            "max_height": null,
            "align_content": null,
            "visibility": null,
            "align_self": null,
            "height": null,
            "min_height": null,
            "padding": null,
            "grid_auto_rows": null,
            "grid_gap": null,
            "max_width": null,
            "order": null,
            "_view_module_version": "1.2.0",
            "grid_template_areas": null,
            "object_position": null,
            "object_fit": null,
            "grid_auto_columns": null,
            "margin": null,
            "display": null,
            "left": null
          }
        },
        "0082d3553a434cb0a09b26e56b1b733a": {
          "model_module": "@jupyter-widgets/controls",
          "model_name": "HBoxModel",
          "state": {
            "_view_name": "HBoxView",
            "_dom_classes": [],
            "_model_name": "HBoxModel",
            "_view_module": "@jupyter-widgets/controls",
            "_model_module_version": "1.5.0",
            "_view_count": null,
            "_view_module_version": "1.5.0",
            "box_style": "",
            "layout": "IPY_MODEL_3680623b28b34b3899212d50d94fbd74",
            "_model_module": "@jupyter-widgets/controls",
            "children": [
              "IPY_MODEL_d21fc6f37f804fb3b3ef38d606509104",
              "IPY_MODEL_375c1868e0b64464a9b7f85b83575324"
            ]
          }
        },
        "3680623b28b34b3899212d50d94fbd74": {
          "model_module": "@jupyter-widgets/base",
          "model_name": "LayoutModel",
          "state": {
            "_view_name": "LayoutView",
            "grid_template_rows": null,
            "right": null,
            "justify_content": null,
            "_view_module": "@jupyter-widgets/base",
            "overflow": null,
            "_model_module_version": "1.2.0",
            "_view_count": null,
            "flex_flow": null,
            "width": null,
            "min_width": null,
            "border": null,
            "align_items": null,
            "bottom": null,
            "_model_module": "@jupyter-widgets/base",
            "top": null,
            "grid_column": null,
            "overflow_y": null,
            "overflow_x": null,
            "grid_auto_flow": null,
            "grid_area": null,
            "grid_template_columns": null,
            "flex": null,
            "_model_name": "LayoutModel",
            "justify_items": null,
            "grid_row": null,
            "max_height": null,
            "align_content": null,
            "visibility": null,
            "align_self": null,
            "height": null,
            "min_height": null,
            "padding": null,
            "grid_auto_rows": null,
            "grid_gap": null,
            "max_width": null,
            "order": null,
            "_view_module_version": "1.2.0",
            "grid_template_areas": null,
            "object_position": null,
            "object_fit": null,
            "grid_auto_columns": null,
            "margin": null,
            "display": null,
            "left": null
          }
        },
        "d21fc6f37f804fb3b3ef38d606509104": {
          "model_module": "@jupyter-widgets/controls",
          "model_name": "FloatProgressModel",
          "state": {
            "_view_name": "ProgressView",
            "style": "IPY_MODEL_8bf8fd85db3c41cb87f7635bf5bca58d",
            "_dom_classes": [],
            "description": "Epoch 2/5: 100%",
            "_model_name": "FloatProgressModel",
            "bar_style": "success",
            "max": 362,
            "_view_module": "@jupyter-widgets/controls",
            "_model_module_version": "1.5.0",
            "value": 362,
            "_view_count": null,
            "_view_module_version": "1.5.0",
            "orientation": "horizontal",
            "min": 0,
            "description_tooltip": null,
            "_model_module": "@jupyter-widgets/controls",
            "layout": "IPY_MODEL_aa25e4066b7e4806983bdc44cb05be2d"
          }
        },
        "375c1868e0b64464a9b7f85b83575324": {
          "model_module": "@jupyter-widgets/controls",
          "model_name": "HTMLModel",
          "state": {
            "_view_name": "HTMLView",
            "style": "IPY_MODEL_b4762a103b354dcdb360d1f5bba2333f",
            "_dom_classes": [],
            "description": "",
            "_model_name": "HTMLModel",
            "placeholder": "​",
            "_view_module": "@jupyter-widgets/controls",
            "_model_module_version": "1.5.0",
            "value": " 362/362 [00:21&lt;00:00, 16.47it/s, loss=0.63, mean_absolute_error=0.512]",
            "_view_count": null,
            "_view_module_version": "1.5.0",
            "description_tooltip": null,
            "_model_module": "@jupyter-widgets/controls",
            "layout": "IPY_MODEL_fa78b6720c0b42f2b9338f3112e02e6b"
          }
        },
        "8bf8fd85db3c41cb87f7635bf5bca58d": {
          "model_module": "@jupyter-widgets/controls",
          "model_name": "ProgressStyleModel",
          "state": {
            "_view_name": "StyleView",
            "_model_name": "ProgressStyleModel",
            "description_width": "initial",
            "_view_module": "@jupyter-widgets/base",
            "_model_module_version": "1.5.0",
            "_view_count": null,
            "_view_module_version": "1.2.0",
            "bar_color": null,
            "_model_module": "@jupyter-widgets/controls"
          }
        },
        "aa25e4066b7e4806983bdc44cb05be2d": {
          "model_module": "@jupyter-widgets/base",
          "model_name": "LayoutModel",
          "state": {
            "_view_name": "LayoutView",
            "grid_template_rows": null,
            "right": null,
            "justify_content": null,
            "_view_module": "@jupyter-widgets/base",
            "overflow": null,
            "_model_module_version": "1.2.0",
            "_view_count": null,
            "flex_flow": null,
            "width": null,
            "min_width": null,
            "border": null,
            "align_items": null,
            "bottom": null,
            "_model_module": "@jupyter-widgets/base",
            "top": null,
            "grid_column": null,
            "overflow_y": null,
            "overflow_x": null,
            "grid_auto_flow": null,
            "grid_area": null,
            "grid_template_columns": null,
            "flex": null,
            "_model_name": "LayoutModel",
            "justify_items": null,
            "grid_row": null,
            "max_height": null,
            "align_content": null,
            "visibility": null,
            "align_self": null,
            "height": null,
            "min_height": null,
            "padding": null,
            "grid_auto_rows": null,
            "grid_gap": null,
            "max_width": null,
            "order": null,
            "_view_module_version": "1.2.0",
            "grid_template_areas": null,
            "object_position": null,
            "object_fit": null,
            "grid_auto_columns": null,
            "margin": null,
            "display": null,
            "left": null
          }
        },
        "b4762a103b354dcdb360d1f5bba2333f": {
          "model_module": "@jupyter-widgets/controls",
          "model_name": "DescriptionStyleModel",
          "state": {
            "_view_name": "StyleView",
            "_model_name": "DescriptionStyleModel",
            "description_width": "",
            "_view_module": "@jupyter-widgets/base",
            "_model_module_version": "1.5.0",
            "_view_count": null,
            "_view_module_version": "1.2.0",
            "_model_module": "@jupyter-widgets/controls"
          }
        },
        "fa78b6720c0b42f2b9338f3112e02e6b": {
          "model_module": "@jupyter-widgets/base",
          "model_name": "LayoutModel",
          "state": {
            "_view_name": "LayoutView",
            "grid_template_rows": null,
            "right": null,
            "justify_content": null,
            "_view_module": "@jupyter-widgets/base",
            "overflow": null,
            "_model_module_version": "1.2.0",
            "_view_count": null,
            "flex_flow": null,
            "width": null,
            "min_width": null,
            "border": null,
            "align_items": null,
            "bottom": null,
            "_model_module": "@jupyter-widgets/base",
            "top": null,
            "grid_column": null,
            "overflow_y": null,
            "overflow_x": null,
            "grid_auto_flow": null,
            "grid_area": null,
            "grid_template_columns": null,
            "flex": null,
            "_model_name": "LayoutModel",
            "justify_items": null,
            "grid_row": null,
            "max_height": null,
            "align_content": null,
            "visibility": null,
            "align_self": null,
            "height": null,
            "min_height": null,
            "padding": null,
            "grid_auto_rows": null,
            "grid_gap": null,
            "max_width": null,
            "order": null,
            "_view_module_version": "1.2.0",
            "grid_template_areas": null,
            "object_position": null,
            "object_fit": null,
            "grid_auto_columns": null,
            "margin": null,
            "display": null,
            "left": null
          }
        },
        "c8832899ab2640b39f3594c676e31ee1": {
          "model_module": "@jupyter-widgets/controls",
          "model_name": "HBoxModel",
          "state": {
            "_view_name": "HBoxView",
            "_dom_classes": [],
            "_model_name": "HBoxModel",
            "_view_module": "@jupyter-widgets/controls",
            "_model_module_version": "1.5.0",
            "_view_count": null,
            "_view_module_version": "1.5.0",
            "box_style": "",
            "layout": "IPY_MODEL_9be4142e781f463d8df9e42c1579870d",
            "_model_module": "@jupyter-widgets/controls",
            "children": [
              "IPY_MODEL_58fd78b6001c4776aac2836eaaa537ff",
              "IPY_MODEL_6ed2b09bb63f4f91b9fb202de8ab401d"
            ]
          }
        },
        "9be4142e781f463d8df9e42c1579870d": {
          "model_module": "@jupyter-widgets/base",
          "model_name": "LayoutModel",
          "state": {
            "_view_name": "LayoutView",
            "grid_template_rows": null,
            "right": null,
            "justify_content": null,
            "_view_module": "@jupyter-widgets/base",
            "overflow": null,
            "_model_module_version": "1.2.0",
            "_view_count": null,
            "flex_flow": null,
            "width": null,
            "min_width": null,
            "border": null,
            "align_items": null,
            "bottom": null,
            "_model_module": "@jupyter-widgets/base",
            "top": null,
            "grid_column": null,
            "overflow_y": null,
            "overflow_x": null,
            "grid_auto_flow": null,
            "grid_area": null,
            "grid_template_columns": null,
            "flex": null,
            "_model_name": "LayoutModel",
            "justify_items": null,
            "grid_row": null,
            "max_height": null,
            "align_content": null,
            "visibility": null,
            "align_self": null,
            "height": null,
            "min_height": null,
            "padding": null,
            "grid_auto_rows": null,
            "grid_gap": null,
            "max_width": null,
            "order": null,
            "_view_module_version": "1.2.0",
            "grid_template_areas": null,
            "object_position": null,
            "object_fit": null,
            "grid_auto_columns": null,
            "margin": null,
            "display": null,
            "left": null
          }
        },
        "58fd78b6001c4776aac2836eaaa537ff": {
          "model_module": "@jupyter-widgets/controls",
          "model_name": "FloatProgressModel",
          "state": {
            "_view_name": "ProgressView",
            "style": "IPY_MODEL_35bfd55fb04f49759515adfe11f9819b",
            "_dom_classes": [],
            "description": "Epoch 3/5: 100%",
            "_model_name": "FloatProgressModel",
            "bar_style": "success",
            "max": 362,
            "_view_module": "@jupyter-widgets/controls",
            "_model_module_version": "1.5.0",
            "value": 362,
            "_view_count": null,
            "_view_module_version": "1.5.0",
            "orientation": "horizontal",
            "min": 0,
            "description_tooltip": null,
            "_model_module": "@jupyter-widgets/controls",
            "layout": "IPY_MODEL_7c4b998c19664ecfbf13d52e9aa6ca7e"
          }
        },
        "6ed2b09bb63f4f91b9fb202de8ab401d": {
          "model_module": "@jupyter-widgets/controls",
          "model_name": "HTMLModel",
          "state": {
            "_view_name": "HTMLView",
            "style": "IPY_MODEL_a09bef5efcaf48f199cf65b0f94e8b98",
            "_dom_classes": [],
            "description": "",
            "_model_name": "HTMLModel",
            "placeholder": "​",
            "_view_module": "@jupyter-widgets/controls",
            "_model_module_version": "1.5.0",
            "value": " 362/362 [00:16&lt;00:00, 21.82it/s, loss=0.626, mean_absolute_error=0.51]",
            "_view_count": null,
            "_view_module_version": "1.5.0",
            "description_tooltip": null,
            "_model_module": "@jupyter-widgets/controls",
            "layout": "IPY_MODEL_c25f14edd9ee430e824380e049733a9b"
          }
        },
        "35bfd55fb04f49759515adfe11f9819b": {
          "model_module": "@jupyter-widgets/controls",
          "model_name": "ProgressStyleModel",
          "state": {
            "_view_name": "StyleView",
            "_model_name": "ProgressStyleModel",
            "description_width": "initial",
            "_view_module": "@jupyter-widgets/base",
            "_model_module_version": "1.5.0",
            "_view_count": null,
            "_view_module_version": "1.2.0",
            "bar_color": null,
            "_model_module": "@jupyter-widgets/controls"
          }
        },
        "7c4b998c19664ecfbf13d52e9aa6ca7e": {
          "model_module": "@jupyter-widgets/base",
          "model_name": "LayoutModel",
          "state": {
            "_view_name": "LayoutView",
            "grid_template_rows": null,
            "right": null,
            "justify_content": null,
            "_view_module": "@jupyter-widgets/base",
            "overflow": null,
            "_model_module_version": "1.2.0",
            "_view_count": null,
            "flex_flow": null,
            "width": null,
            "min_width": null,
            "border": null,
            "align_items": null,
            "bottom": null,
            "_model_module": "@jupyter-widgets/base",
            "top": null,
            "grid_column": null,
            "overflow_y": null,
            "overflow_x": null,
            "grid_auto_flow": null,
            "grid_area": null,
            "grid_template_columns": null,
            "flex": null,
            "_model_name": "LayoutModel",
            "justify_items": null,
            "grid_row": null,
            "max_height": null,
            "align_content": null,
            "visibility": null,
            "align_self": null,
            "height": null,
            "min_height": null,
            "padding": null,
            "grid_auto_rows": null,
            "grid_gap": null,
            "max_width": null,
            "order": null,
            "_view_module_version": "1.2.0",
            "grid_template_areas": null,
            "object_position": null,
            "object_fit": null,
            "grid_auto_columns": null,
            "margin": null,
            "display": null,
            "left": null
          }
        },
        "a09bef5efcaf48f199cf65b0f94e8b98": {
          "model_module": "@jupyter-widgets/controls",
          "model_name": "DescriptionStyleModel",
          "state": {
            "_view_name": "StyleView",
            "_model_name": "DescriptionStyleModel",
            "description_width": "",
            "_view_module": "@jupyter-widgets/base",
            "_model_module_version": "1.5.0",
            "_view_count": null,
            "_view_module_version": "1.2.0",
            "_model_module": "@jupyter-widgets/controls"
          }
        },
        "c25f14edd9ee430e824380e049733a9b": {
          "model_module": "@jupyter-widgets/base",
          "model_name": "LayoutModel",
          "state": {
            "_view_name": "LayoutView",
            "grid_template_rows": null,
            "right": null,
            "justify_content": null,
            "_view_module": "@jupyter-widgets/base",
            "overflow": null,
            "_model_module_version": "1.2.0",
            "_view_count": null,
            "flex_flow": null,
            "width": null,
            "min_width": null,
            "border": null,
            "align_items": null,
            "bottom": null,
            "_model_module": "@jupyter-widgets/base",
            "top": null,
            "grid_column": null,
            "overflow_y": null,
            "overflow_x": null,
            "grid_auto_flow": null,
            "grid_area": null,
            "grid_template_columns": null,
            "flex": null,
            "_model_name": "LayoutModel",
            "justify_items": null,
            "grid_row": null,
            "max_height": null,
            "align_content": null,
            "visibility": null,
            "align_self": null,
            "height": null,
            "min_height": null,
            "padding": null,
            "grid_auto_rows": null,
            "grid_gap": null,
            "max_width": null,
            "order": null,
            "_view_module_version": "1.2.0",
            "grid_template_areas": null,
            "object_position": null,
            "object_fit": null,
            "grid_auto_columns": null,
            "margin": null,
            "display": null,
            "left": null
          }
        },
        "485463cd6ec24a48a569da4130cf42aa": {
          "model_module": "@jupyter-widgets/controls",
          "model_name": "HBoxModel",
          "state": {
            "_view_name": "HBoxView",
            "_dom_classes": [],
            "_model_name": "HBoxModel",
            "_view_module": "@jupyter-widgets/controls",
            "_model_module_version": "1.5.0",
            "_view_count": null,
            "_view_module_version": "1.5.0",
            "box_style": "",
            "layout": "IPY_MODEL_e235b2d62ca2432687f292cfdab8a502",
            "_model_module": "@jupyter-widgets/controls",
            "children": [
              "IPY_MODEL_f495819770a944bfb0eb8916ec783b59",
              "IPY_MODEL_7ec222a03d7b4fbd8d132bb6f4c95420"
            ]
          }
        },
        "e235b2d62ca2432687f292cfdab8a502": {
          "model_module": "@jupyter-widgets/base",
          "model_name": "LayoutModel",
          "state": {
            "_view_name": "LayoutView",
            "grid_template_rows": null,
            "right": null,
            "justify_content": null,
            "_view_module": "@jupyter-widgets/base",
            "overflow": null,
            "_model_module_version": "1.2.0",
            "_view_count": null,
            "flex_flow": null,
            "width": null,
            "min_width": null,
            "border": null,
            "align_items": null,
            "bottom": null,
            "_model_module": "@jupyter-widgets/base",
            "top": null,
            "grid_column": null,
            "overflow_y": null,
            "overflow_x": null,
            "grid_auto_flow": null,
            "grid_area": null,
            "grid_template_columns": null,
            "flex": null,
            "_model_name": "LayoutModel",
            "justify_items": null,
            "grid_row": null,
            "max_height": null,
            "align_content": null,
            "visibility": null,
            "align_self": null,
            "height": null,
            "min_height": null,
            "padding": null,
            "grid_auto_rows": null,
            "grid_gap": null,
            "max_width": null,
            "order": null,
            "_view_module_version": "1.2.0",
            "grid_template_areas": null,
            "object_position": null,
            "object_fit": null,
            "grid_auto_columns": null,
            "margin": null,
            "display": null,
            "left": null
          }
        },
        "f495819770a944bfb0eb8916ec783b59": {
          "model_module": "@jupyter-widgets/controls",
          "model_name": "FloatProgressModel",
          "state": {
            "_view_name": "ProgressView",
            "style": "IPY_MODEL_4b9267fda1d34e7ab2fc41c6391ad5fb",
            "_dom_classes": [],
            "description": "Epoch 4/5: 100%",
            "_model_name": "FloatProgressModel",
            "bar_style": "success",
            "max": 362,
            "_view_module": "@jupyter-widgets/controls",
            "_model_module_version": "1.5.0",
            "value": 362,
            "_view_count": null,
            "_view_module_version": "1.5.0",
            "orientation": "horizontal",
            "min": 0,
            "description_tooltip": null,
            "_model_module": "@jupyter-widgets/controls",
            "layout": "IPY_MODEL_94aa1c207b3e4f0da44c35e410b38c00"
          }
        },
        "7ec222a03d7b4fbd8d132bb6f4c95420": {
          "model_module": "@jupyter-widgets/controls",
          "model_name": "HTMLModel",
          "state": {
            "_view_name": "HTMLView",
            "style": "IPY_MODEL_e86b389ac96048e8aae21f8cda69e118",
            "_dom_classes": [],
            "description": "",
            "_model_name": "HTMLModel",
            "placeholder": "​",
            "_view_module": "@jupyter-widgets/controls",
            "_model_module_version": "1.5.0",
            "value": " 362/362 [00:11&lt;00:00, 32.48it/s, loss=0.612, mean_absolute_error=0.505]",
            "_view_count": null,
            "_view_module_version": "1.5.0",
            "description_tooltip": null,
            "_model_module": "@jupyter-widgets/controls",
            "layout": "IPY_MODEL_4a8e891b7a6d47acb2779c6277291e4c"
          }
        },
        "4b9267fda1d34e7ab2fc41c6391ad5fb": {
          "model_module": "@jupyter-widgets/controls",
          "model_name": "ProgressStyleModel",
          "state": {
            "_view_name": "StyleView",
            "_model_name": "ProgressStyleModel",
            "description_width": "initial",
            "_view_module": "@jupyter-widgets/base",
            "_model_module_version": "1.5.0",
            "_view_count": null,
            "_view_module_version": "1.2.0",
            "bar_color": null,
            "_model_module": "@jupyter-widgets/controls"
          }
        },
        "94aa1c207b3e4f0da44c35e410b38c00": {
          "model_module": "@jupyter-widgets/base",
          "model_name": "LayoutModel",
          "state": {
            "_view_name": "LayoutView",
            "grid_template_rows": null,
            "right": null,
            "justify_content": null,
            "_view_module": "@jupyter-widgets/base",
            "overflow": null,
            "_model_module_version": "1.2.0",
            "_view_count": null,
            "flex_flow": null,
            "width": null,
            "min_width": null,
            "border": null,
            "align_items": null,
            "bottom": null,
            "_model_module": "@jupyter-widgets/base",
            "top": null,
            "grid_column": null,
            "overflow_y": null,
            "overflow_x": null,
            "grid_auto_flow": null,
            "grid_area": null,
            "grid_template_columns": null,
            "flex": null,
            "_model_name": "LayoutModel",
            "justify_items": null,
            "grid_row": null,
            "max_height": null,
            "align_content": null,
            "visibility": null,
            "align_self": null,
            "height": null,
            "min_height": null,
            "padding": null,
            "grid_auto_rows": null,
            "grid_gap": null,
            "max_width": null,
            "order": null,
            "_view_module_version": "1.2.0",
            "grid_template_areas": null,
            "object_position": null,
            "object_fit": null,
            "grid_auto_columns": null,
            "margin": null,
            "display": null,
            "left": null
          }
        },
        "e86b389ac96048e8aae21f8cda69e118": {
          "model_module": "@jupyter-widgets/controls",
          "model_name": "DescriptionStyleModel",
          "state": {
            "_view_name": "StyleView",
            "_model_name": "DescriptionStyleModel",
            "description_width": "",
            "_view_module": "@jupyter-widgets/base",
            "_model_module_version": "1.5.0",
            "_view_count": null,
            "_view_module_version": "1.2.0",
            "_model_module": "@jupyter-widgets/controls"
          }
        },
        "4a8e891b7a6d47acb2779c6277291e4c": {
          "model_module": "@jupyter-widgets/base",
          "model_name": "LayoutModel",
          "state": {
            "_view_name": "LayoutView",
            "grid_template_rows": null,
            "right": null,
            "justify_content": null,
            "_view_module": "@jupyter-widgets/base",
            "overflow": null,
            "_model_module_version": "1.2.0",
            "_view_count": null,
            "flex_flow": null,
            "width": null,
            "min_width": null,
            "border": null,
            "align_items": null,
            "bottom": null,
            "_model_module": "@jupyter-widgets/base",
            "top": null,
            "grid_column": null,
            "overflow_y": null,
            "overflow_x": null,
            "grid_auto_flow": null,
            "grid_area": null,
            "grid_template_columns": null,
            "flex": null,
            "_model_name": "LayoutModel",
            "justify_items": null,
            "grid_row": null,
            "max_height": null,
            "align_content": null,
            "visibility": null,
            "align_self": null,
            "height": null,
            "min_height": null,
            "padding": null,
            "grid_auto_rows": null,
            "grid_gap": null,
            "max_width": null,
            "order": null,
            "_view_module_version": "1.2.0",
            "grid_template_areas": null,
            "object_position": null,
            "object_fit": null,
            "grid_auto_columns": null,
            "margin": null,
            "display": null,
            "left": null
          }
        },
        "660df85d8ff84da3b1cc3152bb425076": {
          "model_module": "@jupyter-widgets/controls",
          "model_name": "HBoxModel",
          "state": {
            "_view_name": "HBoxView",
            "_dom_classes": [],
            "_model_name": "HBoxModel",
            "_view_module": "@jupyter-widgets/controls",
            "_model_module_version": "1.5.0",
            "_view_count": null,
            "_view_module_version": "1.5.0",
            "box_style": "",
            "layout": "IPY_MODEL_c6ed30c82df1476ebcf45755d8df0869",
            "_model_module": "@jupyter-widgets/controls",
            "children": [
              "IPY_MODEL_5c7fe49c00a4475a91d3bc0f58c5083a",
              "IPY_MODEL_afd1caa603bc4aee89c8202291956cd7"
            ]
          }
        },
        "c6ed30c82df1476ebcf45755d8df0869": {
          "model_module": "@jupyter-widgets/base",
          "model_name": "LayoutModel",
          "state": {
            "_view_name": "LayoutView",
            "grid_template_rows": null,
            "right": null,
            "justify_content": null,
            "_view_module": "@jupyter-widgets/base",
            "overflow": null,
            "_model_module_version": "1.2.0",
            "_view_count": null,
            "flex_flow": null,
            "width": null,
            "min_width": null,
            "border": null,
            "align_items": null,
            "bottom": null,
            "_model_module": "@jupyter-widgets/base",
            "top": null,
            "grid_column": null,
            "overflow_y": null,
            "overflow_x": null,
            "grid_auto_flow": null,
            "grid_area": null,
            "grid_template_columns": null,
            "flex": null,
            "_model_name": "LayoutModel",
            "justify_items": null,
            "grid_row": null,
            "max_height": null,
            "align_content": null,
            "visibility": null,
            "align_self": null,
            "height": null,
            "min_height": null,
            "padding": null,
            "grid_auto_rows": null,
            "grid_gap": null,
            "max_width": null,
            "order": null,
            "_view_module_version": "1.2.0",
            "grid_template_areas": null,
            "object_position": null,
            "object_fit": null,
            "grid_auto_columns": null,
            "margin": null,
            "display": null,
            "left": null
          }
        },
        "5c7fe49c00a4475a91d3bc0f58c5083a": {
          "model_module": "@jupyter-widgets/controls",
          "model_name": "FloatProgressModel",
          "state": {
            "_view_name": "ProgressView",
            "style": "IPY_MODEL_4662feffc5aa42ab8ea49fd87d5936b5",
            "_dom_classes": [],
            "description": "Epoch 5/5: 100%",
            "_model_name": "FloatProgressModel",
            "bar_style": "success",
            "max": 362,
            "_view_module": "@jupyter-widgets/controls",
            "_model_module_version": "1.5.0",
            "value": 362,
            "_view_count": null,
            "_view_module_version": "1.5.0",
            "orientation": "horizontal",
            "min": 0,
            "description_tooltip": null,
            "_model_module": "@jupyter-widgets/controls",
            "layout": "IPY_MODEL_9fb26a2205864789ae52bc462266753e"
          }
        },
        "afd1caa603bc4aee89c8202291956cd7": {
          "model_module": "@jupyter-widgets/controls",
          "model_name": "HTMLModel",
          "state": {
            "_view_name": "HTMLView",
            "style": "IPY_MODEL_3d2c8d4d7e54430a9b65c53f12715a0f",
            "_dom_classes": [],
            "description": "",
            "_model_name": "HTMLModel",
            "placeholder": "​",
            "_view_module": "@jupyter-widgets/controls",
            "_model_module_version": "1.5.0",
            "value": " 362/362 [00:05&lt;00:00, 64.81it/s, loss=0.637, mean_absolute_error=0.513]",
            "_view_count": null,
            "_view_module_version": "1.5.0",
            "description_tooltip": null,
            "_model_module": "@jupyter-widgets/controls",
            "layout": "IPY_MODEL_496f3e1de00b4b798a7d7f94be1d5fa3"
          }
        },
        "4662feffc5aa42ab8ea49fd87d5936b5": {
          "model_module": "@jupyter-widgets/controls",
          "model_name": "ProgressStyleModel",
          "state": {
            "_view_name": "StyleView",
            "_model_name": "ProgressStyleModel",
            "description_width": "initial",
            "_view_module": "@jupyter-widgets/base",
            "_model_module_version": "1.5.0",
            "_view_count": null,
            "_view_module_version": "1.2.0",
            "bar_color": null,
            "_model_module": "@jupyter-widgets/controls"
          }
        },
        "9fb26a2205864789ae52bc462266753e": {
          "model_module": "@jupyter-widgets/base",
          "model_name": "LayoutModel",
          "state": {
            "_view_name": "LayoutView",
            "grid_template_rows": null,
            "right": null,
            "justify_content": null,
            "_view_module": "@jupyter-widgets/base",
            "overflow": null,
            "_model_module_version": "1.2.0",
            "_view_count": null,
            "flex_flow": null,
            "width": null,
            "min_width": null,
            "border": null,
            "align_items": null,
            "bottom": null,
            "_model_module": "@jupyter-widgets/base",
            "top": null,
            "grid_column": null,
            "overflow_y": null,
            "overflow_x": null,
            "grid_auto_flow": null,
            "grid_area": null,
            "grid_template_columns": null,
            "flex": null,
            "_model_name": "LayoutModel",
            "justify_items": null,
            "grid_row": null,
            "max_height": null,
            "align_content": null,
            "visibility": null,
            "align_self": null,
            "height": null,
            "min_height": null,
            "padding": null,
            "grid_auto_rows": null,
            "grid_gap": null,
            "max_width": null,
            "order": null,
            "_view_module_version": "1.2.0",
            "grid_template_areas": null,
            "object_position": null,
            "object_fit": null,
            "grid_auto_columns": null,
            "margin": null,
            "display": null,
            "left": null
          }
        },
        "3d2c8d4d7e54430a9b65c53f12715a0f": {
          "model_module": "@jupyter-widgets/controls",
          "model_name": "DescriptionStyleModel",
          "state": {
            "_view_name": "StyleView",
            "_model_name": "DescriptionStyleModel",
            "description_width": "",
            "_view_module": "@jupyter-widgets/base",
            "_model_module_version": "1.5.0",
            "_view_count": null,
            "_view_module_version": "1.2.0",
            "_model_module": "@jupyter-widgets/controls"
          }
        },
        "496f3e1de00b4b798a7d7f94be1d5fa3": {
          "model_module": "@jupyter-widgets/base",
          "model_name": "LayoutModel",
          "state": {
            "_view_name": "LayoutView",
            "grid_template_rows": null,
            "right": null,
            "justify_content": null,
            "_view_module": "@jupyter-widgets/base",
            "overflow": null,
            "_model_module_version": "1.2.0",
            "_view_count": null,
            "flex_flow": null,
            "width": null,
            "min_width": null,
            "border": null,
            "align_items": null,
            "bottom": null,
            "_model_module": "@jupyter-widgets/base",
            "top": null,
            "grid_column": null,
            "overflow_y": null,
            "overflow_x": null,
            "grid_auto_flow": null,
            "grid_area": null,
            "grid_template_columns": null,
            "flex": null,
            "_model_name": "LayoutModel",
            "justify_items": null,
            "grid_row": null,
            "max_height": null,
            "align_content": null,
            "visibility": null,
            "align_self": null,
            "height": null,
            "min_height": null,
            "padding": null,
            "grid_auto_rows": null,
            "grid_gap": null,
            "max_width": null,
            "order": null,
            "_view_module_version": "1.2.0",
            "grid_template_areas": null,
            "object_position": null,
            "object_fit": null,
            "grid_auto_columns": null,
            "margin": null,
            "display": null,
            "left": null
          }
        }
      }
    }
  },
  "cells": [
    {
      "cell_type": "markdown",
      "metadata": {
        "id": "ONMF7vu5fZgG"
      },
      "source": [
        "# 텐서플로 API"
      ]
    },
    {
      "cell_type": "code",
      "metadata": {
        "id": "SC6xy2deW2RO"
      },
      "source": [
        "#파이썬≥3.5 필수\n",
        "import sys\n",
        "assert sys.version_info>=(3,5)\n",
        "\n",
        "#사이킷런≥2.0 필수\n",
        "import sklearn\n",
        "assert sklearn.__version__>=\"0.20\"\n",
        "\n",
        "try:\n",
        "  #tensorflow_version은 코랩 명령\n",
        "  %tensorflow_version 2.x\n",
        "except Exception:\n",
        "  pass\n",
        "\n",
        "#텐서플로≥2.0 필수\n",
        "import tensorflow as tf\n",
        "from tensorflow import keras\n",
        "assert tf.__version__>=\"2.0\"\n",
        "\n",
        "#공통 모듈 임포트\n",
        "import numpy as np\n",
        "import os\n",
        "\n",
        "#노트북 실행 결과를 동일하게 유지하기 위해\n",
        "np.random.seed(42)\n",
        "tf.random.set_seed(42)\n",
        "\n",
        "#깔끔한 그래프 출력을 위해\n",
        "%matplotlib inline\n",
        "import matplotlib as mpl\n",
        "import matplotlib.pyplot as plt\n",
        "mpl.rc('axes',labelsize=14)\n",
        "mpl.rc('xtick',labelsize=12)\n",
        "mpl.rc('ytick',labelsize=12)"
      ],
      "execution_count": null,
      "outputs": []
    },
    {
      "cell_type": "markdown",
      "metadata": {
        "id": "IchqaYCx1BrJ"
      },
      "source": [
        "## 넘파이처럼 텐서플로 사용하기"
      ]
    },
    {
      "cell_type": "markdown",
      "metadata": {
        "id": "xj2ycJ9d1Fy5"
      },
      "source": [
        "### 텐서와 연산"
      ]
    },
    {
      "cell_type": "markdown",
      "metadata": {
        "id": "8vw1YgA21Ieg"
      },
      "source": [
        "텐서"
      ]
    },
    {
      "cell_type": "code",
      "metadata": {
        "colab": {
          "base_uri": "https://localhost:8080/"
        },
        "id": "yXN50udxfjDI",
        "outputId": "04a767f1-2403-45a1-9e6b-cec33a3b6461"
      },
      "source": [
        "tf.constant([[1.,2.,3.],[4.,5.,6.]])  #행렬"
      ],
      "execution_count": null,
      "outputs": [
        {
          "output_type": "execute_result",
          "data": {
            "text/plain": [
              "<tf.Tensor: shape=(2, 3), dtype=float32, numpy=\n",
              "array([[1., 2., 3.],\n",
              "       [4., 5., 6.]], dtype=float32)>"
            ]
          },
          "metadata": {
            "tags": []
          },
          "execution_count": 2
        }
      ]
    },
    {
      "cell_type": "code",
      "metadata": {
        "colab": {
          "base_uri": "https://localhost:8080/"
        },
        "id": "JzkKvIz21JfU",
        "outputId": "ada4fea7-44cb-4704-8d4b-7cf3dbd3a21c"
      },
      "source": [
        "tf.constant(42) #스칼라"
      ],
      "execution_count": null,
      "outputs": [
        {
          "output_type": "execute_result",
          "data": {
            "text/plain": [
              "<tf.Tensor: shape=(), dtype=int32, numpy=42>"
            ]
          },
          "metadata": {
            "tags": []
          },
          "execution_count": 3
        }
      ]
    },
    {
      "cell_type": "code",
      "metadata": {
        "colab": {
          "base_uri": "https://localhost:8080/"
        },
        "id": "zZZ7nlx21e2g",
        "outputId": "a5f05c80-c9d0-415a-ca7e-a45691dee310"
      },
      "source": [
        "t=tf.constant([[1.,2.,3.],[4.,5.,6.]])\n",
        "t"
      ],
      "execution_count": null,
      "outputs": [
        {
          "output_type": "execute_result",
          "data": {
            "text/plain": [
              "<tf.Tensor: shape=(2, 3), dtype=float32, numpy=\n",
              "array([[1., 2., 3.],\n",
              "       [4., 5., 6.]], dtype=float32)>"
            ]
          },
          "metadata": {
            "tags": []
          },
          "execution_count": 4
        }
      ]
    },
    {
      "cell_type": "code",
      "metadata": {
        "colab": {
          "base_uri": "https://localhost:8080/"
        },
        "id": "caZ_wv7B1mmv",
        "outputId": "8b3374fc-3904-404b-f3a0-124dfaf23606"
      },
      "source": [
        "t.shape"
      ],
      "execution_count": null,
      "outputs": [
        {
          "output_type": "execute_result",
          "data": {
            "text/plain": [
              "TensorShape([2, 3])"
            ]
          },
          "metadata": {
            "tags": []
          },
          "execution_count": 5
        }
      ]
    },
    {
      "cell_type": "code",
      "metadata": {
        "colab": {
          "base_uri": "https://localhost:8080/"
        },
        "id": "rOdIJwWo1s_Z",
        "outputId": "69bbd622-ac47-4ec4-97ef-26555ac603f8"
      },
      "source": [
        "t.dtype"
      ],
      "execution_count": null,
      "outputs": [
        {
          "output_type": "execute_result",
          "data": {
            "text/plain": [
              "tf.float32"
            ]
          },
          "metadata": {
            "tags": []
          },
          "execution_count": 6
        }
      ]
    },
    {
      "cell_type": "markdown",
      "metadata": {
        "id": "2Su5qaTl1vYd"
      },
      "source": [
        "인덱싱"
      ]
    },
    {
      "cell_type": "code",
      "metadata": {
        "colab": {
          "base_uri": "https://localhost:8080/"
        },
        "id": "acPMmk3K1ufE",
        "outputId": "46f56e29-cde3-4347-cd24-933b6c3c02eb"
      },
      "source": [
        "t[:,1:]"
      ],
      "execution_count": null,
      "outputs": [
        {
          "output_type": "execute_result",
          "data": {
            "text/plain": [
              "<tf.Tensor: shape=(2, 2), dtype=float32, numpy=\n",
              "array([[2., 3.],\n",
              "       [5., 6.]], dtype=float32)>"
            ]
          },
          "metadata": {
            "tags": []
          },
          "execution_count": 7
        }
      ]
    },
    {
      "cell_type": "code",
      "metadata": {
        "colab": {
          "base_uri": "https://localhost:8080/"
        },
        "id": "s9FKzRTx13-x",
        "outputId": "e22da323-b252-440f-8f06-04839a15ad40"
      },
      "source": [
        "t[...,1,tf.newaxis]"
      ],
      "execution_count": null,
      "outputs": [
        {
          "output_type": "execute_result",
          "data": {
            "text/plain": [
              "<tf.Tensor: shape=(2, 1), dtype=float32, numpy=\n",
              "array([[2.],\n",
              "       [5.]], dtype=float32)>"
            ]
          },
          "metadata": {
            "tags": []
          },
          "execution_count": 8
        }
      ]
    },
    {
      "cell_type": "markdown",
      "metadata": {
        "id": "JARvpgPS1-k1"
      },
      "source": [
        "연산"
      ]
    },
    {
      "cell_type": "code",
      "metadata": {
        "colab": {
          "base_uri": "https://localhost:8080/"
        },
        "id": "NRQIgZdd163C",
        "outputId": "3e04d41b-8558-4031-d2be-93635f0630e0"
      },
      "source": [
        "t+10"
      ],
      "execution_count": null,
      "outputs": [
        {
          "output_type": "execute_result",
          "data": {
            "text/plain": [
              "<tf.Tensor: shape=(2, 3), dtype=float32, numpy=\n",
              "array([[11., 12., 13.],\n",
              "       [14., 15., 16.]], dtype=float32)>"
            ]
          },
          "metadata": {
            "tags": []
          },
          "execution_count": 9
        }
      ]
    },
    {
      "cell_type": "code",
      "metadata": {
        "colab": {
          "base_uri": "https://localhost:8080/"
        },
        "id": "0Rw8C1VW2Aem",
        "outputId": "c4509221-7cd9-495f-9645-10e33fbf2d6b"
      },
      "source": [
        "tf.square(t)"
      ],
      "execution_count": null,
      "outputs": [
        {
          "output_type": "execute_result",
          "data": {
            "text/plain": [
              "<tf.Tensor: shape=(2, 3), dtype=float32, numpy=\n",
              "array([[ 1.,  4.,  9.],\n",
              "       [16., 25., 36.]], dtype=float32)>"
            ]
          },
          "metadata": {
            "tags": []
          },
          "execution_count": 10
        }
      ]
    },
    {
      "cell_type": "code",
      "metadata": {
        "colab": {
          "base_uri": "https://localhost:8080/"
        },
        "id": "LFA3QJN_2DJ8",
        "outputId": "b31fffa1-4556-44d4-d63d-ea6391916a9e"
      },
      "source": [
        "t@tf.transpose(t)"
      ],
      "execution_count": null,
      "outputs": [
        {
          "output_type": "execute_result",
          "data": {
            "text/plain": [
              "<tf.Tensor: shape=(2, 2), dtype=float32, numpy=\n",
              "array([[14., 32.],\n",
              "       [32., 77.]], dtype=float32)>"
            ]
          },
          "metadata": {
            "tags": []
          },
          "execution_count": 11
        }
      ]
    },
    {
      "cell_type": "markdown",
      "metadata": {
        "id": "TyQ8qYAj23AS"
      },
      "source": [
        "keras.backend 사용하기"
      ]
    },
    {
      "cell_type": "code",
      "metadata": {
        "colab": {
          "base_uri": "https://localhost:8080/"
        },
        "id": "3nd86ncy2V8E",
        "outputId": "c5704b3a-74c2-4d59-c561-ad1969eb56bf"
      },
      "source": [
        "from tensorflow import keras\n",
        "K=keras.backend\n",
        "K.square(K.transpose(t))+10"
      ],
      "execution_count": null,
      "outputs": [
        {
          "output_type": "execute_result",
          "data": {
            "text/plain": [
              "<tf.Tensor: shape=(3, 2), dtype=float32, numpy=\n",
              "array([[11., 26.],\n",
              "       [14., 35.],\n",
              "       [19., 46.]], dtype=float32)>"
            ]
          },
          "metadata": {
            "tags": []
          },
          "execution_count": 12
        }
      ]
    },
    {
      "cell_type": "markdown",
      "metadata": {
        "id": "vNCoF1s33fap"
      },
      "source": [
        "### 텐서와 넘파이"
      ]
    },
    {
      "cell_type": "code",
      "metadata": {
        "colab": {
          "base_uri": "https://localhost:8080/"
        },
        "id": "b49vRnkN3Dsy",
        "outputId": "22223da8-fe0d-4ddd-8f18-c4e94a9d4e59"
      },
      "source": [
        "a=np.array([2.,4.,5.])\n",
        "tf.constant(a)"
      ],
      "execution_count": null,
      "outputs": [
        {
          "output_type": "execute_result",
          "data": {
            "text/plain": [
              "<tf.Tensor: shape=(3,), dtype=float64, numpy=array([2., 4., 5.])>"
            ]
          },
          "metadata": {
            "tags": []
          },
          "execution_count": 13
        }
      ]
    },
    {
      "cell_type": "code",
      "metadata": {
        "colab": {
          "base_uri": "https://localhost:8080/"
        },
        "id": "h2bbH7D83rS6",
        "outputId": "bae08988-2d17-4bd6-b696-08c79db547d5"
      },
      "source": [
        "t.numpy()"
      ],
      "execution_count": null,
      "outputs": [
        {
          "output_type": "execute_result",
          "data": {
            "text/plain": [
              "array([[1., 2., 3.],\n",
              "       [4., 5., 6.]], dtype=float32)"
            ]
          },
          "metadata": {
            "tags": []
          },
          "execution_count": 14
        }
      ]
    },
    {
      "cell_type": "code",
      "metadata": {
        "colab": {
          "base_uri": "https://localhost:8080/"
        },
        "id": "SvSnIlQ83ssX",
        "outputId": "ba8de152-7af8-4374-eee7-ae364f295e45"
      },
      "source": [
        "np.array(t)"
      ],
      "execution_count": null,
      "outputs": [
        {
          "output_type": "execute_result",
          "data": {
            "text/plain": [
              "array([[1., 2., 3.],\n",
              "       [4., 5., 6.]], dtype=float32)"
            ]
          },
          "metadata": {
            "tags": []
          },
          "execution_count": 15
        }
      ]
    },
    {
      "cell_type": "code",
      "metadata": {
        "colab": {
          "base_uri": "https://localhost:8080/"
        },
        "id": "qJl1qtSJ3vvp",
        "outputId": "5a3afa64-145e-4f02-c377-867562222e2e"
      },
      "source": [
        "tf.square(a)"
      ],
      "execution_count": null,
      "outputs": [
        {
          "output_type": "execute_result",
          "data": {
            "text/plain": [
              "<tf.Tensor: shape=(3,), dtype=float64, numpy=array([ 4., 16., 25.])>"
            ]
          },
          "metadata": {
            "tags": []
          },
          "execution_count": 16
        }
      ]
    },
    {
      "cell_type": "code",
      "metadata": {
        "colab": {
          "base_uri": "https://localhost:8080/"
        },
        "id": "P_Y3rxVZ3yBw",
        "outputId": "25f19fff-2575-4f40-fc9e-a4478cb219b8"
      },
      "source": [
        "np.square(t)"
      ],
      "execution_count": null,
      "outputs": [
        {
          "output_type": "execute_result",
          "data": {
            "text/plain": [
              "array([[ 1.,  4.,  9.],\n",
              "       [16., 25., 36.]], dtype=float32)"
            ]
          },
          "metadata": {
            "tags": []
          },
          "execution_count": 17
        }
      ]
    },
    {
      "cell_type": "markdown",
      "metadata": {
        "id": "q6KxpWr232XY"
      },
      "source": [
        "### 타입 변환"
      ]
    },
    {
      "cell_type": "code",
      "metadata": {
        "colab": {
          "base_uri": "https://localhost:8080/"
        },
        "id": "_BeBKFzB30zZ",
        "outputId": "3fa004c8-2a5a-4675-c192-44cb7cd993b1"
      },
      "source": [
        "try:\n",
        "  tf.constant(2.0)+tf.constant(40)\n",
        "except tf.errors.InvalidArgumentError as ex:\n",
        "  print(ex)"
      ],
      "execution_count": null,
      "outputs": [
        {
          "output_type": "stream",
          "text": [
            "cannot compute AddV2 as input #1(zero-based) was expected to be a float tensor but is a int32 tensor [Op:AddV2]\n"
          ],
          "name": "stdout"
        }
      ]
    },
    {
      "cell_type": "code",
      "metadata": {
        "colab": {
          "base_uri": "https://localhost:8080/"
        },
        "id": "lNcl2yew4aes",
        "outputId": "e3592059-6166-48da-becb-d061e9311e73"
      },
      "source": [
        "try:\n",
        "  tf.constant(2.0)+tf.constant(40.,dtype=tf.float64)\n",
        "except tf.errors.InvalidArgumentError as ex:\n",
        "  print(ex)"
      ],
      "execution_count": null,
      "outputs": [
        {
          "output_type": "stream",
          "text": [
            "cannot compute AddV2 as input #1(zero-based) was expected to be a float tensor but is a double tensor [Op:AddV2]\n"
          ],
          "name": "stdout"
        }
      ]
    },
    {
      "cell_type": "code",
      "metadata": {
        "colab": {
          "base_uri": "https://localhost:8080/"
        },
        "id": "wBhpGb3b4qCP",
        "outputId": "b7f1799a-46e4-48fd-98e6-75ed07ea9a60"
      },
      "source": [
        "t2=tf.constant(40.,dtype=tf.float64)\n",
        "tf.constant(2.0)+tf.cast(t2,tf.float32)"
      ],
      "execution_count": null,
      "outputs": [
        {
          "output_type": "execute_result",
          "data": {
            "text/plain": [
              "<tf.Tensor: shape=(), dtype=float32, numpy=42.0>"
            ]
          },
          "metadata": {
            "tags": []
          },
          "execution_count": 20
        }
      ]
    },
    {
      "cell_type": "markdown",
      "metadata": {
        "id": "tGOJ3T_y43KI"
      },
      "source": [
        "### 변수"
      ]
    },
    {
      "cell_type": "code",
      "metadata": {
        "id": "8BtVxe1841w-"
      },
      "source": [
        "v=tf.Variable([[1.,2.,3.],[4.,5.,6.]])"
      ],
      "execution_count": null,
      "outputs": []
    },
    {
      "cell_type": "code",
      "metadata": {
        "colab": {
          "base_uri": "https://localhost:8080/"
        },
        "id": "oBXiJiel5ibM",
        "outputId": "9aa8ce17-59cb-47dc-ff94-7ea7a4fc1607"
      },
      "source": [
        "v.assign(2*v)"
      ],
      "execution_count": null,
      "outputs": [
        {
          "output_type": "execute_result",
          "data": {
            "text/plain": [
              "<tf.Variable 'UnreadVariable' shape=(2, 3) dtype=float32, numpy=\n",
              "array([[ 2.,  4.,  6.],\n",
              "       [ 8., 10., 12.]], dtype=float32)>"
            ]
          },
          "metadata": {
            "tags": []
          },
          "execution_count": 22
        }
      ]
    },
    {
      "cell_type": "code",
      "metadata": {
        "colab": {
          "base_uri": "https://localhost:8080/"
        },
        "id": "jlbNE4IH5j80",
        "outputId": "a32f4279-3c95-41f3-b79a-b6525d6b853d"
      },
      "source": [
        "v[0,1].assign(42)"
      ],
      "execution_count": null,
      "outputs": [
        {
          "output_type": "execute_result",
          "data": {
            "text/plain": [
              "<tf.Variable 'UnreadVariable' shape=(2, 3) dtype=float32, numpy=\n",
              "array([[ 2., 42.,  6.],\n",
              "       [ 8., 10., 12.]], dtype=float32)>"
            ]
          },
          "metadata": {
            "tags": []
          },
          "execution_count": 23
        }
      ]
    },
    {
      "cell_type": "code",
      "metadata": {
        "colab": {
          "base_uri": "https://localhost:8080/"
        },
        "id": "O4dDjt0x5p0b",
        "outputId": "5a049203-d8fc-43e4-f0ab-fd74383c0e81"
      },
      "source": [
        "v[:,2].assign([0.,1.])"
      ],
      "execution_count": null,
      "outputs": [
        {
          "output_type": "execute_result",
          "data": {
            "text/plain": [
              "<tf.Variable 'UnreadVariable' shape=(2, 3) dtype=float32, numpy=\n",
              "array([[ 2., 42.,  0.],\n",
              "       [ 8., 10.,  1.]], dtype=float32)>"
            ]
          },
          "metadata": {
            "tags": []
          },
          "execution_count": 24
        }
      ]
    },
    {
      "cell_type": "code",
      "metadata": {
        "colab": {
          "base_uri": "https://localhost:8080/"
        },
        "id": "cS_Im5355uDK",
        "outputId": "65296c9d-10c2-4795-f14f-f8c4565a5033"
      },
      "source": [
        "try:\n",
        "  v[1]=[7.,8.,9.]\n",
        "except TypeError as ex:\n",
        "  print(ex)"
      ],
      "execution_count": null,
      "outputs": [
        {
          "output_type": "stream",
          "text": [
            "'ResourceVariable' object does not support item assignment\n"
          ],
          "name": "stdout"
        }
      ]
    },
    {
      "cell_type": "code",
      "metadata": {
        "colab": {
          "base_uri": "https://localhost:8080/"
        },
        "id": "PA5WWJdJ57V0",
        "outputId": "efc80b0e-1caa-4e2e-8af4-2f45ae7b0e15"
      },
      "source": [
        "v.scatter_nd_update(indices=[[0,0],[1,2]],\n",
        "                    updates=[100.,200.])"
      ],
      "execution_count": null,
      "outputs": [
        {
          "output_type": "execute_result",
          "data": {
            "text/plain": [
              "<tf.Variable 'UnreadVariable' shape=(2, 3) dtype=float32, numpy=\n",
              "array([[100.,  42.,   0.],\n",
              "       [  8.,  10., 200.]], dtype=float32)>"
            ]
          },
          "metadata": {
            "tags": []
          },
          "execution_count": 26
        }
      ]
    },
    {
      "cell_type": "code",
      "metadata": {
        "colab": {
          "base_uri": "https://localhost:8080/"
        },
        "id": "03EjbX2H6Ir4",
        "outputId": "b9afe44e-5aee-4e8e-f3ea-2f819e633555"
      },
      "source": [
        "sparse_delta=tf.IndexedSlices(values=[[1.,2.,3.],[4.,5.,6.]],\n",
        "                              indices=[1,0])\n",
        "v.scatter_update(sparse_delta)"
      ],
      "execution_count": null,
      "outputs": [
        {
          "output_type": "execute_result",
          "data": {
            "text/plain": [
              "<tf.Variable 'UnreadVariable' shape=(2, 3) dtype=float32, numpy=\n",
              "array([[4., 5., 6.],\n",
              "       [1., 2., 3.]], dtype=float32)>"
            ]
          },
          "metadata": {
            "tags": []
          },
          "execution_count": 27
        }
      ]
    },
    {
      "cell_type": "markdown",
      "metadata": {
        "id": "_oEw2HSn73tK"
      },
      "source": [
        "### 다른 데이터 구조"
      ]
    },
    {
      "cell_type": "markdown",
      "metadata": {
        "id": "ZYpdwEWf8Jhd"
      },
      "source": [
        "문자열"
      ]
    },
    {
      "cell_type": "code",
      "metadata": {
        "colab": {
          "base_uri": "https://localhost:8080/"
        },
        "id": "3Erb3El86Zvt",
        "outputId": "98f8f8a3-00ee-4df8-9e0e-4a51f65467ac"
      },
      "source": [
        "tf.constant(b\"hello world\")"
      ],
      "execution_count": null,
      "outputs": [
        {
          "output_type": "execute_result",
          "data": {
            "text/plain": [
              "<tf.Tensor: shape=(), dtype=string, numpy=b'hello world'>"
            ]
          },
          "metadata": {
            "tags": []
          },
          "execution_count": 28
        }
      ]
    },
    {
      "cell_type": "code",
      "metadata": {
        "colab": {
          "base_uri": "https://localhost:8080/"
        },
        "id": "vorn4lvn9RSl",
        "outputId": "2ba3b54f-3310-44f6-f396-2489c5ab2eda"
      },
      "source": [
        "tf.constant(\"café\")"
      ],
      "execution_count": null,
      "outputs": [
        {
          "output_type": "execute_result",
          "data": {
            "text/plain": [
              "<tf.Tensor: shape=(), dtype=string, numpy=b'caf\\xc3\\xa9'>"
            ]
          },
          "metadata": {
            "tags": []
          },
          "execution_count": 29
        }
      ]
    },
    {
      "cell_type": "code",
      "metadata": {
        "colab": {
          "base_uri": "https://localhost:8080/"
        },
        "id": "XM66Obq39VVd",
        "outputId": "1a281f2b-a196-419a-c65d-6c9d2aa33f18"
      },
      "source": [
        "u=tf.constant([ord(c)for c in \"café\"])\n",
        "u"
      ],
      "execution_count": null,
      "outputs": [
        {
          "output_type": "execute_result",
          "data": {
            "text/plain": [
              "<tf.Tensor: shape=(4,), dtype=int32, numpy=array([ 99,  97, 102, 233], dtype=int32)>"
            ]
          },
          "metadata": {
            "tags": []
          },
          "execution_count": 30
        }
      ]
    },
    {
      "cell_type": "code",
      "metadata": {
        "colab": {
          "base_uri": "https://localhost:8080/"
        },
        "id": "590Kcmlg9fL_",
        "outputId": "e6510e2c-8ea8-4cd3-c5e4-657db0670ad7"
      },
      "source": [
        "b=tf.strings.unicode_encode(u,\"UTF-8\")\n",
        "tf.strings.length(b,unit=\"UTF8_CHAR\")"
      ],
      "execution_count": null,
      "outputs": [
        {
          "output_type": "execute_result",
          "data": {
            "text/plain": [
              "<tf.Tensor: shape=(), dtype=int32, numpy=4>"
            ]
          },
          "metadata": {
            "tags": []
          },
          "execution_count": 31
        }
      ]
    },
    {
      "cell_type": "code",
      "metadata": {
        "colab": {
          "base_uri": "https://localhost:8080/"
        },
        "id": "CvAF4mFC9lr4",
        "outputId": "32c118b6-593f-420d-ebef-5c32867f9ceb"
      },
      "source": [
        "tf.strings.unicode_decode(b,\"UTF-8\")"
      ],
      "execution_count": null,
      "outputs": [
        {
          "output_type": "execute_result",
          "data": {
            "text/plain": [
              "<tf.Tensor: shape=(4,), dtype=int32, numpy=array([ 99,  97, 102, 233], dtype=int32)>"
            ]
          },
          "metadata": {
            "tags": []
          },
          "execution_count": 32
        }
      ]
    },
    {
      "cell_type": "markdown",
      "metadata": {
        "id": "01aSkknY-bJh"
      },
      "source": [
        "문자열 배열"
      ]
    },
    {
      "cell_type": "code",
      "metadata": {
        "id": "NzK8IeF7-Ges"
      },
      "source": [
        "p=tf.constant([\"Café\",\"Coffee\",\"caffè\",\"咖啡\"])"
      ],
      "execution_count": null,
      "outputs": []
    },
    {
      "cell_type": "code",
      "metadata": {
        "colab": {
          "base_uri": "https://localhost:8080/"
        },
        "id": "uKbuikEm-nVz",
        "outputId": "92f4accf-74aa-4ed2-ac6a-a2bce41eb66e"
      },
      "source": [
        "tf.strings.length(p,unit=\"UTF8_CHAR\")"
      ],
      "execution_count": null,
      "outputs": [
        {
          "output_type": "execute_result",
          "data": {
            "text/plain": [
              "<tf.Tensor: shape=(4,), dtype=int32, numpy=array([4, 6, 5, 2], dtype=int32)>"
            ]
          },
          "metadata": {
            "tags": []
          },
          "execution_count": 34
        }
      ]
    },
    {
      "cell_type": "code",
      "metadata": {
        "colab": {
          "base_uri": "https://localhost:8080/"
        },
        "id": "nt8pMAiE-00b",
        "outputId": "2d1ef276-56ed-4865-b4b8-cea3d8b210f6"
      },
      "source": [
        "r=tf.strings.unicode_decode(p,\"UTF8\")\n",
        "r"
      ],
      "execution_count": null,
      "outputs": [
        {
          "output_type": "execute_result",
          "data": {
            "text/plain": [
              "<tf.RaggedTensor [[67, 97, 102, 233], [67, 111, 102, 102, 101, 101], [99, 97, 102, 102, 232], [21654, 21857]]>"
            ]
          },
          "metadata": {
            "tags": []
          },
          "execution_count": 35
        }
      ]
    },
    {
      "cell_type": "code",
      "metadata": {
        "colab": {
          "base_uri": "https://localhost:8080/"
        },
        "id": "4JuLS7lc-6N_",
        "outputId": "c10242d3-6200-49da-b825-c5b9a89e7d0c"
      },
      "source": [
        "print(r)"
      ],
      "execution_count": null,
      "outputs": [
        {
          "output_type": "stream",
          "text": [
            "<tf.RaggedTensor [[67, 97, 102, 233], [67, 111, 102, 102, 101, 101], [99, 97, 102, 102, 232], [21654, 21857]]>\n"
          ],
          "name": "stdout"
        }
      ]
    },
    {
      "cell_type": "markdown",
      "metadata": {
        "id": "qubBVfzY_bts"
      },
      "source": [
        "래그드 텐서"
      ]
    },
    {
      "cell_type": "code",
      "metadata": {
        "id": "ow8ugESe-_PT",
        "colab": {
          "base_uri": "https://localhost:8080/"
        },
        "outputId": "88a4dc8f-3eed-4bca-e237-83ce7eeb3960"
      },
      "source": [
        "print(r[1])"
      ],
      "execution_count": null,
      "outputs": [
        {
          "output_type": "stream",
          "text": [
            "tf.Tensor([ 67 111 102 102 101 101], shape=(6,), dtype=int32)\n"
          ],
          "name": "stdout"
        }
      ]
    },
    {
      "cell_type": "code",
      "metadata": {
        "colab": {
          "base_uri": "https://localhost:8080/"
        },
        "id": "x1KqtUKAk3HM",
        "outputId": "bf2eab42-2fff-42a6-cbb1-4d5700e30097"
      },
      "source": [
        "print(r[1:3])"
      ],
      "execution_count": null,
      "outputs": [
        {
          "output_type": "stream",
          "text": [
            "<tf.RaggedTensor [[67, 111, 102, 102, 101, 101], [99, 97, 102, 102, 232]]>\n"
          ],
          "name": "stdout"
        }
      ]
    },
    {
      "cell_type": "code",
      "metadata": {
        "colab": {
          "base_uri": "https://localhost:8080/"
        },
        "id": "89_pmX9plIEK",
        "outputId": "5bf1554a-eaf5-45b9-92e3-2bdbc738d8f3"
      },
      "source": [
        "r2=tf.ragged.constant([[65,66],[],[67]])\n",
        "print(tf.concat([r,r2],axis=0))"
      ],
      "execution_count": null,
      "outputs": [
        {
          "output_type": "stream",
          "text": [
            "<tf.RaggedTensor [[67, 97, 102, 233], [67, 111, 102, 102, 101, 101], [99, 97, 102, 102, 232], [21654, 21857], [65, 66], [], [67]]>\n"
          ],
          "name": "stdout"
        }
      ]
    },
    {
      "cell_type": "code",
      "metadata": {
        "colab": {
          "base_uri": "https://localhost:8080/"
        },
        "id": "zeYdUD-jlRKz",
        "outputId": "4c60c264-ec64-46a0-f504-9b301de41f1d"
      },
      "source": [
        "r3=tf.ragged.constant([[68,69,70],[71],[],[72,73]])\n",
        "print(tf.concat([r,r3],axis=1))"
      ],
      "execution_count": null,
      "outputs": [
        {
          "output_type": "stream",
          "text": [
            "<tf.RaggedTensor [[67, 97, 102, 233, 68, 69, 70], [67, 111, 102, 102, 101, 101, 71], [99, 97, 102, 102, 232], [21654, 21857, 72, 73]]>\n"
          ],
          "name": "stdout"
        }
      ]
    },
    {
      "cell_type": "code",
      "metadata": {
        "colab": {
          "base_uri": "https://localhost:8080/"
        },
        "id": "6GPt3SwRln7o",
        "outputId": "bb9d04b0-f7ed-41e5-b151-55c393c1f3a1"
      },
      "source": [
        "tf.strings.unicode_encode(r3,\"UTF-8\")"
      ],
      "execution_count": null,
      "outputs": [
        {
          "output_type": "execute_result",
          "data": {
            "text/plain": [
              "<tf.Tensor: shape=(4,), dtype=string, numpy=array([b'DEF', b'G', b'', b'HI'], dtype=object)>"
            ]
          },
          "metadata": {
            "tags": []
          },
          "execution_count": 41
        }
      ]
    },
    {
      "cell_type": "code",
      "metadata": {
        "colab": {
          "base_uri": "https://localhost:8080/"
        },
        "id": "mwfzCFQfl89r",
        "outputId": "d5ddbce3-b6e4-432f-cbaa-28ba0c31f02b"
      },
      "source": [
        "r.to_tensor()"
      ],
      "execution_count": null,
      "outputs": [
        {
          "output_type": "execute_result",
          "data": {
            "text/plain": [
              "<tf.Tensor: shape=(4, 6), dtype=int32, numpy=\n",
              "array([[   67,    97,   102,   233,     0,     0],\n",
              "       [   67,   111,   102,   102,   101,   101],\n",
              "       [   99,    97,   102,   102,   232,     0],\n",
              "       [21654, 21857,     0,     0,     0,     0]], dtype=int32)>"
            ]
          },
          "metadata": {
            "tags": []
          },
          "execution_count": 42
        }
      ]
    },
    {
      "cell_type": "markdown",
      "metadata": {
        "id": "GxYiFyAWmNtD"
      },
      "source": [
        "희소 텐서"
      ]
    },
    {
      "cell_type": "code",
      "metadata": {
        "id": "5Ak-szePmBAh"
      },
      "source": [
        "s=tf.SparseTensor(indices=[[0,1],[1,0],[2,3]],\n",
        "                  values=[1.,2.,3.],\n",
        "                  dense_shape=[3,4])"
      ],
      "execution_count": null,
      "outputs": []
    },
    {
      "cell_type": "code",
      "metadata": {
        "colab": {
          "base_uri": "https://localhost:8080/"
        },
        "id": "KTC8E48umsS1",
        "outputId": "b4c62e13-a119-4b23-a1a4-dd1d0754ab83"
      },
      "source": [
        "print(s)"
      ],
      "execution_count": null,
      "outputs": [
        {
          "output_type": "stream",
          "text": [
            "SparseTensor(indices=tf.Tensor(\n",
            "[[0 1]\n",
            " [1 0]\n",
            " [2 3]], shape=(3, 2), dtype=int64), values=tf.Tensor([1. 2. 3.], shape=(3,), dtype=float32), dense_shape=tf.Tensor([3 4], shape=(2,), dtype=int64))\n"
          ],
          "name": "stdout"
        }
      ]
    },
    {
      "cell_type": "code",
      "metadata": {
        "colab": {
          "base_uri": "https://localhost:8080/"
        },
        "id": "AaV9kW3mmtE4",
        "outputId": "b12aad3b-b157-4bf1-9df5-e65d9ea0267a"
      },
      "source": [
        "tf.sparse.to_dense(s)"
      ],
      "execution_count": null,
      "outputs": [
        {
          "output_type": "execute_result",
          "data": {
            "text/plain": [
              "<tf.Tensor: shape=(3, 4), dtype=float32, numpy=\n",
              "array([[0., 1., 0., 0.],\n",
              "       [2., 0., 0., 0.],\n",
              "       [0., 0., 0., 3.]], dtype=float32)>"
            ]
          },
          "metadata": {
            "tags": []
          },
          "execution_count": 45
        }
      ]
    },
    {
      "cell_type": "code",
      "metadata": {
        "id": "OJfT5gMpm0BG"
      },
      "source": [
        "s2=s*2.0"
      ],
      "execution_count": null,
      "outputs": []
    },
    {
      "cell_type": "code",
      "metadata": {
        "colab": {
          "base_uri": "https://localhost:8080/"
        },
        "id": "ChCK7s7NnG4f",
        "outputId": "ce8a8af8-d4fa-462b-e4eb-d9e32deb51d8"
      },
      "source": [
        "try:\n",
        "  s3=s+1.\n",
        "except TypeError as ex:\n",
        "  print(ex)"
      ],
      "execution_count": null,
      "outputs": [
        {
          "output_type": "stream",
          "text": [
            "unsupported operand type(s) for +: 'SparseTensor' and 'float'\n"
          ],
          "name": "stdout"
        }
      ]
    },
    {
      "cell_type": "code",
      "metadata": {
        "colab": {
          "base_uri": "https://localhost:8080/"
        },
        "id": "FyUsoJgTnPVy",
        "outputId": "c476ff85-2968-4f83-910b-6047be0c101e"
      },
      "source": [
        "s4=tf.constant([[10.,20.],[30.,40.],[50.,60.],[70.,80.]])\n",
        "tf.sparse.sparse_dense_matmul(s,s4)"
      ],
      "execution_count": null,
      "outputs": [
        {
          "output_type": "execute_result",
          "data": {
            "text/plain": [
              "<tf.Tensor: shape=(3, 2), dtype=float32, numpy=\n",
              "array([[ 30.,  40.],\n",
              "       [ 20.,  40.],\n",
              "       [210., 240.]], dtype=float32)>"
            ]
          },
          "metadata": {
            "tags": []
          },
          "execution_count": 48
        }
      ]
    },
    {
      "cell_type": "code",
      "metadata": {
        "colab": {
          "base_uri": "https://localhost:8080/"
        },
        "id": "MCiKs2fLn_1Y",
        "outputId": "1f97f839-3ac8-411d-9bba-be83101587cc"
      },
      "source": [
        "s5=tf.SparseTensor(indices=[[0,2],[0,1]],\n",
        "                   values=[1.,2.],\n",
        "                   dense_shape=[3,4])\n",
        "print(s5)"
      ],
      "execution_count": null,
      "outputs": [
        {
          "output_type": "stream",
          "text": [
            "SparseTensor(indices=tf.Tensor(\n",
            "[[0 2]\n",
            " [0 1]], shape=(2, 2), dtype=int64), values=tf.Tensor([1. 2.], shape=(2,), dtype=float32), dense_shape=tf.Tensor([3 4], shape=(2,), dtype=int64))\n"
          ],
          "name": "stdout"
        }
      ]
    },
    {
      "cell_type": "code",
      "metadata": {
        "colab": {
          "base_uri": "https://localhost:8080/"
        },
        "id": "OZGrPgHupBHD",
        "outputId": "25a64370-1545-4526-d781-66082575002a"
      },
      "source": [
        "try:\n",
        "  tf.sparse.to_dense(s5)\n",
        "except tf.errors.InvalidArgumentError as ex:\n",
        "  print(ex)"
      ],
      "execution_count": null,
      "outputs": [
        {
          "output_type": "stream",
          "text": [
            "indices[1] = [0,1] is out of order. Many sparse ops require sorted indices.\n",
            "    Use `tf.sparse.reorder` to create a correctly ordered copy.\n",
            "\n",
            " [Op:SparseToDense]\n"
          ],
          "name": "stdout"
        }
      ]
    },
    {
      "cell_type": "code",
      "metadata": {
        "colab": {
          "base_uri": "https://localhost:8080/"
        },
        "id": "KkLCtCpspL5y",
        "outputId": "85a4dfc1-e333-4dd0-c667-0412a261ba9b"
      },
      "source": [
        "s6=tf.sparse.reorder(s5)\n",
        "tf.sparse.to_dense(s6)"
      ],
      "execution_count": null,
      "outputs": [
        {
          "output_type": "execute_result",
          "data": {
            "text/plain": [
              "<tf.Tensor: shape=(3, 4), dtype=float32, numpy=\n",
              "array([[0., 2., 1., 0.],\n",
              "       [0., 0., 0., 0.],\n",
              "       [0., 0., 0., 0.]], dtype=float32)>"
            ]
          },
          "metadata": {
            "tags": []
          },
          "execution_count": 51
        }
      ]
    },
    {
      "cell_type": "markdown",
      "metadata": {
        "id": "sPGfnsLFsBcS"
      },
      "source": [
        "텐서 배열"
      ]
    },
    {
      "cell_type": "code",
      "metadata": {
        "id": "zE9j7KoHpVH2"
      },
      "source": [
        "array=tf.TensorArray(dtype=tf.float32,size=3)\n",
        "array=array.write(0,tf.constant([1.,2.]))\n",
        "array=array.write(1,tf.constant([3.,10.]))\n",
        "array=array.write(2,tf.constant([5.,7.]))"
      ],
      "execution_count": null,
      "outputs": []
    },
    {
      "cell_type": "code",
      "metadata": {
        "colab": {
          "base_uri": "https://localhost:8080/"
        },
        "id": "glVW1Eifv_ol",
        "outputId": "e9a6d50e-142a-4d86-9459-6465535ea9ae"
      },
      "source": [
        "array.read(1)"
      ],
      "execution_count": null,
      "outputs": [
        {
          "output_type": "execute_result",
          "data": {
            "text/plain": [
              "<tf.Tensor: shape=(2,), dtype=float32, numpy=array([ 3., 10.], dtype=float32)>"
            ]
          },
          "metadata": {
            "tags": []
          },
          "execution_count": 53
        }
      ]
    },
    {
      "cell_type": "code",
      "metadata": {
        "colab": {
          "base_uri": "https://localhost:8080/"
        },
        "id": "StZ6sO6BwA_t",
        "outputId": "028ad6d4-fa15-4bb4-9076-3b05cfe6884e"
      },
      "source": [
        "array.stack()"
      ],
      "execution_count": null,
      "outputs": [
        {
          "output_type": "execute_result",
          "data": {
            "text/plain": [
              "<tf.Tensor: shape=(3, 2), dtype=float32, numpy=\n",
              "array([[1., 2.],\n",
              "       [0., 0.],\n",
              "       [5., 7.]], dtype=float32)>"
            ]
          },
          "metadata": {
            "tags": []
          },
          "execution_count": 54
        }
      ]
    },
    {
      "cell_type": "code",
      "metadata": {
        "colab": {
          "base_uri": "https://localhost:8080/"
        },
        "id": "HQHMWwHPwDLm",
        "outputId": "c812db0a-c572-4ba7-c51c-391702b95959"
      },
      "source": [
        "mean,variance=tf.nn.moments(array.stack(),axes=0)\n",
        "mean"
      ],
      "execution_count": null,
      "outputs": [
        {
          "output_type": "execute_result",
          "data": {
            "text/plain": [
              "<tf.Tensor: shape=(2,), dtype=float32, numpy=array([2., 3.], dtype=float32)>"
            ]
          },
          "metadata": {
            "tags": []
          },
          "execution_count": 55
        }
      ]
    },
    {
      "cell_type": "code",
      "metadata": {
        "colab": {
          "base_uri": "https://localhost:8080/"
        },
        "id": "KjG5DY4SwMO9",
        "outputId": "e6e9a71b-66ef-4a2c-86c0-18af214e7761"
      },
      "source": [
        "variance"
      ],
      "execution_count": null,
      "outputs": [
        {
          "output_type": "execute_result",
          "data": {
            "text/plain": [
              "<tf.Tensor: shape=(2,), dtype=float32, numpy=array([4.6666665, 8.666667 ], dtype=float32)>"
            ]
          },
          "metadata": {
            "tags": []
          },
          "execution_count": 56
        }
      ]
    },
    {
      "cell_type": "markdown",
      "metadata": {
        "id": "BtTpcZRswjY1"
      },
      "source": [
        "집합"
      ]
    },
    {
      "cell_type": "code",
      "metadata": {
        "colab": {
          "base_uri": "https://localhost:8080/"
        },
        "id": "wddbYFkXwRfV",
        "outputId": "cafe773b-cfb1-4b72-fe11-c0b475fb6dca"
      },
      "source": [
        "set1=tf.constant([[2,3,5,7],[7,9,0,0]])\n",
        "set2=tf.constant([[4,5,6],[9,10,0]])\n",
        "tf.sparse.to_dense(tf.sets.union(set1,set2))"
      ],
      "execution_count": null,
      "outputs": [
        {
          "output_type": "execute_result",
          "data": {
            "text/plain": [
              "<tf.Tensor: shape=(2, 6), dtype=int32, numpy=\n",
              "array([[ 2,  3,  4,  5,  6,  7],\n",
              "       [ 0,  7,  9, 10,  0,  0]], dtype=int32)>"
            ]
          },
          "metadata": {
            "tags": []
          },
          "execution_count": 57
        }
      ]
    },
    {
      "cell_type": "code",
      "metadata": {
        "colab": {
          "base_uri": "https://localhost:8080/"
        },
        "id": "EMXhAHapw9Q0",
        "outputId": "592d364e-56e9-4742-bbf7-d1bdbe3943b8"
      },
      "source": [
        "tf.sparse.to_dense(tf.sets.difference(set1,set2))"
      ],
      "execution_count": null,
      "outputs": [
        {
          "output_type": "execute_result",
          "data": {
            "text/plain": [
              "<tf.Tensor: shape=(2, 3), dtype=int32, numpy=\n",
              "array([[2, 3, 7],\n",
              "       [7, 0, 0]], dtype=int32)>"
            ]
          },
          "metadata": {
            "tags": []
          },
          "execution_count": 58
        }
      ]
    },
    {
      "cell_type": "code",
      "metadata": {
        "colab": {
          "base_uri": "https://localhost:8080/"
        },
        "id": "hlsshrAxxJKb",
        "outputId": "392c6b22-3457-440c-b9bd-9e25c3355b71"
      },
      "source": [
        "tf.sparse.to_dense(tf.sets.intersection(set1,set2))"
      ],
      "execution_count": null,
      "outputs": [
        {
          "output_type": "execute_result",
          "data": {
            "text/plain": [
              "<tf.Tensor: shape=(2, 2), dtype=int32, numpy=\n",
              "array([[5, 0],\n",
              "       [0, 9]], dtype=int32)>"
            ]
          },
          "metadata": {
            "tags": []
          },
          "execution_count": 59
        }
      ]
    },
    {
      "cell_type": "markdown",
      "metadata": {
        "id": "0UApvf3Ca3t3"
      },
      "source": [
        "## 사용자 정의 모델과 훈련 알고리즘"
      ]
    },
    {
      "cell_type": "markdown",
      "metadata": {
        "id": "Qbk7he1hnx7n"
      },
      "source": [
        "### 사용자 정의 손실 함수"
      ]
    },
    {
      "cell_type": "markdown",
      "metadata": {
        "id": "LW-RNz67s5bK"
      },
      "source": [
        "캘리포니아 주택 데이터셋을 로드하여 준비  \n",
        "먼저 이 데이터셋을 로드한 다음 훈련 세트, 검증 세트, 테스트 세트로 나누고 마지막으로 스케일을 변경 :"
      ]
    },
    {
      "cell_type": "code",
      "metadata": {
        "id": "RoW7RAaBxeRO",
        "colab": {
          "base_uri": "https://localhost:8080/"
        },
        "outputId": "1554c7a6-5fb2-4eda-d839-4a50c5cffddf"
      },
      "source": [
        "from sklearn.datasets import fetch_california_housing\n",
        "from sklearn.model_selection import train_test_split\n",
        "from sklearn.preprocessing import StandardScaler\n",
        "\n",
        "housing=fetch_california_housing()\n",
        "X_train_full,X_test,y_train_full,y_test=train_test_split(\n",
        "    housing.data,housing.target.reshape(-1,1),random_state=42)\n",
        "X_train,X_valid,y_train,y_valid=train_test_split(\n",
        "    X_train_full,y_train_full,random_state=42)\n",
        "\n",
        "scaler=StandardScaler()\n",
        "X_train_scaled=scaler.fit_transform(X_train)\n",
        "X_valid_scaled=scaler.transform(X_valid)\n",
        "X_test_scaled=scaler.transform(X_test)"
      ],
      "execution_count": null,
      "outputs": [
        {
          "output_type": "stream",
          "text": [
            "Downloading Cal. housing from https://ndownloader.figshare.com/files/5976036 to /root/scikit_learn_data\n"
          ],
          "name": "stderr"
        }
      ]
    },
    {
      "cell_type": "code",
      "metadata": {
        "id": "6iLQSp_jpY8t"
      },
      "source": [
        "def huber_fn(y_true,y_pred):\n",
        "  error=y_true-y_pred\n",
        "  is_small_error=tf.abs(error)<1\n",
        "  squared_loss=tf.square(error)/2\n",
        "  linear_loss=tf.abs(error)-0.5\n",
        "  return tf.where(is_small_error,squared_loss,linear_loss)"
      ],
      "execution_count": null,
      "outputs": []
    },
    {
      "cell_type": "code",
      "metadata": {
        "colab": {
          "base_uri": "https://localhost:8080/"
        },
        "id": "o9niHPbaq7cB",
        "outputId": "408d0b50-5e55-4184-dbd3-0226ade23b3d"
      },
      "source": [
        "plt.figure(figsize=(8,3.5))\n",
        "z=np.linspace(-4,4,200)\n",
        "plt.plot(z,huber_fn(0,z),\"b-\",linewidth=2,label=\"huber($z$)\")\n",
        "plt.plot(z,z**2/2,\"b:\",linewidth=1,label=r\"$\\frac{1}{2}z^2$\")\n",
        "plt.plot([-1,-1],[0,huber_fn(0.,-1.)],\"r--\")\n",
        "plt.plot([1,1],[0,huber_fn(0.,1.)],\"r--\")\n",
        "plt.gca().axhline(y=0,color='k')\n",
        "plt.gca().axvline(x=0,color='k')\n",
        "plt.axis([-4,4,0,4])\n",
        "plt.grid(True)\n",
        "plt.xlabel(\"$z$\")\n",
        "plt.legend(fontsize=14)\n",
        "plt.title(\"Huber loss\",fontsize=14)\n",
        "plt.show()"
      ],
      "execution_count": null,
      "outputs": [
        {
          "output_type": "display_data",
          "data": {
            "image/png": "[encoded data removed]",
            "text/plain": [
              "<Figure size 576x252 with 1 Axes>"
            ]
          },
          "metadata": {
            "tags": [],
            "needs_background": "light"
          }
        }
      ]
    },
    {
      "cell_type": "code",
      "metadata": {
        "id": "m6Zmq73QsI9v"
      },
      "source": [
        "input_shape=X_train.shape[1:]\n",
        "\n",
        "model=keras.models.Sequential([\n",
        "                               keras.layers.Dense(30,activation=\"selu\",kernel_initializer=\"lecun_normal\",\n",
        "                                                  input_shape=input_shape),\n",
        "                               keras.layers.Dense(1),\n",
        "])"
      ],
      "execution_count": null,
      "outputs": []
    },
    {
      "cell_type": "code",
      "metadata": {
        "id": "7nwoEpbytrIt"
      },
      "source": [
        "model.compile(loss=huber_fn,optimizer=\"nadam\",metrics=[\"mae\"])"
      ],
      "execution_count": null,
      "outputs": []
    },
    {
      "cell_type": "code",
      "metadata": {
        "colab": {
          "base_uri": "https://localhost:8080/"
        },
        "id": "Um_IdWN9twry",
        "outputId": "24aae85b-9381-427a-8747-839d6ad476f9"
      },
      "source": [
        "model.fit(X_train_scaled,y_train,epochs=2,\n",
        "          validation_data=(X_valid_scaled,y_valid))"
      ],
      "execution_count": null,
      "outputs": [
        {
          "output_type": "stream",
          "text": [
            "Epoch 1/2\n",
            "363/363 [==============================] - 1s 2ms/step - loss: 0.6235 - mae: 0.9953 - val_loss: 0.2862 - val_mae: 0.5866\n",
            "Epoch 2/2\n",
            "363/363 [==============================] - 0s 1ms/step - loss: 0.2197 - mae: 0.5177 - val_loss: 0.2382 - val_mae: 0.5281\n"
          ],
          "name": "stdout"
        },
        {
          "output_type": "execute_result",
          "data": {
            "text/plain": [
              "<tensorflow.python.keras.callbacks.History at 0x7fa3b24887f0>"
            ]
          },
          "metadata": {
            "tags": []
          },
          "execution_count": 65
        }
      ]
    },
    {
      "cell_type": "markdown",
      "metadata": {
        "id": "hkj-Z4ybt-ku"
      },
      "source": [
        "### 사용자 정의 요소를 가진 모델을 저장하고 로드하기"
      ]
    },
    {
      "cell_type": "code",
      "metadata": {
        "id": "GjodR_5Tt5OH"
      },
      "source": [
        "model.save(\"my_model_with_a_custom_loss.h5\")"
      ],
      "execution_count": null,
      "outputs": []
    },
    {
      "cell_type": "code",
      "metadata": {
        "id": "X2y09GxSuN1Y"
      },
      "source": [
        "model=keras.models.load_model(\"my_model_with_a_custom_loss.h5\",\n",
        "                              custom_objects={\"huber_fn\":huber_fn})"
      ],
      "execution_count": null,
      "outputs": []
    },
    {
      "cell_type": "code",
      "metadata": {
        "colab": {
          "base_uri": "https://localhost:8080/"
        },
        "id": "OVfXVVssuaA1",
        "outputId": "a3719f80-6c98-4b41-cfdd-c80cf0a71ce4"
      },
      "source": [
        "model.fit(X_train_scaled,y_train,epochs=2,\n",
        "          validation_data=(X_valid_scaled,y_valid))"
      ],
      "execution_count": null,
      "outputs": [
        {
          "output_type": "stream",
          "text": [
            "Epoch 1/2\n",
            "363/363 [==============================] - 1s 1ms/step - loss: 0.2054 - mean_absolute_error: 0.4982 - val_loss: 0.2209 - val_mean_absolute_error: 0.5050\n",
            "Epoch 2/2\n",
            "363/363 [==============================] - 0s 1ms/step - loss: 0.1999 - mean_absolute_error: 0.4900 - val_loss: 0.2127 - val_mean_absolute_error: 0.4986\n"
          ],
          "name": "stdout"
        },
        {
          "output_type": "execute_result",
          "data": {
            "text/plain": [
              "<tensorflow.python.keras.callbacks.History at 0x7fa3ad8b9fd0>"
            ]
          },
          "metadata": {
            "tags": []
          },
          "execution_count": 68
        }
      ]
    },
    {
      "cell_type": "code",
      "metadata": {
        "id": "XXlDq89cum3u"
      },
      "source": [
        "def create_huber(threshold=1.0):\n",
        "  def huber_fn(y_true,y_pred):\n",
        "    error=y_true-y_pred\n",
        "    is_small_error=tf.abs(error)<threshold\n",
        "    squared_loss=tf.square(error)/2\n",
        "    linear_loss=threshold*tf.abs(error)-threshold**2/2\n",
        "    return tf.where(is_small_error,squared_loss,linear_loss)\n",
        "  return huber_fn"
      ],
      "execution_count": null,
      "outputs": []
    },
    {
      "cell_type": "code",
      "metadata": {
        "id": "VH3uM7pcvSAd"
      },
      "source": [
        "model.compile(loss=create_huber(2.0),optimizer=\"nadam\",metrics=[\"mae\"])"
      ],
      "execution_count": null,
      "outputs": []
    },
    {
      "cell_type": "code",
      "metadata": {
        "colab": {
          "base_uri": "https://localhost:8080/"
        },
        "id": "_KlyS9Ruvh1S",
        "outputId": "ffeb87d6-dacc-47c6-e9f2-c6a94a0d22cc"
      },
      "source": [
        "model.fit(X_train_scaled,y_train,epochs=2,\n",
        "          validation_data=(X_valid_scaled,y_valid))"
      ],
      "execution_count": null,
      "outputs": [
        {
          "output_type": "stream",
          "text": [
            "Epoch 1/2\n",
            "363/363 [==============================] - 1s 1ms/step - loss: 0.2226 - mae: 0.4892 - val_loss: 0.2540 - val_mae: 0.4907\n",
            "Epoch 2/2\n",
            "363/363 [==============================] - 0s 1ms/step - loss: 0.2184 - mae: 0.4844 - val_loss: 0.2372 - val_mae: 0.4879\n"
          ],
          "name": "stdout"
        },
        {
          "output_type": "execute_result",
          "data": {
            "text/plain": [
              "<tensorflow.python.keras.callbacks.History at 0x7fa3ac7c5c18>"
            ]
          },
          "metadata": {
            "tags": []
          },
          "execution_count": 71
        }
      ]
    },
    {
      "cell_type": "code",
      "metadata": {
        "id": "3s0W4Fx3v1Xd"
      },
      "source": [
        "model.save(\"my_model_with_a_custom_loss_threshold_2.h5\")"
      ],
      "execution_count": null,
      "outputs": []
    },
    {
      "cell_type": "code",
      "metadata": {
        "id": "Y3hWQpWOwuDT"
      },
      "source": [
        "model=keras.models.load_model(\"my_model_with_a_custom_loss_threshold_2.h5\",\n",
        "                              custom_objects={\"huber_fn\":create_huber(2.0)})"
      ],
      "execution_count": null,
      "outputs": []
    },
    {
      "cell_type": "code",
      "metadata": {
        "colab": {
          "base_uri": "https://localhost:8080/"
        },
        "id": "4Jo4dj_hw6NB",
        "outputId": "272e7d33-e4a9-4a75-e1d3-5ea1991d8042"
      },
      "source": [
        "model.fit(X_train_scaled,y_train,epochs=2,\n",
        "          validation_data=(X_valid_scaled,y_valid))"
      ],
      "execution_count": null,
      "outputs": [
        {
          "output_type": "stream",
          "text": [
            "Epoch 1/2\n",
            "363/363 [==============================] - 1s 1ms/step - loss: 0.2147 - mean_absolute_error: 0.4800 - val_loss: 0.2133 - val_mean_absolute_error: 0.4654\n",
            "Epoch 2/2\n",
            "363/363 [==============================] - 0s 1ms/step - loss: 0.2119 - mean_absolute_error: 0.4762 - val_loss: 0.1992 - val_mean_absolute_error: 0.4643\n"
          ],
          "name": "stdout"
        },
        {
          "output_type": "execute_result",
          "data": {
            "text/plain": [
              "<tensorflow.python.keras.callbacks.History at 0x7fa3ab60c438>"
            ]
          },
          "metadata": {
            "tags": []
          },
          "execution_count": 74
        }
      ]
    },
    {
      "cell_type": "code",
      "metadata": {
        "id": "f6D6Nf3DyOME"
      },
      "source": [
        "class HuberLoss(keras.losses.Loss):\n",
        "  def __init__(self,threshold=1.0,**kwargs):\n",
        "    self.threshold=threshold\n",
        "    super().__init__(**kwargs)\n",
        "  def call(self,y_true,y_pred):\n",
        "    error=y_true-y_pred\n",
        "    is_small_error=tf.abs(error)<self.threshold\n",
        "    squared_loss=tf.square(error)/2\n",
        "    linear_loss=self.threshold*tf.abs(error)-self.threshold**2/2\n",
        "    return tf.where(is_small_error,squared_loss,linear_loss)\n",
        "  def get_config(self):\n",
        "    base_config=super().get_config()\n",
        "    return {**base_config,\"threshold\":self.threshold}"
      ],
      "execution_count": null,
      "outputs": []
    },
    {
      "cell_type": "code",
      "metadata": {
        "id": "lNNYpm5AzOy6"
      },
      "source": [
        "model=keras.models.Sequential([\n",
        "                               keras.layers.Dense(30,activation=\"selu\",kernel_initializer=\"lecun_normal\",\n",
        "                                                  input_shape=input_shape),\n",
        "                               keras.layers.Dense(1),\n",
        "])"
      ],
      "execution_count": null,
      "outputs": []
    },
    {
      "cell_type": "code",
      "metadata": {
        "id": "cHPzaFWyzehn"
      },
      "source": [
        "model.compile(loss=HuberLoss(2.),optimizer=\"nadam\",metrics=[\"mae\"])"
      ],
      "execution_count": null,
      "outputs": []
    },
    {
      "cell_type": "code",
      "metadata": {
        "colab": {
          "base_uri": "https://localhost:8080/"
        },
        "id": "9agy10mQzqyy",
        "outputId": "8cc49395-f6d6-4c07-ec8e-dfa899271528"
      },
      "source": [
        "model.fit(X_train_scaled,y_train,epochs=2,\n",
        "          validation_data=(X_valid_scaled,y_valid))"
      ],
      "execution_count": null,
      "outputs": [
        {
          "output_type": "stream",
          "text": [
            "Epoch 1/2\n",
            "363/363 [==============================] - 1s 1ms/step - loss: 0.7095 - mae: 0.8863 - val_loss: 0.3378 - val_mae: 0.5485\n",
            "Epoch 2/2\n",
            "363/363 [==============================] - 0s 1ms/step - loss: 0.2416 - mae: 0.5083 - val_loss: 0.2660 - val_mae: 0.5089\n"
          ],
          "name": "stdout"
        },
        {
          "output_type": "execute_result",
          "data": {
            "text/plain": [
              "<tensorflow.python.keras.callbacks.History at 0x7fa3a94936d8>"
            ]
          },
          "metadata": {
            "tags": []
          },
          "execution_count": 78
        }
      ]
    },
    {
      "cell_type": "code",
      "metadata": {
        "id": "GIG-PqI-xNWg"
      },
      "source": [
        "model.save(\"my_model_with_a_custom_loss_class.h5\")"
      ],
      "execution_count": null,
      "outputs": []
    },
    {
      "cell_type": "code",
      "metadata": {
        "id": "AgeZZ1pTxifc"
      },
      "source": [
        "model=keras.models.load_model(\"my_model_with_a_custom_loss_class.h5\",\n",
        "                              custom_objects={\"HuberLoss\":HuberLoss})"
      ],
      "execution_count": null,
      "outputs": []
    },
    {
      "cell_type": "code",
      "metadata": {
        "colab": {
          "base_uri": "https://localhost:8080/"
        },
        "id": "sozrgT9HyEpW",
        "outputId": "8b12325a-7675-4fbc-ef3f-ab0016e80bd8"
      },
      "source": [
        "model.fit(X_train_scaled,y_train,epochs=2,\n",
        "          validation_data=(X_valid_scaled,y_valid))"
      ],
      "execution_count": null,
      "outputs": [
        {
          "output_type": "stream",
          "text": [
            "Epoch 1/2\n",
            "363/363 [==============================] - 1s 1ms/step - loss: 0.2286 - mean_absolute_error: 0.4970 - val_loss: 0.2120 - val_mean_absolute_error: 0.4723\n",
            "Epoch 2/2\n",
            "363/363 [==============================] - 0s 1ms/step - loss: 0.2216 - mean_absolute_error: 0.4904 - val_loss: 0.2045 - val_mean_absolute_error: 0.4725\n"
          ],
          "name": "stdout"
        },
        {
          "output_type": "execute_result",
          "data": {
            "text/plain": [
              "<tensorflow.python.keras.callbacks.History at 0x7fa3ad8a7438>"
            ]
          },
          "metadata": {
            "tags": []
          },
          "execution_count": 81
        }
      ]
    },
    {
      "cell_type": "code",
      "metadata": {
        "id": "N20jE2xN5lv6"
      },
      "source": [
        "model=keras.models.load_model(\"my_model_with_a_custom_loss_class.h5\",\n",
        "                              custom_objects={\"HuberLoss\":HuberLoss})"
      ],
      "execution_count": null,
      "outputs": []
    },
    {
      "cell_type": "code",
      "metadata": {
        "colab": {
          "base_uri": "https://localhost:8080/"
        },
        "id": "_a4ZsiA06A07",
        "outputId": "223aa64b-70ad-4413-d682-61d1b0d6623b"
      },
      "source": [
        "model.loss.threshold"
      ],
      "execution_count": null,
      "outputs": [
        {
          "output_type": "execute_result",
          "data": {
            "text/plain": [
              "2.0"
            ]
          },
          "metadata": {
            "tags": []
          },
          "execution_count": 83
        }
      ]
    },
    {
      "cell_type": "markdown",
      "metadata": {
        "id": "gMtJWlyD6MHi"
      },
      "source": [
        "### 활성화 함수, 초기화, 규제, 제한을 커스터마이징하기"
      ]
    },
    {
      "cell_type": "code",
      "metadata": {
        "id": "hbfy7t_m6Km5"
      },
      "source": [
        "keras.backend.clear_session()\n",
        "np.random.seed(42)\n",
        "tf.random.set_seed(42)"
      ],
      "execution_count": null,
      "outputs": []
    },
    {
      "cell_type": "code",
      "metadata": {
        "id": "zini04EDC6gk"
      },
      "source": [
        "def my_softplus(z): #tf.nn.softplus(z) 값을 반환\n",
        "  return tf.math.log(tf.exp(z)+1.0)\n",
        "\n",
        "def my_glorot_initializer(shape,dtype=tf.float32):\n",
        "  stddev=tf.sqrt(2./(shape[0]+shape[1]))\n",
        "  return tf.random.normal(shape,stddev=stddev,dtype=dtype)\n",
        "\n",
        "def my_l1_regularizer(weights):\n",
        "  return tf.reduce_sum(tf.abs(0.01*weights))\n",
        "\n",
        "def my_positive_weights(weights): #tf.nn.relu(weights) 값을 반환\n",
        "  return tf.where(weights<0.,tf.zeros_like(weights),weights)"
      ],
      "execution_count": null,
      "outputs": []
    },
    {
      "cell_type": "code",
      "metadata": {
        "id": "QJ4kjvuxFJlq"
      },
      "source": [
        "layer=keras.layers.Dense(1,activation=my_softplus,\n",
        "                         kernel_initializer=my_glorot_initializer,\n",
        "                         kernel_regularizer=my_l1_regularizer,\n",
        "                         kernel_constraint=my_positive_weights)"
      ],
      "execution_count": null,
      "outputs": []
    },
    {
      "cell_type": "code",
      "metadata": {
        "id": "SC8YS9NCFYRX"
      },
      "source": [
        "keras.backend.clear_session()\n",
        "np.random.seed(42)\n",
        "tf.random.set_seed(42)"
      ],
      "execution_count": null,
      "outputs": []
    },
    {
      "cell_type": "code",
      "metadata": {
        "id": "TI7Ee62yFph3"
      },
      "source": [
        "model=keras.models.Sequential([\n",
        "                               keras.layers.Dense(30,activation=\"selu\",kernel_initializer=\"lecun_normal\",\n",
        "                                                  input_shape=input_shape),\n",
        "                               keras.layers.Dense(1,activation=my_softplus,\n",
        "                                                  kernel_regularizer=my_l1_regularizer,\n",
        "                                                  kernel_constraint=my_positive_weights,\n",
        "                                                  kernel_initializer=my_glorot_initializer),\n",
        "])"
      ],
      "execution_count": null,
      "outputs": []
    },
    {
      "cell_type": "code",
      "metadata": {
        "id": "bXIvKuOHGK_e"
      },
      "source": [
        "model.compile(loss=\"mse\",optimizer=\"nadam\",metrics=[\"mae\"])"
      ],
      "execution_count": null,
      "outputs": []
    },
    {
      "cell_type": "code",
      "metadata": {
        "colab": {
          "base_uri": "https://localhost:8080/"
        },
        "id": "603ruRFyGR69",
        "outputId": "0343d9f3-3253-42d8-f792-c6f354313cd1"
      },
      "source": [
        "model.fit(X_train_scaled,y_train,epochs=2,\n",
        "          validation_data=(X_valid_scaled,y_valid))"
      ],
      "execution_count": null,
      "outputs": [
        {
          "output_type": "stream",
          "text": [
            "Epoch 1/2\n",
            "363/363 [==============================] - 1s 1ms/step - loss: 1.5542 - mae: 0.8962 - val_loss: 1.4154 - val_mae: 0.5607\n",
            "Epoch 2/2\n",
            "363/363 [==============================] - 0s 1ms/step - loss: 0.5943 - mae: 0.5256 - val_loss: 1.4399 - val_mae: 0.5137\n"
          ],
          "name": "stdout"
        },
        {
          "output_type": "execute_result",
          "data": {
            "text/plain": [
              "<tensorflow.python.keras.callbacks.History at 0x7fa3a8402f28>"
            ]
          },
          "metadata": {
            "tags": []
          },
          "execution_count": 90
        }
      ]
    },
    {
      "cell_type": "code",
      "metadata": {
        "id": "JsMHrhNOGX1q"
      },
      "source": [
        "model.save(\"my_model_with_many_custom_parts.h5\")"
      ],
      "execution_count": null,
      "outputs": []
    },
    {
      "cell_type": "code",
      "metadata": {
        "id": "Hog-B0EbGiSb"
      },
      "source": [
        "model=keras.models.load_model(\n",
        "    \"my_model_with_many_custom_parts.h5\",\n",
        "    custom_objects={\n",
        "        \"my_l1_regularizer\":my_l1_regularizer,\n",
        "        \"my_positive_weights\":my_positive_weights,\n",
        "        \"my_glorot_initializer\":my_glorot_initializer,\n",
        "        \"my_softplus\":my_softplus,\n",
        "    }\n",
        ")"
      ],
      "execution_count": null,
      "outputs": []
    },
    {
      "cell_type": "code",
      "metadata": {
        "id": "HCetVJaXG-Rb"
      },
      "source": [
        "class MyL1Regularizer(keras.regularizers.Regularizer):\n",
        "  def __init__(self,factor):\n",
        "    self.factor=factor\n",
        "  def __call__(self,weights):\n",
        "    return tf.reduce_sum(tf.abs(self.factor*weights))\n",
        "  def get_config(self):\n",
        "    return {\"factor\":self.factor}"
      ],
      "execution_count": null,
      "outputs": []
    },
    {
      "cell_type": "code",
      "metadata": {
        "id": "WewplP1aHViG"
      },
      "source": [
        "keras.backend.clear_session()\n",
        "np.random.seed(42)\n",
        "tf.random.set_seed(42)"
      ],
      "execution_count": null,
      "outputs": []
    },
    {
      "cell_type": "code",
      "metadata": {
        "id": "H9Zq6gV7Hbec"
      },
      "source": [
        "model=keras.models.Sequential([\n",
        "                               keras.layers.Dense(30,activation=\"selu\",kernel_initializer=\"lecun_normal\",\n",
        "                                                  input_shape=input_shape),\n",
        "                               keras.layers.Dense(1,activation=my_softplus,\n",
        "                                                  kernel_regularizer=MyL1Regularizer(0.01),\n",
        "                                                  kernel_constraint=my_positive_weights,\n",
        "                                                  kernel_initializer=my_glorot_initializer),\n",
        "])"
      ],
      "execution_count": null,
      "outputs": []
    },
    {
      "cell_type": "code",
      "metadata": {
        "id": "Nvmvndm9ID0P"
      },
      "source": [
        "model.compile(loss=\"mse\",optimizer=\"nadam\",metrics=[\"mae\"])"
      ],
      "execution_count": null,
      "outputs": []
    },
    {
      "cell_type": "code",
      "metadata": {
        "colab": {
          "base_uri": "https://localhost:8080/"
        },
        "id": "yJmY8RO9IN_O",
        "outputId": "6eda5a40-d3b0-4c58-e07a-8a0e0189a9ac"
      },
      "source": [
        "model.fit(X_train_scaled,y_train,epochs=2,\n",
        "          validation_data=(X_valid_scaled,y_valid))"
      ],
      "execution_count": null,
      "outputs": [
        {
          "output_type": "stream",
          "text": [
            "Epoch 1/2\n",
            "363/363 [==============================] - 1s 1ms/step - loss: 1.5542 - mae: 0.8962 - val_loss: 1.4154 - val_mae: 0.5607\n",
            "Epoch 2/2\n",
            "363/363 [==============================] - 0s 1ms/step - loss: 0.5943 - mae: 0.5256 - val_loss: 1.4399 - val_mae: 0.5137\n"
          ],
          "name": "stdout"
        },
        {
          "output_type": "execute_result",
          "data": {
            "text/plain": [
              "<tensorflow.python.keras.callbacks.History at 0x7fa3af8b35c0>"
            ]
          },
          "metadata": {
            "tags": []
          },
          "execution_count": 97
        }
      ]
    },
    {
      "cell_type": "code",
      "metadata": {
        "id": "YsDcADqWIVBW"
      },
      "source": [
        "model.save(\"my_model_with_many_custom_parts.h5\")"
      ],
      "execution_count": null,
      "outputs": []
    },
    {
      "cell_type": "code",
      "metadata": {
        "id": "6RLNehpTIc3O"
      },
      "source": [
        "model=keras.models.load_model(\n",
        "    \"my_model_with_many_custom_parts.h5\",\n",
        "    custom_objects={\n",
        "        \"MyL1Regularizer\":MyL1Regularizer,\n",
        "        \"my_positive_weights\":my_positive_weights,\n",
        "        \"my_glorot_initializer\":my_glorot_initializer,\n",
        "        \"my_softplus\":my_softplus,\n",
        "    }\n",
        ")"
      ],
      "execution_count": null,
      "outputs": []
    },
    {
      "cell_type": "markdown",
      "metadata": {
        "id": "H0i1tjr0JFjp"
      },
      "source": [
        "### 사용자 정의 지표"
      ]
    },
    {
      "cell_type": "code",
      "metadata": {
        "id": "bTQWrcIiI_Lu"
      },
      "source": [
        "keras.backend.clear_session()\n",
        "np.random.seed(42)\n",
        "tf.random.set_seed(42)"
      ],
      "execution_count": null,
      "outputs": []
    },
    {
      "cell_type": "code",
      "metadata": {
        "id": "M2JdNBSXT09G"
      },
      "source": [
        "model=keras.models.Sequential([\n",
        "                               keras.layers.Dense(30,activation=\"selu\",kernel_initializer=\"lecun_normal\",\n",
        "                                                  input_shape=input_shape),\n",
        "                               keras.layers.Dense(1),\n",
        "])"
      ],
      "execution_count": null,
      "outputs": []
    },
    {
      "cell_type": "code",
      "metadata": {
        "id": "-ZAtIEx8UP7P"
      },
      "source": [
        "model.compile(loss=\"mse\",optimizer=\"nadam\",metrics=[create_huber(2.0)])"
      ],
      "execution_count": null,
      "outputs": []
    },
    {
      "cell_type": "code",
      "metadata": {
        "colab": {
          "base_uri": "https://localhost:8080/"
        },
        "id": "MmyvIE1oUWN4",
        "outputId": "08295088-cd9c-4907-a259-b7b134c2b670"
      },
      "source": [
        "model.fit(X_train_scaled,y_train,epochs=2)"
      ],
      "execution_count": null,
      "outputs": [
        {
          "output_type": "stream",
          "text": [
            "Epoch 1/2\n",
            "363/363 [==============================] - 0s 884us/step - loss: 2.0982 - huber_fn: 0.9192\n",
            "Epoch 2/2\n",
            "363/363 [==============================] - 0s 868us/step - loss: 0.6052 - huber_fn: 0.2733\n"
          ],
          "name": "stdout"
        },
        {
          "output_type": "execute_result",
          "data": {
            "text/plain": [
              "<tensorflow.python.keras.callbacks.History at 0x7fa3af6f1ef0>"
            ]
          },
          "metadata": {
            "tags": []
          },
          "execution_count": 103
        }
      ]
    },
    {
      "cell_type": "markdown",
      "metadata": {
        "id": "Wu6OCaoRWEug"
      },
      "source": [
        "경고 : 손실과 지표에 같은 함수를 사용하면 다른 결과가 나올 수 있다. (일반적으로 부동 소수점 정밀도 오차 때문)  \n",
        "수학 식이 동일하더라도 연산은 동일한 순서대로 실행되지 않아 작은 차이가 발생  \n",
        "또한 샘플 가중치를 사용하면 정밀도보다 더 큰 오차가 생긴다 :\n",
        "\n",
        "- 에포크에서 손실은 지금까지 본 모든 배치 손실의 평균, 각 배치 손실은 가중치가 적용된 샘플 손실의 합을 배치 크기 로 나눈 것 (샘플 가중치의 합으로 나눈 것이 아니기 때문에 배치 손실은 손실의 가중 평균이 아니다.)\n",
        "- 에포크에서 지표는 가중치가 적용된 샘플 손실의 합을 지금까지 본 모든 샘플 가중치의 합으로 나눈 것, 다른 말로하면 모든 샘플 손실의 가중 평균이기 때문에 위와 같지 않다.\n",
        "\n",
        "수학적으로 말하면 손실 = 지표 * 샘플 가중치의 평균(더하기 약간의 부동 소수점 정밀도 오차)"
      ]
    },
    {
      "cell_type": "code",
      "metadata": {
        "id": "4su6cDVTUb_r"
      },
      "source": [
        "model.compile(loss=create_huber(2.0),optimizer=\"nadam\",metrics=[create_huber(2.0)])"
      ],
      "execution_count": null,
      "outputs": []
    },
    {
      "cell_type": "code",
      "metadata": {
        "colab": {
          "base_uri": "https://localhost:8080/"
        },
        "id": "H11Eon0GVNZr",
        "outputId": "681144ad-c6ff-4415-8261-43efa6f6da18"
      },
      "source": [
        "sample_weight=np.random.rand(len(y_train))\n",
        "history=model.fit(X_train_scaled,y_train,epochs=2,sample_weight=sample_weight)"
      ],
      "execution_count": null,
      "outputs": [
        {
          "output_type": "stream",
          "text": [
            "Epoch 1/2\n",
            "363/363 [==============================] - 0s 997us/step - loss: 0.1175 - huber_fn: 0.2399\n",
            "Epoch 2/2\n",
            "363/363 [==============================] - 0s 917us/step - loss: 0.1131 - huber_fn: 0.2297\n"
          ],
          "name": "stdout"
        }
      ]
    },
    {
      "cell_type": "code",
      "metadata": {
        "colab": {
          "base_uri": "https://localhost:8080/"
        },
        "id": "FTSTleGtV1W0",
        "outputId": "9ffeb293-f360-4a2e-fd71-4fea4019ea60"
      },
      "source": [
        "history.history[\"loss\"][0],history.history[\"huber_fn\"][0]*sample_weight.mean()"
      ],
      "execution_count": null,
      "outputs": [
        {
          "output_type": "execute_result",
          "data": {
            "text/plain": [
              "(0.11749906837940216, 0.11906626312604573)"
            ]
          },
          "metadata": {
            "tags": []
          },
          "execution_count": 106
        }
      ]
    },
    {
      "cell_type": "markdown",
      "metadata": {
        "id": "SkD-8h1zXxXC"
      },
      "source": [
        "스트리밍 지표"
      ]
    },
    {
      "cell_type": "code",
      "metadata": {
        "colab": {
          "base_uri": "https://localhost:8080/"
        },
        "id": "AzsNCucSWAhS",
        "outputId": "0b8578bf-6e47-4a30-9db2-3f014b9ecc81"
      },
      "source": [
        "precision=keras.metrics.Precision()\n",
        "precision([0,1,1,1,0,1,0,1],[1,1,0,1,0,1,0,1])"
      ],
      "execution_count": null,
      "outputs": [
        {
          "output_type": "execute_result",
          "data": {
            "text/plain": [
              "<tf.Tensor: shape=(), dtype=float32, numpy=0.8>"
            ]
          },
          "metadata": {
            "tags": []
          },
          "execution_count": 107
        }
      ]
    },
    {
      "cell_type": "code",
      "metadata": {
        "colab": {
          "base_uri": "https://localhost:8080/"
        },
        "id": "85Ju3qU-ZZOR",
        "outputId": "6a6b2913-cf28-4171-db12-b094713e44f8"
      },
      "source": [
        "precision([0,1,0,0,1,0,1,1],[1,0,1,1,0,0,0,0])"
      ],
      "execution_count": null,
      "outputs": [
        {
          "output_type": "execute_result",
          "data": {
            "text/plain": [
              "<tf.Tensor: shape=(), dtype=float32, numpy=0.5>"
            ]
          },
          "metadata": {
            "tags": []
          },
          "execution_count": 108
        }
      ]
    },
    {
      "cell_type": "code",
      "metadata": {
        "colab": {
          "base_uri": "https://localhost:8080/"
        },
        "id": "4lbRq1AFZd8z",
        "outputId": "b55ab980-f85e-4de5-f9b6-87c2581a6531"
      },
      "source": [
        "precision.result()"
      ],
      "execution_count": null,
      "outputs": [
        {
          "output_type": "execute_result",
          "data": {
            "text/plain": [
              "<tf.Tensor: shape=(), dtype=float32, numpy=0.5>"
            ]
          },
          "metadata": {
            "tags": []
          },
          "execution_count": 109
        }
      ]
    },
    {
      "cell_type": "code",
      "metadata": {
        "colab": {
          "base_uri": "https://localhost:8080/"
        },
        "id": "xAviVU44ZjQS",
        "outputId": "c15fc004-8363-4576-e726-29baa195dd61"
      },
      "source": [
        "precision.variables"
      ],
      "execution_count": null,
      "outputs": [
        {
          "output_type": "execute_result",
          "data": {
            "text/plain": [
              "[<tf.Variable 'true_positives:0' shape=(1,) dtype=float32, numpy=array([4.], dtype=float32)>,\n",
              " <tf.Variable 'false_positives:0' shape=(1,) dtype=float32, numpy=array([4.], dtype=float32)>]"
            ]
          },
          "metadata": {
            "tags": []
          },
          "execution_count": 110
        }
      ]
    },
    {
      "cell_type": "code",
      "metadata": {
        "id": "SGgVK9oJZk_T"
      },
      "source": [
        "precision.reset_states()"
      ],
      "execution_count": null,
      "outputs": []
    },
    {
      "cell_type": "markdown",
      "metadata": {
        "id": "EyrEJjefZtJ6"
      },
      "source": [
        "스트리밍 지표 만들기 :"
      ]
    },
    {
      "cell_type": "code",
      "metadata": {
        "id": "7iHwqg3OZr1Y"
      },
      "source": [
        "class HuberMetric(keras.metrics.Metric):\n",
        "  def __init__(self,threshold=1.0,**kwargs):\n",
        "    super().__init__(**kwargs)  #기본 매개변수 처리 (e.g. dtype)\n",
        "    self.threshold=threshold\n",
        "    self.huber_fn=create_huber(threshold)\n",
        "    self.total=self.add_weight(\"total\",initializer=\"zeros\")\n",
        "    self.count=self.add_weight(\"count\",initializer=\"zeros\")\n",
        "  def update_state(self,y_true,y_pred,sample_weight=None):\n",
        "    metric=self.huber_fn(y_true,y_pred)\n",
        "    self.total.assign_add(tf.reduce_sum(metric))\n",
        "    self.count.assign_add(tf.cast(tf.size(y_true),tf.float32))\n",
        "  def result(self):\n",
        "    return self.total/self.count\n",
        "  def get_config(self):\n",
        "    base_config=super().get_config()\n",
        "    return {**base_config,\"threshold\":self.threshold}"
      ],
      "execution_count": null,
      "outputs": []
    },
    {
      "cell_type": "code",
      "metadata": {
        "colab": {
          "base_uri": "https://localhost:8080/"
        },
        "id": "492ehhvtt0hZ",
        "outputId": "0be646c3-2d5d-42b5-b0cc-6a9a5a40850e"
      },
      "source": [
        "m=HuberMetric(2.)\n",
        "\n",
        "#total=2*|10-2|-2²/2=14\n",
        "#count=1\n",
        "#result=14/1=14\n",
        "m(tf.constant([[2.]]),tf.constant([[10.]]))"
      ],
      "execution_count": null,
      "outputs": [
        {
          "output_type": "execute_result",
          "data": {
            "text/plain": [
              "<tf.Tensor: shape=(), dtype=float32, numpy=14.0>"
            ]
          },
          "metadata": {
            "tags": []
          },
          "execution_count": 113
        }
      ]
    },
    {
      "cell_type": "code",
      "metadata": {
        "colab": {
          "base_uri": "https://localhost:8080/"
        },
        "id": "t1mrxt8HuUHl",
        "outputId": "5509c566-7369-41e5-8616-52a3d78af984"
      },
      "source": [
        "#total=total+(|1-0|²/2)+(2*|9.25-5|-2²/2)=14+7=21\n",
        "#count=count+2=3\n",
        "#result=total/count=21/3=7\n",
        "m(tf.constant([[0.],[5.]]),tf.constant([[1.],[9.25]]))\n",
        "\n",
        "m.result()"
      ],
      "execution_count": null,
      "outputs": [
        {
          "output_type": "execute_result",
          "data": {
            "text/plain": [
              "<tf.Tensor: shape=(), dtype=float32, numpy=7.0>"
            ]
          },
          "metadata": {
            "tags": []
          },
          "execution_count": 114
        }
      ]
    },
    {
      "cell_type": "code",
      "metadata": {
        "colab": {
          "base_uri": "https://localhost:8080/"
        },
        "id": "ePVG7bZiu-i8",
        "outputId": "edb0be01-911d-4129-ad84-8112367268ec"
      },
      "source": [
        "m.variables"
      ],
      "execution_count": null,
      "outputs": [
        {
          "output_type": "execute_result",
          "data": {
            "text/plain": [
              "[<tf.Variable 'total:0' shape=() dtype=float32, numpy=21.0>,\n",
              " <tf.Variable 'count:0' shape=() dtype=float32, numpy=3.0>]"
            ]
          },
          "metadata": {
            "tags": []
          },
          "execution_count": 115
        }
      ]
    },
    {
      "cell_type": "code",
      "metadata": {
        "colab": {
          "base_uri": "https://localhost:8080/"
        },
        "id": "jVUB2rtZyeUT",
        "outputId": "6c0f4f8e-da59-477c-ba1e-a67eb62c0a9f"
      },
      "source": [
        "m.reset_states()\n",
        "m.variables"
      ],
      "execution_count": null,
      "outputs": [
        {
          "output_type": "execute_result",
          "data": {
            "text/plain": [
              "[<tf.Variable 'total:0' shape=() dtype=float32, numpy=0.0>,\n",
              " <tf.Variable 'count:0' shape=() dtype=float32, numpy=0.0>]"
            ]
          },
          "metadata": {
            "tags": []
          },
          "execution_count": 116
        }
      ]
    },
    {
      "cell_type": "markdown",
      "metadata": {
        "id": "Q0epNkG3yoci"
      },
      "source": [
        "HuberMetric 클래스가 잘 동작하는지 확인 :"
      ]
    },
    {
      "cell_type": "code",
      "metadata": {
        "id": "oeN1ZUrNyjV5"
      },
      "source": [
        "keras.backend.clear_session()\n",
        "np.random.seed(42)\n",
        "tf.random.set_seed(42)"
      ],
      "execution_count": null,
      "outputs": []
    },
    {
      "cell_type": "code",
      "metadata": {
        "id": "NwNBfFe7yyOx"
      },
      "source": [
        "model=keras.models.Sequential([\n",
        "                               keras.layers.Dense(30,activation=\"selu\",kernel_initializer=\"lecun_normal\",\n",
        "                                                  input_shape=input_shape),\n",
        "                               keras.layers.Dense(1),\n",
        "])"
      ],
      "execution_count": null,
      "outputs": []
    },
    {
      "cell_type": "code",
      "metadata": {
        "id": "sDsJNGZAy_1Z"
      },
      "source": [
        "model.compile(loss=create_huber(2.0),optimizer=\"nadam\",metrics=[HuberMetric(2.0)])"
      ],
      "execution_count": null,
      "outputs": []
    },
    {
      "cell_type": "code",
      "metadata": {
        "colab": {
          "base_uri": "https://localhost:8080/"
        },
        "id": "4T9lYP9bzHM1",
        "outputId": "7ecfcf05-632f-42a1-c3c0-a8f126518213"
      },
      "source": [
        "model.fit(X_train_scaled.astype(np.float32),y_train.astype(np.float32),epochs=2)"
      ],
      "execution_count": null,
      "outputs": [
        {
          "output_type": "stream",
          "text": [
            "Epoch 1/2\n",
            "363/363 [==============================] - 0s 1ms/step - loss: 0.8707 - huber_metric: 0.8707\n",
            "Epoch 2/2\n",
            "363/363 [==============================] - 0s 1ms/step - loss: 0.2595 - huber_metric: 0.2595\n"
          ],
          "name": "stdout"
        },
        {
          "output_type": "execute_result",
          "data": {
            "text/plain": [
              "<tensorflow.python.keras.callbacks.History at 0x7fa3af442fd0>"
            ]
          },
          "metadata": {
            "tags": []
          },
          "execution_count": 120
        }
      ]
    },
    {
      "cell_type": "code",
      "metadata": {
        "id": "WiMqFm_czOnV"
      },
      "source": [
        "model.save(\"my_model_with_a_custom_metric.h5\")"
      ],
      "execution_count": null,
      "outputs": []
    },
    {
      "cell_type": "code",
      "metadata": {
        "id": "Qi9oI7OGzVmy"
      },
      "source": [
        "model=keras.models.load_model(\"my_model_with_a_custom_metric.h5\",\n",
        "                              custom_objects={\"huber_fn\":create_huber(2.0),\n",
        "                                              \"HuberMetric\":HuberMetric})"
      ],
      "execution_count": null,
      "outputs": []
    },
    {
      "cell_type": "code",
      "metadata": {
        "colab": {
          "base_uri": "https://localhost:8080/"
        },
        "id": "8DWTpTdszv2V",
        "outputId": "ade9d760-c1e7-430a-cdc9-9d01b8736eb6"
      },
      "source": [
        "model.fit(X_train_scaled.astype(np.float32),y_train.astype(np.float32),epochs=2)"
      ],
      "execution_count": null,
      "outputs": [
        {
          "output_type": "stream",
          "text": [
            "Epoch 1/2\n",
            "363/363 [==============================] - 0s 900us/step - loss: 0.2350 - huber_metric: 0.2350\n",
            "Epoch 2/2\n",
            "363/363 [==============================] - 0s 899us/step - loss: 0.2278 - huber_metric: 0.2278\n"
          ],
          "name": "stdout"
        },
        {
          "output_type": "execute_result",
          "data": {
            "text/plain": [
              "<tensorflow.python.keras.callbacks.History at 0x7fa3ae119cf8>"
            ]
          },
          "metadata": {
            "tags": []
          },
          "execution_count": 123
        }
      ]
    },
    {
      "cell_type": "markdown",
      "metadata": {
        "id": "mk4TjsI80FB1"
      },
      "source": [
        "경고 : 텐서플로 2.2에서 tf.keras가 model.metrics의 0번째 위치에 지표를 추가  \n",
        "따라서 HuberMetric에 접근하려면 model.metrics[0] 대신 model.metrics[-1]를 사용"
      ]
    },
    {
      "cell_type": "code",
      "metadata": {
        "colab": {
          "base_uri": "https://localhost:8080/"
        },
        "id": "vOBYO4Evz5vh",
        "outputId": "0f159620-67e3-4a53-fe45-2322402196e6"
      },
      "source": [
        "model.metrics[-1].threshold"
      ],
      "execution_count": null,
      "outputs": [
        {
          "output_type": "execute_result",
          "data": {
            "text/plain": [
              "2.0"
            ]
          },
          "metadata": {
            "tags": []
          },
          "execution_count": 124
        }
      ]
    },
    {
      "cell_type": "markdown",
      "metadata": {
        "id": "9JgFjnLn0W_z"
      },
      "source": [
        "더 간단한 클래스 :"
      ]
    },
    {
      "cell_type": "code",
      "metadata": {
        "id": "6djoMiVsz_-a"
      },
      "source": [
        "class HuberMetric(keras.metrics.Mean):\n",
        "  def __init__(self,threshold=1.0,name='HuberMetric',dtype=None):\n",
        "    self.threshold=threshold\n",
        "    self.huber_fn=create_huber(threshold)\n",
        "    super().__init__(name=name,dtype=dtype)\n",
        "  def update_state(self,y_true,y_pred,sample_weight=None):\n",
        "    metric=self.huber_fn(y_true,y_pred)\n",
        "    super(HuberMetric,self).update_state(metric,sample_weight)\n",
        "  def get_config(self):\n",
        "    base_config=super().get_config()\n",
        "    return {**base_config,\"threshold\":self.threshold}"
      ],
      "execution_count": null,
      "outputs": []
    },
    {
      "cell_type": "markdown",
      "metadata": {
        "id": "sME7SVvb4LHn"
      },
      "source": [
        "이 클래스는 크기를 잘 처리하고 샘플 가중치도 지원"
      ]
    },
    {
      "cell_type": "code",
      "metadata": {
        "id": "xZqSGPGD27cN"
      },
      "source": [
        "keras.backend.clear_session()\n",
        "np.random.seed(42)\n",
        "tf.random.set_seed(42)"
      ],
      "execution_count": null,
      "outputs": []
    },
    {
      "cell_type": "code",
      "metadata": {
        "id": "Wi7cL2XS4ViX"
      },
      "source": [
        "model=keras.models.Sequential([\n",
        "                               keras.layers.Dense(30,activation=\"selu\",kernel_initializer=\"lecun_normal\",\n",
        "                                                  input_shape=input_shape),\n",
        "                               keras.layers.Dense(1),\n",
        "])"
      ],
      "execution_count": null,
      "outputs": []
    },
    {
      "cell_type": "code",
      "metadata": {
        "id": "UBEHO7oq4hg_"
      },
      "source": [
        "model.compile(loss=keras.losses.Huber(2.0),optimizer=\"nadam\",weighted_metrics=[HuberMetric(2.0)])"
      ],
      "execution_count": null,
      "outputs": []
    },
    {
      "cell_type": "code",
      "metadata": {
        "colab": {
          "base_uri": "https://localhost:8080/"
        },
        "id": "eGBhLJWN4wfj",
        "outputId": "f9c45789-141c-4c75-d918-4ac674f6609b"
      },
      "source": [
        "sample_weight=np.random.rand(len(y_train))\n",
        "history=model.fit(X_train_scaled.astype(np.float32),y_train.astype(np.float32),\n",
        "                  epochs=2,sample_weight=sample_weight)"
      ],
      "execution_count": null,
      "outputs": [
        {
          "output_type": "stream",
          "text": [
            "Epoch 1/2\n",
            "363/363 [==============================] - 0s 1ms/step - loss: 0.4455 - HuberMetric: 0.8978\n",
            "Epoch 2/2\n",
            "363/363 [==============================] - 0s 1ms/step - loss: 0.1305 - HuberMetric: 0.2631\n"
          ],
          "name": "stdout"
        }
      ]
    },
    {
      "cell_type": "code",
      "metadata": {
        "colab": {
          "base_uri": "https://localhost:8080/"
        },
        "id": "b9DjVmEZ5Cch",
        "outputId": "e3f174f0-4149-4686-cb22-2db6c223c8b2"
      },
      "source": [
        "history.history[\"loss\"][0],history.history[\"HuberMetric\"][0]*sample_weight.mean()"
      ],
      "execution_count": null,
      "outputs": [
        {
          "output_type": "execute_result",
          "data": {
            "text/plain": [
              "(0.44554394483566284, 0.44554404180100277)"
            ]
          },
          "metadata": {
            "tags": []
          },
          "execution_count": 130
        }
      ]
    },
    {
      "cell_type": "code",
      "metadata": {
        "id": "4GAUcBht5fNk"
      },
      "source": [
        "model.save(\"my_model_with_a_custom_metric_v2.h5\")"
      ],
      "execution_count": null,
      "outputs": []
    },
    {
      "cell_type": "code",
      "metadata": {
        "id": "LgrVJhZl5kuk"
      },
      "source": [
        "model=keras.models.load_model(\"my_model_with_a_custom_metric_v2.h5\",\n",
        "                              custom_objects={\"HuberMetric\":HuberMetric})"
      ],
      "execution_count": null,
      "outputs": []
    },
    {
      "cell_type": "code",
      "metadata": {
        "colab": {
          "base_uri": "https://localhost:8080/"
        },
        "id": "akvWlAog5wCa",
        "outputId": "f669b87a-a5f2-4e73-c7db-45a29bb55085"
      },
      "source": [
        "model.fit(X_train_scaled.astype(np.float32),y_train.astype(np.float32),epochs=2)"
      ],
      "execution_count": null,
      "outputs": [
        {
          "output_type": "stream",
          "text": [
            "Epoch 1/2\n",
            "363/363 [==============================] - 0s 921us/step - loss: 0.2377 - HuberMetric: 0.2377\n",
            "Epoch 2/2\n",
            "363/363 [==============================] - 0s 925us/step - loss: 0.2279 - HuberMetric: 0.2279\n"
          ],
          "name": "stdout"
        },
        {
          "output_type": "execute_result",
          "data": {
            "text/plain": [
              "<tensorflow.python.keras.callbacks.History at 0x7fa3af5bce80>"
            ]
          },
          "metadata": {
            "tags": []
          },
          "execution_count": 133
        }
      ]
    },
    {
      "cell_type": "markdown",
      "metadata": {
        "id": "rfzdurH159Kt"
      },
      "source": [
        "경고 : 텐서플로 2.2에서 tf.keras가 model.metrics의 0번째 위치에 지표를 추가  \n",
        "따라서 HuberMetric에 접근하려면 model.metrics[0] 대신 model.metrics[-1]를 사용"
      ]
    },
    {
      "cell_type": "code",
      "metadata": {
        "colab": {
          "base_uri": "https://localhost:8080/"
        },
        "id": "9SsRprsN52C1",
        "outputId": "057d243e-24c0-4911-8e8a-3aa299885150"
      },
      "source": [
        "model.metrics[-1].threshold"
      ],
      "execution_count": null,
      "outputs": [
        {
          "output_type": "execute_result",
          "data": {
            "text/plain": [
              "2.0"
            ]
          },
          "metadata": {
            "tags": []
          },
          "execution_count": 134
        }
      ]
    },
    {
      "cell_type": "markdown",
      "metadata": {
        "id": "DXtZoitk6D40"
      },
      "source": [
        "### 사용자 정의 층"
      ]
    },
    {
      "cell_type": "code",
      "metadata": {
        "id": "UyLdn0px6DI7"
      },
      "source": [
        "exponential_layer=keras.layers.Lambda(lambda x:tf.exp(x))"
      ],
      "execution_count": null,
      "outputs": []
    },
    {
      "cell_type": "code",
      "metadata": {
        "colab": {
          "base_uri": "https://localhost:8080/"
        },
        "id": "1z9B1_6kK3P4",
        "outputId": "b5de02ab-45cb-41d1-ae80-8b479db2f94c"
      },
      "source": [
        "exponential_layer([-1.,0.,1.])"
      ],
      "execution_count": null,
      "outputs": [
        {
          "output_type": "execute_result",
          "data": {
            "text/plain": [
              "<tf.Tensor: shape=(3,), dtype=float32, numpy=array([0.36787945, 1.        , 2.7182817 ], dtype=float32)>"
            ]
          },
          "metadata": {
            "tags": []
          },
          "execution_count": 136
        }
      ]
    },
    {
      "cell_type": "markdown",
      "metadata": {
        "id": "kFuMR2uPLAJ7"
      },
      "source": [
        "회귀 모델이 예측할 값이 양수이고 스케일이 매우 다른 경우 (e.g. 0.001, 10., 10000) 출력층에 지수 함수를 추가하면 유용 :"
      ]
    },
    {
      "cell_type": "code",
      "metadata": {
        "id": "yXjoGJMcK53Z"
      },
      "source": [
        "keras.backend.clear_session()\n",
        "np.random.seed(42)\n",
        "tf.random.set_seed(42)"
      ],
      "execution_count": null,
      "outputs": []
    },
    {
      "cell_type": "code",
      "metadata": {
        "colab": {
          "base_uri": "https://localhost:8080/"
        },
        "id": "HY_VPfD9LJhT",
        "outputId": "999c75bb-faf5-4f9f-8c4a-f849e352de8e"
      },
      "source": [
        "model=keras.models.Sequential([\n",
        "                               keras.layers.Dense(30,activation=\"relu\",input_shape=input_shape),\n",
        "                               keras.layers.Dense(1),\n",
        "                               exponential_layer\n",
        "])\n",
        "model.compile(loss=\"mse\",optimizer=\"nadam\")\n",
        "model.fit(X_train_scaled,y_train,epochs=5,\n",
        "          validation_data=(X_valid_scaled,y_valid))\n",
        "model.evaluate(X_test_scaled,y_test)"
      ],
      "execution_count": null,
      "outputs": [
        {
          "output_type": "stream",
          "text": [
            "Epoch 1/5\n",
            "363/363 [==============================] - 0s 1ms/step - loss: nan - val_loss: nan\n",
            "Epoch 2/5\n",
            "363/363 [==============================] - 0s 1ms/step - loss: nan - val_loss: nan\n",
            "Epoch 3/5\n",
            "363/363 [==============================] - 0s 1ms/step - loss: nan - val_loss: nan\n",
            "Epoch 4/5\n",
            "363/363 [==============================] - 0s 1ms/step - loss: nan - val_loss: nan\n",
            "Epoch 5/5\n",
            "363/363 [==============================] - 0s 1ms/step - loss: nan - val_loss: nan\n",
            "162/162 [==============================] - 0s 846us/step - loss: nan\n"
          ],
          "name": "stdout"
        },
        {
          "output_type": "execute_result",
          "data": {
            "text/plain": [
              "nan"
            ]
          },
          "metadata": {
            "tags": []
          },
          "execution_count": 138
        }
      ]
    },
    {
      "cell_type": "code",
      "metadata": {
        "id": "gAdGyAGfLjTM"
      },
      "source": [
        "class MyDense(keras.layers.Layer):\n",
        "  def __init__(self,units,activation=None,**kwargs):\n",
        "    super().__init__(**kwargs)\n",
        "    self.units=units\n",
        "    self.activation=keras.activations.get(activation)\n",
        "  \n",
        "  def build(self,batch_input_shape):\n",
        "    self.kernel=self.add_weight(\n",
        "        name=\"kernel\",shape=[batch_input_shape[-1],self.units],\n",
        "        initializer=\"glorot_normal\"\n",
        "    )\n",
        "    self.bais=self.add_weight(\n",
        "        name=\"bias\",shape=[self.units],initializer=\"zeros\"\n",
        "    )\n",
        "    super().build(batch_input_shape)  #must be at the end\n",
        "  \n",
        "  def call(self,X):\n",
        "    return self.activation(X@self.kernel+self.bais)\n",
        "  \n",
        "  def compute_output_shape(self,batch_input_shape):\n",
        "    return tf.TensorShape(batch_input_shape.as_list()[:-1]+[self.units])\n",
        "  \n",
        "  def get_config(self):\n",
        "    base_config=super().get_config()\n",
        "    return {**base_config,\"units\":self.units,\n",
        "            \"activation\":keras.activations.serialize(self.activation)}"
      ],
      "execution_count": null,
      "outputs": []
    },
    {
      "cell_type": "code",
      "metadata": {
        "id": "6ynpyNwONZoW"
      },
      "source": [
        "keras.backend.clear_session()\n",
        "np.random.seed(42)\n",
        "tf.random.set_seed(42)"
      ],
      "execution_count": null,
      "outputs": []
    },
    {
      "cell_type": "code",
      "metadata": {
        "id": "yWbxPy_INfIl"
      },
      "source": [
        "model=keras.models.Sequential([\n",
        "                               MyDense(30,activation=\"relu\",input_shape=input_shape),\n",
        "                               MyDense(1)\n",
        "])"
      ],
      "execution_count": null,
      "outputs": []
    },
    {
      "cell_type": "code",
      "metadata": {
        "colab": {
          "base_uri": "https://localhost:8080/"
        },
        "id": "Ao9D8b2KOSOR",
        "outputId": "0f0891a2-d2e7-45ca-e9a5-7c670baacd45"
      },
      "source": [
        "model.compile(loss=\"mse\",optimizer=\"nadam\")\n",
        "model.fit(X_train_scaled,y_train,epochs=2,\n",
        "          validation_data=(X_valid_scaled,y_valid))\n",
        "model.evaluate(X_test_scaled,y_test)"
      ],
      "execution_count": null,
      "outputs": [
        {
          "output_type": "stream",
          "text": [
            "Epoch 1/2\n",
            "363/363 [==============================] - 0s 1ms/step - loss: 2.2563 - val_loss: 0.9472\n",
            "Epoch 2/2\n",
            "363/363 [==============================] - 0s 1ms/step - loss: 0.6485 - val_loss: 0.6219\n",
            "162/162 [==============================] - 0s 677us/step - loss: 0.5474\n"
          ],
          "name": "stdout"
        },
        {
          "output_type": "execute_result",
          "data": {
            "text/plain": [
              "0.5473727583885193"
            ]
          },
          "metadata": {
            "tags": []
          },
          "execution_count": 142
        }
      ]
    },
    {
      "cell_type": "code",
      "metadata": {
        "id": "4eawRpebO83s"
      },
      "source": [
        "model.save(\"my_model_with_a_custom_layer.h5\")"
      ],
      "execution_count": null,
      "outputs": []
    },
    {
      "cell_type": "code",
      "metadata": {
        "id": "pKIQTw79UYzW"
      },
      "source": [
        "model=keras.models.load_model(\"my_model_with_a_custom_layer.h5\",\n",
        "                              custom_objects={\"MyDense\":MyDense})"
      ],
      "execution_count": null,
      "outputs": []
    },
    {
      "cell_type": "code",
      "metadata": {
        "colab": {
          "base_uri": "https://localhost:8080/"
        },
        "id": "9l86v69HIFjm",
        "outputId": "7e198164-8d3f-4772-c5e4-2e59a27b6dd9"
      },
      "source": [
        "model.compile(loss=\"mse\",optimizer=\"nadam\")\n",
        "model.fit(X_train_scaled,y_train,epochs=2,\n",
        "          validation_data=(X_valid_scaled,y_valid))\n",
        "model.evaluate(X_test_scaled,y_test)"
      ],
      "execution_count": null,
      "outputs": [
        {
          "output_type": "stream",
          "text": [
            "Epoch 1/2\n",
            "363/363 [==============================] - 0s 1ms/step - loss: 0.4904 - val_loss: 0.5329\n",
            "Epoch 2/2\n",
            "363/363 [==============================] - 0s 1ms/step - loss: 0.4226 - val_loss: 0.4786\n",
            "162/162 [==============================] - 0s 791us/step - loss: 0.3990\n"
          ],
          "name": "stdout"
        },
        {
          "output_type": "execute_result",
          "data": {
            "text/plain": [
              "0.39900389313697815"
            ]
          },
          "metadata": {
            "tags": []
          },
          "execution_count": 145
        }
      ]
    },
    {
      "cell_type": "code",
      "metadata": {
        "id": "cZwL3PC0ai_k"
      },
      "source": [
        "class MyMultiLayer(keras.layers.Layer):\n",
        "  def call(self,X):\n",
        "    X1,X2=X\n",
        "    return X1+X2,X1*X2\n",
        "  \n",
        "  def compute_output_shape(self,batch_input_shape):\n",
        "    batch_input_shape1,batch_input_shape2=batch_input_shape\n",
        "    return [batch_input_shape1,batch_input_shape2]"
      ],
      "execution_count": null,
      "outputs": []
    },
    {
      "cell_type": "code",
      "metadata": {
        "id": "Fo7SXjfZ_EyX"
      },
      "source": [
        "keras.backend.clear_session()\n",
        "np.random.seed(42)\n",
        "tf.random.set_seed(42)"
      ],
      "execution_count": null,
      "outputs": []
    },
    {
      "cell_type": "code",
      "metadata": {
        "id": "DzvK5PZ1_Kl3"
      },
      "source": [
        "inputs1=keras.layers.Input(shape=[2])\n",
        "inputs2=keras.layers.Input(shape=[2])\n",
        "outputs1,outputs2=MyMultiLayer()((inputs1,inputs2))"
      ],
      "execution_count": null,
      "outputs": []
    },
    {
      "cell_type": "markdown",
      "metadata": {
        "id": "xXeBufD-_aEz"
      },
      "source": [
        "훈련과 테스트에서 다르게 동작하는 층 :"
      ]
    },
    {
      "cell_type": "code",
      "metadata": {
        "id": "G3eRgU7Y_VsU"
      },
      "source": [
        "class AddGaussianNoise(keras.layers.Layer):\n",
        "  def __init__(self,stddev,**kwargs):\n",
        "    super().__init__(**kwargs)\n",
        "    self.stddev=stddev\n",
        "  \n",
        "  def call(self,X,training=None):\n",
        "    if training:\n",
        "      noise=tf.random.normal(tf.shape(X),stddev=self.stddev)\n",
        "      return X+noise\n",
        "    else:\n",
        "      return X\n",
        "  \n",
        "  def compute_output_shape(self,batch_input_shape):\n",
        "    return batch_input_shape"
      ],
      "execution_count": null,
      "outputs": []
    },
    {
      "cell_type": "markdown",
      "metadata": {
        "id": "mLmjc0UpIn3R"
      },
      "source": [
        "### 사용자 정의 모델"
      ]
    },
    {
      "cell_type": "code",
      "metadata": {
        "id": "eap_GYBdIXnW"
      },
      "source": [
        "X_new_scaled=X_test_scaled"
      ],
      "execution_count": null,
      "outputs": []
    },
    {
      "cell_type": "code",
      "metadata": {
        "id": "-6Qrnr72L1Sm"
      },
      "source": [
        "class ResidualBlock(keras.layers.Layer):\n",
        "  def __init__(self,n_layers,n_neurons,**kwargs):\n",
        "    super().__init__(**kwargs)\n",
        "    self.hidden=[keras.layers.Dense(n_neurons,activation=\"elu\",\n",
        "                                    kernel_initializer=\"he_normal\")\n",
        "    for _ in range(n_layers)]\n",
        "  \n",
        "  def call(self,inputs):\n",
        "    Z=inputs\n",
        "    for layer in self.hidden:\n",
        "      Z=layer(Z)\n",
        "    return inputs+Z"
      ],
      "execution_count": null,
      "outputs": []
    },
    {
      "cell_type": "code",
      "metadata": {
        "id": "I9rQKqp1NFzu"
      },
      "source": [
        "class ResidualRegressor(keras.models.Model):\n",
        "  def __init__(self,output_dim,**kwargs):\n",
        "    super().__init__(**kwargs)\n",
        "    self.hidden1=keras.layers.Dense(30,activation=\"elu\",\n",
        "                                    kernel_initializer=\"he_normal\")\n",
        "    self.block1=ResidualBlock(2,30)\n",
        "    self.block2=ResidualBlock(2,30)\n",
        "    self.out=keras.layers.Dense(output_dim)\n",
        "  \n",
        "  def call(self,inputs):\n",
        "    Z=self.hidden1(inputs)\n",
        "    for _ in range(1+3):\n",
        "      Z=self.block1(Z)\n",
        "    Z=self.block2(Z)\n",
        "    return self.out(Z)"
      ],
      "execution_count": null,
      "outputs": []
    },
    {
      "cell_type": "code",
      "metadata": {
        "id": "wQQ_UcYPQ6vK"
      },
      "source": [
        "keras.backend.clear_session()\n",
        "np.random.seed(42)\n",
        "tf.random.set_seed(42)"
      ],
      "execution_count": null,
      "outputs": []
    },
    {
      "cell_type": "code",
      "metadata": {
        "colab": {
          "base_uri": "https://localhost:8080/"
        },
        "id": "F4nDaNCFRALz",
        "outputId": "6504e5ab-cfbc-4dff-a36f-916a5dfdd8e2"
      },
      "source": [
        "model=ResidualRegressor(1)\n",
        "model.compile(loss=\"mse\",optimizer=\"nadam\")\n",
        "history=model.fit(X_train_scaled,y_train,epochs=5)\n",
        "score=model.evaluate(X_test_scaled,y_test)\n",
        "y_pred=model.predict(X_new_scaled)"
      ],
      "execution_count": null,
      "outputs": [
        {
          "output_type": "stream",
          "text": [
            "Epoch 1/5\n",
            "363/363 [==============================] - 1s 1ms/step - loss: 9.1324\n",
            "Epoch 2/5\n",
            "363/363 [==============================] - 0s 1ms/step - loss: 1.0578\n",
            "Epoch 3/5\n",
            "363/363 [==============================] - 0s 1ms/step - loss: 0.8866\n",
            "Epoch 4/5\n",
            "363/363 [==============================] - 1s 1ms/step - loss: 0.5842\n",
            "Epoch 5/5\n",
            "363/363 [==============================] - 1s 1ms/step - loss: 0.6448\n",
            "162/162 [==============================] - 0s 825us/step - loss: 0.6481\n"
          ],
          "name": "stdout"
        }
      ]
    },
    {
      "cell_type": "code",
      "metadata": {
        "colab": {
          "base_uri": "https://localhost:8080/"
        },
        "id": "het5B6tiRYJd",
        "outputId": "c18d0102-12df-4721-9779-73862954b71d"
      },
      "source": [
        "model.save(\"my_custom_model.ckpt\")"
      ],
      "execution_count": null,
      "outputs": [
        {
          "output_type": "stream",
          "text": [
            "WARNING:tensorflow:From /usr/local/lib/python3.6/dist-packages/tensorflow/python/training/tracking/tracking.py:111: Model.state_updates (from tensorflow.python.keras.engine.training) is deprecated and will be removed in a future version.\n",
            "Instructions for updating:\n",
            "This property should not be used in TensorFlow 2.0, as updates are applied automatically.\n",
            "WARNING:tensorflow:From /usr/local/lib/python3.6/dist-packages/tensorflow/python/training/tracking/tracking.py:111: Layer.updates (from tensorflow.python.keras.engine.base_layer) is deprecated and will be removed in a future version.\n",
            "Instructions for updating:\n",
            "This property should not be used in TensorFlow 2.0, as updates are applied automatically.\n",
            "INFO:tensorflow:Assets written to: my_custom_model.ckpt/assets\n"
          ],
          "name": "stdout"
        }
      ]
    },
    {
      "cell_type": "code",
      "metadata": {
        "id": "odVjRln5Z0GA"
      },
      "source": [
        "model=keras.models.load_model(\"my_custom_model.ckpt\")"
      ],
      "execution_count": null,
      "outputs": []
    },
    {
      "cell_type": "code",
      "metadata": {
        "colab": {
          "base_uri": "https://localhost:8080/"
        },
        "id": "kt3vGreiZ4hz",
        "outputId": "5373aa54-2c73-4e23-9179-c4cc2ef6dd6b"
      },
      "source": [
        "history=model.fit(X_train_scaled,y_train,epochs=5)"
      ],
      "execution_count": null,
      "outputs": [
        {
          "output_type": "stream",
          "text": [
            "Epoch 1/5\n",
            "363/363 [==============================] - 0s 1ms/step - loss: 0.9154\n",
            "Epoch 2/5\n",
            "363/363 [==============================] - 1s 1ms/step - loss: 0.4779\n",
            "Epoch 3/5\n",
            "363/363 [==============================] - 1s 1ms/step - loss: 0.4867\n",
            "Epoch 4/5\n",
            "363/363 [==============================] - 1s 1ms/step - loss: 0.5609\n",
            "Epoch 5/5\n",
            "363/363 [==============================] - 0s 1ms/step - loss: 0.5365\n"
          ],
          "name": "stdout"
        }
      ]
    },
    {
      "cell_type": "markdown",
      "metadata": {
        "id": "ffbTgmZnZ_yp"
      },
      "source": [
        "시퀀셜 API를 사용하는 모델을 정의할 수 있다 :"
      ]
    },
    {
      "cell_type": "code",
      "metadata": {
        "id": "26R7rN9kc7EK"
      },
      "source": [
        "keras.backend.clear_session()\n",
        "np.random.seed(42)\n",
        "tf.random.set_seed(42)"
      ],
      "execution_count": null,
      "outputs": []
    },
    {
      "cell_type": "code",
      "metadata": {
        "id": "SUg8L2wFm11v"
      },
      "source": [
        "block1=ResidualBlock(2,30)\n",
        "model=keras.models.Sequential([\n",
        "                               keras.layers.Dense(30,activation=\"elu\",kernel_initializer=\"he_normal\"),\n",
        "                               block1,block1,block1,block1,\n",
        "                               ResidualBlock(2,30),\n",
        "                               keras.layers.Dense(1)\n",
        "])"
      ],
      "execution_count": null,
      "outputs": []
    },
    {
      "cell_type": "code",
      "metadata": {
        "colab": {
          "base_uri": "https://localhost:8080/"
        },
        "id": "pMtLex8PnI_Y",
        "outputId": "bc8196fa-8c7e-4bfb-c3f8-caae36092b3a"
      },
      "source": [
        "model.compile(loss=\"mse\",optimizer=\"nadam\")\n",
        "history=model.fit(X_train_scaled,y_train,epochs=5)\n",
        "score=model.evaluate(X_test_scaled,y_test)\n",
        "y_pred=model.predict(X_new_scaled)"
      ],
      "execution_count": null,
      "outputs": [
        {
          "output_type": "stream",
          "text": [
            "Epoch 1/5\n",
            "363/363 [==============================] - 0s 1ms/step - loss: 0.8695\n",
            "Epoch 2/5\n",
            "363/363 [==============================] - 0s 1ms/step - loss: 0.4720\n",
            "Epoch 3/5\n",
            "363/363 [==============================] - 0s 1ms/step - loss: 0.5537\n",
            "Epoch 4/5\n",
            "363/363 [==============================] - 0s 1ms/step - loss: 0.3809\n",
            "Epoch 5/5\n",
            "363/363 [==============================] - 0s 1ms/step - loss: 0.4012\n",
            "162/162 [==============================] - 0s 880us/step - loss: 0.4852\n"
          ],
          "name": "stdout"
        }
      ]
    },
    {
      "cell_type": "markdown",
      "metadata": {
        "id": "-pBEiYl3nkou"
      },
      "source": [
        "### 모델 구성 요소에 기반한 손실과 지표"
      ]
    },
    {
      "cell_type": "code",
      "metadata": {
        "id": "cjnUXrrQneqv"
      },
      "source": [
        "class ReconstructingRegressor(keras.models.Model):\n",
        "  def __init__(self,output_dim,**kwargs):\n",
        "    super().__init__(**kwargs)\n",
        "    self.hidden=[keras.layers.Dense(30,activation=\"selu\",\n",
        "                                    kernel_initializer=\"lecun_normal\")\n",
        "    for _ in range(5)]\n",
        "    self.out=keras.layers.Dense(output_dim)\n",
        "    self.reconstruction_mean=keras.metrics.Mean(name=\"reconstruction_error\")\n",
        "  \n",
        "  def build(self,batch_input_shape):\n",
        "    n_inputs=batch_input_shape[-1]\n",
        "    self.reconstruct=keras.layers.Dense(n_inputs,name='recon')\n",
        "    super().build(batch_input_shape)\n",
        "  \n",
        "  def call(self,inputs,training=None):\n",
        "    Z=inputs\n",
        "    for layer in self.hidden:\n",
        "      Z=layer(Z)\n",
        "    reconstruction=self.reconstruct(Z)\n",
        "    self.recon_loss=0.05*tf.reduce_mean(tf.square(reconstruction-inputs))\n",
        "\n",
        "    if training:\n",
        "      result=self.reconstruction_mean(recon_loss)\n",
        "      self.add_metric(result)\n",
        "    return self.out(Z)\n",
        "  \n",
        "  def train_step(self,data):\n",
        "    x,y=data\n",
        "\n",
        "    with tf.GradientTape() as tape:\n",
        "      y_pred=self(x)\n",
        "      loss=self.compiled_loss(y,y_pred,regularization_losses=[self.recon_loss])\n",
        "\n",
        "      gradients=tape.gradient(loss,self.trainable_variables)\n",
        "      self.optimizer.apply_gradients(zip(gradients,self.trainable_variables))\n",
        "\n",
        "      return {m.name:m.result()for m in self.metrics}"
      ],
      "execution_count": null,
      "outputs": []
    },
    {
      "cell_type": "code",
      "metadata": {
        "id": "PJqum5OCxSHP"
      },
      "source": [
        "keras.backend.clear_session()\n",
        "np.random.seed(42)\n",
        "tf.random.set_seed(42)"
      ],
      "execution_count": null,
      "outputs": []
    },
    {
      "cell_type": "code",
      "metadata": {
        "colab": {
          "base_uri": "https://localhost:8080/"
        },
        "id": "Zp2mkcNuxZBl",
        "outputId": "34d4f8cd-a380-4b9e-f5f9-07680c052baf"
      },
      "source": [
        "model=ReconstructingRegressor(1)\n",
        "model.compile(loss=\"mse\",optimizer=\"nadam\")\n",
        "history=model.fit(X_train_scaled,y_train,epochs=2)\n",
        "y_pred=model.predict(X_test_scaled)"
      ],
      "execution_count": null,
      "outputs": [
        {
          "output_type": "stream",
          "text": [
            "Epoch 1/2\n",
            "363/363 [==============================] - 0s 1ms/step - loss: 0.7885 - reconstruction_error: 0.0000e+00\n",
            "Epoch 2/2\n",
            "363/363 [==============================] - 1s 1ms/step - loss: 0.4126 - reconstruction_error: 0.0000e+00\n"
          ],
          "name": "stdout"
        }
      ]
    },
    {
      "cell_type": "markdown",
      "metadata": {
        "id": "3LzorFe6ytCZ"
      },
      "source": [
        "### 자동 미분을 사용하여 그레이디언트 계산하기"
      ]
    },
    {
      "cell_type": "code",
      "metadata": {
        "id": "59HwNP3xPl0_"
      },
      "source": [
        "def f(w1,w2):\n",
        "  return 3*w1**2+2*w1*w2"
      ],
      "execution_count": null,
      "outputs": []
    },
    {
      "cell_type": "code",
      "metadata": {
        "colab": {
          "base_uri": "https://localhost:8080/"
        },
        "id": "Rs3NsJ4eQE8-",
        "outputId": "c4549d79-248c-499e-afa7-dd5f5ad56da3"
      },
      "source": [
        "w1,w2=5,3\n",
        "eps=1e-6\n",
        "(f(w1+eps,w2)-f(w1,w2))/eps"
      ],
      "execution_count": null,
      "outputs": [
        {
          "output_type": "execute_result",
          "data": {
            "text/plain": [
              "36.000003007075065"
            ]
          },
          "metadata": {
            "tags": []
          },
          "execution_count": 165
        }
      ]
    },
    {
      "cell_type": "code",
      "metadata": {
        "colab": {
          "base_uri": "https://localhost:8080/"
        },
        "id": "xvJBWMn5QLsI",
        "outputId": "9f866bf5-6338-4753-b790-db7a3cf3ef06"
      },
      "source": [
        "(f(w1,w2+eps)-f(w1,w2))/eps"
      ],
      "execution_count": null,
      "outputs": [
        {
          "output_type": "execute_result",
          "data": {
            "text/plain": [
              "10.000000003174137"
            ]
          },
          "metadata": {
            "tags": []
          },
          "execution_count": 166
        }
      ]
    },
    {
      "cell_type": "code",
      "metadata": {
        "id": "4l7Jt555gq6v"
      },
      "source": [
        "w1,w2=tf.Variable(5.),tf.Variable(3.)\n",
        "with tf.GradientTape() as tape:\n",
        "  z=f(w1,w2)\n",
        "\n",
        "gradients=tape.gradient(z,[w1,w2])"
      ],
      "execution_count": null,
      "outputs": []
    },
    {
      "cell_type": "code",
      "metadata": {
        "colab": {
          "base_uri": "https://localhost:8080/"
        },
        "id": "X5_mvMV0g1-r",
        "outputId": "2d7c84f7-97f6-481a-ed31-a06a778e5e58"
      },
      "source": [
        "gradients"
      ],
      "execution_count": null,
      "outputs": [
        {
          "output_type": "execute_result",
          "data": {
            "text/plain": [
              "[<tf.Tensor: shape=(), dtype=float32, numpy=36.0>,\n",
              " <tf.Tensor: shape=(), dtype=float32, numpy=10.0>]"
            ]
          },
          "metadata": {
            "tags": []
          },
          "execution_count": 168
        }
      ]
    },
    {
      "cell_type": "code",
      "metadata": {
        "id": "qvxejD0gg3eW",
        "colab": {
          "base_uri": "https://localhost:8080/"
        },
        "outputId": "86487112-2bf8-4a6d-af6a-b3b407b2365a"
      },
      "source": [
        "with tf.GradientTape() as tape:\n",
        "  z=f(w1,w2)\n",
        "\n",
        "dz_dw1=tape.gradient(z,w1)\n",
        "try:\n",
        "  dz_dw2=tape.gradient(z,w2)\n",
        "except RuntimeError as ex:\n",
        "  print(ex)"
      ],
      "execution_count": null,
      "outputs": [
        {
          "output_type": "stream",
          "text": [
            "GradientTape.gradient can only be called once on non-persistent tapes.\n"
          ],
          "name": "stdout"
        }
      ]
    },
    {
      "cell_type": "code",
      "metadata": {
        "id": "oLMxpRfDVEo8"
      },
      "source": [
        "with tf.GradientTape(persistent=True) as tape:\n",
        "  z=f(w1,w2)\n",
        "\n",
        "dz_dw1=tape.gradient(z,w1)\n",
        "dz_dw2=tape.gradient(z,w2)  #works now!\n",
        "del tape"
      ],
      "execution_count": null,
      "outputs": []
    },
    {
      "cell_type": "code",
      "metadata": {
        "colab": {
          "base_uri": "https://localhost:8080/"
        },
        "id": "c4MridBIVrvO",
        "outputId": "a4805740-3be9-46d6-e9b0-2841757ee3dc"
      },
      "source": [
        "dz_dw1,dz_dw2"
      ],
      "execution_count": null,
      "outputs": [
        {
          "output_type": "execute_result",
          "data": {
            "text/plain": [
              "(<tf.Tensor: shape=(), dtype=float32, numpy=36.0>,\n",
              " <tf.Tensor: shape=(), dtype=float32, numpy=10.0>)"
            ]
          },
          "metadata": {
            "tags": []
          },
          "execution_count": 171
        }
      ]
    },
    {
      "cell_type": "code",
      "metadata": {
        "id": "E68yqGPwVvzb"
      },
      "source": [
        "c1,c2=tf.constant(5.),tf.constant(3.)\n",
        "with tf.GradientTape() as tape:\n",
        "  z=f(c1,c2)\n",
        "\n",
        "gradients=tape.gradient(z,[c1,c2])"
      ],
      "execution_count": null,
      "outputs": []
    },
    {
      "cell_type": "code",
      "metadata": {
        "colab": {
          "base_uri": "https://localhost:8080/"
        },
        "id": "tmgHzMLCV8Sv",
        "outputId": "19665430-6730-4fe9-98cc-f6744123695a"
      },
      "source": [
        "gradients"
      ],
      "execution_count": null,
      "outputs": [
        {
          "output_type": "execute_result",
          "data": {
            "text/plain": [
              "[None, None]"
            ]
          },
          "metadata": {
            "tags": []
          },
          "execution_count": 173
        }
      ]
    },
    {
      "cell_type": "code",
      "metadata": {
        "id": "559sRtqkV9S7"
      },
      "source": [
        "with tf.GradientTape() as tape:\n",
        "  tape.watch(c1)\n",
        "  tape.watch(c2)\n",
        "  z=f(c1,c2)\n",
        "\n",
        "gradients=tape.gradient(z,[c1,c2])"
      ],
      "execution_count": null,
      "outputs": []
    },
    {
      "cell_type": "code",
      "metadata": {
        "colab": {
          "base_uri": "https://localhost:8080/"
        },
        "id": "03eUM96qWMrB",
        "outputId": "5ebdd6fb-6085-4985-8121-4fdeb89e79b0"
      },
      "source": [
        "gradients"
      ],
      "execution_count": null,
      "outputs": [
        {
          "output_type": "execute_result",
          "data": {
            "text/plain": [
              "[<tf.Tensor: shape=(), dtype=float32, numpy=36.0>,\n",
              " <tf.Tensor: shape=(), dtype=float32, numpy=10.0>]"
            ]
          },
          "metadata": {
            "tags": []
          },
          "execution_count": 175
        }
      ]
    },
    {
      "cell_type": "code",
      "metadata": {
        "colab": {
          "base_uri": "https://localhost:8080/"
        },
        "id": "lG8pu4ruWNcC",
        "outputId": "c0e9cfe7-38af-4cb1-a917-313b6aed186b"
      },
      "source": [
        "with tf.GradientTape() as tape:\n",
        "  z1=f(w1,w2+2.)\n",
        "  z2=f(w1,w2+5.)\n",
        "  z3=f(w1,w2+7.)\n",
        "\n",
        "tape.gradient([z1,z2,z3],[w1,w2])"
      ],
      "execution_count": null,
      "outputs": [
        {
          "output_type": "execute_result",
          "data": {
            "text/plain": [
              "[<tf.Tensor: shape=(), dtype=float32, numpy=136.0>,\n",
              " <tf.Tensor: shape=(), dtype=float32, numpy=30.0>]"
            ]
          },
          "metadata": {
            "tags": []
          },
          "execution_count": 176
        }
      ]
    },
    {
      "cell_type": "code",
      "metadata": {
        "id": "BVyPmAw_XaWl"
      },
      "source": [
        "with tf.GradientTape(persistent=True) as tape:\n",
        "  z1=f(w1,w2+2.)\n",
        "  z2=f(w1,w2+5.)\n",
        "  z3=f(w1,w2+7.)\n",
        "\n",
        "tf.reduce_sum(tf.stack([tape.gradient(z,[w1,w2])for z in (z1,z2,z3)]),axis=0)\n",
        "del tape"
      ],
      "execution_count": null,
      "outputs": []
    },
    {
      "cell_type": "code",
      "metadata": {
        "id": "kCD-fnNmXvde"
      },
      "source": [
        "with tf.GradientTape(persistent=True) as hessian_tape:\n",
        "  with tf.GradientTape() as jacobian_tape:\n",
        "    z=f(w1,w2)\n",
        "  jacobians=jacobian_tape.gradient(z,[w1,w2])\n",
        "hessians=[hessian_tape.gradient(jacobian,[w1,w2])for jacobian in jacobians]\n",
        "del hessian_tape"
      ],
      "execution_count": null,
      "outputs": []
    },
    {
      "cell_type": "code",
      "metadata": {
        "colab": {
          "base_uri": "https://localhost:8080/"
        },
        "id": "dPxgeyZcYQjL",
        "outputId": "9e5124bd-5ebc-4f42-ae16-54603711a6ee"
      },
      "source": [
        "jacobians"
      ],
      "execution_count": null,
      "outputs": [
        {
          "output_type": "execute_result",
          "data": {
            "text/plain": [
              "[<tf.Tensor: shape=(), dtype=float32, numpy=36.0>,\n",
              " <tf.Tensor: shape=(), dtype=float32, numpy=10.0>]"
            ]
          },
          "metadata": {
            "tags": []
          },
          "execution_count": 179
        }
      ]
    },
    {
      "cell_type": "code",
      "metadata": {
        "colab": {
          "base_uri": "https://localhost:8080/"
        },
        "id": "VINDPKbbYU8m",
        "outputId": "7ec3aa6d-8484-40ab-cd8e-eb2e77b186de"
      },
      "source": [
        "hessians"
      ],
      "execution_count": null,
      "outputs": [
        {
          "output_type": "execute_result",
          "data": {
            "text/plain": [
              "[[<tf.Tensor: shape=(), dtype=float32, numpy=6.0>,\n",
              "  <tf.Tensor: shape=(), dtype=float32, numpy=2.0>],\n",
              " [<tf.Tensor: shape=(), dtype=float32, numpy=2.0>, None]]"
            ]
          },
          "metadata": {
            "tags": []
          },
          "execution_count": 180
        }
      ]
    },
    {
      "cell_type": "code",
      "metadata": {
        "colab": {
          "base_uri": "https://localhost:8080/"
        },
        "id": "1Q0vlZTxYWVq",
        "outputId": "3e007fba-adc9-4b0e-fb6c-356dfc138fe1"
      },
      "source": [
        "def f(w1,w2):\n",
        "  return 3*w1**2+tf.stop_gradient(2*w1*w2)\n",
        "\n",
        "with tf.GradientTape() as tape:\n",
        "  z=f(w1,w2)\n",
        "\n",
        "tape.gradient(z,[w1,w2])"
      ],
      "execution_count": null,
      "outputs": [
        {
          "output_type": "execute_result",
          "data": {
            "text/plain": [
              "[<tf.Tensor: shape=(), dtype=float32, numpy=30.0>, None]"
            ]
          },
          "metadata": {
            "tags": []
          },
          "execution_count": 181
        }
      ]
    },
    {
      "cell_type": "code",
      "metadata": {
        "colab": {
          "base_uri": "https://localhost:8080/"
        },
        "id": "HShw0CVYaAfq",
        "outputId": "90583e26-d055-4568-886e-0495b8a1ee6a"
      },
      "source": [
        "x=tf.Variable(100.)\n",
        "with tf.GradientTape() as tape:\n",
        "  z=my_softplus(x)\n",
        "\n",
        "tape.gradient(z,[x])"
      ],
      "execution_count": null,
      "outputs": [
        {
          "output_type": "execute_result",
          "data": {
            "text/plain": [
              "[<tf.Tensor: shape=(), dtype=float32, numpy=nan>]"
            ]
          },
          "metadata": {
            "tags": []
          },
          "execution_count": 182
        }
      ]
    },
    {
      "cell_type": "code",
      "metadata": {
        "colab": {
          "base_uri": "https://localhost:8080/"
        },
        "id": "XMBYARJpaayE",
        "outputId": "f34317d0-d004-4280-d245-768bdddf2b7d"
      },
      "source": [
        "tf.math.log(tf.exp(tf.constant(30.,dtype=tf.float32))+1.)"
      ],
      "execution_count": null,
      "outputs": [
        {
          "output_type": "execute_result",
          "data": {
            "text/plain": [
              "<tf.Tensor: shape=(), dtype=float32, numpy=30.0>"
            ]
          },
          "metadata": {
            "tags": []
          },
          "execution_count": 183
        }
      ]
    },
    {
      "cell_type": "code",
      "metadata": {
        "colab": {
          "base_uri": "https://localhost:8080/"
        },
        "id": "N1cAPCFJa53y",
        "outputId": "36897140-5138-459a-d483-bcdb2ef00921"
      },
      "source": [
        "x=tf.Variable([100.])\n",
        "with tf.GradientTape() as tape:\n",
        "  z=my_softplus(x)\n",
        "\n",
        "tape.gradient(z,[x])"
      ],
      "execution_count": null,
      "outputs": [
        {
          "output_type": "execute_result",
          "data": {
            "text/plain": [
              "[<tf.Tensor: shape=(1,), dtype=float32, numpy=array([nan], dtype=float32)>]"
            ]
          },
          "metadata": {
            "tags": []
          },
          "execution_count": 184
        }
      ]
    },
    {
      "cell_type": "code",
      "metadata": {
        "id": "dp3oEY5UbK-u"
      },
      "source": [
        "@tf.custom_gradient\n",
        "def my_better_softplus(z):\n",
        "  exp=tf.exp(z)\n",
        "  def my_softplus_gradients(grad):\n",
        "    return grad/(1+1/exp)\n",
        "  return tf.math.log(exp+1),my_softplus_gradients"
      ],
      "execution_count": null,
      "outputs": []
    },
    {
      "cell_type": "code",
      "metadata": {
        "id": "hYLhHMBzbuW_"
      },
      "source": [
        "def my_better_softplus(z):\n",
        "  return tf.where(z>30.,z,tf.math.log(tf.exp(z)+1.))"
      ],
      "execution_count": null,
      "outputs": []
    },
    {
      "cell_type": "code",
      "metadata": {
        "colab": {
          "base_uri": "https://localhost:8080/"
        },
        "id": "kpB7W9Hc4UCJ",
        "outputId": "840f1743-9bf1-4d82-a80a-71fd8f4631da"
      },
      "source": [
        "x=tf.Variable([1000.])\n",
        "with tf.GradientTape() as tape:\n",
        "  z=my_better_softplus(x)\n",
        "\n",
        "z,tape.gradient(z,[x])"
      ],
      "execution_count": null,
      "outputs": [
        {
          "output_type": "execute_result",
          "data": {
            "text/plain": [
              "(<tf.Tensor: shape=(1,), dtype=float32, numpy=array([1000.], dtype=float32)>,\n",
              " [<tf.Tensor: shape=(1,), dtype=float32, numpy=array([nan], dtype=float32)>])"
            ]
          },
          "metadata": {
            "tags": []
          },
          "execution_count": 187
        }
      ]
    },
    {
      "cell_type": "markdown",
      "metadata": {
        "id": "5KbOZ9_j4mX1"
      },
      "source": [
        "### 사용자 정의 훈련 반복"
      ]
    },
    {
      "cell_type": "code",
      "metadata": {
        "id": "xZxjX2So4h56"
      },
      "source": [
        "keras.backend.clear_session()\n",
        "np.random.seed(42)\n",
        "tf.random.set_seed(42)"
      ],
      "execution_count": null,
      "outputs": []
    },
    {
      "cell_type": "code",
      "metadata": {
        "id": "t2cFIy2L75nb"
      },
      "source": [
        "l2_reg=keras.regularizers.l2(0.05)\n",
        "model=keras.models.Sequential([\n",
        "                               keras.layers.Dense(30,activation=\"elu\",kernel_initializer=\"he_normal\",\n",
        "                                                  kernel_regularizer=l2_reg),\n",
        "                               keras.layers.Dense(1,kernel_regularizer=l2_reg)\n",
        "])"
      ],
      "execution_count": null,
      "outputs": []
    },
    {
      "cell_type": "code",
      "metadata": {
        "id": "13gXRsTd8cpM"
      },
      "source": [
        "def random_batch(X,y,batch_size=32):\n",
        "  idx=np.random.randint(len(X),size=batch_size)\n",
        "  return X[idx],y[idx]"
      ],
      "execution_count": null,
      "outputs": []
    },
    {
      "cell_type": "code",
      "metadata": {
        "id": "_YlvjYKP8sQ4"
      },
      "source": [
        "def print_status_bar(iteration,total,loss,metrics=None):\n",
        "  metrics=\" - \".join([\"{}: {:.4f}\".format(m.name,m.result())for m in [loss]+(metrics or [])])\n",
        "  end=\"\"if iteration<total else \"\\n\"\n",
        "  print(\"\\r{}/{} - \".format(iteration,total)+metrics,end=end)"
      ],
      "execution_count": null,
      "outputs": []
    },
    {
      "cell_type": "code",
      "metadata": {
        "colab": {
          "base_uri": "https://localhost:8080/"
        },
        "id": "HNPOZdVf9i5L",
        "outputId": "000a0413-1909-461e-e0d4-e34a7d67a998"
      },
      "source": [
        "import time\n",
        "\n",
        "mean_loss=keras.metrics.Mean(name=\"loss\")\n",
        "mean_square=keras.metrics.Mean(name=\"mean_square\")\n",
        "for i in range(1,50+1):\n",
        "  loss=1/i\n",
        "  mean_loss(loss)\n",
        "  mean_square(i**2)\n",
        "  print_status_bar(i,50,mean_loss,[mean_square])\n",
        "  time.sleep(0.05)"
      ],
      "execution_count": null,
      "outputs": [
        {
          "output_type": "stream",
          "text": [
            "50/50 - loss: 0.0900 - mean_square: 858.5000\n"
          ],
          "name": "stdout"
        }
      ]
    },
    {
      "cell_type": "markdown",
      "metadata": {
        "id": "TPwOzKqg-1HU"
      },
      "source": [
        "A fancier version with a progress bar :"
      ]
    },
    {
      "cell_type": "code",
      "metadata": {
        "id": "p05-3znA-sVA"
      },
      "source": [
        "def progress_bar(iteration,total,size=30):\n",
        "  running=iteration<total\n",
        "  c=\">\"if running else \"=\"\n",
        "  p=(size-1)*iteration//total\n",
        "  fmt=\"{{:-{}d}}/{{}} [{{}}]\".format(len(str(total)))\n",
        "  params=[iteration,total,\"=\"*p+c+\".\"*(size-p-1)]\n",
        "  return fmt.format(*params)"
      ],
      "execution_count": null,
      "outputs": []
    },
    {
      "cell_type": "code",
      "metadata": {
        "colab": {
          "base_uri": "https://localhost:8080/"
        },
        "id": "NiHQK7bH_YqE",
        "outputId": "7e6272c7-d2eb-407f-888f-236240fc026b"
      },
      "source": [
        "progress_bar(3500,10000,size=6)"
      ],
      "execution_count": null,
      "outputs": [
        {
          "output_type": "execute_result",
          "data": {
            "application/vnd.google.colaboratory.intrinsic+json": {
              "type": "string"
            },
            "text/plain": [
              "' 3500/10000 [=>....]'"
            ]
          },
          "metadata": {
            "tags": []
          },
          "execution_count": 194
        }
      ]
    },
    {
      "cell_type": "code",
      "metadata": {
        "id": "lRwxLQwY_b0B"
      },
      "source": [
        "def print_status_bar(iteration,total,loss,metrics=None,size=30):\n",
        "  metrics=\" - \".join([\"{}: {:.4f}\".format(m.name,m.result())for m in [loss]+(metrics or [])])\n",
        "  end=\"\"if iteration<total else \"\\n\"\n",
        "  print(\"\\r{} - {}\".format(progress_bar(iteration,total),metrics),end=end)"
      ],
      "execution_count": null,
      "outputs": []
    },
    {
      "cell_type": "code",
      "metadata": {
        "colab": {
          "base_uri": "https://localhost:8080/"
        },
        "id": "yr4kSsG9ADf4",
        "outputId": "9477b1d3-0535-4af7-f187-0e9daaca11dd"
      },
      "source": [
        "mean_loss=keras.metrics.Mean(name=\"loss\")\n",
        "mean_square=keras.metrics.Mean(name=\"mean_square\")\n",
        "for i in range(1,50+1):\n",
        "  loss=1/i\n",
        "  mean_loss(loss)\n",
        "  mean_square(i**2)\n",
        "  print_status_bar(i,50,mean_loss,[mean_square])\n",
        "  time.sleep(0.05)"
      ],
      "execution_count": null,
      "outputs": [
        {
          "output_type": "stream",
          "text": [
            "50/50 [==============================] - loss: 0.0900 - mean_square: 858.5000\n"
          ],
          "name": "stdout"
        }
      ]
    },
    {
      "cell_type": "code",
      "metadata": {
        "id": "CiAWI9OzAXx1"
      },
      "source": [
        "keras.backend.clear_session()\n",
        "np.random.seed(42)\n",
        "tf.random.set_seed(42)"
      ],
      "execution_count": null,
      "outputs": []
    },
    {
      "cell_type": "code",
      "metadata": {
        "id": "JldXOLveAiJF"
      },
      "source": [
        "n_epochs=5\n",
        "batch_size=32\n",
        "n_steps=len(X_train)//batch_size\n",
        "optimizer=keras.optimizers.Nadam(lr=0.01)\n",
        "loss_fn=keras.losses.mean_squared_error\n",
        "mean_loss=keras.metrics.Mean()\n",
        "metrics=[keras.metrics.MeanAbsoluteError()]"
      ],
      "execution_count": null,
      "outputs": []
    },
    {
      "cell_type": "code",
      "metadata": {
        "colab": {
          "base_uri": "https://localhost:8080/"
        },
        "id": "GLv1XmxBIJc2",
        "outputId": "d06f2b85-fbc2-42a6-9d75-0ed6471716a8"
      },
      "source": [
        "for epoch in range(1,n_epochs+1):\n",
        "  print(\"Epoch {}/{}\".format(epoch,n_epochs))\n",
        "  for step in range(1,n_steps+1):\n",
        "    X_batch,y_batch=random_batch(X_train_scaled,y_train)\n",
        "    with tf.GradientTape() as tape:\n",
        "      y_pred=model(X_batch)\n",
        "      main_loss=tf.reduce_mean(loss_fn(y_batch,y_pred))\n",
        "      loss=tf.add_n([main_loss]+model.losses)\n",
        "    gradients=tape.gradient(loss,model.trainable_variables)\n",
        "    optimizer.apply_gradients(zip(gradients,model.trainable_variables))\n",
        "    for variable in model.variables:\n",
        "      if variable.constraint is not None:\n",
        "        variable.assign(variable.constriant(variable))\n",
        "    mean_loss(loss)\n",
        "    for metric in metrics:\n",
        "      metric(y_batch,y_pred)\n",
        "    print_status_bar(step*batch_size,len(y_train),mean_loss,metrics)\n",
        "  print_status_bar(len(y_train),len(y_train),mean_loss,metrics)\n",
        "  for metric in [mean_loss]+metrics:\n",
        "    metric.reset_states()"
      ],
      "execution_count": null,
      "outputs": [
        {
          "output_type": "stream",
          "text": [
            "Epoch 1/5\n",
            "WARNING:tensorflow:Layer dense is casting an input tensor from dtype float64 to the layer's dtype of float32, which is new behavior in TensorFlow 2.  The layer has dtype float32 because its dtype defaults to floatx.\n",
            "\n",
            "If you intended to run this layer in float32, you can safely ignore this warning. If in doubt, this warning is likely only an issue if you are porting a TensorFlow 1.X model to TensorFlow 2.\n",
            "\n",
            "To change all layers to have dtype float64 by default, call `tf.keras.backend.set_floatx('float64')`. To change just this layer, pass dtype='float64' to the layer constructor. If you are the author of this layer, you can disable autocasting by passing autocast=False to the base Layer constructor.\n",
            "\n",
            "11610/11610 [==============================] - mean: 1.3955 - mean_absolute_error: 0.5722\n",
            "Epoch 2/5\n",
            "11610/11610 [==============================] - mean: 0.6774 - mean_absolute_error: 0.5280\n",
            "Epoch 3/5\n",
            "11610/11610 [==============================] - mean: 0.6351 - mean_absolute_error: 0.5177\n",
            "Epoch 4/5\n",
            "11610/11610 [==============================] - mean: 0.6384 - mean_absolute_error: 0.5181\n",
            "Epoch 5/5\n",
            "11610/11610 [==============================] - mean: 0.6440 - mean_absolute_error: 0.5222\n"
          ],
          "name": "stdout"
        }
      ]
    },
    {
      "cell_type": "code",
      "metadata": {
        "colab": {
          "base_uri": "https://localhost:8080/",
          "referenced_widgets": [
            "2acd6a72218c4aa8a6cb08da33dbfa4e",
            "12674fe86f1d4c06963f8e45043cf78c",
            "698e65a5299b4fe0ba1924cca215f75a",
            "0c6efac159c7497883a332e7a58e6915",
            "48468a20474c41039890374e6a422a1d",
            "31663a5d85e846f5b3d058edd81e387b",
            "81bca6e225654998b014c188cea9afd8",
            "ad09200a1758465bb1dd56561d3b1aa6",
            "494f18628ad14046921a6f77d323082d",
            "19001ea8193d4740a12d43144908a7a4",
            "aed739950ab446e8804dd109b3f87fd8",
            "ace4b83fb21542b4bc9458c1f8d228ec",
            "4a31dace0524498eac1d1cca3015742e",
            "221e1b6941af4a54ba205e10286eda20",
            "64db81f4cfcd4a028e2bed654cb60534",
            "f232b741ae7643f699344aa42091bd20",
            "0082d3553a434cb0a09b26e56b1b733a",
            "3680623b28b34b3899212d50d94fbd74",
            "d21fc6f37f804fb3b3ef38d606509104",
            "375c1868e0b64464a9b7f85b83575324",
            "8bf8fd85db3c41cb87f7635bf5bca58d",
            "aa25e4066b7e4806983bdc44cb05be2d",
            "b4762a103b354dcdb360d1f5bba2333f",
            "fa78b6720c0b42f2b9338f3112e02e6b",
            "c8832899ab2640b39f3594c676e31ee1",
            "9be4142e781f463d8df9e42c1579870d",
            "58fd78b6001c4776aac2836eaaa537ff",
            "6ed2b09bb63f4f91b9fb202de8ab401d",
            "35bfd55fb04f49759515adfe11f9819b",
            "7c4b998c19664ecfbf13d52e9aa6ca7e",
            "a09bef5efcaf48f199cf65b0f94e8b98",
            "c25f14edd9ee430e824380e049733a9b",
            "485463cd6ec24a48a569da4130cf42aa",
            "e235b2d62ca2432687f292cfdab8a502",
            "f495819770a944bfb0eb8916ec783b59",
            "7ec222a03d7b4fbd8d132bb6f4c95420",
            "4b9267fda1d34e7ab2fc41c6391ad5fb",
            "94aa1c207b3e4f0da44c35e410b38c00",
            "e86b389ac96048e8aae21f8cda69e118",
            "4a8e891b7a6d47acb2779c6277291e4c",
            "660df85d8ff84da3b1cc3152bb425076",
            "c6ed30c82df1476ebcf45755d8df0869",
            "5c7fe49c00a4475a91d3bc0f58c5083a",
            "afd1caa603bc4aee89c8202291956cd7",
            "4662feffc5aa42ab8ea49fd87d5936b5",
            "9fb26a2205864789ae52bc462266753e",
            "3d2c8d4d7e54430a9b65c53f12715a0f",
            "496f3e1de00b4b798a7d7f94be1d5fa3"
          ]
        },
        "id": "he8zhlTqJf7N",
        "outputId": "351fd852-be9a-4284-92b3-d448e9a67a85"
      },
      "source": [
        "try:\n",
        "  from tqdm.notebook import trange\n",
        "  from collections import OrderedDict\n",
        "  with trange(1,n_epochs+1,desc=\"All epochs\")as epochs:\n",
        "    for epoch in epochs:\n",
        "      with trange(1,n_steps+1,desc=\"Epoch {}/{}\".format(epoch,n_epochs))as steps:\n",
        "        for step in steps:\n",
        "          X_batch,y_batch=random_batch(X_train_scaled,y_train)\n",
        "          with tf.GradientTape() as tape:\n",
        "            y_pred=model(X_batch)\n",
        "            main_loss=tf.reduce_mean(loss_fn(y_batch,y_pred))\n",
        "            loss=tf.add_n([main_loss]+model.losses)\n",
        "          gradients=tape.gradient(loss,model.trainable_variables)\n",
        "          optimizer.apply_gradients(zip(gradients,model.trainable_variables))\n",
        "          for varaible in model.variables:\n",
        "            if variable.constraint is not None:\n",
        "              variable.assign(variable.constraint(variable))\n",
        "          status=OrderedDict()\n",
        "          mean_loss(loss)\n",
        "          status[\"loss\"]=mean_loss.result().numpy()\n",
        "          for metric in metrics:\n",
        "            metric(y_batch,y_pred)\n",
        "            status[metric.name]=metric.result().numpy()\n",
        "          steps.set_postfix(status)\n",
        "      for metric in [mean_loss]+metrics:\n",
        "        metric.reset_states()\n",
        "except ImportError as ex:\n",
        "  print(\"To run this cell, please install tqdm, ipywidgets and restart Jupyter\")"
      ],
      "execution_count": null,
      "outputs": [
        {
          "output_type": "display_data",
          "data": {
            "application/vnd.jupyter.widget-view+json": {
              "model_id": "2acd6a72218c4aa8a6cb08da33dbfa4e",
              "version_minor": 0,
              "version_major": 2
            },
            "text/plain": [
              "HBox(children=(FloatProgress(value=0.0, description='All epochs', max=5.0, style=ProgressStyle(description_wid…"
            ]
          },
          "metadata": {
            "tags": []
          }
        },
        {
          "output_type": "display_data",
          "data": {
            "application/vnd.jupyter.widget-view+json": {
              "model_id": "494f18628ad14046921a6f77d323082d",
              "version_minor": 0,
              "version_major": 2
            },
            "text/plain": [
              "HBox(children=(FloatProgress(value=0.0, description='Epoch 1/5', max=362.0, style=ProgressStyle(description_wi…"
            ]
          },
          "metadata": {
            "tags": []
          }
        },
        {
          "output_type": "stream",
          "text": [
            "\n"
          ],
          "name": "stdout"
        },
        {
          "output_type": "display_data",
          "data": {
            "application/vnd.jupyter.widget-view+json": {
              "model_id": "0082d3553a434cb0a09b26e56b1b733a",
              "version_minor": 0,
              "version_major": 2
            },
            "text/plain": [
              "HBox(children=(FloatProgress(value=0.0, description='Epoch 2/5', max=362.0, style=ProgressStyle(description_wi…"
            ]
          },
          "metadata": {
            "tags": []
          }
        },
        {
          "output_type": "stream",
          "text": [
            "\n"
          ],
          "name": "stdout"
        },
        {
          "output_type": "display_data",
          "data": {
            "application/vnd.jupyter.widget-view+json": {
              "model_id": "c8832899ab2640b39f3594c676e31ee1",
              "version_minor": 0,
              "version_major": 2
            },
            "text/plain": [
              "HBox(children=(FloatProgress(value=0.0, description='Epoch 3/5', max=362.0, style=ProgressStyle(description_wi…"
            ]
          },
          "metadata": {
            "tags": []
          }
        },
        {
          "output_type": "stream",
          "text": [
            "\n"
          ],
          "name": "stdout"
        },
        {
          "output_type": "display_data",
          "data": {
            "application/vnd.jupyter.widget-view+json": {
              "model_id": "485463cd6ec24a48a569da4130cf42aa",
              "version_minor": 0,
              "version_major": 2
            },
            "text/plain": [
              "HBox(children=(FloatProgress(value=0.0, description='Epoch 4/5', max=362.0, style=ProgressStyle(description_wi…"
            ]
          },
          "metadata": {
            "tags": []
          }
        },
        {
          "output_type": "stream",
          "text": [
            "\n"
          ],
          "name": "stdout"
        },
        {
          "output_type": "display_data",
          "data": {
            "application/vnd.jupyter.widget-view+json": {
              "model_id": "660df85d8ff84da3b1cc3152bb425076",
              "version_minor": 0,
              "version_major": 2
            },
            "text/plain": [
              "HBox(children=(FloatProgress(value=0.0, description='Epoch 5/5', max=362.0, style=ProgressStyle(description_wi…"
            ]
          },
          "metadata": {
            "tags": []
          }
        },
        {
          "output_type": "stream",
          "text": [
            "\n",
            "\n"
          ],
          "name": "stdout"
        }
      ]
    },
    {
      "cell_type": "markdown",
      "metadata": {
        "id": "o1ATnxFQ8jLa"
      },
      "source": [
        "### 사용자 정의 옵티마이저"
      ]
    },
    {
      "cell_type": "markdown",
      "metadata": {
        "id": "cws_GKdG8ro7"
      },
      "source": [
        "사용자 정의 옵티마이저를 정의하는 것은 일반적이지 않다.  \n",
        "하지만 어쩔 수 없이 만들어야 하는 상황이라면 다음 예를 참고 :"
      ]
    },
    {
      "cell_type": "code",
      "metadata": {
        "id": "5RQrDdy88nzT"
      },
      "source": [
        "class MyMomentumOptimizer(keras.optimizers.Optimizer):\n",
        "  def __init__(self,learning_rate=0.001,momentum=0.9,name=\"MyMomentumOptimizer\",**kwargs):\n",
        "    \"\"\"super().__init__()를 호출하고 _set_hyper()를 사용해 하이퍼파라미터를 저장\"\"\"\n",
        "    super().__init__(name,**kwargs)\n",
        "    self._set_hyper(\"learning_rate\",kwargs.get(\"lr\",learning_rate)) #lr=learning_rate을 처리\n",
        "    self._set_hyper(\"decay\",self._initial_decay)\n",
        "    self._set_hyper(\"momentum\",momentum)\n",
        "  \n",
        "  def _create_slots(self,var_list):\n",
        "    \"\"\"\n",
        "    모델 파라미터마다 연관된 옵티마이저 변수를 만든다.\n",
        "    텐서플로는 이런 옵티마이저 변수를 '슬롯'이라고 부른다.\n",
        "    모멘텀 옵티마이저에서는 모델 파라미터마다 하나의 모멘텀 슬롯이 필요\n",
        "    \"\"\"\n",
        "    for var in var_list:\n",
        "      self.add_slot(var,\"momentum\")\n",
        "  \n",
        "  @tf.function\n",
        "  def _resource_apply_dense(self,grad,var):\n",
        "    \"\"\"\"슬롯을 업데이트하고 모델 파라미터에 대한 옵티마이저 스텝을 수행\"\"\"\n",
        "    var_dtype=var.dtype.base_dtype\n",
        "    lr_t=self._decayed_lr(var_dtype)  #학습률 감쇠 처리\n",
        "    momentum_var=self.get_slot(var,\"momentum\")\n",
        "    momentum_hyper=self._get_hyper(\"momentum\",var_dtype)\n",
        "    momentum_var.assign(momentum_var*momentum_hyper-(1.-momentum_hyper)*grad)\n",
        "    var.assign_add(momentum_var*lr_t)\n",
        "  \n",
        "  def _resource_apply_sparse(self,grad,var):\n",
        "    raise NotlmplementedError\n",
        "  \n",
        "  def get_config(self):\n",
        "    base_config=super().get_config()\n",
        "    return {\n",
        "        **base_config,\n",
        "        \"learning_rate\":self._serialize_hyperparameter(\"learning_rate\"),\n",
        "        \"decay\":self._serialize_hyperparameter(\"decay\"),\n",
        "        \"momentum\":self._serialize_hyperparameter(\"momentum\"),\n",
        "    }"
      ],
      "execution_count": null,
      "outputs": []
    },
    {
      "cell_type": "code",
      "metadata": {
        "id": "FHxX0GTf_EqK"
      },
      "source": [
        "keras.backend.clear_session()\n",
        "np.random.seed(42)\n",
        "tf.random.set_seed(42)"
      ],
      "execution_count": null,
      "outputs": []
    },
    {
      "cell_type": "code",
      "metadata": {
        "colab": {
          "base_uri": "https://localhost:8080/"
        },
        "id": "Zd5tGpQd_Ll1",
        "outputId": "e66b39d8-793b-4bdf-b1b5-b0e40f84c1fa"
      },
      "source": [
        "model=keras.models.Sequential([keras.layers.Dense(1,input_shape=[8])])\n",
        "model.compile(loss=\"mse\",optimizer=MyMomentumOptimizer())\n",
        "model.fit(X_train_scaled,y_train,epochs=5)"
      ],
      "execution_count": null,
      "outputs": [
        {
          "output_type": "stream",
          "text": [
            "Epoch 1/5\n",
            "363/363 [==============================] - 0s 804us/step - loss: 3.8128\n",
            "Epoch 2/5\n",
            "363/363 [==============================] - 0s 761us/step - loss: 1.4877\n",
            "Epoch 3/5\n",
            "363/363 [==============================] - 0s 715us/step - loss: 0.9162\n",
            "Epoch 4/5\n",
            "363/363 [==============================] - 0s 724us/step - loss: 0.7587\n",
            "Epoch 5/5\n",
            "363/363 [==============================] - 0s 720us/step - loss: 0.7050\n"
          ],
          "name": "stdout"
        },
        {
          "output_type": "execute_result",
          "data": {
            "text/plain": [
              "<tensorflow.python.keras.callbacks.History at 0x7fa3aeeab128>"
            ]
          },
          "metadata": {
            "tags": []
          },
          "execution_count": 203
        }
      ]
    },
    {
      "cell_type": "markdown",
      "metadata": {
        "id": "pePNVjiBT9gA"
      },
      "source": [
        "## 텐서플로 함수와 그래프"
      ]
    },
    {
      "cell_type": "code",
      "metadata": {
        "id": "O4brIaMuYtvJ"
      },
      "source": [
        "def cube(x):\n",
        "  return x**3"
      ],
      "execution_count": null,
      "outputs": []
    },
    {
      "cell_type": "code",
      "metadata": {
        "colab": {
          "base_uri": "https://localhost:8080/"
        },
        "id": "ECNZNHDqZpDm",
        "outputId": "62b005a8-f853-4267-ac18-d101768e4830"
      },
      "source": [
        "cube(2)"
      ],
      "execution_count": null,
      "outputs": [
        {
          "output_type": "execute_result",
          "data": {
            "text/plain": [
              "8"
            ]
          },
          "metadata": {
            "tags": []
          },
          "execution_count": 205
        }
      ]
    },
    {
      "cell_type": "code",
      "metadata": {
        "colab": {
          "base_uri": "https://localhost:8080/"
        },
        "id": "OeWgREmVbJr2",
        "outputId": "bbb7b372-71ae-4cd2-b610-84b06c0cfd04"
      },
      "source": [
        "cube(tf.constant(2.0))"
      ],
      "execution_count": null,
      "outputs": [
        {
          "output_type": "execute_result",
          "data": {
            "text/plain": [
              "<tf.Tensor: shape=(), dtype=float32, numpy=8.0>"
            ]
          },
          "metadata": {
            "tags": []
          },
          "execution_count": 206
        }
      ]
    },
    {
      "cell_type": "code",
      "metadata": {
        "colab": {
          "base_uri": "https://localhost:8080/"
        },
        "id": "VaJbaPuGdQLt",
        "outputId": "6997bc04-62b8-4961-af95-46742e8887f0"
      },
      "source": [
        "tf_cube=tf.function(cube)\n",
        "tf_cube"
      ],
      "execution_count": null,
      "outputs": [
        {
          "output_type": "execute_result",
          "data": {
            "text/plain": [
              "<tensorflow.python.eager.def_function.Function at 0x7fa3aecf0710>"
            ]
          },
          "metadata": {
            "tags": []
          },
          "execution_count": 207
        }
      ]
    },
    {
      "cell_type": "code",
      "metadata": {
        "colab": {
          "base_uri": "https://localhost:8080/"
        },
        "id": "nZ1hLhhmdYev",
        "outputId": "34176546-09c8-4873-caf4-fa6357b81c0a"
      },
      "source": [
        "tf_cube(2)"
      ],
      "execution_count": null,
      "outputs": [
        {
          "output_type": "execute_result",
          "data": {
            "text/plain": [
              "<tf.Tensor: shape=(), dtype=int32, numpy=8>"
            ]
          },
          "metadata": {
            "tags": []
          },
          "execution_count": 208
        }
      ]
    },
    {
      "cell_type": "code",
      "metadata": {
        "colab": {
          "base_uri": "https://localhost:8080/"
        },
        "id": "mZ-W3f4hdcUw",
        "outputId": "773bf22a-7da8-4470-c3d4-e5c7f2a50c07"
      },
      "source": [
        "tf_cube(tf.constant(2.0))"
      ],
      "execution_count": null,
      "outputs": [
        {
          "output_type": "execute_result",
          "data": {
            "text/plain": [
              "<tf.Tensor: shape=(), dtype=float32, numpy=8.0>"
            ]
          },
          "metadata": {
            "tags": []
          },
          "execution_count": 209
        }
      ]
    },
    {
      "cell_type": "markdown",
      "metadata": {
        "id": "uFIULQcDgZT3"
      },
      "source": [
        "### TF 함수와 콘크리트 함수"
      ]
    },
    {
      "cell_type": "code",
      "metadata": {
        "colab": {
          "base_uri": "https://localhost:8080/"
        },
        "id": "ECXiFw35dgcQ",
        "outputId": "f8521b66-5b3f-498f-d5c5-2ea2ee71a1a4"
      },
      "source": [
        "concrete_function=tf_cube.get_concrete_function(tf.constant(2.0))\n",
        "concrete_function.graph"
      ],
      "execution_count": null,
      "outputs": [
        {
          "output_type": "execute_result",
          "data": {
            "text/plain": [
              "<tensorflow.python.framework.func_graph.FuncGraph at 0x7fa3aebee710>"
            ]
          },
          "metadata": {
            "tags": []
          },
          "execution_count": 210
        }
      ]
    },
    {
      "cell_type": "code",
      "metadata": {
        "colab": {
          "base_uri": "https://localhost:8080/"
        },
        "id": "bezpMcLqglOW",
        "outputId": "441ffdab-a9d5-4b55-baee-d1b9d02180c3"
      },
      "source": [
        "concrete_function(tf.constant(2.0))"
      ],
      "execution_count": null,
      "outputs": [
        {
          "output_type": "execute_result",
          "data": {
            "text/plain": [
              "<tf.Tensor: shape=(), dtype=float32, numpy=8.0>"
            ]
          },
          "metadata": {
            "tags": []
          },
          "execution_count": 211
        }
      ]
    },
    {
      "cell_type": "code",
      "metadata": {
        "colab": {
          "base_uri": "https://localhost:8080/"
        },
        "id": "6WNAg1mVg5wS",
        "outputId": "cf8c6907-9911-480c-e479-d0712bc71ae8"
      },
      "source": [
        "concrete_function is tf_cube.get_concrete_function(tf.constant(2.0))"
      ],
      "execution_count": null,
      "outputs": [
        {
          "output_type": "execute_result",
          "data": {
            "text/plain": [
              "True"
            ]
          },
          "metadata": {
            "tags": []
          },
          "execution_count": 212
        }
      ]
    },
    {
      "cell_type": "markdown",
      "metadata": {
        "id": "9LkfSroPkrX1"
      },
      "source": [
        "### 함수 정의와 함수 그래프 탐험하기"
      ]
    },
    {
      "cell_type": "code",
      "metadata": {
        "colab": {
          "base_uri": "https://localhost:8080/"
        },
        "id": "yeejH2dski4p",
        "outputId": "0791432a-9e2c-4a60-f0a4-301b4f128962"
      },
      "source": [
        "concrete_function.graph"
      ],
      "execution_count": null,
      "outputs": [
        {
          "output_type": "execute_result",
          "data": {
            "text/plain": [
              "<tensorflow.python.framework.func_graph.FuncGraph at 0x7fa3aebee710>"
            ]
          },
          "metadata": {
            "tags": []
          },
          "execution_count": 213
        }
      ]
    },
    {
      "cell_type": "code",
      "metadata": {
        "colab": {
          "base_uri": "https://localhost:8080/"
        },
        "id": "m6WaStI6qx0Q",
        "outputId": "21e926cb-2383-400a-d594-540e81a2ab9b"
      },
      "source": [
        "ops=concrete_function.graph.get_operations()\n",
        "ops"
      ],
      "execution_count": null,
      "outputs": [
        {
          "output_type": "execute_result",
          "data": {
            "text/plain": [
              "[<tf.Operation 'x' type=Placeholder>,\n",
              " <tf.Operation 'pow/y' type=Const>,\n",
              " <tf.Operation 'pow' type=Pow>,\n",
              " <tf.Operation 'Identity' type=Identity>]"
            ]
          },
          "metadata": {
            "tags": []
          },
          "execution_count": 214
        }
      ]
    },
    {
      "cell_type": "code",
      "metadata": {
        "colab": {
          "base_uri": "https://localhost:8080/"
        },
        "id": "17RlXocpq2L4",
        "outputId": "98d81788-847f-4554-d9f0-76627a2cf846"
      },
      "source": [
        "pow_op=ops[2]\n",
        "list(pow_op.inputs)"
      ],
      "execution_count": null,
      "outputs": [
        {
          "output_type": "execute_result",
          "data": {
            "text/plain": [
              "[<tf.Tensor 'x:0' shape=() dtype=float32>,\n",
              " <tf.Tensor 'pow/y:0' shape=() dtype=float32>]"
            ]
          },
          "metadata": {
            "tags": []
          },
          "execution_count": 215
        }
      ]
    },
    {
      "cell_type": "code",
      "metadata": {
        "colab": {
          "base_uri": "https://localhost:8080/"
        },
        "id": "T6eiXjierUtx",
        "outputId": "060da332-689d-47fc-d140-6adeab1b9f08"
      },
      "source": [
        "pow_op.outputs"
      ],
      "execution_count": null,
      "outputs": [
        {
          "output_type": "execute_result",
          "data": {
            "text/plain": [
              "[<tf.Tensor 'pow:0' shape=() dtype=float32>]"
            ]
          },
          "metadata": {
            "tags": []
          },
          "execution_count": 216
        }
      ]
    },
    {
      "cell_type": "code",
      "metadata": {
        "colab": {
          "base_uri": "https://localhost:8080/"
        },
        "id": "EJt22s2UrjiP",
        "outputId": "3824fb50-795e-4a3a-ff9b-a460412df2ae"
      },
      "source": [
        "concrete_function.graph.get_operation_by_name('x')"
      ],
      "execution_count": null,
      "outputs": [
        {
          "output_type": "execute_result",
          "data": {
            "text/plain": [
              "<tf.Operation 'x' type=Placeholder>"
            ]
          },
          "metadata": {
            "tags": []
          },
          "execution_count": 217
        }
      ]
    },
    {
      "cell_type": "code",
      "metadata": {
        "colab": {
          "base_uri": "https://localhost:8080/"
        },
        "id": "_n92NLN5rrAY",
        "outputId": "7ce00662-cf21-4170-bf10-69d3d1c06ec5"
      },
      "source": [
        "concrete_function.graph.get_tensor_by_name('Identity:0')"
      ],
      "execution_count": null,
      "outputs": [
        {
          "output_type": "execute_result",
          "data": {
            "text/plain": [
              "<tf.Tensor 'Identity:0' shape=() dtype=float32>"
            ]
          },
          "metadata": {
            "tags": []
          },
          "execution_count": 218
        }
      ]
    },
    {
      "cell_type": "code",
      "metadata": {
        "colab": {
          "base_uri": "https://localhost:8080/"
        },
        "id": "d4qobliUrxwi",
        "outputId": "81ac4c7e-9b9f-441a-9cf0-f35162100cea"
      },
      "source": [
        "concrete_function.function_def.signature"
      ],
      "execution_count": null,
      "outputs": [
        {
          "output_type": "execute_result",
          "data": {
            "text/plain": [
              "name: \"__inference_cube_1056131\"\n",
              "input_arg {\n",
              "  name: \"x\"\n",
              "  type: DT_FLOAT\n",
              "}\n",
              "output_arg {\n",
              "  name: \"identity\"\n",
              "  type: DT_FLOAT\n",
              "}"
            ]
          },
          "metadata": {
            "tags": []
          },
          "execution_count": 219
        }
      ]
    },
    {
      "cell_type": "markdown",
      "metadata": {
        "id": "rn-U3-tjs4UW"
      },
      "source": [
        "### 트레이싱 자세히 보기"
      ]
    },
    {
      "cell_type": "code",
      "metadata": {
        "id": "9K2kqgyMsMow"
      },
      "source": [
        "@tf.function\n",
        "def tf_cube(x):\n",
        "  print(\"print:\",x)\n",
        "  return x**3"
      ],
      "execution_count": null,
      "outputs": []
    },
    {
      "cell_type": "code",
      "metadata": {
        "colab": {
          "base_uri": "https://localhost:8080/"
        },
        "id": "iFAUOTz0tBiB",
        "outputId": "d2eaa5c8-1732-4d6a-d27a-7d6a1f13b4f2"
      },
      "source": [
        "result=tf_cube(tf.constant(2.0))"
      ],
      "execution_count": null,
      "outputs": [
        {
          "output_type": "stream",
          "text": [
            "print: Tensor(\"x:0\", shape=(), dtype=float32)\n"
          ],
          "name": "stdout"
        }
      ]
    },
    {
      "cell_type": "code",
      "metadata": {
        "colab": {
          "base_uri": "https://localhost:8080/"
        },
        "id": "n_ka29JItGDK",
        "outputId": "319a01ce-8bf5-4751-8488-c101ca31557d"
      },
      "source": [
        "result"
      ],
      "execution_count": null,
      "outputs": [
        {
          "output_type": "execute_result",
          "data": {
            "text/plain": [
              "<tf.Tensor: shape=(), dtype=float32, numpy=8.0>"
            ]
          },
          "metadata": {
            "tags": []
          },
          "execution_count": 222
        }
      ]
    },
    {
      "cell_type": "code",
      "metadata": {
        "id": "0KWagac8tIZC",
        "colab": {
          "base_uri": "https://localhost:8080/"
        },
        "outputId": "7cf0f5b9-d203-419b-b482-f73e7a5a6275"
      },
      "source": [
        "result=tf_cube(2)\n",
        "result=tf_cube(3)\n",
        "result=tf_cube(tf.constant([[1.,2.]]))  #New shape : trace!\n",
        "result=tf_cube(tf.constant([[3.,4.],[5.,6.]]))  #New shape : trace!\n",
        "result=tf_cube(tf.constant([[7.,8.],[9.,10.]])) #no trace"
      ],
      "execution_count": null,
      "outputs": [
        {
          "output_type": "stream",
          "text": [
            "print: 2\n",
            "print: 3\n",
            "print: Tensor(\"x:0\", shape=(1, 2), dtype=float32)\n",
            "print: Tensor(\"x:0\", shape=(2, 2), dtype=float32)\n",
            "WARNING:tensorflow:5 out of the last 5 calls to <function tf_cube at 0x7fa3aebdb048> triggered tf.function retracing. Tracing is expensive and the excessive number of tracings could be due to (1) creating @tf.function repeatedly in a loop, (2) passing tensors with different shapes, (3) passing Python objects instead of tensors. For (1), please define your @tf.function outside of the loop. For (2), @tf.function has experimental_relax_shapes=True option that relaxes argument shapes that can avoid unnecessary retracing. For (3), please refer to https://www.tensorflow.org/tutorials/customization/performance#python_or_tensor_args and https://www.tensorflow.org/api_docs/python/tf/function for  more details.\n"
          ],
          "name": "stdout"
        }
      ]
    },
    {
      "cell_type": "markdown",
      "metadata": {
        "id": "wSU9EsGbvIBf"
      },
      "source": [
        "특정 입력 시그니처를 지정하는 것도 가능 :"
      ]
    },
    {
      "cell_type": "code",
      "metadata": {
        "id": "xmrX9rCSuJj0"
      },
      "source": [
        "@tf.function(input_signature=[tf.TensorSpec([None,28,28],tf.float32)])\n",
        "def shrink(images):\n",
        "  print(\"트레이싱\",images)\n",
        "  return images[:,::2,::2]  #행과 열의 절반을 버린다."
      ],
      "execution_count": null,
      "outputs": []
    },
    {
      "cell_type": "code",
      "metadata": {
        "id": "CTXhrsT1vqYc"
      },
      "source": [
        "keras.backend.clear_session()\n",
        "np.random.seed(42)\n",
        "tf.random.set_seed(42)"
      ],
      "execution_count": null,
      "outputs": []
    },
    {
      "cell_type": "code",
      "metadata": {
        "colab": {
          "base_uri": "https://localhost:8080/"
        },
        "id": "WyqA2Yc3vvn6",
        "outputId": "f99de7ef-0091-4800-821c-9b7d65b53f75"
      },
      "source": [
        "img_batch_1=tf.random.uniform(shape=[100,28,28])\n",
        "img_batch_2=tf.random.uniform(shape=[50,28,28])\n",
        "preprocessed_images=shrink(img_batch_1) #함수 트레이싱\n",
        "preprocessed_images=shrink(img_batch_2) #동일한 콘크리트 함수 재사용"
      ],
      "execution_count": null,
      "outputs": [
        {
          "output_type": "stream",
          "text": [
            "트레이싱 Tensor(\"images:0\", shape=(None, 28, 28), dtype=float32)\n"
          ],
          "name": "stdout"
        }
      ]
    },
    {
      "cell_type": "code",
      "metadata": {
        "colab": {
          "base_uri": "https://localhost:8080/"
        },
        "id": "q6IPh6oWwFLh",
        "outputId": "29dfdbb7-2eac-4728-d601-cc8be68f1395"
      },
      "source": [
        "img_batch_3=tf.random.uniform(shape=[2,2,2])\n",
        "try:\n",
        "  preprocessed_images=shrink(img_batch_3) #다른 타입이나 크기 거부\n",
        "except ValueError as ex:\n",
        "  print(ex)"
      ],
      "execution_count": null,
      "outputs": [
        {
          "output_type": "stream",
          "text": [
            "Python inputs incompatible with input_signature:\n",
            "  inputs: (\n",
            "    tf.Tensor(\n",
            "[[[0.7413678  0.62854624]\n",
            "  [0.01738465 0.3431449 ]]\n",
            "\n",
            " [[0.51063764 0.3777541 ]\n",
            "  [0.07321596 0.02137029]]], shape=(2, 2, 2), dtype=float32))\n",
            "  input_signature: (\n",
            "    TensorSpec(shape=(None, 28, 28), dtype=tf.float32, name=None))\n"
          ],
          "name": "stdout"
        }
      ]
    },
    {
      "cell_type": "markdown",
      "metadata": {
        "id": "sZixRQmawdS_"
      },
      "source": [
        "### AutoGraph를 사용해 제어 흐름 표현하기"
      ]
    },
    {
      "cell_type": "markdown",
      "metadata": {
        "id": "5OG6iGDCxM_I"
      },
      "source": [
        "range()를 사용한 정적인 for 반복 :"
      ]
    },
    {
      "cell_type": "code",
      "metadata": {
        "id": "-olDgwCHwTpo"
      },
      "source": [
        "@tf.function\n",
        "def add_10(x):\n",
        "  for i in range(10):\n",
        "    x+=1\n",
        "  return x"
      ],
      "execution_count": null,
      "outputs": []
    },
    {
      "cell_type": "code",
      "metadata": {
        "colab": {
          "base_uri": "https://localhost:8080/"
        },
        "id": "2c2pmmlIxQcN",
        "outputId": "bc59ea33-e797-473d-b918-1e8d8ec699e3"
      },
      "source": [
        "add_10(tf.constant(5))"
      ],
      "execution_count": null,
      "outputs": [
        {
          "output_type": "execute_result",
          "data": {
            "text/plain": [
              "<tf.Tensor: shape=(), dtype=int32, numpy=15>"
            ]
          },
          "metadata": {
            "tags": []
          },
          "execution_count": 229
        }
      ]
    },
    {
      "cell_type": "code",
      "metadata": {
        "colab": {
          "base_uri": "https://localhost:8080/"
        },
        "id": "gFmHpqHmxS4g",
        "outputId": "635edcb5-7f1c-43a0-e269-b2ae7309020c"
      },
      "source": [
        "add_10.get_concrete_function(tf.constant(5)).graph.get_operations()"
      ],
      "execution_count": null,
      "outputs": [
        {
          "output_type": "execute_result",
          "data": {
            "text/plain": [
              "[<tf.Operation 'x' type=Placeholder>,\n",
              " <tf.Operation 'add/y' type=Const>,\n",
              " <tf.Operation 'add' type=AddV2>,\n",
              " <tf.Operation 'add_1/y' type=Const>,\n",
              " <tf.Operation 'add_1' type=AddV2>,\n",
              " <tf.Operation 'add_2/y' type=Const>,\n",
              " <tf.Operation 'add_2' type=AddV2>,\n",
              " <tf.Operation 'add_3/y' type=Const>,\n",
              " <tf.Operation 'add_3' type=AddV2>,\n",
              " <tf.Operation 'add_4/y' type=Const>,\n",
              " <tf.Operation 'add_4' type=AddV2>,\n",
              " <tf.Operation 'add_5/y' type=Const>,\n",
              " <tf.Operation 'add_5' type=AddV2>,\n",
              " <tf.Operation 'add_6/y' type=Const>,\n",
              " <tf.Operation 'add_6' type=AddV2>,\n",
              " <tf.Operation 'add_7/y' type=Const>,\n",
              " <tf.Operation 'add_7' type=AddV2>,\n",
              " <tf.Operation 'add_8/y' type=Const>,\n",
              " <tf.Operation 'add_8' type=AddV2>,\n",
              " <tf.Operation 'add_9/y' type=Const>,\n",
              " <tf.Operation 'add_9' type=AddV2>,\n",
              " <tf.Operation 'Identity' type=Identity>]"
            ]
          },
          "metadata": {
            "tags": []
          },
          "execution_count": 230
        }
      ]
    },
    {
      "cell_type": "markdown",
      "metadata": {
        "id": "2ypRD7Fsxdgs"
      },
      "source": [
        "tf.while_loop()를 사용한 동적인 반복 :"
      ]
    },
    {
      "cell_type": "code",
      "metadata": {
        "id": "VaqPBNiexa1e"
      },
      "source": [
        "@tf.function\n",
        "def add_10(x):\n",
        "  condition=lambda i,x:tf.less(i,10)\n",
        "  body=lambda i,x:(tf.add(i,1),tf.add(x,1))\n",
        "  final_i,final_x=tf.while_loop(condition,body,[tf.constant(0),x])\n",
        "  return final_x"
      ],
      "execution_count": null,
      "outputs": []
    },
    {
      "cell_type": "code",
      "metadata": {
        "colab": {
          "base_uri": "https://localhost:8080/"
        },
        "id": "HyWlCkXMx3B8",
        "outputId": "945e463d-b082-4ad0-b6a8-be9c702c8fc2"
      },
      "source": [
        "add_10(tf.constant(5))"
      ],
      "execution_count": null,
      "outputs": [
        {
          "output_type": "execute_result",
          "data": {
            "text/plain": [
              "<tf.Tensor: shape=(), dtype=int32, numpy=15>"
            ]
          },
          "metadata": {
            "tags": []
          },
          "execution_count": 232
        }
      ]
    },
    {
      "cell_type": "code",
      "metadata": {
        "colab": {
          "base_uri": "https://localhost:8080/"
        },
        "id": "YaC_T8aEx5Jv",
        "outputId": "f93e14ad-a07b-4ca3-f5c6-1b916abb4a1b"
      },
      "source": [
        "add_10.get_concrete_function(tf.constant(5)).graph.get_operations()"
      ],
      "execution_count": null,
      "outputs": [
        {
          "output_type": "execute_result",
          "data": {
            "text/plain": [
              "[<tf.Operation 'x' type=Placeholder>,\n",
              " <tf.Operation 'Const' type=Const>,\n",
              " <tf.Operation 'while/maximum_iterations' type=Const>,\n",
              " <tf.Operation 'while/loop_counter' type=Const>,\n",
              " <tf.Operation 'while' type=StatelessWhile>,\n",
              " <tf.Operation 'Identity' type=Identity>]"
            ]
          },
          "metadata": {
            "tags": []
          },
          "execution_count": 233
        }
      ]
    },
    {
      "cell_type": "markdown",
      "metadata": {
        "id": "5AC8xZaOzBwp"
      },
      "source": [
        "(오토그래프에 의한) tf.range()를 사용한 동적인 for 반복 :"
      ]
    },
    {
      "cell_type": "code",
      "metadata": {
        "id": "LU5G9ReyyErW"
      },
      "source": [
        "@tf.function\n",
        "def add_10(x):\n",
        "  for i in tf.range(10):\n",
        "    x=x+1\n",
        "  return x"
      ],
      "execution_count": null,
      "outputs": []
    },
    {
      "cell_type": "code",
      "metadata": {
        "colab": {
          "base_uri": "https://localhost:8080/"
        },
        "id": "QEouZK4gzLXP",
        "outputId": "b2973e88-e549-476a-80ba-0e7f0cca1e08"
      },
      "source": [
        "add_10.get_concrete_function(tf.constant(0)).graph.get_operations()"
      ],
      "execution_count": null,
      "outputs": [
        {
          "output_type": "execute_result",
          "data": {
            "text/plain": [
              "[<tf.Operation 'x' type=Placeholder>,\n",
              " <tf.Operation 'range/start' type=Const>,\n",
              " <tf.Operation 'range/limit' type=Const>,\n",
              " <tf.Operation 'range/delta' type=Const>,\n",
              " <tf.Operation 'range' type=Range>,\n",
              " <tf.Operation 'sub' type=Sub>,\n",
              " <tf.Operation 'floordiv' type=FloorDiv>,\n",
              " <tf.Operation 'mod' type=FloorMod>,\n",
              " <tf.Operation 'zeros_like' type=Const>,\n",
              " <tf.Operation 'NotEqual' type=NotEqual>,\n",
              " <tf.Operation 'Cast' type=Cast>,\n",
              " <tf.Operation 'add' type=AddV2>,\n",
              " <tf.Operation 'zeros_like_1' type=Const>,\n",
              " <tf.Operation 'Maximum' type=Maximum>,\n",
              " <tf.Operation 'while/loop_counter' type=Const>,\n",
              " <tf.Operation 'while' type=StatelessWhile>,\n",
              " <tf.Operation 'Identity' type=Identity>]"
            ]
          },
          "metadata": {
            "tags": []
          },
          "execution_count": 235
        }
      ]
    },
    {
      "cell_type": "markdown",
      "metadata": {
        "id": "eK1mQaOtzd6D"
      },
      "source": [
        "### TF 함수에서 변수와 다른 리소스 다루기"
      ]
    },
    {
      "cell_type": "code",
      "metadata": {
        "id": "eT2tnRa9zQls"
      },
      "source": [
        "counter=tf.Variable(0)\n",
        "\n",
        "@tf.function\n",
        "def increment(counter,c=1):\n",
        "  return counter.assign_add(c)"
      ],
      "execution_count": null,
      "outputs": []
    },
    {
      "cell_type": "code",
      "metadata": {
        "colab": {
          "base_uri": "https://localhost:8080/"
        },
        "id": "Y2OoL_g40CRq",
        "outputId": "f4155eb6-439e-4278-f877-f51b9ab707be"
      },
      "source": [
        "increment(counter)\n",
        "increment(counter)"
      ],
      "execution_count": null,
      "outputs": [
        {
          "output_type": "execute_result",
          "data": {
            "text/plain": [
              "<tf.Tensor: shape=(), dtype=int32, numpy=2>"
            ]
          },
          "metadata": {
            "tags": []
          },
          "execution_count": 237
        }
      ]
    },
    {
      "cell_type": "code",
      "metadata": {
        "colab": {
          "base_uri": "https://localhost:8080/"
        },
        "id": "4bdOIuRU0D8h",
        "outputId": "fee7b0be-4413-4526-ddbd-0c43f8fd28ae"
      },
      "source": [
        "function_def=increment.get_concrete_function(counter).function_def\n",
        "function_def.signature.input_arg[0]"
      ],
      "execution_count": null,
      "outputs": [
        {
          "output_type": "execute_result",
          "data": {
            "text/plain": [
              "name: \"counter\"\n",
              "type: DT_RESOURCE"
            ]
          },
          "metadata": {
            "tags": []
          },
          "execution_count": 238
        }
      ]
    },
    {
      "cell_type": "code",
      "metadata": {
        "id": "iFcGP88p0Tri"
      },
      "source": [
        "counter=tf.Variable(0)\n",
        "\n",
        "@tf.function\n",
        "def increment(c=1):\n",
        "  return counter.assign_add(c)"
      ],
      "execution_count": null,
      "outputs": []
    },
    {
      "cell_type": "code",
      "metadata": {
        "colab": {
          "base_uri": "https://localhost:8080/"
        },
        "id": "uI8JS7bC0kog",
        "outputId": "6a67b159-fe5d-4feb-fc47-56709592fb07"
      },
      "source": [
        "increment()\n",
        "increment()"
      ],
      "execution_count": null,
      "outputs": [
        {
          "output_type": "execute_result",
          "data": {
            "text/plain": [
              "<tf.Tensor: shape=(), dtype=int32, numpy=2>"
            ]
          },
          "metadata": {
            "tags": []
          },
          "execution_count": 240
        }
      ]
    },
    {
      "cell_type": "code",
      "metadata": {
        "colab": {
          "base_uri": "https://localhost:8080/"
        },
        "id": "9ctCrlA00nFj",
        "outputId": "7df9f15c-0081-4b6b-9c51-7179cd913503"
      },
      "source": [
        "function_def=increment.get_concrete_function().function_def\n",
        "function_def.signature.input_arg[0]"
      ],
      "execution_count": null,
      "outputs": [
        {
          "output_type": "execute_result",
          "data": {
            "text/plain": [
              "name: \"assignaddvariableop_resource\"\n",
              "type: DT_RESOURCE"
            ]
          },
          "metadata": {
            "tags": []
          },
          "execution_count": 241
        }
      ]
    },
    {
      "cell_type": "code",
      "metadata": {
        "id": "Z-C6FQh31Jrx"
      },
      "source": [
        "class Counter:\n",
        "  def __init__(self):\n",
        "    self.counter=tf.Variable(0)\n",
        "  \n",
        "  @tf.function\n",
        "  def increment(self,c=1):\n",
        "    return self.counter.assign_add(c)"
      ],
      "execution_count": null,
      "outputs": []
    },
    {
      "cell_type": "code",
      "metadata": {
        "colab": {
          "base_uri": "https://localhost:8080/"
        },
        "id": "uLXpkEpQ1bVl",
        "outputId": "e0475e94-92f0-40fa-f222-0fea5aa56778"
      },
      "source": [
        "c=Counter()\n",
        "c.increment()\n",
        "c.increment()"
      ],
      "execution_count": null,
      "outputs": [
        {
          "output_type": "execute_result",
          "data": {
            "text/plain": [
              "<tf.Tensor: shape=(), dtype=int32, numpy=2>"
            ]
          },
          "metadata": {
            "tags": []
          },
          "execution_count": 243
        }
      ]
    },
    {
      "cell_type": "code",
      "metadata": {
        "colab": {
          "base_uri": "https://localhost:8080/"
        },
        "id": "0tFiLB6v1dzV",
        "outputId": "6740fcb0-fc96-4992-eb85-ee45f8732bc2"
      },
      "source": [
        "@tf.function\n",
        "def add_10(x):\n",
        "  for i in tf.range(10):\n",
        "    x+=1\n",
        "  return x\n",
        "\n",
        "tf.autograph.to_code(add_10.python_function)"
      ],
      "execution_count": null,
      "outputs": [
        {
          "output_type": "execute_result",
          "data": {
            "application/vnd.google.colaboratory.intrinsic+json": {
              "type": "string"
            },
            "text/plain": [
              "\"def tf__add(x):\\n    with ag__.FunctionScope('add_10', 'fscope', ag__.ConversionOptions(recursive=True, user_requested=True, optional_features=(), internal_convert_user_code=True)) as fscope:\\n        do_return = False\\n        retval_ = ag__.UndefinedReturnValue()\\n\\n        def get_state():\\n            return (x,)\\n\\n        def set_state(vars_):\\n            nonlocal x\\n            (x,) = vars_\\n\\n        def loop_body(itr):\\n            nonlocal x\\n            i = itr\\n            x = ag__.ld(x)\\n            x += 1\\n        i = ag__.Undefined('i')\\n        ag__.for_stmt(ag__.converted_call(ag__.ld(tf).range, (10,), None, fscope), None, loop_body, get_state, set_state, ('x',), {'iterate_names': 'i'})\\n        try:\\n            do_return = True\\n            retval_ = ag__.ld(x)\\n        except:\\n            do_return = False\\n            raise\\n        return fscope.ret(retval_, do_return)\\n\""
            ]
          },
          "metadata": {
            "tags": []
          },
          "execution_count": 244
        }
      ]
    },
    {
      "cell_type": "code",
      "metadata": {
        "id": "zzC7IkhR17LU"
      },
      "source": [
        "def display_tf_code(func):\n",
        "  from IPython.display import display,Markdown\n",
        "  if hasattr(func,\"python_function\"):\n",
        "    func=func.python_function\n",
        "  code=tf.autograph.to_code(func)\n",
        "  display(Markdown('```python\\n{}\\n```'.format(code)))"
      ],
      "execution_count": null,
      "outputs": []
    },
    {
      "cell_type": "code",
      "metadata": {
        "colab": {
          "base_uri": "https://localhost:8080/"
        },
        "id": "EVl3wyIS2W-j",
        "outputId": "ae7d28ba-1141-40fb-f1d9-bcfa6df956a9"
      },
      "source": [
        "display_tf_code(add_10)"
      ],
      "execution_count": null,
      "outputs": [
        {
          "output_type": "display_data",
          "data": {
            "text/markdown": "```python\ndef tf__add(x):\n    with ag__.FunctionScope('add_10', 'fscope', ag__.ConversionOptions(recursive=True, user_requested=True, optional_features=(), internal_convert_user_code=True)) as fscope:\n        do_return = False\n        retval_ = ag__.UndefinedReturnValue()\n\n        def get_state():\n            return (x,)\n\n        def set_state(vars_):\n            nonlocal x\n            (x,) = vars_\n\n        def loop_body(itr):\n            nonlocal x\n            i = itr\n            x = ag__.ld(x)\n            x += 1\n        i = ag__.Undefined('i')\n        ag__.for_stmt(ag__.converted_call(ag__.ld(tf).range, (10,), None, fscope), None, loop_body, get_state, set_state, ('x',), {'iterate_names': 'i'})\n        try:\n            do_return = True\n            retval_ = ag__.ld(x)\n        except:\n            do_return = False\n            raise\n        return fscope.ret(retval_, do_return)\n\n```",
            "text/plain": [
              "<IPython.core.display.Markdown object>"
            ]
          },
          "metadata": {
            "tags": []
          }
        }
      ]
    },
    {
      "cell_type": "markdown",
      "metadata": {
        "id": "r8qaNjv527MU"
      },
      "source": [
        "### tf.keras에 TF 함수를 사용하기(또는 사용하지 않기)"
      ]
    },
    {
      "cell_type": "markdown",
      "metadata": {
        "id": "s4hpbjci3E8w"
      },
      "source": [
        "기본적으로 tf.keras는 자동으로 사용자 정의 코드를 TF 함수로 변환하기 때문에 tf.function()을 사용할 필요가 없다 :"
      ]
    },
    {
      "cell_type": "code",
      "metadata": {
        "id": "TjylPb492a4M"
      },
      "source": [
        "#사용자 손실 함수\n",
        "def my_mse(y_true,y_pred):\n",
        "  print(\"my_mse() 손실 트레이싱\")\n",
        "  return tf.reduce_mean(tf.square(y_pred-y_true))"
      ],
      "execution_count": null,
      "outputs": []
    },
    {
      "cell_type": "code",
      "metadata": {
        "id": "p2_D1K4K3SAp"
      },
      "source": [
        "#사용자 지표 함수\n",
        "def my_mae(y_true,y_pred):\n",
        "  print(\"my_mae() 지표 트레이싱\")\n",
        "  return tf.reduce_mean(tf.abs(y_pred-y_true))"
      ],
      "execution_count": null,
      "outputs": []
    },
    {
      "cell_type": "code",
      "metadata": {
        "id": "Od3LVW053mv7"
      },
      "source": [
        "#사용자 정의 층\n",
        "class MyDense(keras.layers.Layer):\n",
        "  def __init__(self,units,activation=None,**kwargs):\n",
        "    super().__init__(**kwargs)\n",
        "    self.units=units\n",
        "    self.activation=keras.activations.get(activation)\n",
        "  \n",
        "  def build(self,input_shape):\n",
        "    self.kernel=self.add_weight(name='kernel',\n",
        "                                shape=(input_shape[1],self.units),\n",
        "                                initializer='uniform',\n",
        "                                trainable=True)\n",
        "    self.biases=self.add_weight(name='bais',\n",
        "                                shape=(self.units,),\n",
        "                                initializer='zeros',\n",
        "                                trainable=True)\n",
        "    super().build(input_shape)\n",
        "  \n",
        "  def call(self,X):\n",
        "    print(\"MyDense.call() 트레이싱\")\n",
        "    return self.activation(X@self.kernel+self.biases)"
      ],
      "execution_count": null,
      "outputs": []
    },
    {
      "cell_type": "code",
      "metadata": {
        "id": "8NWAokqz4d2S"
      },
      "source": [
        "keras.backend.clear_session()\n",
        "np.random.seed(42)\n",
        "tf.random.set_seed(42)"
      ],
      "execution_count": null,
      "outputs": []
    },
    {
      "cell_type": "code",
      "metadata": {
        "id": "UM_QloFx4mzZ"
      },
      "source": [
        "#사용자 정의 모델\n",
        "class MyModel(keras.models.Model):\n",
        "  def __init__(self,**kwargs):\n",
        "    super().__init__(**kwargs)\n",
        "    self.hidden1=MyDense(30,activation=\"relu\")\n",
        "    self.hidden2=MyDense(30,activation=\"relu\")\n",
        "    self.output_=MyDense(1)\n",
        "  \n",
        "  def call(self,input):\n",
        "    print(\"MyModel.call() 트레이싱\")\n",
        "    hidden1=self.hidden1(input)\n",
        "    hidden2=self.hidden2(hidden1)\n",
        "    concat=keras.layers.concatenate([input,hidden2])\n",
        "    output=self.output_(concat)\n",
        "    return output\n",
        "\n",
        "model=MyModel()"
      ],
      "execution_count": null,
      "outputs": []
    },
    {
      "cell_type": "code",
      "metadata": {
        "id": "vSMYt7uk5U_F"
      },
      "source": [
        "model.compile(loss=my_mse,optimizer=\"nadam\",metrics=[my_mae])"
      ],
      "execution_count": null,
      "outputs": []
    },
    {
      "cell_type": "code",
      "metadata": {
        "colab": {
          "base_uri": "https://localhost:8080/"
        },
        "id": "RHNsecUd5aJ1",
        "outputId": "dd4a2b5f-f504-46cb-ea03-fa4e63c1d4e0"
      },
      "source": [
        "model.fit(X_train_scaled,y_train,epochs=2,\n",
        "          validation_data=(X_valid_scaled,y_valid))\n",
        "model.evaluate(X_test_scaled,y_test)"
      ],
      "execution_count": null,
      "outputs": [
        {
          "output_type": "stream",
          "text": [
            "Epoch 1/2\n",
            "MyModel.call() 트레이싱\n",
            "MyDense.call() 트레이싱\n",
            "MyDense.call() 트레이싱\n",
            "MyDense.call() 트레이싱\n",
            "my_mse() 손실 트레이싱\n",
            "my_mae() 지표 트레이싱\n",
            "MyModel.call() 트레이싱\n",
            "MyDense.call() 트레이싱\n",
            "MyDense.call() 트레이싱\n",
            "MyDense.call() 트레이싱\n",
            "my_mse() 손실 트레이싱\n",
            "my_mae() 지표 트레이싱\n",
            "353/363 [============================>.] - ETA: 0s - loss: 1.3459 - my_mae: 0.7978MyModel.call() 트레이싱\n",
            "MyDense.call() 트레이싱\n",
            "MyDense.call() 트레이싱\n",
            "MyDense.call() 트레이싱\n",
            "my_mse() 손실 트레이싱\n",
            "my_mae() 지표 트레이싱\n",
            "363/363 [==============================] - 1s 2ms/step - loss: 1.3255 - my_mae: 0.7900 - val_loss: 0.5569 - val_my_mae: 0.4819\n",
            "Epoch 2/2\n",
            "363/363 [==============================] - 0s 1ms/step - loss: 0.4419 - my_mae: 0.4767 - val_loss: 0.4664 - val_my_mae: 0.4576\n",
            "162/162 [==============================] - 0s 778us/step - loss: 0.4164 - my_mae: 0.4639\n"
          ],
          "name": "stdout"
        },
        {
          "output_type": "execute_result",
          "data": {
            "text/plain": [
              "[0.41635245084762573, 0.4639027416706085]"
            ]
          },
          "metadata": {
            "tags": []
          },
          "execution_count": 253
        }
      ]
    },
    {
      "cell_type": "markdown",
      "metadata": {
        "id": "SWMUybGy56_m"
      },
      "source": [
        "dynamic=True로 모델을 만들어 이 기능을 끌 수 있다 (또는 모델의 생성자에서 super().\\_\\_init\\_\\_(dynamic=True, **kwargs)를 호출) :"
      ]
    },
    {
      "cell_type": "code",
      "metadata": {
        "id": "41JFger35llh"
      },
      "source": [
        "keras.backend.clear_session()\n",
        "np.random.seed(42)\n",
        "tf.random.set_seed(42)"
      ],
      "execution_count": null,
      "outputs": []
    },
    {
      "cell_type": "code",
      "metadata": {
        "id": "WGBn10D46lDC"
      },
      "source": [
        "model=MyModel(dynamic=True)"
      ],
      "execution_count": null,
      "outputs": []
    },
    {
      "cell_type": "code",
      "metadata": {
        "id": "FUqukEd96owb"
      },
      "source": [
        "model.compile(loss=my_mse,optimizer=\"nadam\",metrics=[my_mae])"
      ],
      "execution_count": null,
      "outputs": []
    },
    {
      "cell_type": "markdown",
      "metadata": {
        "id": "NScEfVeK6w5-"
      },
      "source": [
        "사용자 정의 코드는 반복마다 호출  \n",
        "너무 많이 출력되는 것을 피하기 위해 작은 데이터셋으로 훈련, 검증, 평가 :"
      ]
    },
    {
      "cell_type": "code",
      "metadata": {
        "colab": {
          "base_uri": "https://localhost:8080/"
        },
        "id": "AWSEiuMd6uha",
        "outputId": "d4e125ad-d9b5-494f-d0e6-9df3ce4b231d"
      },
      "source": [
        "model.fit(X_train_scaled[:64],y_train[:64],epochs=1,\n",
        "          validation_data=(X_valid_scaled[:64],y_valid[:64]),verbose=0)\n",
        "model.evaluate(X_test_scaled[:64],y_test[:64],verbose=0)"
      ],
      "execution_count": null,
      "outputs": [
        {
          "output_type": "stream",
          "text": [
            "MyModel.call() 트레이싱\n",
            "MyDense.call() 트레이싱\n",
            "MyDense.call() 트레이싱\n",
            "MyDense.call() 트레이싱\n",
            "my_mse() 손실 트레이싱\n",
            "my_mae() 지표 트레이싱\n",
            "MyModel.call() 트레이싱\n",
            "MyDense.call() 트레이싱\n",
            "MyDense.call() 트레이싱\n",
            "MyDense.call() 트레이싱\n",
            "my_mse() 손실 트레이싱\n",
            "my_mae() 지표 트레이싱\n",
            "MyModel.call() 트레이싱\n",
            "MyDense.call() 트레이싱\n",
            "MyDense.call() 트레이싱\n",
            "MyDense.call() 트레이싱\n",
            "my_mse() 손실 트레이싱\n",
            "my_mae() 지표 트레이싱\n",
            "MyModel.call() 트레이싱\n",
            "MyDense.call() 트레이싱\n",
            "MyDense.call() 트레이싱\n",
            "MyDense.call() 트레이싱\n",
            "my_mse() 손실 트레이싱\n",
            "my_mae() 지표 트레이싱\n",
            "MyModel.call() 트레이싱\n",
            "MyDense.call() 트레이싱\n",
            "MyDense.call() 트레이싱\n",
            "MyDense.call() 트레이싱\n",
            "my_mse() 손실 트레이싱\n",
            "my_mae() 지표 트레이싱\n",
            "MyModel.call() 트레이싱\n",
            "MyDense.call() 트레이싱\n",
            "MyDense.call() 트레이싱\n",
            "MyDense.call() 트레이싱\n",
            "my_mse() 손실 트레이싱\n",
            "my_mae() 지표 트레이싱\n"
          ],
          "name": "stdout"
        },
        {
          "output_type": "execute_result",
          "data": {
            "text/plain": [
              "[5.507260322570801, 2.0566811561584473]"
            ]
          },
          "metadata": {
            "tags": []
          },
          "execution_count": 257
        }
      ]
    },
    {
      "cell_type": "markdown",
      "metadata": {
        "id": "Tbu3paBk7YDn"
      },
      "source": [
        "또는 모델을 컴파일할 때 run_eagerly=True를 지정 :"
      ]
    },
    {
      "cell_type": "code",
      "metadata": {
        "id": "xNGiPz2r7Oye"
      },
      "source": [
        "keras.backend.clear_session()\n",
        "np.random.seed(42)\n",
        "tf.random.set_seed(42)"
      ],
      "execution_count": null,
      "outputs": []
    },
    {
      "cell_type": "code",
      "metadata": {
        "id": "wLwqhlKR70lR"
      },
      "source": [
        "model=MyModel()"
      ],
      "execution_count": null,
      "outputs": []
    },
    {
      "cell_type": "code",
      "metadata": {
        "id": "-J0Nsv0U7-S_"
      },
      "source": [
        "model.compile(loss=my_mse,optimizer=\"nadam\",metrics=[my_mae],run_eagerly=True)"
      ],
      "execution_count": null,
      "outputs": []
    },
    {
      "cell_type": "code",
      "metadata": {
        "colab": {
          "base_uri": "https://localhost:8080/"
        },
        "id": "8M6GlNfi8AQE",
        "outputId": "67b4a398-bf28-4353-a152-c470edbf65d4"
      },
      "source": [
        "model.fit(X_train_scaled[:64],y_train[:64],epochs=1,\n",
        "          validation_data=(X_valid_scaled[:64],y_valid[:64]),verbose=0)\n",
        "model.evaluate(X_test_scaled[:64],y_test[:64],verbose=0)"
      ],
      "execution_count": null,
      "outputs": [
        {
          "output_type": "stream",
          "text": [
            "MyModel.call() 트레이싱\n",
            "MyDense.call() 트레이싱\n",
            "MyDense.call() 트레이싱\n",
            "MyDense.call() 트레이싱\n",
            "my_mse() 손실 트레이싱\n",
            "my_mae() 지표 트레이싱\n",
            "MyModel.call() 트레이싱\n",
            "MyDense.call() 트레이싱\n",
            "MyDense.call() 트레이싱\n",
            "MyDense.call() 트레이싱\n",
            "my_mse() 손실 트레이싱\n",
            "my_mae() 지표 트레이싱\n",
            "MyModel.call() 트레이싱\n",
            "MyDense.call() 트레이싱\n",
            "MyDense.call() 트레이싱\n",
            "MyDense.call() 트레이싱\n",
            "my_mse() 손실 트레이싱\n",
            "my_mae() 지표 트레이싱\n",
            "MyModel.call() 트레이싱\n",
            "MyDense.call() 트레이싱\n",
            "MyDense.call() 트레이싱\n",
            "MyDense.call() 트레이싱\n",
            "my_mse() 손실 트레이싱\n",
            "my_mae() 지표 트레이싱\n",
            "MyModel.call() 트레이싱\n",
            "MyDense.call() 트레이싱\n",
            "MyDense.call() 트레이싱\n",
            "MyDense.call() 트레이싱\n",
            "my_mse() 손실 트레이싱\n",
            "my_mae() 지표 트레이싱\n",
            "MyModel.call() 트레이싱\n",
            "MyDense.call() 트레이싱\n",
            "MyDense.call() 트레이싱\n",
            "MyDense.call() 트레이싱\n",
            "my_mse() 손실 트레이싱\n",
            "my_mae() 지표 트레이싱\n"
          ],
          "name": "stdout"
        },
        {
          "output_type": "execute_result",
          "data": {
            "text/plain": [
              "[5.507260322570801, 2.0566811561584473]"
            ]
          },
          "metadata": {
            "tags": []
          },
          "execution_count": 261
        }
      ]
    }
  ]
}